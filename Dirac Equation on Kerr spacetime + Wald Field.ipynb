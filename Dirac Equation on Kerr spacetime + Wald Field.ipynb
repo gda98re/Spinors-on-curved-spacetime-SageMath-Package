{
 "cells": [
  {
   "cell_type": "markdown",
   "metadata": {},
   "source": [
    "# Dirac Equation on Kerr spacetime + Wald Field"
   ]
  },
  {
   "cell_type": "markdown",
   "metadata": {},
   "source": [
    "## Basic initialization of the lorentzian manifold"
   ]
  },
  {
   "cell_type": "markdown",
   "metadata": {},
   "source": [
    "Initialization of the Kerr manifold $\\mathcal M_{Kerr}$ atlas with Boyer-Lindquist chart (BL) and of the metric tensor $g$ :"
   ]
  },
  {
   "cell_type": "code",
   "execution_count": 1,
   "metadata": {},
   "outputs": [
    {
     "data": {
      "text/html": [
       "<html><script type=\"math/tex; mode=display\">\\newcommand{\\Bold}[1]{\\mathbf{#1}}g = \\left( \\frac{2 \\, m r}{a^{2} \\cos\\left({\\theta}\\right)^{2} + r^{2}} - 1 \\right) \\mathrm{d} t\\otimes \\mathrm{d} t + \\left( -\\frac{2 \\, a m r \\sin\\left({\\theta}\\right)^{2}}{a^{2} \\cos\\left({\\theta}\\right)^{2} + r^{2}} \\right) \\mathrm{d} t\\otimes \\mathrm{d} {\\phi} + \\left( \\frac{a^{2} \\cos\\left({\\theta}\\right)^{2} + r^{2}}{a^{2} - 2 \\, m r + r^{2}} \\right) \\mathrm{d} r\\otimes \\mathrm{d} r + \\left( a^{2} \\cos\\left({\\theta}\\right)^{2} + r^{2} \\right) \\mathrm{d} {\\theta}\\otimes \\mathrm{d} {\\theta} + \\left( -\\frac{2 \\, a m r \\sin\\left({\\theta}\\right)^{2}}{a^{2} \\cos\\left({\\theta}\\right)^{2} + r^{2}} \\right) \\mathrm{d} {\\phi}\\otimes \\mathrm{d} t + {\\left(\\frac{2 \\, a^{2} m r \\sin\\left({\\theta}\\right)^{2}}{a^{2} \\cos\\left({\\theta}\\right)^{2} + r^{2}} + a^{2} + r^{2}\\right)} \\sin\\left({\\theta}\\right)^{2} \\mathrm{d} {\\phi}\\otimes \\mathrm{d} {\\phi}</script></html>"
      ],
      "text/latex": [
       "$$\\newcommand{\\Bold}[1]{\\mathbf{#1}}g = \\left( \\frac{2 \\, m r}{a^{2} \\cos\\left({\\theta}\\right)^{2} + r^{2}} - 1 \\right) \\mathrm{d} t\\otimes \\mathrm{d} t + \\left( -\\frac{2 \\, a m r \\sin\\left({\\theta}\\right)^{2}}{a^{2} \\cos\\left({\\theta}\\right)^{2} + r^{2}} \\right) \\mathrm{d} t\\otimes \\mathrm{d} {\\phi} + \\left( \\frac{a^{2} \\cos\\left({\\theta}\\right)^{2} + r^{2}}{a^{2} - 2 \\, m r + r^{2}} \\right) \\mathrm{d} r\\otimes \\mathrm{d} r + \\left( a^{2} \\cos\\left({\\theta}\\right)^{2} + r^{2} \\right) \\mathrm{d} {\\theta}\\otimes \\mathrm{d} {\\theta} + \\left( -\\frac{2 \\, a m r \\sin\\left({\\theta}\\right)^{2}}{a^{2} \\cos\\left({\\theta}\\right)^{2} + r^{2}} \\right) \\mathrm{d} {\\phi}\\otimes \\mathrm{d} t + {\\left(\\frac{2 \\, a^{2} m r \\sin\\left({\\theta}\\right)^{2}}{a^{2} \\cos\\left({\\theta}\\right)^{2} + r^{2}} + a^{2} + r^{2}\\right)} \\sin\\left({\\theta}\\right)^{2} \\mathrm{d} {\\phi}\\otimes \\mathrm{d} {\\phi}$$"
      ],
      "text/plain": [
       "g = (2*m*r/(a^2*cos(th)^2 + r^2) - 1) dt*dt - 2*a*m*r*sin(th)^2/(a^2*cos(th)^2 + r^2) dt*dph + (a^2*cos(th)^2 + r^2)/(a^2 - 2*m*r + r^2) dr*dr + (a^2*cos(th)^2 + r^2) dth*dth - 2*a*m*r*sin(th)^2/(a^2*cos(th)^2 + r^2) dph*dt + (2*a^2*m*r*sin(th)^2/(a^2*cos(th)^2 + r^2) + a^2 + r^2)*sin(th)^2 dph*dph"
      ]
     },
     "execution_count": 1,
     "metadata": {},
     "output_type": "execute_result"
    }
   ],
   "source": [
    "%display latex\n",
    "from ST_bundle.ST_bundle import ST_bundle\n",
    "\n",
    "M = Manifold(4, 'M', latex_name=r'\\mathcal{M}', structure='Lorentzian')\n",
    "BL.<t,r,th,ph> = M.chart(r\"t r th:(0,pi):\\theta ph:(0,2*pi):\\phi\") #boyer-lindquist chart definition\n",
    "#SD.<t, r, th, ph> = M.chart(r\"t r:(0,+oo) th:(0,pi):\\theta ph:(0,2*pi):\\phi:periodic\")\n",
    "Dc = M.default_chart()\n",
    "#var('m', domain='real') #definition of Schwarzschild parameters\n",
    "\n",
    "var('m, a', domain='real') #definition of Kerr metric parameters\n",
    "\n",
    "g = M.metric() #we put the label g on the metric tensor\n",
    "\n",
    "rho2 = r^2 + (a*cos(th))^2\n",
    "Delta = r^2 -2*m*r + a^2\n",
    "\n",
    "g[0,0] = -(1-2*m*r/rho2)\n",
    "g[0,3] = -2*a*m*r*sin(th)^2/rho2\n",
    "g[1,1], g[2,2] = rho2/Delta, rho2\n",
    "g[3,3] = (r^2+a^2+2*m*r*(a*sin(th))^2/rho2)*sin(th)^2\n",
    "\n",
    "#g[0, 0] = - (1 - 2*m/r) #Schwarzschild\n",
    "#g[1, 1] = 1/(1 - 2*m/r)\n",
    "#g[2, 2] = r^2\n",
    "#g[3, 3] = r^2*sin(th)^2\n",
    "\n",
    "g.display()"
   ]
  },
  {
   "cell_type": "markdown",
   "metadata": {},
   "source": [
    "## Definition of the orthonormal tetrad and Wald Solution"
   ]
  },
  {
   "cell_type": "markdown",
   "metadata": {},
   "source": [
    "Definition of the orthonormal tetrad frame $e_{(a)}$ (Chandrasekar notation) and its dual frame $e^{(a)} = \\eta^{(a)(b)}g(e_{(b)},-)$ :"
   ]
  },
  {
   "cell_type": "code",
   "execution_count": 2,
   "metadata": {},
   "outputs": [],
   "source": [
    "#definition of the coframe tetrad fields (as listed in Wald's article)\n",
    "\n",
    "de0 = M.one_form(sqrt(Delta/rho2), 0, 0, -a*(sin(th)^2)*sqrt(Delta/rho2), frame=Dc.frame(), name='e^{(0)}')\n",
    "de1 = M.one_form(0, sqrt(rho2/Delta), 0, 0, frame=Dc.frame(), name='e^{(1)}')\n",
    "de2 = M.one_form(0, 0, sqrt(rho2), 0, frame=Dc.frame(), name='e^{(2)}')\n",
    "de3 = M.one_form(-(sin(th)/sqrt(rho2))*a, 0, 0, (sin(th)/sqrt(rho2))*(r^2+a^2), frame=Dc.frame(), name='e^{(3)}')\n",
    "\n",
    "#obtaining the tetrad frame vector fields using musical isomorphism of the metric\n",
    "\n",
    "e0 = -de0.up(g) #the zero component must be multiplied by a minus because of the lowering of the tetrad index with eta_{(a)(b)}\n",
    "e1 = de1.up(g)\n",
    "e2 = de2.up(g)\n",
    "e3 = de3.up(g)\n",
    "\n",
    "\n",
    "e = M.vector_frame('e', (e0, e1, e2, e3)) #costruction of the tetrad collection object e_{a}\n",
    "de = e.coframe() #construction of the tetrad coframe object e^{a}  "
   ]
  },
  {
   "cell_type": "markdown",
   "metadata": {},
   "source": [
    "Definition of the Wald field solution $A = \\frac{B_{0}}{2}(\\psi + 2a\\eta)$, where $\\eta$ and $\\psi$ are the 1-forms naturally associated with the musical isomorphism respectively to the two Killing vector fields $\\frac{\\partial}{\\partial t}$ and $\\frac{\\partial}{\\partial \\phi}$ :"
   ]
  },
  {
   "cell_type": "code",
   "execution_count": 8,
   "metadata": {},
   "outputs": [
    {
     "data": {
      "text/html": [
       "<html><script type=\"math/tex; mode=display\">\\newcommand{\\Bold}[1]{\\mathbf{#1}}A_{Wald} = \\left( \\frac{B_{0} a m r - B_{0} a r^{2} - {\\left(B_{0} a^{3} - B_{0} a m r\\right)} \\cos\\left({\\theta}\\right)^{2}}{a^{2} \\cos\\left({\\theta}\\right)^{2} + r^{2}} \\right) \\mathrm{d} t + \\left( \\frac{2 \\, B_{0} a^{2} m r \\sin\\left({\\theta}\\right)^{4} - {\\left(4 \\, B_{0} a^{2} m r - B_{0} a^{2} r^{2} - B_{0} r^{4} - {\\left(B_{0} a^{4} + B_{0} a^{2} r^{2}\\right)} \\cos\\left({\\theta}\\right)^{2}\\right)} \\sin\\left({\\theta}\\right)^{2}}{2 \\, {\\left(a^{2} \\cos\\left({\\theta}\\right)^{2} + r^{2}\\right)}} \\right) \\mathrm{d} {\\phi}</script></html>"
      ],
      "text/latex": [
       "$$\\newcommand{\\Bold}[1]{\\mathbf{#1}}A_{Wald} = \\left( \\frac{B_{0} a m r - B_{0} a r^{2} - {\\left(B_{0} a^{3} - B_{0} a m r\\right)} \\cos\\left({\\theta}\\right)^{2}}{a^{2} \\cos\\left({\\theta}\\right)^{2} + r^{2}} \\right) \\mathrm{d} t + \\left( \\frac{2 \\, B_{0} a^{2} m r \\sin\\left({\\theta}\\right)^{4} - {\\left(4 \\, B_{0} a^{2} m r - B_{0} a^{2} r^{2} - B_{0} r^{4} - {\\left(B_{0} a^{4} + B_{0} a^{2} r^{2}\\right)} \\cos\\left({\\theta}\\right)^{2}\\right)} \\sin\\left({\\theta}\\right)^{2}}{2 \\, {\\left(a^{2} \\cos\\left({\\theta}\\right)^{2} + r^{2}\\right)}} \\right) \\mathrm{d} {\\phi}$$"
      ],
      "text/plain": [
       "A_{Wald} = (B_0*a*m*r - B_0*a*r^2 - (B_0*a^3 - B_0*a*m*r)*cos(th)^2)/(a^2*cos(th)^2 + r^2) dt + 1/2*(2*B_0*a^2*m*r*sin(th)^4 - (4*B_0*a^2*m*r - B_0*a^2*r^2 - B_0*r^4 - (B_0*a^4 + B_0*a^2*r^2)*cos(th)^2)*sin(th)^2)/(a^2*cos(th)^2 + r^2) dph"
      ]
     },
     "execution_count": 8,
     "metadata": {},
     "output_type": "execute_result"
    }
   ],
   "source": [
    "var('B_0')\n",
    "var('q')\n",
    "A_wald = (B_0/2)*(Dc.frame()[3].down(g)+(2*a)*Dc.frame()[0].down(g))\n",
    "A_wald.set_name(\"A_{Wald}\")\n",
    "A_wald.display()"
   ]
  },
  {
   "cell_type": "markdown",
   "metadata": {},
   "source": [
    "## Inizialization of the Spinor bundle and of the connections"
   ]
  },
  {
   "cell_type": "markdown",
   "metadata": {},
   "source": [
    "Initialization of the ST bundle, the Spinor connections $D_{sb}$ and $D_{sb}^{(A_{Wald})}$ and the Dirac matrices $\\gamma^{(a)}$:"
   ]
  },
  {
   "cell_type": "code",
   "execution_count": 4,
   "metadata": {},
   "outputs": [
    {
     "data": {
      "text/html": [
       "<html><script type=\"math/tex; mode=display\">\\newcommand{\\Bold}[1]{\\mathbf{#1}}\\left[\\left(\\begin{array}{rrrr}\n",
       "i & 0 & 0 & 0 \\\\\n",
       "0 & i & 0 & 0 \\\\\n",
       "0 & 0 & -i & 0 \\\\\n",
       "0 & 0 & 0 & -i\n",
       "\\end{array}\\right), \\left(\\begin{array}{rrrr}\n",
       "0 & 0 & 0 & i \\\\\n",
       "0 & 0 & i & 0 \\\\\n",
       "0 & -i & 0 & 0 \\\\\n",
       "-i & 0 & 0 & 0\n",
       "\\end{array}\\right), \\left(\\begin{array}{rrrr}\n",
       "0 & 0 & 0 & 1 \\\\\n",
       "0 & 0 & -1 & 0 \\\\\n",
       "0 & -1 & 0 & 0 \\\\\n",
       "1 & 0 & 0 & 0\n",
       "\\end{array}\\right), \\left(\\begin{array}{rrrr}\n",
       "0 & 0 & i & 0 \\\\\n",
       "0 & 0 & 0 & -i \\\\\n",
       "-i & 0 & 0 & 0 \\\\\n",
       "0 & i & 0 & 0\n",
       "\\end{array}\\right)\\right]</script></html>"
      ],
      "text/latex": [
       "$$\\newcommand{\\Bold}[1]{\\mathbf{#1}}\\left[\\left(\\begin{array}{rrrr}\n",
       "i & 0 & 0 & 0 \\\\\n",
       "0 & i & 0 & 0 \\\\\n",
       "0 & 0 & -i & 0 \\\\\n",
       "0 & 0 & 0 & -i\n",
       "\\end{array}\\right), \\left(\\begin{array}{rrrr}\n",
       "0 & 0 & 0 & i \\\\\n",
       "0 & 0 & i & 0 \\\\\n",
       "0 & -i & 0 & 0 \\\\\n",
       "-i & 0 & 0 & 0\n",
       "\\end{array}\\right), \\left(\\begin{array}{rrrr}\n",
       "0 & 0 & 0 & 1 \\\\\n",
       "0 & 0 & -1 & 0 \\\\\n",
       "0 & -1 & 0 & 0 \\\\\n",
       "1 & 0 & 0 & 0\n",
       "\\end{array}\\right), \\left(\\begin{array}{rrrr}\n",
       "0 & 0 & i & 0 \\\\\n",
       "0 & 0 & 0 & -i \\\\\n",
       "-i & 0 & 0 & 0 \\\\\n",
       "0 & i & 0 & 0\n",
       "\\end{array}\\right)\\right]$$"
      ],
      "text/plain": [
       "[\n",
       "[ I  0  0  0]  [ 0  0  0  I]  [ 0  0  0  1]  [ 0  0  I  0]\n",
       "[ 0  I  0  0]  [ 0  0  I  0]  [ 0  0 -1  0]  [ 0  0  0 -I]\n",
       "[ 0  0 -I  0]  [ 0 -I  0  0]  [ 0 -1  0  0]  [-I  0  0  0]\n",
       "[ 0  0  0 -I], [-I  0  0  0], [ 1  0  0  0], [ 0  I  0  0]\n",
       "]"
      ]
     },
     "execution_count": 4,
     "metadata": {},
     "output_type": "execute_result"
    }
   ],
   "source": [
    "STb = ST_bundle(M,e)\n",
    "\n",
    "D_s = STb.sconnection()           #Spinor connection\n",
    "D_s_A = STb.sconnection(q*A_wald) #Spinor-Wald connection\n",
    "Gamma = STb.Dirac_matrices(\"up\")      #Dirac Gamma matrices\n",
    "Gamma.display()"
   ]
  },
  {
   "cell_type": "markdown",
   "metadata": {},
   "source": [
    "Definition of a test section of the spinor bundle $\\psi = \\psi^{i}e_{[s]i}$ :"
   ]
  },
  {
   "cell_type": "code",
   "execution_count": 5,
   "metadata": {},
   "outputs": [
    {
     "data": {
      "text/html": [
       "<html><script type=\"math/tex; mode=display\">\\newcommand{\\Bold}[1]{\\mathbf{#1}}\\psi_{1}\\left(r, t, {\\theta}, {\\phi}\\right) e_{0} + \\psi_{2}\\left(r, t, {\\theta}, {\\phi}\\right) e_{1} + \\psi_{3}\\left(r, t, {\\theta}, {\\phi}\\right) e_{2} + \\psi_{4}\\left(r, t, {\\theta}, {\\phi}\\right) e_{3}</script></html>"
      ],
      "text/latex": [
       "$$\\newcommand{\\Bold}[1]{\\mathbf{#1}}\\psi_{1}\\left(r, t, {\\theta}, {\\phi}\\right) e_{0} + \\psi_{2}\\left(r, t, {\\theta}, {\\phi}\\right) e_{1} + \\psi_{3}\\left(r, t, {\\theta}, {\\phi}\\right) e_{2} + \\psi_{4}\\left(r, t, {\\theta}, {\\phi}\\right) e_{3}$$"
      ],
      "text/plain": [
       "psi1(r, t, th, ph) e_0 + psi2(r, t, th, ph) e_1 + psi3(r, t, th, ph) e_2 + psi4(r, t, th, ph) e_3"
      ]
     },
     "execution_count": 5,
     "metadata": {},
     "output_type": "execute_result"
    }
   ],
   "source": [
    "psi1 = function(\"psi1\", nargs = 4)\n",
    "psi2 = function(\"psi2\", nargs = 4)\n",
    "psi3 = function(\"psi3\", nargs = 4)\n",
    "psi4 = function(\"psi4\", nargs = 4)\n",
    "\n",
    "\n",
    "psi1_ = M.scalar_field({Dc: psi1(r,t,th,ph)}, name = '\\\\psi^{(1)}')\n",
    "psi2_ = M.scalar_field({Dc: psi2(r,t,th,ph)}, name = '\\\\psi^{(2)}')\n",
    "psi3_ = M.scalar_field({Dc: psi3(r,t,th,ph)}, name = '\\\\psi^{(3)}')\n",
    "psi4_ = M.scalar_field({Dc: psi4(r,t,th,ph)}, name = '\\\\psi^{(4)}')\n",
    "\n",
    "psi = STb.sbundle.section({STb.sframe: [psi1_,psi2_,psi3_,psi4_]}, \"psi\")\n",
    "psi.display()"
   ]
  },
  {
   "cell_type": "markdown",
   "metadata": {},
   "source": [
    "Calculation of $(\\gamma^{(a)})^{i}_{ \\ \\ j}(D_{sb}(e_{(a)},\\psi))^{j}$ (lhs of Dirac's equation on curved spacetime for a massless spinor field) :"
   ]
  },
  {
   "cell_type": "code",
   "execution_count": 6,
   "metadata": {},
   "outputs": [],
   "source": [
    "Dirac_equation_lhs = Gamma.contract(D_s(e,psi))"
   ]
  },
  {
   "cell_type": "markdown",
   "metadata": {},
   "source": [
    "Calculation of $(\\gamma^{(a)})^{i}_{ \\ \\ j}(D_{sb}^{(A_{Wald})}(e_{(a)},\\psi))^{j}$ (lhs of Dirac's equation on curved spacetime for a massless spinor field coupled to Wald solution $A$) :"
   ]
  },
  {
   "cell_type": "code",
   "execution_count": 7,
   "metadata": {},
   "outputs": [],
   "source": [
    "Dirac_Wald_equation_lhs = Gamma.contract(D_s_A(e,psi))"
   ]
  }
 ],
 "metadata": {
  "kernelspec": {
   "display_name": "SageMath 9.3",
   "language": "sage",
   "name": "sagemath"
  },
  "language_info": {
   "codemirror_mode": {
    "name": "ipython",
    "version": 3
   },
   "file_extension": ".py",
   "mimetype": "text/x-python",
   "name": "python",
   "nbconvert_exporter": "python",
   "pygments_lexer": "ipython3",
   "version": "3.7.10"
  }
 },
 "nbformat": 4,
 "nbformat_minor": 4
}
