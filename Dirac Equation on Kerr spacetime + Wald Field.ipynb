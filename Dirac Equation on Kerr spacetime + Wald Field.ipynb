{
 "cells": [
  {
   "cell_type": "markdown",
   "metadata": {},
   "source": [
    "# Dirac Equation on Kerr spacetime + Wald Field"
   ]
  },
  {
   "cell_type": "markdown",
   "metadata": {},
   "source": [
    "## Basic initialization of the lorentzian manifold"
   ]
  },
  {
   "cell_type": "markdown",
   "metadata": {},
   "source": [
    "Initialization of the Kerr manifold $\\mathcal M_{Kerr}$ atlas with Boyer-Lindquist chart (BL) and of the metric tensor $g$ :"
   ]
  },
  {
   "cell_type": "code",
   "execution_count": 1,
   "metadata": {},
   "outputs": [
    {
     "data": {
      "text/html": [
       "<html><script type=\"math/tex; mode=display\">\\newcommand{\\Bold}[1]{\\mathbf{#1}}g = \\left( \\frac{2 \\, m r}{a^{2} \\cos\\left({\\theta}\\right)^{2} + r^{2}} - 1 \\right) \\mathrm{d} t\\otimes \\mathrm{d} t + \\left( -\\frac{2 \\, a m r \\sin\\left({\\theta}\\right)^{2}}{a^{2} \\cos\\left({\\theta}\\right)^{2} + r^{2}} \\right) \\mathrm{d} t\\otimes \\mathrm{d} {\\phi} + \\left( \\frac{a^{2} \\cos\\left({\\theta}\\right)^{2} + r^{2}}{a^{2} - 2 \\, m r + r^{2}} \\right) \\mathrm{d} r\\otimes \\mathrm{d} r + \\left( a^{2} \\cos\\left({\\theta}\\right)^{2} + r^{2} \\right) \\mathrm{d} {\\theta}\\otimes \\mathrm{d} {\\theta} + \\left( -\\frac{2 \\, a m r \\sin\\left({\\theta}\\right)^{2}}{a^{2} \\cos\\left({\\theta}\\right)^{2} + r^{2}} \\right) \\mathrm{d} {\\phi}\\otimes \\mathrm{d} t + {\\left(\\frac{2 \\, a^{2} m r \\sin\\left({\\theta}\\right)^{2}}{a^{2} \\cos\\left({\\theta}\\right)^{2} + r^{2}} + a^{2} + r^{2}\\right)} \\sin\\left({\\theta}\\right)^{2} \\mathrm{d} {\\phi}\\otimes \\mathrm{d} {\\phi}</script></html>"
      ],
      "text/latex": [
       "$$\\newcommand{\\Bold}[1]{\\mathbf{#1}}g = \\left( \\frac{2 \\, m r}{a^{2} \\cos\\left({\\theta}\\right)^{2} + r^{2}} - 1 \\right) \\mathrm{d} t\\otimes \\mathrm{d} t + \\left( -\\frac{2 \\, a m r \\sin\\left({\\theta}\\right)^{2}}{a^{2} \\cos\\left({\\theta}\\right)^{2} + r^{2}} \\right) \\mathrm{d} t\\otimes \\mathrm{d} {\\phi} + \\left( \\frac{a^{2} \\cos\\left({\\theta}\\right)^{2} + r^{2}}{a^{2} - 2 \\, m r + r^{2}} \\right) \\mathrm{d} r\\otimes \\mathrm{d} r + \\left( a^{2} \\cos\\left({\\theta}\\right)^{2} + r^{2} \\right) \\mathrm{d} {\\theta}\\otimes \\mathrm{d} {\\theta} + \\left( -\\frac{2 \\, a m r \\sin\\left({\\theta}\\right)^{2}}{a^{2} \\cos\\left({\\theta}\\right)^{2} + r^{2}} \\right) \\mathrm{d} {\\phi}\\otimes \\mathrm{d} t + {\\left(\\frac{2 \\, a^{2} m r \\sin\\left({\\theta}\\right)^{2}}{a^{2} \\cos\\left({\\theta}\\right)^{2} + r^{2}} + a^{2} + r^{2}\\right)} \\sin\\left({\\theta}\\right)^{2} \\mathrm{d} {\\phi}\\otimes \\mathrm{d} {\\phi}$$"
      ],
      "text/plain": [
       "g = (2*m*r/(a^2*cos(th)^2 + r^2) - 1) dt*dt - 2*a*m*r*sin(th)^2/(a^2*cos(th)^2 + r^2) dt*dph + (a^2*cos(th)^2 + r^2)/(a^2 - 2*m*r + r^2) dr*dr + (a^2*cos(th)^2 + r^2) dth*dth - 2*a*m*r*sin(th)^2/(a^2*cos(th)^2 + r^2) dph*dt + (2*a^2*m*r*sin(th)^2/(a^2*cos(th)^2 + r^2) + a^2 + r^2)*sin(th)^2 dph*dph"
      ]
     },
     "execution_count": 1,
     "metadata": {},
     "output_type": "execute_result"
    }
   ],
   "source": [
    "%display latex\n",
    "from ST_bundle.ST_bundle import ST_bundle\n",
    "\n",
    "M = Manifold(4, 'M', latex_name=r'\\mathcal{M}', structure='Lorentzian')\n",
    "BL.<t,r,th,ph> = M.chart(r\"t r th:(0,pi):\\theta ph:(0,2*pi):\\phi\") #boyer-lindquist chart definition\n",
    "#SD.<t, r, th, ph> = M.chart(r\"t r:(0,+oo) th:(0,pi):\\theta ph:(0,2*pi):\\phi:periodic\")\n",
    "Dc = M.default_chart()\n",
    "#var('m', domain='real') #definition of Schwarzschild parameters\n",
    "\n",
    "var('m, a', domain='real') #definition of Kerr metric parameters\n",
    "\n",
    "g = M.metric() #we put the label g on the metric tensor\n",
    "\n",
    "rho2 = r^2 + (a*cos(th))^2\n",
    "Delta = r^2 -2*m*r + a^2\n",
    "\n",
    "g[0,0] = -(1-2*m*r/rho2)\n",
    "g[0,3] = -2*a*m*r*sin(th)^2/rho2\n",
    "g[1,1], g[2,2] = rho2/Delta, rho2\n",
    "g[3,3] = (r^2+a^2+2*m*r*(a*sin(th))^2/rho2)*sin(th)^2\n",
    "\n",
    "#g[0, 0] = - (1 - 2*m/r) #Schwarzschild\n",
    "#g[1, 1] = 1/(1 - 2*m/r)\n",
    "#g[2, 2] = r^2\n",
    "#g[3, 3] = r^2*sin(th)^2\n",
    "\n",
    "g.display()"
   ]
  },
  {
   "cell_type": "markdown",
   "metadata": {},
   "source": [
    "## Definition of the orthonormal tetrad and Wald Solution"
   ]
  },
  {
   "cell_type": "markdown",
   "metadata": {},
   "source": [
    "Definition of the orthonormal tetrad frame $e_{(a)}$ (Chandrasekar notation) and its dual frame $e^{(a)} = \\eta^{(a)(b)}g(e_{(b)},-)$ :"
   ]
  },
  {
   "cell_type": "code",
   "execution_count": 2,
   "metadata": {},
   "outputs": [],
   "source": [
    "#definition of the coframe tetrad fields (as listed in Wald's article)\n",
    "\n",
    "de0 = M.one_form(sqrt(Delta/rho2), 0, 0, -a*(sin(th)^2)*sqrt(Delta/rho2), frame=Dc.frame(), name='e^{(0)}')\n",
    "de1 = M.one_form(0, sqrt(rho2/Delta), 0, 0, frame=Dc.frame(), name='e^{(1)}')\n",
    "de2 = M.one_form(0, 0, sqrt(rho2), 0, frame=Dc.frame(), name='e^{(2)}')\n",
    "de3 = M.one_form(-(sin(th)/sqrt(rho2))*a, 0, 0, (sin(th)/sqrt(rho2))*(r^2+a^2), frame=Dc.frame(), name='e^{(3)}')\n",
    "\n",
    "#obtaining the tetrad frame vector fields using musical isomorphism of the metric\n",
    "\n",
    "e0 = -de0.up(g) #the zero component must be multiplied by a minus because of the lowering of the tetrad index with eta_{(a)(b)}\n",
    "e1 = de1.up(g)\n",
    "e2 = de2.up(g)\n",
    "e3 = de3.up(g)\n",
    "\n",
    "\n",
    "e = M.vector_frame('e', (e0, e1, e2, e3)) #costruction of the tetrad collection object e_{a}\n",
    "de = e.coframe() #construction of the tetrad coframe object e^{a}  "
   ]
  },
  {
   "cell_type": "markdown",
   "metadata": {},
   "source": [
    "Definition of the Wald field solution $A = \\frac{B_{0}}{2}(\\psi + 2a\\eta)$, where $\\eta$ and $\\psi$ are the 1-forms naturally associated with the musical isomorphism respectively to the two Killing vector fields $\\frac{\\partial}{\\partial t}$ and $\\frac{\\partial}{\\partial \\phi}$ :"
   ]
  },
  {
   "cell_type": "code",
   "execution_count": 3,
   "metadata": {},
   "outputs": [
    {
     "data": {
      "text/html": [
       "<html><script type=\"math/tex; mode=display\">\\newcommand{\\Bold}[1]{\\mathbf{#1}}A_{Wald} = \\left( \\frac{B_{0} a m r - B_{0} a r^{2} - {\\left(B_{0} a^{3} - B_{0} a m r\\right)} \\cos\\left({\\theta}\\right)^{2}}{a^{2} \\cos\\left({\\theta}\\right)^{2} + r^{2}} \\right) \\mathrm{d} t + \\left( \\frac{2 \\, B_{0} a^{2} m r \\sin\\left({\\theta}\\right)^{4} - {\\left(4 \\, B_{0} a^{2} m r - B_{0} a^{2} r^{2} - B_{0} r^{4} - {\\left(B_{0} a^{4} + B_{0} a^{2} r^{2}\\right)} \\cos\\left({\\theta}\\right)^{2}\\right)} \\sin\\left({\\theta}\\right)^{2}}{2 \\, {\\left(a^{2} \\cos\\left({\\theta}\\right)^{2} + r^{2}\\right)}} \\right) \\mathrm{d} {\\phi}</script></html>"
      ],
      "text/latex": [
       "$$\\newcommand{\\Bold}[1]{\\mathbf{#1}}A_{Wald} = \\left( \\frac{B_{0} a m r - B_{0} a r^{2} - {\\left(B_{0} a^{3} - B_{0} a m r\\right)} \\cos\\left({\\theta}\\right)^{2}}{a^{2} \\cos\\left({\\theta}\\right)^{2} + r^{2}} \\right) \\mathrm{d} t + \\left( \\frac{2 \\, B_{0} a^{2} m r \\sin\\left({\\theta}\\right)^{4} - {\\left(4 \\, B_{0} a^{2} m r - B_{0} a^{2} r^{2} - B_{0} r^{4} - {\\left(B_{0} a^{4} + B_{0} a^{2} r^{2}\\right)} \\cos\\left({\\theta}\\right)^{2}\\right)} \\sin\\left({\\theta}\\right)^{2}}{2 \\, {\\left(a^{2} \\cos\\left({\\theta}\\right)^{2} + r^{2}\\right)}} \\right) \\mathrm{d} {\\phi}$$"
      ],
      "text/plain": [
       "A_{Wald} = (B_0*a*m*r - B_0*a*r^2 - (B_0*a^3 - B_0*a*m*r)*cos(th)^2)/(a^2*cos(th)^2 + r^2) dt + 1/2*(2*B_0*a^2*m*r*sin(th)^4 - (4*B_0*a^2*m*r - B_0*a^2*r^2 - B_0*r^4 - (B_0*a^4 + B_0*a^2*r^2)*cos(th)^2)*sin(th)^2)/(a^2*cos(th)^2 + r^2) dph"
      ]
     },
     "execution_count": 3,
     "metadata": {},
     "output_type": "execute_result"
    }
   ],
   "source": [
    "var('B_0')\n",
    "var('q')\n",
    "A_wald = (B_0/2)*(Dc.frame()[3].down(g)+(2*a)*Dc.frame()[0].down(g))\n",
    "A_wald.set_name(\"A_{Wald}\")\n",
    "A_wald.display()"
   ]
  },
  {
   "cell_type": "markdown",
   "metadata": {},
   "source": [
    "## Inizialization of the Spinor bundle and of the connections"
   ]
  },
  {
   "cell_type": "markdown",
   "metadata": {},
   "source": [
    "Initialization of the ST bundle, the Spinor connections $D_{sb}$ and $D_{sb}^{(A_{Wald})}$ and the Dirac matrices $\\gamma^{(a)}$:"
   ]
  },
  {
   "cell_type": "code",
   "execution_count": 4,
   "metadata": {},
   "outputs": [
    {
     "data": {
      "text/html": [
       "<html><script type=\"math/tex; mode=display\">\\newcommand{\\Bold}[1]{\\mathbf{#1}}\\left[\\left(\\begin{array}{rrrr}\n",
       "i & 0 & 0 & 0 \\\\\n",
       "0 & i & 0 & 0 \\\\\n",
       "0 & 0 & -i & 0 \\\\\n",
       "0 & 0 & 0 & -i\n",
       "\\end{array}\\right), \\left(\\begin{array}{rrrr}\n",
       "0 & 0 & 0 & i \\\\\n",
       "0 & 0 & i & 0 \\\\\n",
       "0 & -i & 0 & 0 \\\\\n",
       "-i & 0 & 0 & 0\n",
       "\\end{array}\\right), \\left(\\begin{array}{rrrr}\n",
       "0 & 0 & 0 & 1 \\\\\n",
       "0 & 0 & -1 & 0 \\\\\n",
       "0 & -1 & 0 & 0 \\\\\n",
       "1 & 0 & 0 & 0\n",
       "\\end{array}\\right), \\left(\\begin{array}{rrrr}\n",
       "0 & 0 & i & 0 \\\\\n",
       "0 & 0 & 0 & -i \\\\\n",
       "-i & 0 & 0 & 0 \\\\\n",
       "0 & i & 0 & 0\n",
       "\\end{array}\\right)\\right]</script></html>"
      ],
      "text/latex": [
       "$$\\newcommand{\\Bold}[1]{\\mathbf{#1}}\\left[\\left(\\begin{array}{rrrr}\n",
       "i & 0 & 0 & 0 \\\\\n",
       "0 & i & 0 & 0 \\\\\n",
       "0 & 0 & -i & 0 \\\\\n",
       "0 & 0 & 0 & -i\n",
       "\\end{array}\\right), \\left(\\begin{array}{rrrr}\n",
       "0 & 0 & 0 & i \\\\\n",
       "0 & 0 & i & 0 \\\\\n",
       "0 & -i & 0 & 0 \\\\\n",
       "-i & 0 & 0 & 0\n",
       "\\end{array}\\right), \\left(\\begin{array}{rrrr}\n",
       "0 & 0 & 0 & 1 \\\\\n",
       "0 & 0 & -1 & 0 \\\\\n",
       "0 & -1 & 0 & 0 \\\\\n",
       "1 & 0 & 0 & 0\n",
       "\\end{array}\\right), \\left(\\begin{array}{rrrr}\n",
       "0 & 0 & i & 0 \\\\\n",
       "0 & 0 & 0 & -i \\\\\n",
       "-i & 0 & 0 & 0 \\\\\n",
       "0 & i & 0 & 0\n",
       "\\end{array}\\right)\\right]$$"
      ],
      "text/plain": [
       "[\n",
       "[ I  0  0  0]  [ 0  0  0  I]  [ 0  0  0  1]  [ 0  0  I  0]\n",
       "[ 0  I  0  0]  [ 0  0  I  0]  [ 0  0 -1  0]  [ 0  0  0 -I]\n",
       "[ 0  0 -I  0]  [ 0 -I  0  0]  [ 0 -1  0  0]  [-I  0  0  0]\n",
       "[ 0  0  0 -I], [-I  0  0  0], [ 1  0  0  0], [ 0  I  0  0]\n",
       "]"
      ]
     },
     "execution_count": 4,
     "metadata": {},
     "output_type": "execute_result"
    }
   ],
   "source": [
    "STb = ST_bundle(M,e)\n",
    "\n",
    "D_s = STb.sconnection()           #Spinor connection\n",
    "D_s_A = STb.sconnection(q*A_wald) #Spinor-Wald connection\n",
    "Gamma = STb.Dirac_matrices(\"up\")      #Dirac Gamma matrices\n",
    "Gamma.display()"
   ]
  },
  {
   "cell_type": "markdown",
   "metadata": {},
   "source": [
    "Definition of a test section of the spinor bundle $\\psi = \\psi^{i}e_{[s]i}$ :"
   ]
  },
  {
   "cell_type": "code",
   "execution_count": 5,
   "metadata": {},
   "outputs": [
    {
     "data": {
      "text/html": [
       "<html><script type=\"math/tex; mode=display\">\\newcommand{\\Bold}[1]{\\mathbf{#1}}\\psi_{1}\\left(r, t, {\\theta}, {\\phi}\\right) e_{0} + \\psi_{2}\\left(r, t, {\\theta}, {\\phi}\\right) e_{1} + \\psi_{3}\\left(r, t, {\\theta}, {\\phi}\\right) e_{2} + \\psi_{4}\\left(r, t, {\\theta}, {\\phi}\\right) e_{3}</script></html>"
      ],
      "text/latex": [
       "$$\\newcommand{\\Bold}[1]{\\mathbf{#1}}\\psi_{1}\\left(r, t, {\\theta}, {\\phi}\\right) e_{0} + \\psi_{2}\\left(r, t, {\\theta}, {\\phi}\\right) e_{1} + \\psi_{3}\\left(r, t, {\\theta}, {\\phi}\\right) e_{2} + \\psi_{4}\\left(r, t, {\\theta}, {\\phi}\\right) e_{3}$$"
      ],
      "text/plain": [
       "psi1(r, t, th, ph) e_0 + psi2(r, t, th, ph) e_1 + psi3(r, t, th, ph) e_2 + psi4(r, t, th, ph) e_3"
      ]
     },
     "execution_count": 5,
     "metadata": {},
     "output_type": "execute_result"
    }
   ],
   "source": [
    "psi1 = function(\"psi1\", nargs = 4)\n",
    "psi2 = function(\"psi2\", nargs = 4)\n",
    "psi3 = function(\"psi3\", nargs = 4)\n",
    "psi4 = function(\"psi4\", nargs = 4)\n",
    "\n",
    "\n",
    "psi1_ = M.scalar_field({Dc: psi1(r,t,th,ph)}, name = '\\\\psi^{(1)}')\n",
    "psi2_ = M.scalar_field({Dc: psi2(r,t,th,ph)}, name = '\\\\psi^{(2)}')\n",
    "psi3_ = M.scalar_field({Dc: psi3(r,t,th,ph)}, name = '\\\\psi^{(3)}')\n",
    "psi4_ = M.scalar_field({Dc: psi4(r,t,th,ph)}, name = '\\\\psi^{(4)}')\n",
    "\n",
    "psi = STb.sbundle.section({STb.sframe: [psi1_,psi2_,psi3_,psi4_]}, \"psi\")\n",
    "psi.display()"
   ]
  },
  {
   "cell_type": "markdown",
   "metadata": {},
   "source": [
    "Calculation of $(\\gamma^{(a)})^{i}_{ \\ \\ j}(D_{sb}(e_{(a)},\\psi))^{j}$ (lhs of Dirac's equation on curved spacetime for a massless spinor field) :"
   ]
  },
  {
   "cell_type": "code",
   "execution_count": 6,
   "metadata": {},
   "outputs": [],
   "source": [
    "Dirac_equation_lhs = Gamma.contract(D_s(e,psi))"
   ]
  },
  {
   "cell_type": "markdown",
   "metadata": {},
   "source": [
    "Calculation of $(\\gamma^{(a)})^{i}_{ \\ \\ j}(D_{sb}^{(A_{Wald})}(e_{(a)},\\psi))^{j}$ (lhs of Dirac's equation on curved spacetime for a massless spinor field coupled to Wald solution $A$) :"
   ]
  },
  {
   "cell_type": "code",
   "execution_count": 7,
   "metadata": {},
   "outputs": [],
   "source": [
    "Dirac_Wald_equation_lhs = Gamma.contract(D_s_A(e,psi))"
   ]
  },
  {
   "cell_type": "code",
   "execution_count": 10,
   "metadata": {},
   "outputs": [
    {
     "data": {
      "text/html": [
       "<html><script type=\"math/tex; mode=display\">\\newcommand{\\Bold}[1]{\\mathbf{#1}}\\frac{{\\left({\\left(i \\, B_{0} a^{7} q - 2 i \\, B_{0} a^{5} m q r + i \\, B_{0} a^{5} q r^{2}\\right)} \\cos\\left({\\theta}\\right)^{4} \\psi_{2}\\left(r, t, {\\theta}, {\\phi}\\right) + {\\left(2 i \\, B_{0} a^{5} q r^{2} - 4 i \\, B_{0} a^{3} m q r^{3} + 2 i \\, B_{0} a^{3} q r^{4}\\right)} \\cos\\left({\\theta}\\right)^{2} \\psi_{2}\\left(r, t, {\\theta}, {\\phi}\\right) - {\\left(a^{5} - 2 \\, a^{3} m r + a^{3} r^{2}\\right)} \\cos\\left({\\theta}\\right) \\psi_{1}\\left(r, t, {\\theta}, {\\phi}\\right) + {\\left(i \\, B_{0} a^{3} q r^{4} - 2 i \\, B_{0} a m q r^{5} + i \\, B_{0} a q r^{6}\\right)} \\psi_{2}\\left(r, t, {\\theta}, {\\phi}\\right) + {\\left(-i \\, a^{4} r + 2 i \\, a^{2} m r^{2} - i \\, a^{2} r^{3}\\right)} \\psi_{3}\\left(r, t, {\\theta}, {\\phi}\\right)\\right)} \\sin\\left({\\theta}\\right)^{3} + {\\left(2 i \\, a r^{4} \\frac{\\partial\\,\\psi_{2}}{\\partial {\\phi}} + {\\left(2 i \\, a^{5} \\frac{\\partial\\,\\psi_{2}}{\\partial {\\phi}} + {\\left(-2 i \\, B_{0} a^{7} q + 4 i \\, B_{0} a^{5} m q r - 2 i \\, B_{0} a^{5} q r^{2}\\right)} \\psi_{2}\\left(r, t, {\\theta}, {\\phi}\\right) + {\\left(-i \\, a^{4} m + i \\, a^{4} r\\right)} \\psi_{3}\\left(r, t, {\\theta}, {\\phi}\\right) + {\\left(2 i \\, a^{6} + 2 i \\, a^{4} r^{2}\\right)} \\frac{\\partial\\,\\psi_{2}}{\\partial t} + {\\left(2 i \\, a^{6} - 4 i \\, a^{4} m r + 2 i \\, a^{4} r^{2}\\right)} \\frac{\\partial\\,\\psi_{3}}{\\partial r}\\right)} \\cos\\left({\\theta}\\right)^{4} - 2 \\, {\\left(a^{5} - 2 \\, a^{3} m r + a^{3} r^{2}\\right)} \\cos\\left({\\theta}\\right)^{3} \\psi_{1}\\left(r, t, {\\theta}, {\\phi}\\right) + {\\left(4 i \\, a^{3} r^{2} \\frac{\\partial\\,\\psi_{2}}{\\partial {\\phi}} + {\\left(-4 i \\, B_{0} a^{5} q r^{2} + 8 i \\, B_{0} a^{3} m q r^{3} - 4 i \\, B_{0} a^{3} q r^{4}\\right)} \\psi_{2}\\left(r, t, {\\theta}, {\\phi}\\right) + {\\left(-2 i \\, a^{2} m r^{2} + 2 i \\, a^{2} r^{3}\\right)} \\psi_{3}\\left(r, t, {\\theta}, {\\phi}\\right) + {\\left(4 i \\, a^{4} r^{2} + 4 i \\, a^{2} r^{4}\\right)} \\frac{\\partial\\,\\psi_{2}}{\\partial t} + {\\left(4 i \\, a^{4} r^{2} - 8 i \\, a^{2} m r^{3} + 4 i \\, a^{2} r^{4}\\right)} \\frac{\\partial\\,\\psi_{3}}{\\partial r}\\right)} \\cos\\left({\\theta}\\right)^{2} + {\\left(a^{5} - 2 \\, a^{3} m r + 2 \\, a m r^{3} - a r^{4}\\right)} \\cos\\left({\\theta}\\right) \\psi_{1}\\left(r, t, {\\theta}, {\\phi}\\right) + {\\left(-2 i \\, B_{0} a^{3} q r^{4} + 4 i \\, B_{0} a m q r^{5} - 2 i \\, B_{0} a q r^{6}\\right)} \\psi_{2}\\left(r, t, {\\theta}, {\\phi}\\right) + {\\left(i \\, a^{4} r - 2 i \\, a^{2} m r^{2} + 2 i \\, a^{2} r^{3} - 3 i \\, m r^{4} + 2 i \\, r^{5}\\right)} \\psi_{3}\\left(r, t, {\\theta}, {\\phi}\\right) + {\\left(2 i \\, a^{2} r^{4} + 2 i \\, r^{6}\\right)} \\frac{\\partial\\,\\psi_{2}}{\\partial t} + {\\left(2 i \\, a^{2} r^{4} - 4 i \\, m r^{5} + 2 i \\, r^{6}\\right)} \\frac{\\partial\\,\\psi_{3}}{\\partial r}\\right)} \\sin\\left({\\theta}\\right) + {\\left(i \\, a^{3} r \\psi_{1}\\left(r, t, {\\theta}, {\\phi}\\right) \\sin\\left({\\theta}\\right)^{4} - 2 i \\, a^{4} \\cos\\left({\\theta}\\right)^{4} \\frac{\\partial\\,\\psi_{4}}{\\partial {\\phi}} - 4 i \\, a^{2} r^{2} \\cos\\left({\\theta}\\right)^{2} \\frac{\\partial\\,\\psi_{4}}{\\partial {\\phi}} - 2 i \\, r^{4} \\frac{\\partial\\,\\psi_{4}}{\\partial {\\phi}} - {\\left(a^{4} + 2 \\, a^{2} r^{2} + r^{4}\\right)} \\cos\\left({\\theta}\\right) \\psi_{3}\\left(r, t, {\\theta}, {\\phi}\\right) + {\\left(2 \\, a^{4} \\cos\\left({\\theta}\\right)^{3} \\psi_{3}\\left(r, t, {\\theta}, {\\phi}\\right) - 2 i \\, a r^{4} \\frac{\\partial\\,\\psi_{4}}{\\partial t} + {\\left(-2 i \\, a^{5} \\frac{\\partial\\,\\psi_{4}}{\\partial t} + {\\left(i \\, B_{0} a^{6} q - i \\, B_{0} a^{4} q r^{2}\\right)} \\psi_{4}\\left(r, t, {\\theta}, {\\phi}\\right)\\right)} \\cos\\left({\\theta}\\right)^{4} + {\\left(-4 i \\, a^{3} r^{2} \\frac{\\partial\\,\\psi_{4}}{\\partial t} + {\\left(2 i \\, B_{0} a^{4} q r^{2} - 2 i \\, B_{0} a^{2} q r^{4}\\right)} \\psi_{4}\\left(r, t, {\\theta}, {\\phi}\\right)\\right)} \\cos\\left({\\theta}\\right)^{2} + {\\left(a^{4} + 3 \\, a^{2} r^{2}\\right)} \\cos\\left({\\theta}\\right) \\psi_{3}\\left(r, t, {\\theta}, {\\phi}\\right) + {\\left(-i \\, a^{3} r - i \\, a r^{3}\\right)} \\psi_{1}\\left(r, t, {\\theta}, {\\phi}\\right) + {\\left(i \\, B_{0} a^{2} q r^{4} - i \\, B_{0} q r^{6}\\right)} \\psi_{4}\\left(r, t, {\\theta}, {\\phi}\\right)\\right)} \\sin\\left({\\theta}\\right)^{2} - 2 \\, {\\left(a^{4} \\cos\\left({\\theta}\\right)^{4} \\frac{\\partial\\,\\psi_{3}}{\\partial {\\theta}} + 2 \\, a^{2} r^{2} \\cos\\left({\\theta}\\right)^{2} \\frac{\\partial\\,\\psi_{3}}{\\partial {\\theta}} + r^{4} \\frac{\\partial\\,\\psi_{3}}{\\partial {\\theta}}\\right)} \\sin\\left({\\theta}\\right)\\right)} \\sqrt{a^{2} - 2 \\, m r + r^{2}}}{2 \\, {\\left(a^{4} \\cos\\left({\\theta}\\right)^{4} + 2 \\, a^{2} r^{2} \\cos\\left({\\theta}\\right)^{2} + r^{4}\\right)} \\sqrt{a^{2} \\cos\\left({\\theta}\\right)^{2} + r^{2}} \\sqrt{a^{2} - 2 \\, m r + r^{2}} \\sin\\left({\\theta}\\right)}</script></html>"
      ],
      "text/latex": [
       "$$\\newcommand{\\Bold}[1]{\\mathbf{#1}}\\frac{{\\left({\\left(i \\, B_{0} a^{7} q - 2 i \\, B_{0} a^{5} m q r + i \\, B_{0} a^{5} q r^{2}\\right)} \\cos\\left({\\theta}\\right)^{4} \\psi_{2}\\left(r, t, {\\theta}, {\\phi}\\right) + {\\left(2 i \\, B_{0} a^{5} q r^{2} - 4 i \\, B_{0} a^{3} m q r^{3} + 2 i \\, B_{0} a^{3} q r^{4}\\right)} \\cos\\left({\\theta}\\right)^{2} \\psi_{2}\\left(r, t, {\\theta}, {\\phi}\\right) - {\\left(a^{5} - 2 \\, a^{3} m r + a^{3} r^{2}\\right)} \\cos\\left({\\theta}\\right) \\psi_{1}\\left(r, t, {\\theta}, {\\phi}\\right) + {\\left(i \\, B_{0} a^{3} q r^{4} - 2 i \\, B_{0} a m q r^{5} + i \\, B_{0} a q r^{6}\\right)} \\psi_{2}\\left(r, t, {\\theta}, {\\phi}\\right) + {\\left(-i \\, a^{4} r + 2 i \\, a^{2} m r^{2} - i \\, a^{2} r^{3}\\right)} \\psi_{3}\\left(r, t, {\\theta}, {\\phi}\\right)\\right)} \\sin\\left({\\theta}\\right)^{3} + {\\left(2 i \\, a r^{4} \\frac{\\partial\\,\\psi_{2}}{\\partial {\\phi}} + {\\left(2 i \\, a^{5} \\frac{\\partial\\,\\psi_{2}}{\\partial {\\phi}} + {\\left(-2 i \\, B_{0} a^{7} q + 4 i \\, B_{0} a^{5} m q r - 2 i \\, B_{0} a^{5} q r^{2}\\right)} \\psi_{2}\\left(r, t, {\\theta}, {\\phi}\\right) + {\\left(-i \\, a^{4} m + i \\, a^{4} r\\right)} \\psi_{3}\\left(r, t, {\\theta}, {\\phi}\\right) + {\\left(2 i \\, a^{6} + 2 i \\, a^{4} r^{2}\\right)} \\frac{\\partial\\,\\psi_{2}}{\\partial t} + {\\left(2 i \\, a^{6} - 4 i \\, a^{4} m r + 2 i \\, a^{4} r^{2}\\right)} \\frac{\\partial\\,\\psi_{3}}{\\partial r}\\right)} \\cos\\left({\\theta}\\right)^{4} - 2 \\, {\\left(a^{5} - 2 \\, a^{3} m r + a^{3} r^{2}\\right)} \\cos\\left({\\theta}\\right)^{3} \\psi_{1}\\left(r, t, {\\theta}, {\\phi}\\right) + {\\left(4 i \\, a^{3} r^{2} \\frac{\\partial\\,\\psi_{2}}{\\partial {\\phi}} + {\\left(-4 i \\, B_{0} a^{5} q r^{2} + 8 i \\, B_{0} a^{3} m q r^{3} - 4 i \\, B_{0} a^{3} q r^{4}\\right)} \\psi_{2}\\left(r, t, {\\theta}, {\\phi}\\right) + {\\left(-2 i \\, a^{2} m r^{2} + 2 i \\, a^{2} r^{3}\\right)} \\psi_{3}\\left(r, t, {\\theta}, {\\phi}\\right) + {\\left(4 i \\, a^{4} r^{2} + 4 i \\, a^{2} r^{4}\\right)} \\frac{\\partial\\,\\psi_{2}}{\\partial t} + {\\left(4 i \\, a^{4} r^{2} - 8 i \\, a^{2} m r^{3} + 4 i \\, a^{2} r^{4}\\right)} \\frac{\\partial\\,\\psi_{3}}{\\partial r}\\right)} \\cos\\left({\\theta}\\right)^{2} + {\\left(a^{5} - 2 \\, a^{3} m r + 2 \\, a m r^{3} - a r^{4}\\right)} \\cos\\left({\\theta}\\right) \\psi_{1}\\left(r, t, {\\theta}, {\\phi}\\right) + {\\left(-2 i \\, B_{0} a^{3} q r^{4} + 4 i \\, B_{0} a m q r^{5} - 2 i \\, B_{0} a q r^{6}\\right)} \\psi_{2}\\left(r, t, {\\theta}, {\\phi}\\right) + {\\left(i \\, a^{4} r - 2 i \\, a^{2} m r^{2} + 2 i \\, a^{2} r^{3} - 3 i \\, m r^{4} + 2 i \\, r^{5}\\right)} \\psi_{3}\\left(r, t, {\\theta}, {\\phi}\\right) + {\\left(2 i \\, a^{2} r^{4} + 2 i \\, r^{6}\\right)} \\frac{\\partial\\,\\psi_{2}}{\\partial t} + {\\left(2 i \\, a^{2} r^{4} - 4 i \\, m r^{5} + 2 i \\, r^{6}\\right)} \\frac{\\partial\\,\\psi_{3}}{\\partial r}\\right)} \\sin\\left({\\theta}\\right) + {\\left(i \\, a^{3} r \\psi_{1}\\left(r, t, {\\theta}, {\\phi}\\right) \\sin\\left({\\theta}\\right)^{4} - 2 i \\, a^{4} \\cos\\left({\\theta}\\right)^{4} \\frac{\\partial\\,\\psi_{4}}{\\partial {\\phi}} - 4 i \\, a^{2} r^{2} \\cos\\left({\\theta}\\right)^{2} \\frac{\\partial\\,\\psi_{4}}{\\partial {\\phi}} - 2 i \\, r^{4} \\frac{\\partial\\,\\psi_{4}}{\\partial {\\phi}} - {\\left(a^{4} + 2 \\, a^{2} r^{2} + r^{4}\\right)} \\cos\\left({\\theta}\\right) \\psi_{3}\\left(r, t, {\\theta}, {\\phi}\\right) + {\\left(2 \\, a^{4} \\cos\\left({\\theta}\\right)^{3} \\psi_{3}\\left(r, t, {\\theta}, {\\phi}\\right) - 2 i \\, a r^{4} \\frac{\\partial\\,\\psi_{4}}{\\partial t} + {\\left(-2 i \\, a^{5} \\frac{\\partial\\,\\psi_{4}}{\\partial t} + {\\left(i \\, B_{0} a^{6} q - i \\, B_{0} a^{4} q r^{2}\\right)} \\psi_{4}\\left(r, t, {\\theta}, {\\phi}\\right)\\right)} \\cos\\left({\\theta}\\right)^{4} + {\\left(-4 i \\, a^{3} r^{2} \\frac{\\partial\\,\\psi_{4}}{\\partial t} + {\\left(2 i \\, B_{0} a^{4} q r^{2} - 2 i \\, B_{0} a^{2} q r^{4}\\right)} \\psi_{4}\\left(r, t, {\\theta}, {\\phi}\\right)\\right)} \\cos\\left({\\theta}\\right)^{2} + {\\left(a^{4} + 3 \\, a^{2} r^{2}\\right)} \\cos\\left({\\theta}\\right) \\psi_{3}\\left(r, t, {\\theta}, {\\phi}\\right) + {\\left(-i \\, a^{3} r - i \\, a r^{3}\\right)} \\psi_{1}\\left(r, t, {\\theta}, {\\phi}\\right) + {\\left(i \\, B_{0} a^{2} q r^{4} - i \\, B_{0} q r^{6}\\right)} \\psi_{4}\\left(r, t, {\\theta}, {\\phi}\\right)\\right)} \\sin\\left({\\theta}\\right)^{2} - 2 \\, {\\left(a^{4} \\cos\\left({\\theta}\\right)^{4} \\frac{\\partial\\,\\psi_{3}}{\\partial {\\theta}} + 2 \\, a^{2} r^{2} \\cos\\left({\\theta}\\right)^{2} \\frac{\\partial\\,\\psi_{3}}{\\partial {\\theta}} + r^{4} \\frac{\\partial\\,\\psi_{3}}{\\partial {\\theta}}\\right)} \\sin\\left({\\theta}\\right)\\right)} \\sqrt{a^{2} - 2 \\, m r + r^{2}}}{2 \\, {\\left(a^{4} \\cos\\left({\\theta}\\right)^{4} + 2 \\, a^{2} r^{2} \\cos\\left({\\theta}\\right)^{2} + r^{4}\\right)} \\sqrt{a^{2} \\cos\\left({\\theta}\\right)^{2} + r^{2}} \\sqrt{a^{2} - 2 \\, m r + r^{2}} \\sin\\left({\\theta}\\right)}$$"
      ],
      "text/plain": [
       "1/2*(((I*B_0*a^7*q - 2*I*B_0*a^5*m*q*r + I*B_0*a^5*q*r^2)*cos(th)^4*psi2(r, t, th, ph) + (2*I*B_0*a^5*q*r^2 - 4*I*B_0*a^3*m*q*r^3 + 2*I*B_0*a^3*q*r^4)*cos(th)^2*psi2(r, t, th, ph) - (a^5 - 2*a^3*m*r + a^3*r^2)*cos(th)*psi1(r, t, th, ph) + (I*B_0*a^3*q*r^4 - 2*I*B_0*a*m*q*r^5 + I*B_0*a*q*r^6)*psi2(r, t, th, ph) + (-I*a^4*r + 2*I*a^2*m*r^2 - I*a^2*r^3)*psi3(r, t, th, ph))*sin(th)^3 + (2*I*a*r^4*d(psi2)/dph + (2*I*a^5*d(psi2)/dph + (-2*I*B_0*a^7*q + 4*I*B_0*a^5*m*q*r - 2*I*B_0*a^5*q*r^2)*psi2(r, t, th, ph) + (-I*a^4*m + I*a^4*r)*psi3(r, t, th, ph) + (2*I*a^6 + 2*I*a^4*r^2)*d(psi2)/dt + (2*I*a^6 - 4*I*a^4*m*r + 2*I*a^4*r^2)*d(psi3)/dr)*cos(th)^4 - 2*(a^5 - 2*a^3*m*r + a^3*r^2)*cos(th)^3*psi1(r, t, th, ph) + (4*I*a^3*r^2*d(psi2)/dph + (-4*I*B_0*a^5*q*r^2 + 8*I*B_0*a^3*m*q*r^3 - 4*I*B_0*a^3*q*r^4)*psi2(r, t, th, ph) + (-2*I*a^2*m*r^2 + 2*I*a^2*r^3)*psi3(r, t, th, ph) + (4*I*a^4*r^2 + 4*I*a^2*r^4)*d(psi2)/dt + (4*I*a^4*r^2 - 8*I*a^2*m*r^3 + 4*I*a^2*r^4)*d(psi3)/dr)*cos(th)^2 + (a^5 - 2*a^3*m*r + 2*a*m*r^3 - a*r^4)*cos(th)*psi1(r, t, th, ph) + (-2*I*B_0*a^3*q*r^4 + 4*I*B_0*a*m*q*r^5 - 2*I*B_0*a*q*r^6)*psi2(r, t, th, ph) + (I*a^4*r - 2*I*a^2*m*r^2 + 2*I*a^2*r^3 - 3*I*m*r^4 + 2*I*r^5)*psi3(r, t, th, ph) + (2*I*a^2*r^4 + 2*I*r^6)*d(psi2)/dt + (2*I*a^2*r^4 - 4*I*m*r^5 + 2*I*r^6)*d(psi3)/dr)*sin(th) + (I*a^3*r*psi1(r, t, th, ph)*sin(th)^4 - 2*I*a^4*cos(th)^4*d(psi4)/dph - 4*I*a^2*r^2*cos(th)^2*d(psi4)/dph - 2*I*r^4*d(psi4)/dph - (a^4 + 2*a^2*r^2 + r^4)*cos(th)*psi3(r, t, th, ph) + (2*a^4*cos(th)^3*psi3(r, t, th, ph) - 2*I*a*r^4*d(psi4)/dt + (-2*I*a^5*d(psi4)/dt + (I*B_0*a^6*q - I*B_0*a^4*q*r^2)*psi4(r, t, th, ph))*cos(th)^4 + (-4*I*a^3*r^2*d(psi4)/dt + (2*I*B_0*a^4*q*r^2 - 2*I*B_0*a^2*q*r^4)*psi4(r, t, th, ph))*cos(th)^2 + (a^4 + 3*a^2*r^2)*cos(th)*psi3(r, t, th, ph) + (-I*a^3*r - I*a*r^3)*psi1(r, t, th, ph) + (I*B_0*a^2*q*r^4 - I*B_0*q*r^6)*psi4(r, t, th, ph))*sin(th)^2 - 2*(a^4*cos(th)^4*d(psi3)/dth + 2*a^2*r^2*cos(th)^2*d(psi3)/dth + r^4*d(psi3)/dth)*sin(th))*sqrt(a^2 - 2*m*r + r^2))/((a^4*cos(th)^4 + 2*a^2*r^2*cos(th)^2 + r^4)*sqrt(a^2*cos(th)^2 + r^2)*sqrt(a^2 - 2*m*r + r^2)*sin(th))"
      ]
     },
     "execution_count": 10,
     "metadata": {},
     "output_type": "execute_result"
    }
   ],
   "source": [
    "Dirac_Wald_equation_lhs[1]"
   ]
  }
 ],
 "metadata": {
  "kernelspec": {
   "display_name": "SageMath 9.3",
   "language": "sage",
   "name": "sagemath"
  },
  "language_info": {
   "codemirror_mode": {
    "name": "ipython",
    "version": 3
   },
   "file_extension": ".py",
   "mimetype": "text/x-python",
   "name": "python",
   "nbconvert_exporter": "python",
   "pygments_lexer": "ipython3",
   "version": "3.7.10"
  },
  "widgets": {
   "application/vnd.jupyter.widget-state+json": {
    "state": {},
    "version_major": 2,
    "version_minor": 0
   }
  }
 },
 "nbformat": 4,
 "nbformat_minor": 4
}
