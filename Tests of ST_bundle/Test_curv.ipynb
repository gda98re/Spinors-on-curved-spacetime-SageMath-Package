{
 "cells": [
  {
   "cell_type": "markdown",
   "metadata": {},
   "source": [
    "# Spinor connection, Dirac equation and Wald solution"
   ]
  },
  {
   "cell_type": "markdown",
   "metadata": {},
   "source": [
    "## Basic initialization of the lorentzian manifold"
   ]
  },
  {
   "cell_type": "markdown",
   "metadata": {},
   "source": [
    "Initialization of the Kerr manifold $\\mathcal M_{Kerr}$ atlas with Boyer-Lindquist chart (BL) and of the metric tensor $g$ :"
   ]
  },
  {
   "cell_type": "code",
   "execution_count": 1,
   "metadata": {},
   "outputs": [
    {
     "data": {
      "text/html": [
       "<html><script type=\"math/tex; mode=display\">\\newcommand{\\Bold}[1]{\\mathbf{#1}}g = \\left( \\frac{2 \\, m}{r} - 1 \\right) \\mathrm{d} t\\otimes \\mathrm{d} t + \\left( -\\frac{1}{\\frac{2 \\, m}{r} - 1} \\right) \\mathrm{d} r\\otimes \\mathrm{d} r + r^{2} \\mathrm{d} {\\theta}\\otimes \\mathrm{d} {\\theta} + r^{2} \\sin\\left({\\theta}\\right)^{2} \\mathrm{d} {\\phi}\\otimes \\mathrm{d} {\\phi}</script></html>"
      ],
      "text/latex": [
       "$$\\newcommand{\\Bold}[1]{\\mathbf{#1}}g = \\left( \\frac{2 \\, m}{r} - 1 \\right) \\mathrm{d} t\\otimes \\mathrm{d} t + \\left( -\\frac{1}{\\frac{2 \\, m}{r} - 1} \\right) \\mathrm{d} r\\otimes \\mathrm{d} r + r^{2} \\mathrm{d} {\\theta}\\otimes \\mathrm{d} {\\theta} + r^{2} \\sin\\left({\\theta}\\right)^{2} \\mathrm{d} {\\phi}\\otimes \\mathrm{d} {\\phi}$$"
      ],
      "text/plain": [
       "g = (2*m/r - 1) dt*dt - 1/(2*m/r - 1) dr*dr + r^2 dth*dth + r^2*sin(th)^2 dph*dph"
      ]
     },
     "execution_count": 1,
     "metadata": {},
     "output_type": "execute_result"
    }
   ],
   "source": [
    "%display latex\n",
    "\n",
    "M = Manifold(4, 'M', latex_name=r'\\mathcal{M}', structure='Lorentzian')\n",
    "#BL.<t,r,th,ph> = M.chart(r\"t r th:(0,pi):\\theta ph:(0,2*pi):\\phi\") #boyer-lindquist chart definition\n",
    "SD.<t, r, th, ph> = M.chart(r\"t r:(0,+oo) th:(0,pi):\\theta ph:(0,2*pi):\\phi:periodic\")\n",
    "\n",
    "var('m', domain='real')\n",
    "#var('m, a', domain='real') #definition of Kerr metric parameters\n",
    "\n",
    "g = M.metric() #we put the label g on the metric tensor\n",
    "\n",
    "#rho2 = r^2 + (a*cos(th))^2\n",
    "#Delta = r^2 -2*m*r + a^2\n",
    "\n",
    "#g[0,0] = -(1-2*m*r/rho2)\n",
    "#g[0,3] = -2*a*m*r*sin(th)^2/rho2\n",
    "#g[1,1], g[2,2] = rho2/Delta, rho2\n",
    "#g[3,3] = (r^2+a^2+2*m*r*(a*sin(th))^2/rho2)*sin(th)^2\n",
    "g[0, 0] = - (1 - 2*m/r)\n",
    "g[1, 1] = 1/(1 - 2*m/r)\n",
    "g[2, 2] = r^2\n",
    "g[3, 3] = r^2*sin(th)^2\n",
    "\n",
    "g.display()"
   ]
  },
  {
   "cell_type": "markdown",
   "metadata": {},
   "source": [
    "## Initialization of the orthonormal tetrad"
   ]
  },
  {
   "cell_type": "markdown",
   "metadata": {},
   "source": [
    "Definition of the orthonormal tetrad frame $e_{(a)}$ (Chandrasekar notation) and its dual frame $e^{(a)} = \\eta^{(a)(b)}g(e_{(b)},-)$ :"
   ]
  },
  {
   "cell_type": "code",
   "execution_count": 2,
   "metadata": {},
   "outputs": [],
   "source": [
    "e0 = M.vector_field(1/sqrt(1-2*m/r), 0, 0, 0, frame=SD.frame(), name='e_{(0)}')\n",
    "e1 = M.vector_field(0, sqrt(1-2*m/r), 0, 0, frame=SD.frame(), name='e_{(1)}')\n",
    "e2 = M.vector_field(0, 0, 1/r, 0, frame=SD.frame(), name='e_{(2)}')\n",
    "e3 = M.vector_field(0, 0, 0, 1/(r*sin(th)), frame=SD.frame(), name='e_{(3)}')\n",
    "\n",
    "\n",
    "e = M.vector_frame('e', (e0, e1, e2, e3)) #costruction of the tetrad collection object e_{a}\n",
    "de = e.coframe() #construction of the tetrad coframe object e^{a}  "
   ]
  },
  {
   "cell_type": "markdown",
   "metadata": {},
   "source": [
    "## ST bundle"
   ]
  },
  {
   "cell_type": "code",
   "execution_count": 3,
   "metadata": {},
   "outputs": [],
   "source": [
    "from ST_bundle.ST_bundle import ST_bundle"
   ]
  },
  {
   "cell_type": "code",
   "execution_count": 4,
   "metadata": {},
   "outputs": [],
   "source": [
    "e_sfb = ST_bundle(M,e)"
   ]
  },
  {
   "cell_type": "code",
   "execution_count": 16,
   "metadata": {},
   "outputs": [],
   "source": [
    "psi0 = function(\"psi0\", latex_name = \"\\\\psi_{0}\", nargs = 4)\n",
    "psi1 = function(\"psi1\" ,latex_name = \"\\\\psi_{1}\", nargs = 4)\n",
    "psi2 = function(\"psi2\" ,latex_name = \"\\\\psi_{2}\", nargs = 4)\n",
    "psi3 = function(\"psi3\" ,latex_name = \"\\\\psi_{3}\", nargs = 4)\n",
    "\n",
    "\n",
    "psi0_ = M.scalar_field({SD: psi0(r,t,th,ph)})\n",
    "psi1_ = M.scalar_field({SD: psi1(r,t,th,ph)})\n",
    "psi2_ = M.scalar_field({SD: psi2(r,t,th,ph)})\n",
    "psi3_ = M.scalar_field({SD: psi3(r,t,th,ph)})\n",
    "\n",
    "psi_sb = e_sfb.sbundle.section({e_sfb.sframe: [psi0_,psi1_,psi2_,psi3_]}, \"\\\\psi\")\n",
    "psi = e_sfb.spin_tensor([],(1,0),psi_sb)\n",
    "Gamma = e_sfb.Dirac_matrices(\"up\")\n",
    "\n",
    "nabla_s = e_sfb.sconnection()\n",
    "nabla_t = e_sfb.tconnection()\n",
    "nabla_tot = e_sfb.totconnection()"
   ]
  },
  {
   "cell_type": "code",
   "execution_count": 6,
   "metadata": {},
   "outputs": [
    {
     "data": {
      "text/html": [
       "<html><script type=\"math/tex; mode=display\">\\newcommand{\\Bold}[1]{\\mathbf{#1}}\\verb|Total|\\phantom{\\verb!x!}\\verb|connection|\\phantom{\\verb!x!}\\verb|on|\\phantom{\\verb!x!}\\verb|the|\\phantom{\\verb!x!}\\verb|ST|\\phantom{\\verb!x!}\\verb|bundle|</script></html>"
      ],
      "text/latex": [
       "$$\\newcommand{\\Bold}[1]{\\mathbf{#1}}\\verb|Total|\\phantom{\\verb!x!}\\verb|connection|\\phantom{\\verb!x!}\\verb|on|\\phantom{\\verb!x!}\\verb|the|\\phantom{\\verb!x!}\\verb|ST|\\phantom{\\verb!x!}\\verb|bundle|$$"
      ],
      "text/plain": [
       "Total connection on the ST bundle"
      ]
     },
     "execution_count": 6,
     "metadata": {},
     "output_type": "execute_result"
    }
   ],
   "source": [
    "nabla_tot"
   ]
  },
  {
   "cell_type": "code",
   "execution_count": 7,
   "metadata": {},
   "outputs": [
    {
     "data": {
      "text/html": [
       "<html><script type=\"math/tex; mode=display\">\\newcommand{\\Bold}[1]{\\mathbf{#1}}\\begin{array}{lcl} \\omega^1_{\\ \\, 0} = \\frac{m}{r^{2}} \\mathrm{d} t \\\\ \\omega^0_{\\ \\, 1} = \\frac{m}{r^{2}} \\mathrm{d} t \\\\ \\omega^2_{\\ \\, 1} = \\left( \\frac{\\sqrt{-2 \\, m + r}}{\\sqrt{r}} \\right) \\mathrm{d} {\\theta} \\\\ \\omega^3_{\\ \\, 1} = \\left( \\frac{\\sqrt{-2 \\, m + r} \\sin\\left({\\theta}\\right)}{\\sqrt{r}} \\right) \\mathrm{d} {\\phi} \\\\ \\omega^1_{\\ \\, 2} = \\left( -\\frac{\\sqrt{-2 \\, m + r}}{\\sqrt{r}} \\right) \\mathrm{d} {\\theta} \\\\ \\omega^3_{\\ \\, 2} = \\cos\\left({\\theta}\\right) \\mathrm{d} {\\phi} \\\\ \\omega^1_{\\ \\, 3} = \\left( -\\frac{\\sqrt{-2 \\, m + r} \\sin\\left({\\theta}\\right)}{\\sqrt{r}} \\right) \\mathrm{d} {\\phi} \\\\ \\omega^2_{\\ \\, 3} = -\\cos\\left({\\theta}\\right) \\mathrm{d} {\\phi} \\end{array}</script></html>"
      ],
      "text/latex": [
       "$$\\newcommand{\\Bold}[1]{\\mathbf{#1}}\\begin{array}{lcl} \\omega^1_{\\ \\, 0} = \\frac{m}{r^{2}} \\mathrm{d} t \\\\ \\omega^0_{\\ \\, 1} = \\frac{m}{r^{2}} \\mathrm{d} t \\\\ \\omega^2_{\\ \\, 1} = \\left( \\frac{\\sqrt{-2 \\, m + r}}{\\sqrt{r}} \\right) \\mathrm{d} {\\theta} \\\\ \\omega^3_{\\ \\, 1} = \\left( \\frac{\\sqrt{-2 \\, m + r} \\sin\\left({\\theta}\\right)}{\\sqrt{r}} \\right) \\mathrm{d} {\\phi} \\\\ \\omega^1_{\\ \\, 2} = \\left( -\\frac{\\sqrt{-2 \\, m + r}}{\\sqrt{r}} \\right) \\mathrm{d} {\\theta} \\\\ \\omega^3_{\\ \\, 2} = \\cos\\left({\\theta}\\right) \\mathrm{d} {\\phi} \\\\ \\omega^1_{\\ \\, 3} = \\left( -\\frac{\\sqrt{-2 \\, m + r} \\sin\\left({\\theta}\\right)}{\\sqrt{r}} \\right) \\mathrm{d} {\\phi} \\\\ \\omega^2_{\\ \\, 3} = -\\cos\\left({\\theta}\\right) \\mathrm{d} {\\phi} \\end{array}$$"
      ],
      "text/plain": [
       "connection (0,1) of bundle connection \\nabla_t w.r.t. Local frame (F|_M, (e_0,e_1,e_2,e_3)) = m/r^2 dt \n",
       "connection (1,0) of bundle connection \\nabla_t w.r.t. Local frame (F|_M, (e_0,e_1,e_2,e_3)) = m/r^2 dt \n",
       "connection (1,2) of bundle connection \\nabla_t w.r.t. Local frame (F|_M, (e_0,e_1,e_2,e_3)) = sqrt(-2*m + r)/sqrt(r) dth \n",
       "connection (1,3) of bundle connection \\nabla_t w.r.t. Local frame (F|_M, (e_0,e_1,e_2,e_3)) = sqrt(-2*m + r)*sin(th)/sqrt(r) dph \n",
       "connection (2,1) of bundle connection \\nabla_t w.r.t. Local frame (F|_M, (e_0,e_1,e_2,e_3)) = -sqrt(-2*m + r)/sqrt(r) dth \n",
       "connection (2,3) of bundle connection \\nabla_t w.r.t. Local frame (F|_M, (e_0,e_1,e_2,e_3)) = cos(th) dph \n",
       "connection (3,1) of bundle connection \\nabla_t w.r.t. Local frame (F|_M, (e_0,e_1,e_2,e_3)) = -sqrt(-2*m + r)*sin(th)/sqrt(r) dph \n",
       "connection (3,2) of bundle connection \\nabla_t w.r.t. Local frame (F|_M, (e_0,e_1,e_2,e_3)) = -cos(th) dph "
      ]
     },
     "execution_count": 7,
     "metadata": {},
     "output_type": "execute_result"
    }
   ],
   "source": [
    "nabla_tot.display('t')"
   ]
  },
  {
   "cell_type": "code",
   "execution_count": 8,
   "metadata": {},
   "outputs": [],
   "source": [
    "curv_tot = nabla_tot(e,nabla_s(e,psi_sb))"
   ]
  },
  {
   "cell_type": "code",
   "execution_count": 9,
   "metadata": {},
   "outputs": [],
   "source": [
    "curv_tot = curv_tot.swap_tindices()-curv_tot"
   ]
  },
  {
   "cell_type": "code",
   "execution_count": 10,
   "metadata": {},
   "outputs": [],
   "source": [
    "Riemann = M.metric().riemann()"
   ]
  },
  {
   "cell_type": "code",
   "execution_count": 11,
   "metadata": {},
   "outputs": [],
   "source": [
    "Riemann = Riemann.down(g)"
   ]
  },
  {
   "cell_type": "code",
   "execution_count": 12,
   "metadata": {},
   "outputs": [],
   "source": [
    "Riem = e_sfb.set_scalar_from_Components([\"down\",\"down\",\"down\",\"down\"],Riemann.comp(e))"
   ]
  },
  {
   "cell_type": "code",
   "execution_count": 13,
   "metadata": {},
   "outputs": [],
   "source": [
    "curv_from_riem = (1/4)*Riem.contract([0,1],Gamma@Gamma,[0,1])"
   ]
  },
  {
   "cell_type": "code",
   "execution_count": 14,
   "metadata": {},
   "outputs": [],
   "source": [
    "curv_from_riem_psi = curv_from_riem@psi_sb"
   ]
  },
  {
   "cell_type": "code",
   "execution_count": 15,
   "metadata": {},
   "outputs": [
    {
     "data": {
      "text/html": [
       "<html><script type=\"math/tex; mode=display\">\\newcommand{\\Bold}[1]{\\mathbf{#1}}\\mathrm{True}</script></html>"
      ],
      "text/latex": [
       "$$\\newcommand{\\Bold}[1]{\\mathbf{#1}}\\mathrm{True}$$"
      ],
      "text/plain": [
       "True"
      ]
     },
     "execution_count": 15,
     "metadata": {},
     "output_type": "execute_result"
    }
   ],
   "source": [
    "curv_tot == curv_from_riem_psi"
   ]
  },
  {
   "cell_type": "code",
   "execution_count": 16,
   "metadata": {},
   "outputs": [],
   "source": [
    "curv_tot_2form = curv_from_riem.get_tangent_tensor()"
   ]
  },
  {
   "cell_type": "code",
   "execution_count": 17,
   "metadata": {},
   "outputs": [],
   "source": [
    "for i in range(0,4):\n",
    "    for j in range(0,4):\n",
    "        if(curv_tot_2form[i][j] != nabla_s.curvature_form(j,i)): print(\"error\")"
   ]
  }
 ],
 "metadata": {
  "kernelspec": {
   "display_name": "SageMath 9.3",
   "language": "sage",
   "name": "sagemath"
  },
  "language_info": {
   "codemirror_mode": {
    "name": "ipython",
    "version": 3
   },
   "file_extension": ".py",
   "mimetype": "text/x-python",
   "name": "python",
   "nbconvert_exporter": "python",
   "pygments_lexer": "ipython3",
   "version": "3.7.10"
  }
 },
 "nbformat": 4,
 "nbformat_minor": 4
}
