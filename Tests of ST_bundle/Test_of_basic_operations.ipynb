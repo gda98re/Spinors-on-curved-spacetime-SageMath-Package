{
 "cells": [
  {
   "cell_type": "markdown",
   "metadata": {},
   "source": [
    "# TEST OF THE BASIC OPERATIONS BETWEEN OBJECTS WITH TETRAD INDICES"
   ]
  },
  {
   "cell_type": "markdown",
   "metadata": {},
   "source": [
    "## Basic initialization of the lorentzian manifold"
   ]
  },
  {
   "cell_type": "markdown",
   "metadata": {},
   "source": [
    "Initialization of the Schwarzschild manifold $\\mathcal M_{Schwarzschild}$ atlas with Schwarzschild chart (SD) and of the metric tensor $g$ :"
   ]
  },
  {
   "cell_type": "code",
   "execution_count": 1,
   "metadata": {},
   "outputs": [
    {
     "data": {
      "text/html": [
       "<html><script type=\"math/tex; mode=display\">\\newcommand{\\Bold}[1]{\\mathbf{#1}}g = \\left( \\frac{2 \\, m}{r} - 1 \\right) \\mathrm{d} t\\otimes \\mathrm{d} t + \\left( -\\frac{1}{\\frac{2 \\, m}{r} - 1} \\right) \\mathrm{d} r\\otimes \\mathrm{d} r + r^{2} \\mathrm{d} {\\theta}\\otimes \\mathrm{d} {\\theta} + r^{2} \\sin\\left({\\theta}\\right)^{2} \\mathrm{d} {\\phi}\\otimes \\mathrm{d} {\\phi}</script></html>"
      ],
      "text/latex": [
       "$$\\newcommand{\\Bold}[1]{\\mathbf{#1}}g = \\left( \\frac{2 \\, m}{r} - 1 \\right) \\mathrm{d} t\\otimes \\mathrm{d} t + \\left( -\\frac{1}{\\frac{2 \\, m}{r} - 1} \\right) \\mathrm{d} r\\otimes \\mathrm{d} r + r^{2} \\mathrm{d} {\\theta}\\otimes \\mathrm{d} {\\theta} + r^{2} \\sin\\left({\\theta}\\right)^{2} \\mathrm{d} {\\phi}\\otimes \\mathrm{d} {\\phi}$$"
      ],
      "text/plain": [
       "g = (2*m/r - 1) dt*dt - 1/(2*m/r - 1) dr*dr + r^2 dth*dth + r^2*sin(th)^2 dph*dph"
      ]
     },
     "execution_count": 1,
     "metadata": {},
     "output_type": "execute_result"
    }
   ],
   "source": [
    "%display latex\n",
    "\n",
    "M = Manifold(4, 'M', latex_name=r'\\mathcal{M}', structure='Lorentzian')\n",
    "#BL.<t,r,th,ph> = M.chart(r\"t r th:(0,pi):\\theta ph:(0,2*pi):\\phi\") #boyer-lindquist chart definition\n",
    "SD.<t, r, th, ph> = M.chart(r\"t r:(0,+oo) th:(0,pi):\\theta ph:(0,2*pi):\\phi:periodic\")\n",
    "\n",
    "var('m', domain='real')\n",
    "#var('m, a', domain='real') #definition of Kerr metric parameters\n",
    "\n",
    "g = M.metric() #we put the label g on the metric tensor\n",
    "\n",
    "#rho2 = r^2 + (a*cos(th))^2\n",
    "#Delta = r^2 -2*m*r + a^2\n",
    "\n",
    "#g[0,0] = -(1-2*m*r/rho2)\n",
    "#g[0,3] = -2*a*m*r*sin(th)^2/rho2\n",
    "#g[1,1], g[2,2] = rho2/Delta, rho2\n",
    "#g[3,3] = (r^2+a^2+2*m*r*(a*sin(th))^2/rho2)*sin(th)^2\n",
    "g[0, 0] = - (1 - 2*m/r)\n",
    "g[1, 1] = 1/(1 - 2*m/r)\n",
    "g[2, 2] = r^2\n",
    "g[3, 3] = r^2*sin(th)^2\n",
    "\n",
    "g.display()"
   ]
  },
  {
   "cell_type": "markdown",
   "metadata": {},
   "source": [
    "## Initialization of the orthonormal tetrad"
   ]
  },
  {
   "cell_type": "markdown",
   "metadata": {},
   "source": [
    "Definition of the orthonormal tetrad frame $e_{(a)}$ (Chandrasekar notation) and its dual frame $e^{(a)} = \\eta^{(a)(b)}g(e_{(b)},-)$ :"
   ]
  },
  {
   "cell_type": "code",
   "execution_count": 2,
   "metadata": {},
   "outputs": [],
   "source": [
    "e0 = M.vector_field(1/sqrt(1-2*m/r), 0, 0, 0, frame=SD.frame(), name='e_{(0)}')\n",
    "e1 = M.vector_field(0, sqrt(1-2*m/r), 0, 0, frame=SD.frame(), name='e_{(1)}')\n",
    "e2 = M.vector_field(0, 0, 1/r, 0, frame=SD.frame(), name='e_{(2)}')\n",
    "e3 = M.vector_field(0, 0, 0, 1/(r*sin(th)), frame=SD.frame(), name='e_{(3)}')\n",
    "\n",
    "\n",
    "e = M.vector_frame('e', (e0, e1, e2, e3)) #costruction of the tetrad collection object e_{a}\n",
    "de = e.coframe() #construction of the tetrad coframe object e^{a}  "
   ]
  },
  {
   "cell_type": "markdown",
   "metadata": {},
   "source": [
    "## Inizialization of the ST bundle"
   ]
  },
  {
   "cell_type": "markdown",
   "metadata": {},
   "source": [
    "Definition of the ST bundle:"
   ]
  },
  {
   "cell_type": "code",
   "execution_count": 3,
   "metadata": {},
   "outputs": [],
   "source": [
    "from ST_bundle.ST_bundle import ST_bundle"
   ]
  },
  {
   "cell_type": "code",
   "execution_count": 4,
   "metadata": {},
   "outputs": [],
   "source": [
    "STb = ST_bundle(M,e)"
   ]
  },
  {
   "cell_type": "markdown",
   "metadata": {},
   "source": [
    "Definition of three test scalar fields with tindices $S_{1 \\ \\ (b)}^{(a)}$, $S_{2 (a)}^{ \\quad (b)}$, $S_{3}$:"
   ]
  },
  {
   "cell_type": "code",
   "execution_count": 5,
   "metadata": {},
   "outputs": [],
   "source": [
    "sc = M.scalar_field({SD : 3})\n",
    "\n",
    "S1 = STb.scalar([\"up\",\"down\"],sc)\n",
    "S2 = STb.scalar([\"down\",\"up\"],sc)\n",
    "S3 = STb.scalar([],sc)"
   ]
  },
  {
   "cell_type": "markdown",
   "metadata": {},
   "source": [
    "Definition of three test tensors on the spinor bundle with tindices $T_{1 \\ \\ (b)}^{(a)}$, $T_{2 (a)(b)}$, $T_{3}$ and the Dirac Gamma matrices $\\gamma^{(a)}$:"
   ]
  },
  {
   "cell_type": "code",
   "execution_count": 6,
   "metadata": {},
   "outputs": [],
   "source": [
    "T1 = STb.spin_tensor([\"up\",\"down\"],(1,1))\n",
    "T2 = STb.spin_tensor([\"down\",\"down\"],(1,2))\n",
    "T3 = STb.spin_tensor([],(1,1))\n",
    "\n",
    "Gamma = STb.Dirac_matrices(\"up\") #Dirac Gamma matrices"
   ]
  },
  {
   "cell_type": "markdown",
   "metadata": {},
   "source": [
    "## Test of sum and subtraction"
   ]
  },
  {
   "cell_type": "code",
   "execution_count": 7,
   "metadata": {},
   "outputs": [
    {
     "data": {
      "text/html": [
       "<html><script type=\"math/tex; mode=display\">\\newcommand{\\Bold}[1]{\\mathbf{#1}}\\verb|['up',|\\phantom{\\verb!x!}\\verb|'down']|\\phantom{\\verb!x!}\\verb|Tetrad|\\phantom{\\verb!x!}\\verb|index|\\phantom{\\verb!x!}\\verb|family|\\phantom{\\verb!x!}\\verb|of|\\phantom{\\verb!x!}\\verb|Tensors|\\phantom{\\verb!x!}\\verb|(1,|\\phantom{\\verb!x!}\\verb|1)|\\phantom{\\verb!x!}\\verb|on|\\phantom{\\verb!x!}\\verb|the|\\phantom{\\verb!x!}\\verb|spin|\\phantom{\\verb!x!}\\verb|bundle|\\phantom{\\verb!x!}\\verb|section|\\phantom{\\verb!x!}\\verb|module|\\phantom{\\verb!x!}\\verb|with|\\phantom{\\verb!x!}\\verb|respect|\\phantom{\\verb!x!}\\verb|to|\\phantom{\\verb!x!}\\verb|the|\\phantom{\\verb!x!}\\verb|tetrad|\\phantom{\\verb!x!}\\verb|frame|\\phantom{\\verb!x!}\\verb|Vector|\\phantom{\\verb!x!}\\verb|frame|\\phantom{\\verb!x!}\\verb|(M,|\\phantom{\\verb!x!}\\verb|(e_0,e_1,e_2,e_3))|</script></html>"
      ],
      "text/latex": [
       "$$\\newcommand{\\Bold}[1]{\\mathbf{#1}}\\verb|['up',|\\phantom{\\verb!x!}\\verb|'down']|\\phantom{\\verb!x!}\\verb|Tetrad|\\phantom{\\verb!x!}\\verb|index|\\phantom{\\verb!x!}\\verb|family|\\phantom{\\verb!x!}\\verb|of|\\phantom{\\verb!x!}\\verb|Tensors|\\phantom{\\verb!x!}\\verb|(1,|\\phantom{\\verb!x!}\\verb|1)|\\phantom{\\verb!x!}\\verb|on|\\phantom{\\verb!x!}\\verb|the|\\phantom{\\verb!x!}\\verb|spin|\\phantom{\\verb!x!}\\verb|bundle|\\phantom{\\verb!x!}\\verb|section|\\phantom{\\verb!x!}\\verb|module|\\phantom{\\verb!x!}\\verb|with|\\phantom{\\verb!x!}\\verb|respect|\\phantom{\\verb!x!}\\verb|to|\\phantom{\\verb!x!}\\verb|the|\\phantom{\\verb!x!}\\verb|tetrad|\\phantom{\\verb!x!}\\verb|frame|\\phantom{\\verb!x!}\\verb|Vector|\\phantom{\\verb!x!}\\verb|frame|\\phantom{\\verb!x!}\\verb|(M,|\\phantom{\\verb!x!}\\verb|(e_0,e_1,e_2,e_3))|$$"
      ],
      "text/plain": [
       "['up', 'down'] Tetrad index family of Tensors (1, 1) on the spin bundle section module with respect to the tetrad frame Vector frame (M, (e_0,e_1,e_2,e_3))"
      ]
     },
     "execution_count": 7,
     "metadata": {},
     "output_type": "execute_result"
    }
   ],
   "source": [
    "S1-S1+S1\n",
    "T1-T1+T1\n",
    "#S1+S2-S3 #error, no tindices match\n",
    "#S1+T3    #error, can't sum scalars with tensors\n"
   ]
  },
  {
   "cell_type": "markdown",
   "metadata": {},
   "source": [
    "## Swap of tindices or sindices"
   ]
  },
  {
   "cell_type": "markdown",
   "metadata": {},
   "source": [
    "Swapping tindices and sindices:"
   ]
  },
  {
   "cell_type": "code",
   "execution_count": 8,
   "metadata": {},
   "outputs": [
    {
     "data": {
      "text/html": [
       "<html><script type=\"math/tex; mode=display\">\\newcommand{\\Bold}[1]{\\mathbf{#1}}\\verb|['down',|\\phantom{\\verb!x!}\\verb|'up',|\\phantom{\\verb!x!}\\verb|'up',|\\phantom{\\verb!x!}\\verb|'down',|\\phantom{\\verb!x!}\\verb|'down']|\\phantom{\\verb!x!}\\verb|Tetrad|\\phantom{\\verb!x!}\\verb|index|\\phantom{\\verb!x!}\\verb|family|\\phantom{\\verb!x!}\\verb|of|\\phantom{\\verb!x!}\\verb|scalar|\\phantom{\\verb!x!}\\verb|fields|\\phantom{\\verb!x!}\\verb|on|\\phantom{\\verb!x!}\\verb|M|\\phantom{\\verb!x!}\\verb|with|\\phantom{\\verb!x!}\\verb|respect|\\phantom{\\verb!x!}\\verb|to|\\phantom{\\verb!x!}\\verb|the|\\phantom{\\verb!x!}\\verb|tetrad|\\phantom{\\verb!x!}\\verb|frame|\\phantom{\\verb!x!}\\verb|Vector|\\phantom{\\verb!x!}\\verb|frame|\\phantom{\\verb!x!}\\verb|(M,|\\phantom{\\verb!x!}\\verb|(e_0,e_1,e_2,e_3))|</script></html>"
      ],
      "text/latex": [
       "$$\\newcommand{\\Bold}[1]{\\mathbf{#1}}\\verb|['down',|\\phantom{\\verb!x!}\\verb|'up',|\\phantom{\\verb!x!}\\verb|'up',|\\phantom{\\verb!x!}\\verb|'down',|\\phantom{\\verb!x!}\\verb|'down']|\\phantom{\\verb!x!}\\verb|Tetrad|\\phantom{\\verb!x!}\\verb|index|\\phantom{\\verb!x!}\\verb|family|\\phantom{\\verb!x!}\\verb|of|\\phantom{\\verb!x!}\\verb|scalar|\\phantom{\\verb!x!}\\verb|fields|\\phantom{\\verb!x!}\\verb|on|\\phantom{\\verb!x!}\\verb|M|\\phantom{\\verb!x!}\\verb|with|\\phantom{\\verb!x!}\\verb|respect|\\phantom{\\verb!x!}\\verb|to|\\phantom{\\verb!x!}\\verb|the|\\phantom{\\verb!x!}\\verb|tetrad|\\phantom{\\verb!x!}\\verb|frame|\\phantom{\\verb!x!}\\verb|Vector|\\phantom{\\verb!x!}\\verb|frame|\\phantom{\\verb!x!}\\verb|(M,|\\phantom{\\verb!x!}\\verb|(e_0,e_1,e_2,e_3))|$$"
      ],
      "text/plain": [
       "['down', 'up', 'up', 'down', 'down'] Tetrad index family of scalar fields on M with respect to the tetrad frame Vector frame (M, (e_0,e_1,e_2,e_3))"
      ]
     },
     "execution_count": 8,
     "metadata": {},
     "output_type": "execute_result"
    }
   ],
   "source": [
    "S = STb.scalar([\"down\",\"up\",\"down\",\"up\",\"down\"],sc)\n",
    "T = STb.spin_tensor([\"down\",\"up\",\"down\",\"up\",\"down\"],(3,1))\n",
    "S.swap_tindices(1,3)\n",
    "T.swap_sindices(0,1)\n",
    "S.swap_tindices(2,3)"
   ]
  },
  {
   "cell_type": "markdown",
   "metadata": {},
   "source": [
    "## Test of tensor product $\\otimes$ (*)"
   ]
  },
  {
   "cell_type": "markdown",
   "metadata": {},
   "source": [
    "Tensor product $t\\otimes$ of tindices: $S_{1 \\ \\ (a)}^{(b)}S_{2 (c)}^{ \\quad (d)}$"
   ]
  },
  {
   "cell_type": "code",
   "execution_count": 9,
   "metadata": {},
   "outputs": [
    {
     "data": {
      "text/html": [
       "<html><script type=\"math/tex; mode=display\">\\newcommand{\\Bold}[1]{\\mathbf{#1}}\\verb|['up',|\\phantom{\\verb!x!}\\verb|'down',|\\phantom{\\verb!x!}\\verb|'down',|\\phantom{\\verb!x!}\\verb|'up']|\\phantom{\\verb!x!}\\verb|Tetrad|\\phantom{\\verb!x!}\\verb|index|\\phantom{\\verb!x!}\\verb|family|\\phantom{\\verb!x!}\\verb|of|\\phantom{\\verb!x!}\\verb|scalar|\\phantom{\\verb!x!}\\verb|fields|\\phantom{\\verb!x!}\\verb|on|\\phantom{\\verb!x!}\\verb|M|\\phantom{\\verb!x!}\\verb|with|\\phantom{\\verb!x!}\\verb|respect|\\phantom{\\verb!x!}\\verb|to|\\phantom{\\verb!x!}\\verb|the|\\phantom{\\verb!x!}\\verb|tetrad|\\phantom{\\verb!x!}\\verb|frame|\\phantom{\\verb!x!}\\verb|Vector|\\phantom{\\verb!x!}\\verb|frame|\\phantom{\\verb!x!}\\verb|(M,|\\phantom{\\verb!x!}\\verb|(e_0,e_1,e_2,e_3))|</script></html>"
      ],
      "text/latex": [
       "$$\\newcommand{\\Bold}[1]{\\mathbf{#1}}\\verb|['up',|\\phantom{\\verb!x!}\\verb|'down',|\\phantom{\\verb!x!}\\verb|'down',|\\phantom{\\verb!x!}\\verb|'up']|\\phantom{\\verb!x!}\\verb|Tetrad|\\phantom{\\verb!x!}\\verb|index|\\phantom{\\verb!x!}\\verb|family|\\phantom{\\verb!x!}\\verb|of|\\phantom{\\verb!x!}\\verb|scalar|\\phantom{\\verb!x!}\\verb|fields|\\phantom{\\verb!x!}\\verb|on|\\phantom{\\verb!x!}\\verb|M|\\phantom{\\verb!x!}\\verb|with|\\phantom{\\verb!x!}\\verb|respect|\\phantom{\\verb!x!}\\verb|to|\\phantom{\\verb!x!}\\verb|the|\\phantom{\\verb!x!}\\verb|tetrad|\\phantom{\\verb!x!}\\verb|frame|\\phantom{\\verb!x!}\\verb|Vector|\\phantom{\\verb!x!}\\verb|frame|\\phantom{\\verb!x!}\\verb|(M,|\\phantom{\\verb!x!}\\verb|(e_0,e_1,e_2,e_3))|$$"
      ],
      "text/plain": [
       "['up', 'down', 'down', 'up'] Tetrad index family of scalar fields on M with respect to the tetrad frame Vector frame (M, (e_0,e_1,e_2,e_3))"
      ]
     },
     "execution_count": 9,
     "metadata": {},
     "output_type": "execute_result"
    }
   ],
   "source": [
    "S1*S2"
   ]
  },
  {
   "cell_type": "markdown",
   "metadata": {},
   "source": [
    "Product with a scalar field $S_{3}$ $ \\cdot $ : $S_{3}S_{1 \\ \\ (b)}^{(a)}$"
   ]
  },
  {
   "cell_type": "code",
   "execution_count": 10,
   "metadata": {},
   "outputs": [
    {
     "data": {
      "text/html": [
       "<html><script type=\"math/tex; mode=display\">\\newcommand{\\Bold}[1]{\\mathbf{#1}}\\verb|['up',|\\phantom{\\verb!x!}\\verb|'down']|\\phantom{\\verb!x!}\\verb|Tetrad|\\phantom{\\verb!x!}\\verb|index|\\phantom{\\verb!x!}\\verb|family|\\phantom{\\verb!x!}\\verb|of|\\phantom{\\verb!x!}\\verb|scalar|\\phantom{\\verb!x!}\\verb|fields|\\phantom{\\verb!x!}\\verb|on|\\phantom{\\verb!x!}\\verb|M|\\phantom{\\verb!x!}\\verb|with|\\phantom{\\verb!x!}\\verb|respect|\\phantom{\\verb!x!}\\verb|to|\\phantom{\\verb!x!}\\verb|the|\\phantom{\\verb!x!}\\verb|tetrad|\\phantom{\\verb!x!}\\verb|frame|\\phantom{\\verb!x!}\\verb|Vector|\\phantom{\\verb!x!}\\verb|frame|\\phantom{\\verb!x!}\\verb|(M,|\\phantom{\\verb!x!}\\verb|(e_0,e_1,e_2,e_3))|</script></html>"
      ],
      "text/latex": [
       "$$\\newcommand{\\Bold}[1]{\\mathbf{#1}}\\verb|['up',|\\phantom{\\verb!x!}\\verb|'down']|\\phantom{\\verb!x!}\\verb|Tetrad|\\phantom{\\verb!x!}\\verb|index|\\phantom{\\verb!x!}\\verb|family|\\phantom{\\verb!x!}\\verb|of|\\phantom{\\verb!x!}\\verb|scalar|\\phantom{\\verb!x!}\\verb|fields|\\phantom{\\verb!x!}\\verb|on|\\phantom{\\verb!x!}\\verb|M|\\phantom{\\verb!x!}\\verb|with|\\phantom{\\verb!x!}\\verb|respect|\\phantom{\\verb!x!}\\verb|to|\\phantom{\\verb!x!}\\verb|the|\\phantom{\\verb!x!}\\verb|tetrad|\\phantom{\\verb!x!}\\verb|frame|\\phantom{\\verb!x!}\\verb|Vector|\\phantom{\\verb!x!}\\verb|frame|\\phantom{\\verb!x!}\\verb|(M,|\\phantom{\\verb!x!}\\verb|(e_0,e_1,e_2,e_3))|$$"
      ],
      "text/plain": [
       "['up', 'down'] Tetrad index family of scalar fields on M with respect to the tetrad frame Vector frame (M, (e_0,e_1,e_2,e_3))"
      ]
     },
     "execution_count": 10,
     "metadata": {},
     "output_type": "execute_result"
    }
   ],
   "source": [
    "S3*S1"
   ]
  },
  {
   "cell_type": "markdown",
   "metadata": {},
   "source": [
    "Product with a scalar field $s$ $ \\cdot $ : $sS_{1 \\ \\ (b)}^{(a)}$"
   ]
  },
  {
   "cell_type": "code",
   "execution_count": 11,
   "metadata": {},
   "outputs": [
    {
     "data": {
      "text/html": [
       "<html><script type=\"math/tex; mode=display\">\\newcommand{\\Bold}[1]{\\mathbf{#1}}\\verb|['up',|\\phantom{\\verb!x!}\\verb|'down']|\\phantom{\\verb!x!}\\verb|Tetrad|\\phantom{\\verb!x!}\\verb|index|\\phantom{\\verb!x!}\\verb|family|\\phantom{\\verb!x!}\\verb|of|\\phantom{\\verb!x!}\\verb|scalar|\\phantom{\\verb!x!}\\verb|fields|\\phantom{\\verb!x!}\\verb|on|\\phantom{\\verb!x!}\\verb|M|\\phantom{\\verb!x!}\\verb|with|\\phantom{\\verb!x!}\\verb|respect|\\phantom{\\verb!x!}\\verb|to|\\phantom{\\verb!x!}\\verb|the|\\phantom{\\verb!x!}\\verb|tetrad|\\phantom{\\verb!x!}\\verb|frame|\\phantom{\\verb!x!}\\verb|Vector|\\phantom{\\verb!x!}\\verb|frame|\\phantom{\\verb!x!}\\verb|(M,|\\phantom{\\verb!x!}\\verb|(e_0,e_1,e_2,e_3))|</script></html>"
      ],
      "text/latex": [
       "$$\\newcommand{\\Bold}[1]{\\mathbf{#1}}\\verb|['up',|\\phantom{\\verb!x!}\\verb|'down']|\\phantom{\\verb!x!}\\verb|Tetrad|\\phantom{\\verb!x!}\\verb|index|\\phantom{\\verb!x!}\\verb|family|\\phantom{\\verb!x!}\\verb|of|\\phantom{\\verb!x!}\\verb|scalar|\\phantom{\\verb!x!}\\verb|fields|\\phantom{\\verb!x!}\\verb|on|\\phantom{\\verb!x!}\\verb|M|\\phantom{\\verb!x!}\\verb|with|\\phantom{\\verb!x!}\\verb|respect|\\phantom{\\verb!x!}\\verb|to|\\phantom{\\verb!x!}\\verb|the|\\phantom{\\verb!x!}\\verb|tetrad|\\phantom{\\verb!x!}\\verb|frame|\\phantom{\\verb!x!}\\verb|Vector|\\phantom{\\verb!x!}\\verb|frame|\\phantom{\\verb!x!}\\verb|(M,|\\phantom{\\verb!x!}\\verb|(e_0,e_1,e_2,e_3))|$$"
      ],
      "text/plain": [
       "['up', 'down'] Tetrad index family of scalar fields on M with respect to the tetrad frame Vector frame (M, (e_0,e_1,e_2,e_3))"
      ]
     },
     "execution_count": 11,
     "metadata": {},
     "output_type": "execute_result"
    }
   ],
   "source": [
    "sc*S1"
   ]
  },
  {
   "cell_type": "markdown",
   "metadata": {},
   "source": [
    "Product with a generic expression : $(i\\sin\\theta) S_{1 \\ \\ (b)}^{(a)}$"
   ]
  },
  {
   "cell_type": "code",
   "execution_count": 12,
   "metadata": {},
   "outputs": [
    {
     "data": {
      "text/html": [
       "<html><script type=\"math/tex; mode=display\">\\newcommand{\\Bold}[1]{\\mathbf{#1}}\\verb|['up',|\\phantom{\\verb!x!}\\verb|'down']|\\phantom{\\verb!x!}\\verb|Tetrad|\\phantom{\\verb!x!}\\verb|index|\\phantom{\\verb!x!}\\verb|family|\\phantom{\\verb!x!}\\verb|of|\\phantom{\\verb!x!}\\verb|scalar|\\phantom{\\verb!x!}\\verb|fields|\\phantom{\\verb!x!}\\verb|on|\\phantom{\\verb!x!}\\verb|M|\\phantom{\\verb!x!}\\verb|with|\\phantom{\\verb!x!}\\verb|respect|\\phantom{\\verb!x!}\\verb|to|\\phantom{\\verb!x!}\\verb|the|\\phantom{\\verb!x!}\\verb|tetrad|\\phantom{\\verb!x!}\\verb|frame|\\phantom{\\verb!x!}\\verb|Vector|\\phantom{\\verb!x!}\\verb|frame|\\phantom{\\verb!x!}\\verb|(M,|\\phantom{\\verb!x!}\\verb|(e_0,e_1,e_2,e_3))|</script></html>"
      ],
      "text/latex": [
       "$$\\newcommand{\\Bold}[1]{\\mathbf{#1}}\\verb|['up',|\\phantom{\\verb!x!}\\verb|'down']|\\phantom{\\verb!x!}\\verb|Tetrad|\\phantom{\\verb!x!}\\verb|index|\\phantom{\\verb!x!}\\verb|family|\\phantom{\\verb!x!}\\verb|of|\\phantom{\\verb!x!}\\verb|scalar|\\phantom{\\verb!x!}\\verb|fields|\\phantom{\\verb!x!}\\verb|on|\\phantom{\\verb!x!}\\verb|M|\\phantom{\\verb!x!}\\verb|with|\\phantom{\\verb!x!}\\verb|respect|\\phantom{\\verb!x!}\\verb|to|\\phantom{\\verb!x!}\\verb|the|\\phantom{\\verb!x!}\\verb|tetrad|\\phantom{\\verb!x!}\\verb|frame|\\phantom{\\verb!x!}\\verb|Vector|\\phantom{\\verb!x!}\\verb|frame|\\phantom{\\verb!x!}\\verb|(M,|\\phantom{\\verb!x!}\\verb|(e_0,e_1,e_2,e_3))|$$"
      ],
      "text/plain": [
       "['up', 'down'] Tetrad index family of scalar fields on M with respect to the tetrad frame Vector frame (M, (e_0,e_1,e_2,e_3))"
      ]
     },
     "execution_count": 12,
     "metadata": {},
     "output_type": "execute_result"
    }
   ],
   "source": [
    "I*sin(th)*S1"
   ]
  },
  {
   "cell_type": "markdown",
   "metadata": {},
   "source": [
    "Scalar with tindices multiplied with a tensor: $S_{1 \\ \\ (b)}^{(c)}\\gamma^{(0)}$"
   ]
  },
  {
   "cell_type": "code",
   "execution_count": 13,
   "metadata": {},
   "outputs": [
    {
     "data": {
      "text/html": [
       "<html><script type=\"math/tex; mode=display\">\\newcommand{\\Bold}[1]{\\mathbf{#1}}\\verb|['up',|\\phantom{\\verb!x!}\\verb|'down']|\\phantom{\\verb!x!}\\verb|Tetrad|\\phantom{\\verb!x!}\\verb|index|\\phantom{\\verb!x!}\\verb|family|\\phantom{\\verb!x!}\\verb|of|\\phantom{\\verb!x!}\\verb|Tensors|\\phantom{\\verb!x!}\\verb|(1,|\\phantom{\\verb!x!}\\verb|1)|\\phantom{\\verb!x!}\\verb|on|\\phantom{\\verb!x!}\\verb|the|\\phantom{\\verb!x!}\\verb|spin|\\phantom{\\verb!x!}\\verb|bundle|\\phantom{\\verb!x!}\\verb|section|\\phantom{\\verb!x!}\\verb|module|\\phantom{\\verb!x!}\\verb|with|\\phantom{\\verb!x!}\\verb|respect|\\phantom{\\verb!x!}\\verb|to|\\phantom{\\verb!x!}\\verb|the|\\phantom{\\verb!x!}\\verb|tetrad|\\phantom{\\verb!x!}\\verb|frame|\\phantom{\\verb!x!}\\verb|Vector|\\phantom{\\verb!x!}\\verb|frame|\\phantom{\\verb!x!}\\verb|(M,|\\phantom{\\verb!x!}\\verb|(e_0,e_1,e_2,e_3))|</script></html>"
      ],
      "text/latex": [
       "$$\\newcommand{\\Bold}[1]{\\mathbf{#1}}\\verb|['up',|\\phantom{\\verb!x!}\\verb|'down']|\\phantom{\\verb!x!}\\verb|Tetrad|\\phantom{\\verb!x!}\\verb|index|\\phantom{\\verb!x!}\\verb|family|\\phantom{\\verb!x!}\\verb|of|\\phantom{\\verb!x!}\\verb|Tensors|\\phantom{\\verb!x!}\\verb|(1,|\\phantom{\\verb!x!}\\verb|1)|\\phantom{\\verb!x!}\\verb|on|\\phantom{\\verb!x!}\\verb|the|\\phantom{\\verb!x!}\\verb|spin|\\phantom{\\verb!x!}\\verb|bundle|\\phantom{\\verb!x!}\\verb|section|\\phantom{\\verb!x!}\\verb|module|\\phantom{\\verb!x!}\\verb|with|\\phantom{\\verb!x!}\\verb|respect|\\phantom{\\verb!x!}\\verb|to|\\phantom{\\verb!x!}\\verb|the|\\phantom{\\verb!x!}\\verb|tetrad|\\phantom{\\verb!x!}\\verb|frame|\\phantom{\\verb!x!}\\verb|Vector|\\phantom{\\verb!x!}\\verb|frame|\\phantom{\\verb!x!}\\verb|(M,|\\phantom{\\verb!x!}\\verb|(e_0,e_1,e_2,e_3))|$$"
      ],
      "text/plain": [
       "['up', 'down'] Tetrad index family of Tensors (1, 1) on the spin bundle section module with respect to the tetrad frame Vector frame (M, (e_0,e_1,e_2,e_3))"
      ]
     },
     "execution_count": 13,
     "metadata": {},
     "output_type": "execute_result"
    }
   ],
   "source": [
    "S1*Gamma[0]"
   ]
  },
  {
   "cell_type": "markdown",
   "metadata": {},
   "source": [
    "Scalar with tindices multiplied with a tensor with  zero tindices (tensor prod. of tindices): $S_{1 \\ \\ (b)}^{(c)}T_{3}$"
   ]
  },
  {
   "cell_type": "code",
   "execution_count": 14,
   "metadata": {},
   "outputs": [
    {
     "data": {
      "text/html": [
       "<html><script type=\"math/tex; mode=display\">\\newcommand{\\Bold}[1]{\\mathbf{#1}}\\verb|['up',|\\phantom{\\verb!x!}\\verb|'down']|\\phantom{\\verb!x!}\\verb|Tetrad|\\phantom{\\verb!x!}\\verb|index|\\phantom{\\verb!x!}\\verb|family|\\phantom{\\verb!x!}\\verb|of|\\phantom{\\verb!x!}\\verb|Tensors|\\phantom{\\verb!x!}\\verb|(1,|\\phantom{\\verb!x!}\\verb|1)|\\phantom{\\verb!x!}\\verb|on|\\phantom{\\verb!x!}\\verb|the|\\phantom{\\verb!x!}\\verb|spin|\\phantom{\\verb!x!}\\verb|bundle|\\phantom{\\verb!x!}\\verb|section|\\phantom{\\verb!x!}\\verb|module|\\phantom{\\verb!x!}\\verb|with|\\phantom{\\verb!x!}\\verb|respect|\\phantom{\\verb!x!}\\verb|to|\\phantom{\\verb!x!}\\verb|the|\\phantom{\\verb!x!}\\verb|tetrad|\\phantom{\\verb!x!}\\verb|frame|\\phantom{\\verb!x!}\\verb|Vector|\\phantom{\\verb!x!}\\verb|frame|\\phantom{\\verb!x!}\\verb|(M,|\\phantom{\\verb!x!}\\verb|(e_0,e_1,e_2,e_3))|</script></html>"
      ],
      "text/latex": [
       "$$\\newcommand{\\Bold}[1]{\\mathbf{#1}}\\verb|['up',|\\phantom{\\verb!x!}\\verb|'down']|\\phantom{\\verb!x!}\\verb|Tetrad|\\phantom{\\verb!x!}\\verb|index|\\phantom{\\verb!x!}\\verb|family|\\phantom{\\verb!x!}\\verb|of|\\phantom{\\verb!x!}\\verb|Tensors|\\phantom{\\verb!x!}\\verb|(1,|\\phantom{\\verb!x!}\\verb|1)|\\phantom{\\verb!x!}\\verb|on|\\phantom{\\verb!x!}\\verb|the|\\phantom{\\verb!x!}\\verb|spin|\\phantom{\\verb!x!}\\verb|bundle|\\phantom{\\verb!x!}\\verb|section|\\phantom{\\verb!x!}\\verb|module|\\phantom{\\verb!x!}\\verb|with|\\phantom{\\verb!x!}\\verb|respect|\\phantom{\\verb!x!}\\verb|to|\\phantom{\\verb!x!}\\verb|the|\\phantom{\\verb!x!}\\verb|tetrad|\\phantom{\\verb!x!}\\verb|frame|\\phantom{\\verb!x!}\\verb|Vector|\\phantom{\\verb!x!}\\verb|frame|\\phantom{\\verb!x!}\\verb|(M,|\\phantom{\\verb!x!}\\verb|(e_0,e_1,e_2,e_3))|$$"
      ],
      "text/plain": [
       "['up', 'down'] Tetrad index family of Tensors (1, 1) on the spin bundle section module with respect to the tetrad frame Vector frame (M, (e_0,e_1,e_2,e_3))"
      ]
     },
     "execution_count": 14,
     "metadata": {},
     "output_type": "execute_result"
    }
   ],
   "source": [
    "S1*T3"
   ]
  },
  {
   "cell_type": "markdown",
   "metadata": {},
   "source": [
    "Scalar with tindices multiplied with a tensor with tindices (tensor prod. of tindices): $S_{2 (a)}^{ \\quad (b)}T_{1 \\ \\ (c)}^{(d)}$"
   ]
  },
  {
   "cell_type": "code",
   "execution_count": 15,
   "metadata": {},
   "outputs": [
    {
     "data": {
      "text/html": [
       "<html><script type=\"math/tex; mode=display\">\\newcommand{\\Bold}[1]{\\mathbf{#1}}\\verb|['down',|\\phantom{\\verb!x!}\\verb|'up',|\\phantom{\\verb!x!}\\verb|'up',|\\phantom{\\verb!x!}\\verb|'down']|\\phantom{\\verb!x!}\\verb|Tetrad|\\phantom{\\verb!x!}\\verb|index|\\phantom{\\verb!x!}\\verb|family|\\phantom{\\verb!x!}\\verb|of|\\phantom{\\verb!x!}\\verb|Tensors|\\phantom{\\verb!x!}\\verb|(1,|\\phantom{\\verb!x!}\\verb|1)|\\phantom{\\verb!x!}\\verb|on|\\phantom{\\verb!x!}\\verb|the|\\phantom{\\verb!x!}\\verb|spin|\\phantom{\\verb!x!}\\verb|bundle|\\phantom{\\verb!x!}\\verb|section|\\phantom{\\verb!x!}\\verb|module|\\phantom{\\verb!x!}\\verb|with|\\phantom{\\verb!x!}\\verb|respect|\\phantom{\\verb!x!}\\verb|to|\\phantom{\\verb!x!}\\verb|the|\\phantom{\\verb!x!}\\verb|tetrad|\\phantom{\\verb!x!}\\verb|frame|\\phantom{\\verb!x!}\\verb|Vector|\\phantom{\\verb!x!}\\verb|frame|\\phantom{\\verb!x!}\\verb|(M,|\\phantom{\\verb!x!}\\verb|(e_0,e_1,e_2,e_3))|</script></html>"
      ],
      "text/latex": [
       "$$\\newcommand{\\Bold}[1]{\\mathbf{#1}}\\verb|['down',|\\phantom{\\verb!x!}\\verb|'up',|\\phantom{\\verb!x!}\\verb|'up',|\\phantom{\\verb!x!}\\verb|'down']|\\phantom{\\verb!x!}\\verb|Tetrad|\\phantom{\\verb!x!}\\verb|index|\\phantom{\\verb!x!}\\verb|family|\\phantom{\\verb!x!}\\verb|of|\\phantom{\\verb!x!}\\verb|Tensors|\\phantom{\\verb!x!}\\verb|(1,|\\phantom{\\verb!x!}\\verb|1)|\\phantom{\\verb!x!}\\verb|on|\\phantom{\\verb!x!}\\verb|the|\\phantom{\\verb!x!}\\verb|spin|\\phantom{\\verb!x!}\\verb|bundle|\\phantom{\\verb!x!}\\verb|section|\\phantom{\\verb!x!}\\verb|module|\\phantom{\\verb!x!}\\verb|with|\\phantom{\\verb!x!}\\verb|respect|\\phantom{\\verb!x!}\\verb|to|\\phantom{\\verb!x!}\\verb|the|\\phantom{\\verb!x!}\\verb|tetrad|\\phantom{\\verb!x!}\\verb|frame|\\phantom{\\verb!x!}\\verb|Vector|\\phantom{\\verb!x!}\\verb|frame|\\phantom{\\verb!x!}\\verb|(M,|\\phantom{\\verb!x!}\\verb|(e_0,e_1,e_2,e_3))|$$"
      ],
      "text/plain": [
       "['down', 'up', 'up', 'down'] Tetrad index family of Tensors (1, 1) on the spin bundle section module with respect to the tetrad frame Vector frame (M, (e_0,e_1,e_2,e_3))"
      ]
     },
     "execution_count": 15,
     "metadata": {},
     "output_type": "execute_result"
    }
   ],
   "source": [
    "S2*T1"
   ]
  },
  {
   "cell_type": "markdown",
   "metadata": {},
   "source": [
    "Full tensor product $\\otimes$ between spinor tensors and tindices: $T_{1 \\ \\ (b)}^{(a)} \\otimes T_{2 (c)(d)}$"
   ]
  },
  {
   "cell_type": "code",
   "execution_count": 16,
   "metadata": {},
   "outputs": [
    {
     "data": {
      "text/html": [
       "<html><script type=\"math/tex; mode=display\">\\newcommand{\\Bold}[1]{\\mathbf{#1}}\\verb|['up',|\\phantom{\\verb!x!}\\verb|'down',|\\phantom{\\verb!x!}\\verb|'down',|\\phantom{\\verb!x!}\\verb|'down']|\\phantom{\\verb!x!}\\verb|Tetrad|\\phantom{\\verb!x!}\\verb|index|\\phantom{\\verb!x!}\\verb|family|\\phantom{\\verb!x!}\\verb|of|\\phantom{\\verb!x!}\\verb|Tensors|\\phantom{\\verb!x!}\\verb|(2,|\\phantom{\\verb!x!}\\verb|3)|\\phantom{\\verb!x!}\\verb|on|\\phantom{\\verb!x!}\\verb|the|\\phantom{\\verb!x!}\\verb|spin|\\phantom{\\verb!x!}\\verb|bundle|\\phantom{\\verb!x!}\\verb|section|\\phantom{\\verb!x!}\\verb|module|\\phantom{\\verb!x!}\\verb|with|\\phantom{\\verb!x!}\\verb|respect|\\phantom{\\verb!x!}\\verb|to|\\phantom{\\verb!x!}\\verb|the|\\phantom{\\verb!x!}\\verb|tetrad|\\phantom{\\verb!x!}\\verb|frame|\\phantom{\\verb!x!}\\verb|Vector|\\phantom{\\verb!x!}\\verb|frame|\\phantom{\\verb!x!}\\verb|(M,|\\phantom{\\verb!x!}\\verb|(e_0,e_1,e_2,e_3))|</script></html>"
      ],
      "text/latex": [
       "$$\\newcommand{\\Bold}[1]{\\mathbf{#1}}\\verb|['up',|\\phantom{\\verb!x!}\\verb|'down',|\\phantom{\\verb!x!}\\verb|'down',|\\phantom{\\verb!x!}\\verb|'down']|\\phantom{\\verb!x!}\\verb|Tetrad|\\phantom{\\verb!x!}\\verb|index|\\phantom{\\verb!x!}\\verb|family|\\phantom{\\verb!x!}\\verb|of|\\phantom{\\verb!x!}\\verb|Tensors|\\phantom{\\verb!x!}\\verb|(2,|\\phantom{\\verb!x!}\\verb|3)|\\phantom{\\verb!x!}\\verb|on|\\phantom{\\verb!x!}\\verb|the|\\phantom{\\verb!x!}\\verb|spin|\\phantom{\\verb!x!}\\verb|bundle|\\phantom{\\verb!x!}\\verb|section|\\phantom{\\verb!x!}\\verb|module|\\phantom{\\verb!x!}\\verb|with|\\phantom{\\verb!x!}\\verb|respect|\\phantom{\\verb!x!}\\verb|to|\\phantom{\\verb!x!}\\verb|the|\\phantom{\\verb!x!}\\verb|tetrad|\\phantom{\\verb!x!}\\verb|frame|\\phantom{\\verb!x!}\\verb|Vector|\\phantom{\\verb!x!}\\verb|frame|\\phantom{\\verb!x!}\\verb|(M,|\\phantom{\\verb!x!}\\verb|(e_0,e_1,e_2,e_3))|$$"
      ],
      "text/plain": [
       "['up', 'down', 'down', 'down'] Tetrad index family of Tensors (2, 3) on the spin bundle section module with respect to the tetrad frame Vector frame (M, (e_0,e_1,e_2,e_3))"
      ]
     },
     "execution_count": 16,
     "metadata": {},
     "output_type": "execute_result"
    }
   ],
   "source": [
    "T1*T2"
   ]
  },
  {
   "cell_type": "markdown",
   "metadata": {},
   "source": [
    "Tensor product between spinor tensor with no tindices and spinor tensor with tindices: $T_{3} \\otimes T_{1 \\ \\ (b)}^{(a)}$"
   ]
  },
  {
   "cell_type": "code",
   "execution_count": 17,
   "metadata": {},
   "outputs": [
    {
     "data": {
      "text/html": [
       "<html><script type=\"math/tex; mode=display\">\\newcommand{\\Bold}[1]{\\mathbf{#1}}\\verb|['up',|\\phantom{\\verb!x!}\\verb|'down']|\\phantom{\\verb!x!}\\verb|Tetrad|\\phantom{\\verb!x!}\\verb|index|\\phantom{\\verb!x!}\\verb|family|\\phantom{\\verb!x!}\\verb|of|\\phantom{\\verb!x!}\\verb|Tensors|\\phantom{\\verb!x!}\\verb|(2,|\\phantom{\\verb!x!}\\verb|2)|\\phantom{\\verb!x!}\\verb|on|\\phantom{\\verb!x!}\\verb|the|\\phantom{\\verb!x!}\\verb|spin|\\phantom{\\verb!x!}\\verb|bundle|\\phantom{\\verb!x!}\\verb|section|\\phantom{\\verb!x!}\\verb|module|\\phantom{\\verb!x!}\\verb|with|\\phantom{\\verb!x!}\\verb|respect|\\phantom{\\verb!x!}\\verb|to|\\phantom{\\verb!x!}\\verb|the|\\phantom{\\verb!x!}\\verb|tetrad|\\phantom{\\verb!x!}\\verb|frame|\\phantom{\\verb!x!}\\verb|Vector|\\phantom{\\verb!x!}\\verb|frame|\\phantom{\\verb!x!}\\verb|(M,|\\phantom{\\verb!x!}\\verb|(e_0,e_1,e_2,e_3))|</script></html>"
      ],
      "text/latex": [
       "$$\\newcommand{\\Bold}[1]{\\mathbf{#1}}\\verb|['up',|\\phantom{\\verb!x!}\\verb|'down']|\\phantom{\\verb!x!}\\verb|Tetrad|\\phantom{\\verb!x!}\\verb|index|\\phantom{\\verb!x!}\\verb|family|\\phantom{\\verb!x!}\\verb|of|\\phantom{\\verb!x!}\\verb|Tensors|\\phantom{\\verb!x!}\\verb|(2,|\\phantom{\\verb!x!}\\verb|2)|\\phantom{\\verb!x!}\\verb|on|\\phantom{\\verb!x!}\\verb|the|\\phantom{\\verb!x!}\\verb|spin|\\phantom{\\verb!x!}\\verb|bundle|\\phantom{\\verb!x!}\\verb|section|\\phantom{\\verb!x!}\\verb|module|\\phantom{\\verb!x!}\\verb|with|\\phantom{\\verb!x!}\\verb|respect|\\phantom{\\verb!x!}\\verb|to|\\phantom{\\verb!x!}\\verb|the|\\phantom{\\verb!x!}\\verb|tetrad|\\phantom{\\verb!x!}\\verb|frame|\\phantom{\\verb!x!}\\verb|Vector|\\phantom{\\verb!x!}\\verb|frame|\\phantom{\\verb!x!}\\verb|(M,|\\phantom{\\verb!x!}\\verb|(e_0,e_1,e_2,e_3))|$$"
      ],
      "text/plain": [
       "['up', 'down'] Tetrad index family of Tensors (2, 2) on the spin bundle section module with respect to the tetrad frame Vector frame (M, (e_0,e_1,e_2,e_3))"
      ]
     },
     "execution_count": 17,
     "metadata": {},
     "output_type": "execute_result"
    }
   ],
   "source": [
    "T3*T1"
   ]
  },
  {
   "cell_type": "code",
   "execution_count": 18,
   "metadata": {},
   "outputs": [],
   "source": [
    "#Gamma[0]*T1*Gamma[0] #error"
   ]
  },
  {
   "cell_type": "markdown",
   "metadata": {},
   "source": [
    "Product with a scalar field $s$ $ \\cdot $ : $sT_{1 \\ \\ (b)}^{(a)}$"
   ]
  },
  {
   "cell_type": "code",
   "execution_count": 19,
   "metadata": {},
   "outputs": [
    {
     "data": {
      "text/html": [
       "<html><script type=\"math/tex; mode=display\">\\newcommand{\\Bold}[1]{\\mathbf{#1}}\\verb|['up',|\\phantom{\\verb!x!}\\verb|'down']|\\phantom{\\verb!x!}\\verb|Tetrad|\\phantom{\\verb!x!}\\verb|index|\\phantom{\\verb!x!}\\verb|family|\\phantom{\\verb!x!}\\verb|of|\\phantom{\\verb!x!}\\verb|Tensors|\\phantom{\\verb!x!}\\verb|(1,|\\phantom{\\verb!x!}\\verb|1)|\\phantom{\\verb!x!}\\verb|on|\\phantom{\\verb!x!}\\verb|the|\\phantom{\\verb!x!}\\verb|spin|\\phantom{\\verb!x!}\\verb|bundle|\\phantom{\\verb!x!}\\verb|section|\\phantom{\\verb!x!}\\verb|module|\\phantom{\\verb!x!}\\verb|with|\\phantom{\\verb!x!}\\verb|respect|\\phantom{\\verb!x!}\\verb|to|\\phantom{\\verb!x!}\\verb|the|\\phantom{\\verb!x!}\\verb|tetrad|\\phantom{\\verb!x!}\\verb|frame|\\phantom{\\verb!x!}\\verb|Vector|\\phantom{\\verb!x!}\\verb|frame|\\phantom{\\verb!x!}\\verb|(M,|\\phantom{\\verb!x!}\\verb|(e_0,e_1,e_2,e_3))|</script></html>"
      ],
      "text/latex": [
       "$$\\newcommand{\\Bold}[1]{\\mathbf{#1}}\\verb|['up',|\\phantom{\\verb!x!}\\verb|'down']|\\phantom{\\verb!x!}\\verb|Tetrad|\\phantom{\\verb!x!}\\verb|index|\\phantom{\\verb!x!}\\verb|family|\\phantom{\\verb!x!}\\verb|of|\\phantom{\\verb!x!}\\verb|Tensors|\\phantom{\\verb!x!}\\verb|(1,|\\phantom{\\verb!x!}\\verb|1)|\\phantom{\\verb!x!}\\verb|on|\\phantom{\\verb!x!}\\verb|the|\\phantom{\\verb!x!}\\verb|spin|\\phantom{\\verb!x!}\\verb|bundle|\\phantom{\\verb!x!}\\verb|section|\\phantom{\\verb!x!}\\verb|module|\\phantom{\\verb!x!}\\verb|with|\\phantom{\\verb!x!}\\verb|respect|\\phantom{\\verb!x!}\\verb|to|\\phantom{\\verb!x!}\\verb|the|\\phantom{\\verb!x!}\\verb|tetrad|\\phantom{\\verb!x!}\\verb|frame|\\phantom{\\verb!x!}\\verb|Vector|\\phantom{\\verb!x!}\\verb|frame|\\phantom{\\verb!x!}\\verb|(M,|\\phantom{\\verb!x!}\\verb|(e_0,e_1,e_2,e_3))|$$"
      ],
      "text/plain": [
       "['up', 'down'] Tetrad index family of Tensors (1, 1) on the spin bundle section module with respect to the tetrad frame Vector frame (M, (e_0,e_1,e_2,e_3))"
      ]
     },
     "execution_count": 19,
     "metadata": {},
     "output_type": "execute_result"
    }
   ],
   "source": [
    "sc*T1"
   ]
  },
  {
   "cell_type": "markdown",
   "metadata": {},
   "source": [
    "Product with a generic expression : $(i\\sin\\theta) T_{1 \\ \\ (b)}^{(a)}$"
   ]
  },
  {
   "cell_type": "code",
   "execution_count": 20,
   "metadata": {},
   "outputs": [
    {
     "data": {
      "text/html": [
       "<html><script type=\"math/tex; mode=display\">\\newcommand{\\Bold}[1]{\\mathbf{#1}}\\verb|['up',|\\phantom{\\verb!x!}\\verb|'down']|\\phantom{\\verb!x!}\\verb|Tetrad|\\phantom{\\verb!x!}\\verb|index|\\phantom{\\verb!x!}\\verb|family|\\phantom{\\verb!x!}\\verb|of|\\phantom{\\verb!x!}\\verb|Tensors|\\phantom{\\verb!x!}\\verb|(1,|\\phantom{\\verb!x!}\\verb|1)|\\phantom{\\verb!x!}\\verb|on|\\phantom{\\verb!x!}\\verb|the|\\phantom{\\verb!x!}\\verb|spin|\\phantom{\\verb!x!}\\verb|bundle|\\phantom{\\verb!x!}\\verb|section|\\phantom{\\verb!x!}\\verb|module|\\phantom{\\verb!x!}\\verb|with|\\phantom{\\verb!x!}\\verb|respect|\\phantom{\\verb!x!}\\verb|to|\\phantom{\\verb!x!}\\verb|the|\\phantom{\\verb!x!}\\verb|tetrad|\\phantom{\\verb!x!}\\verb|frame|\\phantom{\\verb!x!}\\verb|Vector|\\phantom{\\verb!x!}\\verb|frame|\\phantom{\\verb!x!}\\verb|(M,|\\phantom{\\verb!x!}\\verb|(e_0,e_1,e_2,e_3))|</script></html>"
      ],
      "text/latex": [
       "$$\\newcommand{\\Bold}[1]{\\mathbf{#1}}\\verb|['up',|\\phantom{\\verb!x!}\\verb|'down']|\\phantom{\\verb!x!}\\verb|Tetrad|\\phantom{\\verb!x!}\\verb|index|\\phantom{\\verb!x!}\\verb|family|\\phantom{\\verb!x!}\\verb|of|\\phantom{\\verb!x!}\\verb|Tensors|\\phantom{\\verb!x!}\\verb|(1,|\\phantom{\\verb!x!}\\verb|1)|\\phantom{\\verb!x!}\\verb|on|\\phantom{\\verb!x!}\\verb|the|\\phantom{\\verb!x!}\\verb|spin|\\phantom{\\verb!x!}\\verb|bundle|\\phantom{\\verb!x!}\\verb|section|\\phantom{\\verb!x!}\\verb|module|\\phantom{\\verb!x!}\\verb|with|\\phantom{\\verb!x!}\\verb|respect|\\phantom{\\verb!x!}\\verb|to|\\phantom{\\verb!x!}\\verb|the|\\phantom{\\verb!x!}\\verb|tetrad|\\phantom{\\verb!x!}\\verb|frame|\\phantom{\\verb!x!}\\verb|Vector|\\phantom{\\verb!x!}\\verb|frame|\\phantom{\\verb!x!}\\verb|(M,|\\phantom{\\verb!x!}\\verb|(e_0,e_1,e_2,e_3))|$$"
      ],
      "text/plain": [
       "['up', 'down'] Tetrad index family of Tensors (1, 1) on the spin bundle section module with respect to the tetrad frame Vector frame (M, (e_0,e_1,e_2,e_3))"
      ]
     },
     "execution_count": 20,
     "metadata": {},
     "output_type": "execute_result"
    }
   ],
   "source": [
    "(I*sin(th))*T1"
   ]
  },
  {
   "cell_type": "markdown",
   "metadata": {},
   "source": [
    "## Test of Matrix multiplication $\\cdot$ (@) (tensor product $\\otimes$ of tindices)"
   ]
  },
  {
   "cell_type": "markdown",
   "metadata": {},
   "source": [
    "Matrix multiplication (contraction on the last and first) between two spinor tensors (tensor product on tindices): $T_{1 \\ \\ (b)}^{(a)}\\cdot T_{2(c)(d)}$"
   ]
  },
  {
   "cell_type": "code",
   "execution_count": 21,
   "metadata": {},
   "outputs": [
    {
     "data": {
      "text/html": [
       "<html><script type=\"math/tex; mode=display\">\\newcommand{\\Bold}[1]{\\mathbf{#1}}\\verb|['up',|\\phantom{\\verb!x!}\\verb|'down',|\\phantom{\\verb!x!}\\verb|'down',|\\phantom{\\verb!x!}\\verb|'down']|\\phantom{\\verb!x!}\\verb|Tetrad|\\phantom{\\verb!x!}\\verb|index|\\phantom{\\verb!x!}\\verb|family|\\phantom{\\verb!x!}\\verb|of|\\phantom{\\verb!x!}\\verb|Tensors|\\phantom{\\verb!x!}\\verb|(1,|\\phantom{\\verb!x!}\\verb|2)|\\phantom{\\verb!x!}\\verb|on|\\phantom{\\verb!x!}\\verb|the|\\phantom{\\verb!x!}\\verb|spin|\\phantom{\\verb!x!}\\verb|bundle|\\phantom{\\verb!x!}\\verb|section|\\phantom{\\verb!x!}\\verb|module|\\phantom{\\verb!x!}\\verb|with|\\phantom{\\verb!x!}\\verb|respect|\\phantom{\\verb!x!}\\verb|to|\\phantom{\\verb!x!}\\verb|the|\\phantom{\\verb!x!}\\verb|tetrad|\\phantom{\\verb!x!}\\verb|frame|\\phantom{\\verb!x!}\\verb|Vector|\\phantom{\\verb!x!}\\verb|frame|\\phantom{\\verb!x!}\\verb|(M,|\\phantom{\\verb!x!}\\verb|(e_0,e_1,e_2,e_3))|</script></html>"
      ],
      "text/latex": [
       "$$\\newcommand{\\Bold}[1]{\\mathbf{#1}}\\verb|['up',|\\phantom{\\verb!x!}\\verb|'down',|\\phantom{\\verb!x!}\\verb|'down',|\\phantom{\\verb!x!}\\verb|'down']|\\phantom{\\verb!x!}\\verb|Tetrad|\\phantom{\\verb!x!}\\verb|index|\\phantom{\\verb!x!}\\verb|family|\\phantom{\\verb!x!}\\verb|of|\\phantom{\\verb!x!}\\verb|Tensors|\\phantom{\\verb!x!}\\verb|(1,|\\phantom{\\verb!x!}\\verb|2)|\\phantom{\\verb!x!}\\verb|on|\\phantom{\\verb!x!}\\verb|the|\\phantom{\\verb!x!}\\verb|spin|\\phantom{\\verb!x!}\\verb|bundle|\\phantom{\\verb!x!}\\verb|section|\\phantom{\\verb!x!}\\verb|module|\\phantom{\\verb!x!}\\verb|with|\\phantom{\\verb!x!}\\verb|respect|\\phantom{\\verb!x!}\\verb|to|\\phantom{\\verb!x!}\\verb|the|\\phantom{\\verb!x!}\\verb|tetrad|\\phantom{\\verb!x!}\\verb|frame|\\phantom{\\verb!x!}\\verb|Vector|\\phantom{\\verb!x!}\\verb|frame|\\phantom{\\verb!x!}\\verb|(M,|\\phantom{\\verb!x!}\\verb|(e_0,e_1,e_2,e_3))|$$"
      ],
      "text/plain": [
       "['up', 'down', 'down', 'down'] Tetrad index family of Tensors (1, 2) on the spin bundle section module with respect to the tetrad frame Vector frame (M, (e_0,e_1,e_2,e_3))"
      ]
     },
     "execution_count": 21,
     "metadata": {},
     "output_type": "execute_result"
    }
   ],
   "source": [
    "T1@T2 #non commutative"
   ]
  },
  {
   "cell_type": "markdown",
   "metadata": {},
   "source": [
    "Matrix multiplication (contraction on the last and first) with spinor tensor with zero tindices: $T_{3}\\cdot T_{1 \\ \\ (b)}^{(a)}$"
   ]
  },
  {
   "cell_type": "code",
   "execution_count": 22,
   "metadata": {},
   "outputs": [
    {
     "data": {
      "text/html": [
       "<html><script type=\"math/tex; mode=display\">\\newcommand{\\Bold}[1]{\\mathbf{#1}}\\verb|['up',|\\phantom{\\verb!x!}\\verb|'down']|\\phantom{\\verb!x!}\\verb|Tetrad|\\phantom{\\verb!x!}\\verb|index|\\phantom{\\verb!x!}\\verb|family|\\phantom{\\verb!x!}\\verb|of|\\phantom{\\verb!x!}\\verb|Tensors|\\phantom{\\verb!x!}\\verb|(1,|\\phantom{\\verb!x!}\\verb|1)|\\phantom{\\verb!x!}\\verb|on|\\phantom{\\verb!x!}\\verb|the|\\phantom{\\verb!x!}\\verb|spin|\\phantom{\\verb!x!}\\verb|bundle|\\phantom{\\verb!x!}\\verb|section|\\phantom{\\verb!x!}\\verb|module|\\phantom{\\verb!x!}\\verb|with|\\phantom{\\verb!x!}\\verb|respect|\\phantom{\\verb!x!}\\verb|to|\\phantom{\\verb!x!}\\verb|the|\\phantom{\\verb!x!}\\verb|tetrad|\\phantom{\\verb!x!}\\verb|frame|\\phantom{\\verb!x!}\\verb|Vector|\\phantom{\\verb!x!}\\verb|frame|\\phantom{\\verb!x!}\\verb|(M,|\\phantom{\\verb!x!}\\verb|(e_0,e_1,e_2,e_3))|</script></html>"
      ],
      "text/latex": [
       "$$\\newcommand{\\Bold}[1]{\\mathbf{#1}}\\verb|['up',|\\phantom{\\verb!x!}\\verb|'down']|\\phantom{\\verb!x!}\\verb|Tetrad|\\phantom{\\verb!x!}\\verb|index|\\phantom{\\verb!x!}\\verb|family|\\phantom{\\verb!x!}\\verb|of|\\phantom{\\verb!x!}\\verb|Tensors|\\phantom{\\verb!x!}\\verb|(1,|\\phantom{\\verb!x!}\\verb|1)|\\phantom{\\verb!x!}\\verb|on|\\phantom{\\verb!x!}\\verb|the|\\phantom{\\verb!x!}\\verb|spin|\\phantom{\\verb!x!}\\verb|bundle|\\phantom{\\verb!x!}\\verb|section|\\phantom{\\verb!x!}\\verb|module|\\phantom{\\verb!x!}\\verb|with|\\phantom{\\verb!x!}\\verb|respect|\\phantom{\\verb!x!}\\verb|to|\\phantom{\\verb!x!}\\verb|the|\\phantom{\\verb!x!}\\verb|tetrad|\\phantom{\\verb!x!}\\verb|frame|\\phantom{\\verb!x!}\\verb|Vector|\\phantom{\\verb!x!}\\verb|frame|\\phantom{\\verb!x!}\\verb|(M,|\\phantom{\\verb!x!}\\verb|(e_0,e_1,e_2,e_3))|$$"
      ],
      "text/plain": [
       "['up', 'down'] Tetrad index family of Tensors (1, 1) on the spin bundle section module with respect to the tetrad frame Vector frame (M, (e_0,e_1,e_2,e_3))"
      ]
     },
     "execution_count": 22,
     "metadata": {},
     "output_type": "execute_result"
    }
   ],
   "source": [
    "T3@T1 #non commutative"
   ]
  },
  {
   "cell_type": "markdown",
   "metadata": {},
   "source": [
    "Matrix multiplication (contraction on the last and first) with spinor tensor with no tindices: $\\gamma^{(0)}\\cdot T_{1 \\ \\ (b)}^{(a)}$"
   ]
  },
  {
   "cell_type": "code",
   "execution_count": 23,
   "metadata": {},
   "outputs": [
    {
     "data": {
      "text/html": [
       "<html><script type=\"math/tex; mode=display\">\\newcommand{\\Bold}[1]{\\mathbf{#1}}\\verb|['up',|\\phantom{\\verb!x!}\\verb|'down']|\\phantom{\\verb!x!}\\verb|Tetrad|\\phantom{\\verb!x!}\\verb|index|\\phantom{\\verb!x!}\\verb|family|\\phantom{\\verb!x!}\\verb|of|\\phantom{\\verb!x!}\\verb|Tensors|\\phantom{\\verb!x!}\\verb|(1,|\\phantom{\\verb!x!}\\verb|1)|\\phantom{\\verb!x!}\\verb|on|\\phantom{\\verb!x!}\\verb|the|\\phantom{\\verb!x!}\\verb|spin|\\phantom{\\verb!x!}\\verb|bundle|\\phantom{\\verb!x!}\\verb|section|\\phantom{\\verb!x!}\\verb|module|\\phantom{\\verb!x!}\\verb|with|\\phantom{\\verb!x!}\\verb|respect|\\phantom{\\verb!x!}\\verb|to|\\phantom{\\verb!x!}\\verb|the|\\phantom{\\verb!x!}\\verb|tetrad|\\phantom{\\verb!x!}\\verb|frame|\\phantom{\\verb!x!}\\verb|Vector|\\phantom{\\verb!x!}\\verb|frame|\\phantom{\\verb!x!}\\verb|(M,|\\phantom{\\verb!x!}\\verb|(e_0,e_1,e_2,e_3))|</script></html>"
      ],
      "text/latex": [
       "$$\\newcommand{\\Bold}[1]{\\mathbf{#1}}\\verb|['up',|\\phantom{\\verb!x!}\\verb|'down']|\\phantom{\\verb!x!}\\verb|Tetrad|\\phantom{\\verb!x!}\\verb|index|\\phantom{\\verb!x!}\\verb|family|\\phantom{\\verb!x!}\\verb|of|\\phantom{\\verb!x!}\\verb|Tensors|\\phantom{\\verb!x!}\\verb|(1,|\\phantom{\\verb!x!}\\verb|1)|\\phantom{\\verb!x!}\\verb|on|\\phantom{\\verb!x!}\\verb|the|\\phantom{\\verb!x!}\\verb|spin|\\phantom{\\verb!x!}\\verb|bundle|\\phantom{\\verb!x!}\\verb|section|\\phantom{\\verb!x!}\\verb|module|\\phantom{\\verb!x!}\\verb|with|\\phantom{\\verb!x!}\\verb|respect|\\phantom{\\verb!x!}\\verb|to|\\phantom{\\verb!x!}\\verb|the|\\phantom{\\verb!x!}\\verb|tetrad|\\phantom{\\verb!x!}\\verb|frame|\\phantom{\\verb!x!}\\verb|Vector|\\phantom{\\verb!x!}\\verb|frame|\\phantom{\\verb!x!}\\verb|(M,|\\phantom{\\verb!x!}\\verb|(e_0,e_1,e_2,e_3))|$$"
      ],
      "text/plain": [
       "['up', 'down'] Tetrad index family of Tensors (1, 1) on the spin bundle section module with respect to the tetrad frame Vector frame (M, (e_0,e_1,e_2,e_3))"
      ]
     },
     "execution_count": 23,
     "metadata": {},
     "output_type": "execute_result"
    }
   ],
   "source": [
    "T1@Gamma[0] #non commutative be careful Gamma[0]@T1 is wrong because it invokes methods of the class FreeModuleTensor improperly"
   ]
  },
  {
   "cell_type": "markdown",
   "metadata": {},
   "source": [
    "Matrix multiplication compatibility with scalars with tindices (tensor product of tindices): $S_{1 \\ \\ (a)}^{(b)}T_{1 \\ \\ (c)}^{(d)}$"
   ]
  },
  {
   "cell_type": "code",
   "execution_count": 24,
   "metadata": {},
   "outputs": [
    {
     "data": {
      "text/html": [
       "<html><script type=\"math/tex; mode=display\">\\newcommand{\\Bold}[1]{\\mathbf{#1}}\\verb|['up',|\\phantom{\\verb!x!}\\verb|'down',|\\phantom{\\verb!x!}\\verb|'up',|\\phantom{\\verb!x!}\\verb|'down']|\\phantom{\\verb!x!}\\verb|Tetrad|\\phantom{\\verb!x!}\\verb|index|\\phantom{\\verb!x!}\\verb|family|\\phantom{\\verb!x!}\\verb|of|\\phantom{\\verb!x!}\\verb|Tensors|\\phantom{\\verb!x!}\\verb|(1,|\\phantom{\\verb!x!}\\verb|1)|\\phantom{\\verb!x!}\\verb|on|\\phantom{\\verb!x!}\\verb|the|\\phantom{\\verb!x!}\\verb|spin|\\phantom{\\verb!x!}\\verb|bundle|\\phantom{\\verb!x!}\\verb|section|\\phantom{\\verb!x!}\\verb|module|\\phantom{\\verb!x!}\\verb|with|\\phantom{\\verb!x!}\\verb|respect|\\phantom{\\verb!x!}\\verb|to|\\phantom{\\verb!x!}\\verb|the|\\phantom{\\verb!x!}\\verb|tetrad|\\phantom{\\verb!x!}\\verb|frame|\\phantom{\\verb!x!}\\verb|Vector|\\phantom{\\verb!x!}\\verb|frame|\\phantom{\\verb!x!}\\verb|(M,|\\phantom{\\verb!x!}\\verb|(e_0,e_1,e_2,e_3))|</script></html>"
      ],
      "text/latex": [
       "$$\\newcommand{\\Bold}[1]{\\mathbf{#1}}\\verb|['up',|\\phantom{\\verb!x!}\\verb|'down',|\\phantom{\\verb!x!}\\verb|'up',|\\phantom{\\verb!x!}\\verb|'down']|\\phantom{\\verb!x!}\\verb|Tetrad|\\phantom{\\verb!x!}\\verb|index|\\phantom{\\verb!x!}\\verb|family|\\phantom{\\verb!x!}\\verb|of|\\phantom{\\verb!x!}\\verb|Tensors|\\phantom{\\verb!x!}\\verb|(1,|\\phantom{\\verb!x!}\\verb|1)|\\phantom{\\verb!x!}\\verb|on|\\phantom{\\verb!x!}\\verb|the|\\phantom{\\verb!x!}\\verb|spin|\\phantom{\\verb!x!}\\verb|bundle|\\phantom{\\verb!x!}\\verb|section|\\phantom{\\verb!x!}\\verb|module|\\phantom{\\verb!x!}\\verb|with|\\phantom{\\verb!x!}\\verb|respect|\\phantom{\\verb!x!}\\verb|to|\\phantom{\\verb!x!}\\verb|the|\\phantom{\\verb!x!}\\verb|tetrad|\\phantom{\\verb!x!}\\verb|frame|\\phantom{\\verb!x!}\\verb|Vector|\\phantom{\\verb!x!}\\verb|frame|\\phantom{\\verb!x!}\\verb|(M,|\\phantom{\\verb!x!}\\verb|(e_0,e_1,e_2,e_3))|$$"
      ],
      "text/plain": [
       "['up', 'down', 'up', 'down'] Tetrad index family of Tensors (1, 1) on the spin bundle section module with respect to the tetrad frame Vector frame (M, (e_0,e_1,e_2,e_3))"
      ]
     },
     "execution_count": 24,
     "metadata": {},
     "output_type": "execute_result"
    }
   ],
   "source": [
    "S1@T1"
   ]
  },
  {
   "cell_type": "markdown",
   "metadata": {},
   "source": [
    "## Contraction"
   ]
  },
  {
   "cell_type": "markdown",
   "metadata": {},
   "source": [
    "Method contract() provides the possibility of contracting either only tindices (tensor product on sindices) or only sindices (tensor product on tindices) or both:"
   ]
  },
  {
   "cell_type": "markdown",
   "metadata": {},
   "source": [
    "Contracting on tindices only (works also between scalars and tensors):"
   ]
  },
  {
   "cell_type": "code",
   "execution_count": 25,
   "metadata": {},
   "outputs": [
    {
     "data": {
      "text/html": [
       "<html><script type=\"math/tex; mode=display\">\\newcommand{\\Bold}[1]{\\mathbf{#1}}\\verb|['down',|\\phantom{\\verb!x!}\\verb|'down']|\\phantom{\\verb!x!}\\verb|Tetrad|\\phantom{\\verb!x!}\\verb|index|\\phantom{\\verb!x!}\\verb|family|\\phantom{\\verb!x!}\\verb|of|\\phantom{\\verb!x!}\\verb|Tensors|\\phantom{\\verb!x!}\\verb|(2,|\\phantom{\\verb!x!}\\verb|3)|\\phantom{\\verb!x!}\\verb|on|\\phantom{\\verb!x!}\\verb|the|\\phantom{\\verb!x!}\\verb|spin|\\phantom{\\verb!x!}\\verb|bundle|\\phantom{\\verb!x!}\\verb|section|\\phantom{\\verb!x!}\\verb|module|\\phantom{\\verb!x!}\\verb|with|\\phantom{\\verb!x!}\\verb|respect|\\phantom{\\verb!x!}\\verb|to|\\phantom{\\verb!x!}\\verb|the|\\phantom{\\verb!x!}\\verb|tetrad|\\phantom{\\verb!x!}\\verb|frame|\\phantom{\\verb!x!}\\verb|Vector|\\phantom{\\verb!x!}\\verb|frame|\\phantom{\\verb!x!}\\verb|(M,|\\phantom{\\verb!x!}\\verb|(e_0,e_1,e_2,e_3))|</script></html>"
      ],
      "text/latex": [
       "$$\\newcommand{\\Bold}[1]{\\mathbf{#1}}\\verb|['down',|\\phantom{\\verb!x!}\\verb|'down']|\\phantom{\\verb!x!}\\verb|Tetrad|\\phantom{\\verb!x!}\\verb|index|\\phantom{\\verb!x!}\\verb|family|\\phantom{\\verb!x!}\\verb|of|\\phantom{\\verb!x!}\\verb|Tensors|\\phantom{\\verb!x!}\\verb|(2,|\\phantom{\\verb!x!}\\verb|3)|\\phantom{\\verb!x!}\\verb|on|\\phantom{\\verb!x!}\\verb|the|\\phantom{\\verb!x!}\\verb|spin|\\phantom{\\verb!x!}\\verb|bundle|\\phantom{\\verb!x!}\\verb|section|\\phantom{\\verb!x!}\\verb|module|\\phantom{\\verb!x!}\\verb|with|\\phantom{\\verb!x!}\\verb|respect|\\phantom{\\verb!x!}\\verb|to|\\phantom{\\verb!x!}\\verb|the|\\phantom{\\verb!x!}\\verb|tetrad|\\phantom{\\verb!x!}\\verb|frame|\\phantom{\\verb!x!}\\verb|Vector|\\phantom{\\verb!x!}\\verb|frame|\\phantom{\\verb!x!}\\verb|(M,|\\phantom{\\verb!x!}\\verb|(e_0,e_1,e_2,e_3))|$$"
      ],
      "text/plain": [
       "['down', 'down'] Tetrad index family of Tensors (2, 3) on the spin bundle section module with respect to the tetrad frame Vector frame (M, (e_0,e_1,e_2,e_3))"
      ]
     },
     "execution_count": 25,
     "metadata": {},
     "output_type": "execute_result"
    }
   ],
   "source": [
    "S_1 = STb.scalar([\"down\",\"up\",\"down\"],sc)\n",
    "S_2 = STb.scalar([\"up\",\"down\",\"up\"],sc)\n",
    "\n",
    "S_1.contract([0,1],S_2,[2,1])\n",
    "S_1.contract(1,T2,0)\n",
    "T1.contract(0,None,T2,1,None) #equivalent using just one None"
   ]
  },
  {
   "cell_type": "markdown",
   "metadata": {},
   "source": [
    "Contracting on sindices only:"
   ]
  },
  {
   "cell_type": "code",
   "execution_count": 26,
   "metadata": {},
   "outputs": [
    {
     "data": {
      "text/html": [
       "<html><script type=\"math/tex; mode=display\">\\newcommand{\\Bold}[1]{\\mathbf{#1}}\\verb|['up',|\\phantom{\\verb!x!}\\verb|'down',|\\phantom{\\verb!x!}\\verb|'up',|\\phantom{\\verb!x!}\\verb|'down']|\\phantom{\\verb!x!}\\verb|Tetrad|\\phantom{\\verb!x!}\\verb|index|\\phantom{\\verb!x!}\\verb|family|\\phantom{\\verb!x!}\\verb|of|\\phantom{\\verb!x!}\\verb|Tensors|\\phantom{\\verb!x!}\\verb|(1,|\\phantom{\\verb!x!}\\verb|1)|\\phantom{\\verb!x!}\\verb|on|\\phantom{\\verb!x!}\\verb|the|\\phantom{\\verb!x!}\\verb|spin|\\phantom{\\verb!x!}\\verb|bundle|\\phantom{\\verb!x!}\\verb|section|\\phantom{\\verb!x!}\\verb|module|\\phantom{\\verb!x!}\\verb|with|\\phantom{\\verb!x!}\\verb|respect|\\phantom{\\verb!x!}\\verb|to|\\phantom{\\verb!x!}\\verb|the|\\phantom{\\verb!x!}\\verb|tetrad|\\phantom{\\verb!x!}\\verb|frame|\\phantom{\\verb!x!}\\verb|Vector|\\phantom{\\verb!x!}\\verb|frame|\\phantom{\\verb!x!}\\verb|(M,|\\phantom{\\verb!x!}\\verb|(e_0,e_1,e_2,e_3))|</script></html>"
      ],
      "text/latex": [
       "$$\\newcommand{\\Bold}[1]{\\mathbf{#1}}\\verb|['up',|\\phantom{\\verb!x!}\\verb|'down',|\\phantom{\\verb!x!}\\verb|'up',|\\phantom{\\verb!x!}\\verb|'down']|\\phantom{\\verb!x!}\\verb|Tetrad|\\phantom{\\verb!x!}\\verb|index|\\phantom{\\verb!x!}\\verb|family|\\phantom{\\verb!x!}\\verb|of|\\phantom{\\verb!x!}\\verb|Tensors|\\phantom{\\verb!x!}\\verb|(1,|\\phantom{\\verb!x!}\\verb|1)|\\phantom{\\verb!x!}\\verb|on|\\phantom{\\verb!x!}\\verb|the|\\phantom{\\verb!x!}\\verb|spin|\\phantom{\\verb!x!}\\verb|bundle|\\phantom{\\verb!x!}\\verb|section|\\phantom{\\verb!x!}\\verb|module|\\phantom{\\verb!x!}\\verb|with|\\phantom{\\verb!x!}\\verb|respect|\\phantom{\\verb!x!}\\verb|to|\\phantom{\\verb!x!}\\verb|the|\\phantom{\\verb!x!}\\verb|tetrad|\\phantom{\\verb!x!}\\verb|frame|\\phantom{\\verb!x!}\\verb|Vector|\\phantom{\\verb!x!}\\verb|frame|\\phantom{\\verb!x!}\\verb|(M,|\\phantom{\\verb!x!}\\verb|(e_0,e_1,e_2,e_3))|$$"
      ],
      "text/plain": [
       "['up', 'down', 'up', 'down'] Tetrad index family of Tensors (1, 1) on the spin bundle section module with respect to the tetrad frame Vector frame (M, (e_0,e_1,e_2,e_3))"
      ]
     },
     "execution_count": 26,
     "metadata": {},
     "output_type": "execute_result"
    }
   ],
   "source": [
    "T1.contract(None,T1) # default arguments 1 and 0, equivalent (None,1,T1,None,0) or (None,T1,None) ..."
   ]
  },
  {
   "cell_type": "markdown",
   "metadata": {},
   "source": [
    "Contracting both:"
   ]
  },
  {
   "cell_type": "code",
   "execution_count": 27,
   "metadata": {},
   "outputs": [
    {
     "data": {
      "text/html": [
       "<html><script type=\"math/tex; mode=display\">\\newcommand{\\Bold}[1]{\\mathbf{#1}}\\verb|['down',|\\phantom{\\verb!x!}\\verb|'down']|\\phantom{\\verb!x!}\\verb|Tetrad|\\phantom{\\verb!x!}\\verb|index|\\phantom{\\verb!x!}\\verb|family|\\phantom{\\verb!x!}\\verb|of|\\phantom{\\verb!x!}\\verb|Tensors|\\phantom{\\verb!x!}\\verb|(1,|\\phantom{\\verb!x!}\\verb|2)|\\phantom{\\verb!x!}\\verb|on|\\phantom{\\verb!x!}\\verb|the|\\phantom{\\verb!x!}\\verb|spin|\\phantom{\\verb!x!}\\verb|bundle|\\phantom{\\verb!x!}\\verb|section|\\phantom{\\verb!x!}\\verb|module|\\phantom{\\verb!x!}\\verb|with|\\phantom{\\verb!x!}\\verb|respect|\\phantom{\\verb!x!}\\verb|to|\\phantom{\\verb!x!}\\verb|the|\\phantom{\\verb!x!}\\verb|tetrad|\\phantom{\\verb!x!}\\verb|frame|\\phantom{\\verb!x!}\\verb|Vector|\\phantom{\\verb!x!}\\verb|frame|\\phantom{\\verb!x!}\\verb|(M,|\\phantom{\\verb!x!}\\verb|(e_0,e_1,e_2,e_3))|</script></html>"
      ],
      "text/latex": [
       "$$\\newcommand{\\Bold}[1]{\\mathbf{#1}}\\verb|['down',|\\phantom{\\verb!x!}\\verb|'down']|\\phantom{\\verb!x!}\\verb|Tetrad|\\phantom{\\verb!x!}\\verb|index|\\phantom{\\verb!x!}\\verb|family|\\phantom{\\verb!x!}\\verb|of|\\phantom{\\verb!x!}\\verb|Tensors|\\phantom{\\verb!x!}\\verb|(1,|\\phantom{\\verb!x!}\\verb|2)|\\phantom{\\verb!x!}\\verb|on|\\phantom{\\verb!x!}\\verb|the|\\phantom{\\verb!x!}\\verb|spin|\\phantom{\\verb!x!}\\verb|bundle|\\phantom{\\verb!x!}\\verb|section|\\phantom{\\verb!x!}\\verb|module|\\phantom{\\verb!x!}\\verb|with|\\phantom{\\verb!x!}\\verb|respect|\\phantom{\\verb!x!}\\verb|to|\\phantom{\\verb!x!}\\verb|the|\\phantom{\\verb!x!}\\verb|tetrad|\\phantom{\\verb!x!}\\verb|frame|\\phantom{\\verb!x!}\\verb|Vector|\\phantom{\\verb!x!}\\verb|frame|\\phantom{\\verb!x!}\\verb|(M,|\\phantom{\\verb!x!}\\verb|(e_0,e_1,e_2,e_3))|$$"
      ],
      "text/plain": [
       "['down', 'down'] Tetrad index family of Tensors (1, 2) on the spin bundle section module with respect to the tetrad frame Vector frame (M, (e_0,e_1,e_2,e_3))"
      ]
     },
     "execution_count": 27,
     "metadata": {},
     "output_type": "execute_result"
    }
   ],
   "source": [
    "T1.contract(0,1,T2,1,0)"
   ]
  },
  {
   "cell_type": "markdown",
   "metadata": {},
   "source": [
    "## Trace"
   ]
  },
  {
   "cell_type": "markdown",
   "metadata": {},
   "source": [
    "Method trace() provides the possibility of tracing either only tindices or only sindices or both:"
   ]
  },
  {
   "cell_type": "markdown",
   "metadata": {},
   "source": [
    "Tracing on tindices only:"
   ]
  },
  {
   "cell_type": "code",
   "execution_count": 28,
   "metadata": {},
   "outputs": [
    {
     "data": {
      "text/html": [
       "<html><script type=\"math/tex; mode=display\">\\newcommand{\\Bold}[1]{\\mathbf{#1}}\\mbox{Type-(1,1) tensor on the Free module C^0(M;S) of sections on the 4-dimensional Lorentzian manifold M with values in the complex vector bundle S of rank 4}</script></html>"
      ],
      "text/latex": [
       "$$\\newcommand{\\Bold}[1]{\\mathbf{#1}}\\mbox{Type-(1,1) tensor on the Free module C^0(M;S) of sections on the 4-dimensional Lorentzian manifold M with values in the complex vector bundle S of rank 4}$$"
      ],
      "text/plain": [
       "Type-(1,1) tensor on the Free module C^0(M;S) of sections on the 4-dimensional Lorentzian manifold M with values in the complex vector bundle S of rank 4"
      ]
     },
     "execution_count": 28,
     "metadata": {},
     "output_type": "execute_result"
    }
   ],
   "source": [
    "S = STb.scalar([\"down\",\"up\",\"down\",\"up\",\"down\",\"up\",\"down\",\"down\"],sc)\n",
    "S.trace([6,3,2],[1,0,5])\n",
    "S1.trace() #default values\n",
    "T1.trace(0,1)\n",
    "#T2.trace(0,1) #error can't trace two down indices"
   ]
  },
  {
   "cell_type": "markdown",
   "metadata": {},
   "source": [
    "Tracing sindices only:"
   ]
  },
  {
   "cell_type": "code",
   "execution_count": 29,
   "metadata": {},
   "outputs": [
    {
     "data": {
      "text/html": [
       "<html><script type=\"math/tex; mode=display\">\\newcommand{\\Bold}[1]{\\mathbf{#1}}\\verb|['down',|\\phantom{\\verb!x!}\\verb|'down']|\\phantom{\\verb!x!}\\verb|Tetrad|\\phantom{\\verb!x!}\\verb|index|\\phantom{\\verb!x!}\\verb|family|\\phantom{\\verb!x!}\\verb|of|\\phantom{\\verb!x!}\\verb|Tensors|\\phantom{\\verb!x!}\\verb|(0,|\\phantom{\\verb!x!}\\verb|1)|\\phantom{\\verb!x!}\\verb|on|\\phantom{\\verb!x!}\\verb|the|\\phantom{\\verb!x!}\\verb|spin|\\phantom{\\verb!x!}\\verb|bundle|\\phantom{\\verb!x!}\\verb|section|\\phantom{\\verb!x!}\\verb|module|\\phantom{\\verb!x!}\\verb|with|\\phantom{\\verb!x!}\\verb|respect|\\phantom{\\verb!x!}\\verb|to|\\phantom{\\verb!x!}\\verb|the|\\phantom{\\verb!x!}\\verb|tetrad|\\phantom{\\verb!x!}\\verb|frame|\\phantom{\\verb!x!}\\verb|Vector|\\phantom{\\verb!x!}\\verb|frame|\\phantom{\\verb!x!}\\verb|(M,|\\phantom{\\verb!x!}\\verb|(e_0,e_1,e_2,e_3))|</script></html>"
      ],
      "text/latex": [
       "$$\\newcommand{\\Bold}[1]{\\mathbf{#1}}\\verb|['down',|\\phantom{\\verb!x!}\\verb|'down']|\\phantom{\\verb!x!}\\verb|Tetrad|\\phantom{\\verb!x!}\\verb|index|\\phantom{\\verb!x!}\\verb|family|\\phantom{\\verb!x!}\\verb|of|\\phantom{\\verb!x!}\\verb|Tensors|\\phantom{\\verb!x!}\\verb|(0,|\\phantom{\\verb!x!}\\verb|1)|\\phantom{\\verb!x!}\\verb|on|\\phantom{\\verb!x!}\\verb|the|\\phantom{\\verb!x!}\\verb|spin|\\phantom{\\verb!x!}\\verb|bundle|\\phantom{\\verb!x!}\\verb|section|\\phantom{\\verb!x!}\\verb|module|\\phantom{\\verb!x!}\\verb|with|\\phantom{\\verb!x!}\\verb|respect|\\phantom{\\verb!x!}\\verb|to|\\phantom{\\verb!x!}\\verb|the|\\phantom{\\verb!x!}\\verb|tetrad|\\phantom{\\verb!x!}\\verb|frame|\\phantom{\\verb!x!}\\verb|Vector|\\phantom{\\verb!x!}\\verb|frame|\\phantom{\\verb!x!}\\verb|(M,|\\phantom{\\verb!x!}\\verb|(e_0,e_1,e_2,e_3))|$$"
      ],
      "text/plain": [
       "['down', 'down'] Tetrad index family of Tensors (0, 1) on the spin bundle section module with respect to the tetrad frame Vector frame (M, (e_0,e_1,e_2,e_3))"
      ]
     },
     "execution_count": 29,
     "metadata": {},
     "output_type": "execute_result"
    }
   ],
   "source": [
    "T1.trace(None) #equivalent .trace(None,0,1) .trace(0,None,1) .trace(0,1,None)\n",
    "T2.trace(None,0,2)\n",
    "#T2.trace(None,1,2) #error, can't trace two up indices"
   ]
  },
  {
   "cell_type": "markdown",
   "metadata": {},
   "source": [
    "Tracing both:"
   ]
  },
  {
   "cell_type": "code",
   "execution_count": 30,
   "metadata": {},
   "outputs": [
    {
     "data": {
      "text/html": [
       "<html><script type=\"math/tex; mode=display\">\\newcommand{\\Bold}[1]{\\mathbf{#1}}\\begin{array}{llcl} & \\mathcal{M} & \\longrightarrow & \\mathbb{R} \\\\ & \\left(t, r, {\\theta}, {\\phi}\\right) & \\longmapsto & 16 \\end{array}</script></html>"
      ],
      "text/latex": [
       "$$\\newcommand{\\Bold}[1]{\\mathbf{#1}}\\begin{array}{llcl} & \\mathcal{M} & \\longrightarrow & \\mathbb{R} \\\\ & \\left(t, r, {\\theta}, {\\phi}\\right) & \\longmapsto & 16 \\end{array}$$"
      ],
      "text/plain": [
       "M --> R\n",
       "(t, r, th, ph) |--> 16"
      ]
     },
     "execution_count": 30,
     "metadata": {},
     "output_type": "execute_result"
    }
   ],
   "source": [
    "(Gamma@Gamma.down()).trace(0,1,0,1).display() #first two are tindices, last two are sindices"
   ]
  },
  {
   "cell_type": "markdown",
   "metadata": {},
   "source": [
    "## Raising and lowering tindices"
   ]
  },
  {
   "cell_type": "markdown",
   "metadata": {},
   "source": [
    "Raising or lowering tindices with tetrad metric $\\eta^{(a)(b)}$ or $\\eta_{(a)(b)}$"
   ]
  },
  {
   "cell_type": "markdown",
   "metadata": {},
   "source": [
    "Raising: $S_{1 \\ \\ (a)}^{(b)} \\to S_{1}^{(b)(a)} = \\eta^{(a)(c)}S_{1 \\ \\ (c)}^{(b)}$"
   ]
  },
  {
   "cell_type": "code",
   "execution_count": 31,
   "metadata": {},
   "outputs": [
    {
     "data": {
      "text/html": [
       "<html><script type=\"math/tex; mode=display\">\\newcommand{\\Bold}[1]{\\mathbf{#1}}\\verb|['up',|\\phantom{\\verb!x!}\\verb|'up']|\\phantom{\\verb!x!}\\verb|Tetrad|\\phantom{\\verb!x!}\\verb|index|\\phantom{\\verb!x!}\\verb|family|\\phantom{\\verb!x!}\\verb|of|\\phantom{\\verb!x!}\\verb|Tensors|\\phantom{\\verb!x!}\\verb|(1,|\\phantom{\\verb!x!}\\verb|1)|\\phantom{\\verb!x!}\\verb|on|\\phantom{\\verb!x!}\\verb|the|\\phantom{\\verb!x!}\\verb|spin|\\phantom{\\verb!x!}\\verb|bundle|\\phantom{\\verb!x!}\\verb|section|\\phantom{\\verb!x!}\\verb|module|\\phantom{\\verb!x!}\\verb|with|\\phantom{\\verb!x!}\\verb|respect|\\phantom{\\verb!x!}\\verb|to|\\phantom{\\verb!x!}\\verb|the|\\phantom{\\verb!x!}\\verb|tetrad|\\phantom{\\verb!x!}\\verb|frame|\\phantom{\\verb!x!}\\verb|Vector|\\phantom{\\verb!x!}\\verb|frame|\\phantom{\\verb!x!}\\verb|(M,|\\phantom{\\verb!x!}\\verb|(e_0,e_1,e_2,e_3))|</script></html>"
      ],
      "text/latex": [
       "$$\\newcommand{\\Bold}[1]{\\mathbf{#1}}\\verb|['up',|\\phantom{\\verb!x!}\\verb|'up']|\\phantom{\\verb!x!}\\verb|Tetrad|\\phantom{\\verb!x!}\\verb|index|\\phantom{\\verb!x!}\\verb|family|\\phantom{\\verb!x!}\\verb|of|\\phantom{\\verb!x!}\\verb|Tensors|\\phantom{\\verb!x!}\\verb|(1,|\\phantom{\\verb!x!}\\verb|1)|\\phantom{\\verb!x!}\\verb|on|\\phantom{\\verb!x!}\\verb|the|\\phantom{\\verb!x!}\\verb|spin|\\phantom{\\verb!x!}\\verb|bundle|\\phantom{\\verb!x!}\\verb|section|\\phantom{\\verb!x!}\\verb|module|\\phantom{\\verb!x!}\\verb|with|\\phantom{\\verb!x!}\\verb|respect|\\phantom{\\verb!x!}\\verb|to|\\phantom{\\verb!x!}\\verb|the|\\phantom{\\verb!x!}\\verb|tetrad|\\phantom{\\verb!x!}\\verb|frame|\\phantom{\\verb!x!}\\verb|Vector|\\phantom{\\verb!x!}\\verb|frame|\\phantom{\\verb!x!}\\verb|(M,|\\phantom{\\verb!x!}\\verb|(e_0,e_1,e_2,e_3))|$$"
      ],
      "text/plain": [
       "['up', 'up'] Tetrad index family of Tensors (1, 1) on the spin bundle section module with respect to the tetrad frame Vector frame (M, (e_0,e_1,e_2,e_3))"
      ]
     },
     "execution_count": 31,
     "metadata": {},
     "output_type": "execute_result"
    }
   ],
   "source": [
    "S1.up(1)\n",
    "T1.up(1)"
   ]
  },
  {
   "cell_type": "markdown",
   "metadata": {},
   "source": [
    "Lowering: $S_{1 \\ \\ (a)}^{(b)} \\to S_{1(b)(a)} = \\eta_{(b)(c)}S_{1 \\ \\ (a)}^{(c)}$"
   ]
  },
  {
   "cell_type": "code",
   "execution_count": 32,
   "metadata": {},
   "outputs": [
    {
     "data": {
      "text/html": [
       "<html><script type=\"math/tex; mode=display\">\\newcommand{\\Bold}[1]{\\mathbf{#1}}\\verb|['down',|\\phantom{\\verb!x!}\\verb|'down']|\\phantom{\\verb!x!}\\verb|Tetrad|\\phantom{\\verb!x!}\\verb|index|\\phantom{\\verb!x!}\\verb|family|\\phantom{\\verb!x!}\\verb|of|\\phantom{\\verb!x!}\\verb|Tensors|\\phantom{\\verb!x!}\\verb|(1,|\\phantom{\\verb!x!}\\verb|1)|\\phantom{\\verb!x!}\\verb|on|\\phantom{\\verb!x!}\\verb|the|\\phantom{\\verb!x!}\\verb|spin|\\phantom{\\verb!x!}\\verb|bundle|\\phantom{\\verb!x!}\\verb|section|\\phantom{\\verb!x!}\\verb|module|\\phantom{\\verb!x!}\\verb|with|\\phantom{\\verb!x!}\\verb|respect|\\phantom{\\verb!x!}\\verb|to|\\phantom{\\verb!x!}\\verb|the|\\phantom{\\verb!x!}\\verb|tetrad|\\phantom{\\verb!x!}\\verb|frame|\\phantom{\\verb!x!}\\verb|Vector|\\phantom{\\verb!x!}\\verb|frame|\\phantom{\\verb!x!}\\verb|(M,|\\phantom{\\verb!x!}\\verb|(e_0,e_1,e_2,e_3))|</script></html>"
      ],
      "text/latex": [
       "$$\\newcommand{\\Bold}[1]{\\mathbf{#1}}\\verb|['down',|\\phantom{\\verb!x!}\\verb|'down']|\\phantom{\\verb!x!}\\verb|Tetrad|\\phantom{\\verb!x!}\\verb|index|\\phantom{\\verb!x!}\\verb|family|\\phantom{\\verb!x!}\\verb|of|\\phantom{\\verb!x!}\\verb|Tensors|\\phantom{\\verb!x!}\\verb|(1,|\\phantom{\\verb!x!}\\verb|1)|\\phantom{\\verb!x!}\\verb|on|\\phantom{\\verb!x!}\\verb|the|\\phantom{\\verb!x!}\\verb|spin|\\phantom{\\verb!x!}\\verb|bundle|\\phantom{\\verb!x!}\\verb|section|\\phantom{\\verb!x!}\\verb|module|\\phantom{\\verb!x!}\\verb|with|\\phantom{\\verb!x!}\\verb|respect|\\phantom{\\verb!x!}\\verb|to|\\phantom{\\verb!x!}\\verb|the|\\phantom{\\verb!x!}\\verb|tetrad|\\phantom{\\verb!x!}\\verb|frame|\\phantom{\\verb!x!}\\verb|Vector|\\phantom{\\verb!x!}\\verb|frame|\\phantom{\\verb!x!}\\verb|(M,|\\phantom{\\verb!x!}\\verb|(e_0,e_1,e_2,e_3))|$$"
      ],
      "text/plain": [
       "['down', 'down'] Tetrad index family of Tensors (1, 1) on the spin bundle section module with respect to the tetrad frame Vector frame (M, (e_0,e_1,e_2,e_3))"
      ]
     },
     "execution_count": 32,
     "metadata": {},
     "output_type": "execute_result"
    }
   ],
   "source": [
    "S1.down(0)\n",
    "T1.down(0)"
   ]
  },
  {
   "cell_type": "markdown",
   "metadata": {},
   "source": [
    "## Equality"
   ]
  },
  {
   "cell_type": "markdown",
   "metadata": {},
   "source": [
    "Equality/disequality check between tindices objects"
   ]
  },
  {
   "cell_type": "code",
   "execution_count": 33,
   "metadata": {},
   "outputs": [
    {
     "data": {
      "text/html": [
       "<html><script type=\"math/tex; mode=display\">\\newcommand{\\Bold}[1]{\\mathbf{#1}}\\mathrm{False}</script></html>"
      ],
      "text/latex": [
       "$$\\newcommand{\\Bold}[1]{\\mathbf{#1}}\\mathrm{False}$$"
      ],
      "text/plain": [
       "False"
      ]
     },
     "execution_count": 33,
     "metadata": {},
     "output_type": "execute_result"
    }
   ],
   "source": [
    "S1 == S1 #component by component\n",
    "T1 == T1\n",
    "S1 != S2\n",
    "T1 != T2"
   ]
  },
  {
   "cell_type": "markdown",
   "metadata": {},
   "source": [
    "## Dirac adjoint"
   ]
  },
  {
   "cell_type": "markdown",
   "metadata": {},
   "source": [
    "Dirac adjoint $\\psi_{(a)}^{\\dagger}\\gamma^{(0)}$ for sections of the spinor bundle with tindices:"
   ]
  },
  {
   "cell_type": "markdown",
   "metadata": {},
   "source": [
    "Definition of $\\psi$"
   ]
  },
  {
   "cell_type": "code",
   "execution_count": 34,
   "metadata": {},
   "outputs": [
    {
     "data": {
      "text/html": [
       "<html><script type=\"math/tex; mode=display\">\\newcommand{\\Bold}[1]{\\mathbf{#1}}\\left[\\psi_{0}\\left(r, t, {\\theta}, {\\phi}\\right), \\psi_{1}\\left(r, t, {\\theta}, {\\phi}\\right), \\psi_{2}\\left(r, t, {\\theta}, {\\phi}\\right), \\psi_{3}\\left(r, t, {\\theta}, {\\phi}\\right)\\right]</script></html>"
      ],
      "text/latex": [
       "$$\\newcommand{\\Bold}[1]{\\mathbf{#1}}\\left[\\psi_{0}\\left(r, t, {\\theta}, {\\phi}\\right), \\psi_{1}\\left(r, t, {\\theta}, {\\phi}\\right), \\psi_{2}\\left(r, t, {\\theta}, {\\phi}\\right), \\psi_{3}\\left(r, t, {\\theta}, {\\phi}\\right)\\right]$$"
      ],
      "text/plain": [
       "[psi0(r, t, th, ph),\n",
       " psi1(r, t, th, ph),\n",
       " psi2(r, t, th, ph),\n",
       " psi3(r, t, th, ph)]"
      ]
     },
     "execution_count": 34,
     "metadata": {},
     "output_type": "execute_result"
    }
   ],
   "source": [
    "psi0 = function(\"psi0\", latex_name = \"\\\\psi_{0}\", nargs = 4)\n",
    "psi1 = function(\"psi1\" ,latex_name = \"\\\\psi_{1}\", nargs = 4)\n",
    "psi2 = function(\"psi2\" ,latex_name = \"\\\\psi_{2}\", nargs = 4)\n",
    "psi3 = function(\"psi3\" ,latex_name = \"\\\\psi_{3}\", nargs = 4)\n",
    "\n",
    "\n",
    "psi0_ = M.scalar_field({SD: psi0(r,t,th,ph)})\n",
    "psi1_ = M.scalar_field({SD: psi1(r,t,th,ph)})\n",
    "psi2_ = M.scalar_field({SD: psi2(r,t,th,ph)})\n",
    "psi3_ = M.scalar_field({SD: psi3(r,t,th,ph)})\n",
    "\n",
    "psi_sb = STb.sbundle.section({STb.sframe: [psi0_,psi1_,psi2_,psi3_]}, \"\\\\psi\")\n",
    "psi = STb.spin_tensor([],(1,0),psi_sb)\n",
    "psi.comp[:]"
   ]
  },
  {
   "cell_type": "code",
   "execution_count": 35,
   "metadata": {},
   "outputs": [
    {
     "data": {
      "text/html": [
       "<html><script type=\"math/tex; mode=display\">\\newcommand{\\Bold}[1]{\\mathbf{#1}}\\left[i \\, \\overline{\\psi_{0}\\left(r, t, {\\theta}, {\\phi}\\right)}, i \\, \\overline{\\psi_{1}\\left(r, t, {\\theta}, {\\phi}\\right)}, -i \\, \\overline{\\psi_{2}\\left(r, t, {\\theta}, {\\phi}\\right)}, -i \\, \\overline{\\psi_{3}\\left(r, t, {\\theta}, {\\phi}\\right)}\\right]</script></html>"
      ],
      "text/latex": [
       "$$\\newcommand{\\Bold}[1]{\\mathbf{#1}}\\left[i \\, \\overline{\\psi_{0}\\left(r, t, {\\theta}, {\\phi}\\right)}, i \\, \\overline{\\psi_{1}\\left(r, t, {\\theta}, {\\phi}\\right)}, -i \\, \\overline{\\psi_{2}\\left(r, t, {\\theta}, {\\phi}\\right)}, -i \\, \\overline{\\psi_{3}\\left(r, t, {\\theta}, {\\phi}\\right)}\\right]$$"
      ],
      "text/plain": [
       "[I*conjugate(psi0(r, t, th, ph)),\n",
       " I*conjugate(psi1(r, t, th, ph)),\n",
       " -I*conjugate(psi2(r, t, th, ph)),\n",
       " -I*conjugate(psi3(r, t, th, ph))]"
      ]
     },
     "execution_count": 35,
     "metadata": {},
     "output_type": "execute_result"
    }
   ],
   "source": [
    "psi.Dirac_adj().comp[:]"
   ]
  },
  {
   "cell_type": "markdown",
   "metadata": {},
   "source": [
    "## Final example: Spinor connection coefficents calculation"
   ]
  },
  {
   "cell_type": "markdown",
   "metadata": {},
   "source": [
    "Combining everything to compute $\\frac{1}{4}\\omega_{(a)(b)(c)}\\gamma^{(a)}\\gamma^{(b)}$:"
   ]
  },
  {
   "cell_type": "markdown",
   "metadata": {},
   "source": [
    "We have different equivalent possibilities:"
   ]
  },
  {
   "cell_type": "code",
   "execution_count": 36,
   "metadata": {},
   "outputs": [],
   "source": [
    "Ric_coef = STb.Ricci_rotation_coefficents([\"up\",\"down\",\"down\"])\n",
    "Ric_ddd = Ric_coef.down(0)\n",
    "\n",
    "res1 = (1/4)*Ric_ddd.contract(0,Gamma).contract(0,Gamma)\n",
    "res2 = (1/4)*Gamma.contract(Ric_ddd).contract(0,Gamma)\n",
    "res3 = (1/4)*Ric_ddd.contract([0,1],Gamma@Gamma,[0,1])"
   ]
  },
  {
   "cell_type": "code",
   "execution_count": 37,
   "metadata": {},
   "outputs": [
    {
     "data": {
      "text/html": [
       "<html><script type=\"math/tex; mode=display\">\\newcommand{\\Bold}[1]{\\mathbf{#1}}\\mathrm{True}</script></html>"
      ],
      "text/latex": [
       "$$\\newcommand{\\Bold}[1]{\\mathbf{#1}}\\mathrm{True}$$"
      ],
      "text/plain": [
       "True"
      ]
     },
     "execution_count": 37,
     "metadata": {},
     "output_type": "execute_result"
    }
   ],
   "source": [
    "res1 == res2 == res3 == STb.spinor_coef"
   ]
  },
  {
   "cell_type": "code",
   "execution_count": 38,
   "metadata": {},
   "outputs": [
    {
     "data": {
      "text/html": [
       "<html><script type=\"math/tex; mode=display\">\\newcommand{\\Bold}[1]{\\mathbf{#1}}\\begin{array}{lcl} \\Gamma_{\\,(0)}^{\\phantom{\\, (0)}} & = & \\left(\\begin{array}{rrrr}\n",
       "0 & 0 & 0 & \\frac{m}{2 \\, \\sqrt{-2 \\, m + r} r^{\\frac{3}{2}}} \\\\\n",
       "0 & 0 & \\frac{m}{2 \\, \\sqrt{-2 \\, m + r} r^{\\frac{3}{2}}} & 0 \\\\\n",
       "0 & \\frac{m}{2 \\, \\sqrt{-2 \\, m + r} r^{\\frac{3}{2}}} & 0 & 0 \\\\\n",
       "\\frac{m}{2 \\, \\sqrt{-2 \\, m + r} r^{\\frac{3}{2}}} & 0 & 0 & 0\n",
       "\\end{array}\\right) \\\\ \\Gamma_{\\,(2)}^{\\phantom{\\, (2)}} & = & \\left(\\begin{array}{rrrr}\n",
       "-\\frac{i \\, \\sqrt{-2 \\, m + r}}{2 \\, r^{\\frac{3}{2}}} & 0 & 0 & 0 \\\\\n",
       "0 & \\frac{i \\, \\sqrt{-2 \\, m + r}}{2 \\, r^{\\frac{3}{2}}} & 0 & 0 \\\\\n",
       "0 & 0 & -\\frac{i \\, \\sqrt{-2 \\, m + r}}{2 \\, r^{\\frac{3}{2}}} & 0 \\\\\n",
       "0 & 0 & 0 & \\frac{i \\, \\sqrt{-2 \\, m + r}}{2 \\, r^{\\frac{3}{2}}}\n",
       "\\end{array}\\right) \\\\ \\Gamma_{\\,(3)}^{\\phantom{\\, (3)}} & = & \\left(\\begin{array}{rrrr}\n",
       "0 & -\\frac{i \\, \\sqrt{r} \\cos\\left({\\theta}\\right) - \\sqrt{-2 \\, m + r} \\sin\\left({\\theta}\\right)}{2 \\, r^{\\frac{3}{2}} \\sin\\left({\\theta}\\right)} & 0 & 0 \\\\\n",
       "-\\frac{i \\, \\sqrt{r} \\cos\\left({\\theta}\\right) + \\sqrt{-2 \\, m + r} \\sin\\left({\\theta}\\right)}{2 \\, r^{\\frac{3}{2}} \\sin\\left({\\theta}\\right)} & 0 & 0 & 0 \\\\\n",
       "0 & 0 & 0 & -\\frac{i \\, \\sqrt{r} \\cos\\left({\\theta}\\right) - \\sqrt{-2 \\, m + r} \\sin\\left({\\theta}\\right)}{2 \\, r^{\\frac{3}{2}} \\sin\\left({\\theta}\\right)} \\\\\n",
       "0 & 0 & -\\frac{i \\, \\sqrt{r} \\cos\\left({\\theta}\\right) + \\sqrt{-2 \\, m + r} \\sin\\left({\\theta}\\right)}{2 \\, r^{\\frac{3}{2}} \\sin\\left({\\theta}\\right)} & 0\n",
       "\\end{array}\\right) \\end{array}</script></html>"
      ],
      "text/latex": [
       "$$\\newcommand{\\Bold}[1]{\\mathbf{#1}}\\begin{array}{lcl} \\Gamma_{\\,(0)}^{\\phantom{\\, (0)}} & = & \\left(\\begin{array}{rrrr}\n",
       "0 & 0 & 0 & \\frac{m}{2 \\, \\sqrt{-2 \\, m + r} r^{\\frac{3}{2}}} \\\\\n",
       "0 & 0 & \\frac{m}{2 \\, \\sqrt{-2 \\, m + r} r^{\\frac{3}{2}}} & 0 \\\\\n",
       "0 & \\frac{m}{2 \\, \\sqrt{-2 \\, m + r} r^{\\frac{3}{2}}} & 0 & 0 \\\\\n",
       "\\frac{m}{2 \\, \\sqrt{-2 \\, m + r} r^{\\frac{3}{2}}} & 0 & 0 & 0\n",
       "\\end{array}\\right) \\\\ \\Gamma_{\\,(2)}^{\\phantom{\\, (2)}} & = & \\left(\\begin{array}{rrrr}\n",
       "-\\frac{i \\, \\sqrt{-2 \\, m + r}}{2 \\, r^{\\frac{3}{2}}} & 0 & 0 & 0 \\\\\n",
       "0 & \\frac{i \\, \\sqrt{-2 \\, m + r}}{2 \\, r^{\\frac{3}{2}}} & 0 & 0 \\\\\n",
       "0 & 0 & -\\frac{i \\, \\sqrt{-2 \\, m + r}}{2 \\, r^{\\frac{3}{2}}} & 0 \\\\\n",
       "0 & 0 & 0 & \\frac{i \\, \\sqrt{-2 \\, m + r}}{2 \\, r^{\\frac{3}{2}}}\n",
       "\\end{array}\\right) \\\\ \\Gamma_{\\,(3)}^{\\phantom{\\, (3)}} & = & \\left(\\begin{array}{rrrr}\n",
       "0 & -\\frac{i \\, \\sqrt{r} \\cos\\left({\\theta}\\right) - \\sqrt{-2 \\, m + r} \\sin\\left({\\theta}\\right)}{2 \\, r^{\\frac{3}{2}} \\sin\\left({\\theta}\\right)} & 0 & 0 \\\\\n",
       "-\\frac{i \\, \\sqrt{r} \\cos\\left({\\theta}\\right) + \\sqrt{-2 \\, m + r} \\sin\\left({\\theta}\\right)}{2 \\, r^{\\frac{3}{2}} \\sin\\left({\\theta}\\right)} & 0 & 0 & 0 \\\\\n",
       "0 & 0 & 0 & -\\frac{i \\, \\sqrt{r} \\cos\\left({\\theta}\\right) - \\sqrt{-2 \\, m + r} \\sin\\left({\\theta}\\right)}{2 \\, r^{\\frac{3}{2}} \\sin\\left({\\theta}\\right)} \\\\\n",
       "0 & 0 & -\\frac{i \\, \\sqrt{r} \\cos\\left({\\theta}\\right) + \\sqrt{-2 \\, m + r} \\sin\\left({\\theta}\\right)}{2 \\, r^{\\frac{3}{2}} \\sin\\left({\\theta}\\right)} & 0\n",
       "\\end{array}\\right) \\end{array}$$"
      ],
      "text/plain": [
       "\\Gamma_0 = Type-(1,1) tensor on the Free module C^0(M;S) of sections on the 4-dimensional Lorentzian manifold M with values in the complex vector bundle S of rank 4 \n",
       "\\Gamma_2 = Type-(1,1) tensor on the Free module C^0(M;S) of sections on the 4-dimensional Lorentzian manifold M with values in the complex vector bundle S of rank 4 \n",
       "\\Gamma_3 = Type-(1,1) tensor on the Free module C^0(M;S) of sections on the 4-dimensional Lorentzian manifold M with values in the complex vector bundle S of rank 4 "
      ]
     },
     "execution_count": 38,
     "metadata": {},
     "output_type": "execute_result"
    }
   ],
   "source": [
    "res1.display('\\\\Gamma')"
   ]
  },
  {
   "cell_type": "code",
   "execution_count": 39,
   "metadata": {},
   "outputs": [],
   "source": [
    "Gamma_mu = Gamma.get_tangent_tensor()"
   ]
  },
  {
   "cell_type": "code",
   "execution_count": 40,
   "metadata": {},
   "outputs": [],
   "source": [
    "Id = STb.Identity([])\n",
    "eta = STb.eta(\"up\")\n"
   ]
  },
  {
   "cell_type": "code",
   "execution_count": 41,
   "metadata": {},
   "outputs": [
    {
     "data": {
      "text/html": [
       "<html><script type=\"math/tex; mode=display\">\\newcommand{\\Bold}[1]{\\mathbf{#1}}\\mathrm{True}</script></html>"
      ],
      "text/latex": [
       "$$\\newcommand{\\Bold}[1]{\\mathbf{#1}}\\mathrm{True}$$"
      ],
      "text/plain": [
       "True"
      ]
     },
     "execution_count": 41,
     "metadata": {},
     "output_type": "execute_result"
    }
   ],
   "source": [
    "Gamma.anticomm(Gamma) == 2*Id*eta == 2*eta*Id"
   ]
  },
  {
   "cell_type": "code",
   "execution_count": 42,
   "metadata": {},
   "outputs": [],
   "source": [
    "Gamma5 = (((I*Gamma[0]).contract(Gamma[1])).contract(Gamma[2])).contract(Gamma[3])"
   ]
  },
  {
   "cell_type": "code",
   "execution_count": 43,
   "metadata": {},
   "outputs": [],
   "source": [
    "var(\"d0\")\n",
    "var(\"d1\")\n",
    "var(\"d2\")\n",
    "var(\"d3\")\n",
    "\n",
    "dslash = d0*Gamma[0]+d1*Gamma[1]+d2*Gamma[2]+d3*Gamma[3]"
   ]
  },
  {
   "cell_type": "code",
   "execution_count": 44,
   "metadata": {},
   "outputs": [],
   "source": [
    "Id = STb.Identity([]).comp\n",
    "PR = (Id+Gamma5)/2\n",
    "PL = (Id-Gamma5)/2\n",
    "\n",
    "psi1 = function(\"psi1\", nargs = 4)\n",
    "psi2 = function(\"psi2\", nargs = 4)\n",
    "psi3 = function(\"psi3\", nargs = 4)\n",
    "psi4 = function(\"psi4\", nargs = 4)\n",
    "\n",
    "\n",
    "psi1_ = M.scalar_field({SD: psi1(r,t,th,ph)}, name = '\\\\psi^{(1)}')\n",
    "psi2_ = M.scalar_field({SD: psi2(r,t,th,ph)}, name = '\\\\psi^{(2)}')\n",
    "psi3_ = M.scalar_field({SD: psi3(r,t,th,ph)}, name = '\\\\psi^{(3)}')\n",
    "psi4_ = M.scalar_field({SD: psi4(r,t,th,ph)}, name = '\\\\psi^{(4)}')\n",
    "\n",
    "psi = STb.sbundle.section({STb.sframe: [psi1_,psi2_,psi3_,psi4_]}, \"psi\")"
   ]
  },
  {
   "cell_type": "code",
   "execution_count": 45,
   "metadata": {},
   "outputs": [],
   "source": [
    "psiR = PR.contract(psi)\n",
    "psiL = PL.contract(psi)"
   ]
  },
  {
   "cell_type": "code",
   "execution_count": 46,
   "metadata": {},
   "outputs": [
    {
     "data": {
      "text/html": [
       "<html><script type=\"math/tex; mode=display\">\\newcommand{\\Bold}[1]{\\mathbf{#1}}\\left[i \\, d_{0} \\psi_{1}\\left(r, t, {\\theta}, {\\phi}\\right) + i \\, d_{3} \\psi_{3}\\left(r, t, {\\theta}, {\\phi}\\right) + {\\left(i \\, d_{1} + d_{2}\\right)} \\psi_{4}\\left(r, t, {\\theta}, {\\phi}\\right), i \\, d_{0} \\psi_{2}\\left(r, t, {\\theta}, {\\phi}\\right) + {\\left(i \\, d_{1} - d_{2}\\right)} \\psi_{3}\\left(r, t, {\\theta}, {\\phi}\\right) - i \\, d_{3} \\psi_{4}\\left(r, t, {\\theta}, {\\phi}\\right), -i \\, d_{3} \\psi_{1}\\left(r, t, {\\theta}, {\\phi}\\right) + {\\left(-i \\, d_{1} - d_{2}\\right)} \\psi_{2}\\left(r, t, {\\theta}, {\\phi}\\right) - i \\, d_{0} \\psi_{3}\\left(r, t, {\\theta}, {\\phi}\\right), {\\left(-i \\, d_{1} + d_{2}\\right)} \\psi_{1}\\left(r, t, {\\theta}, {\\phi}\\right) + i \\, d_{3} \\psi_{2}\\left(r, t, {\\theta}, {\\phi}\\right) - i \\, d_{0} \\psi_{4}\\left(r, t, {\\theta}, {\\phi}\\right)\\right]</script></html>"
      ],
      "text/latex": [
       "$$\\newcommand{\\Bold}[1]{\\mathbf{#1}}\\left[i \\, d_{0} \\psi_{1}\\left(r, t, {\\theta}, {\\phi}\\right) + i \\, d_{3} \\psi_{3}\\left(r, t, {\\theta}, {\\phi}\\right) + {\\left(i \\, d_{1} + d_{2}\\right)} \\psi_{4}\\left(r, t, {\\theta}, {\\phi}\\right), i \\, d_{0} \\psi_{2}\\left(r, t, {\\theta}, {\\phi}\\right) + {\\left(i \\, d_{1} - d_{2}\\right)} \\psi_{3}\\left(r, t, {\\theta}, {\\phi}\\right) - i \\, d_{3} \\psi_{4}\\left(r, t, {\\theta}, {\\phi}\\right), -i \\, d_{3} \\psi_{1}\\left(r, t, {\\theta}, {\\phi}\\right) + {\\left(-i \\, d_{1} - d_{2}\\right)} \\psi_{2}\\left(r, t, {\\theta}, {\\phi}\\right) - i \\, d_{0} \\psi_{3}\\left(r, t, {\\theta}, {\\phi}\\right), {\\left(-i \\, d_{1} + d_{2}\\right)} \\psi_{1}\\left(r, t, {\\theta}, {\\phi}\\right) + i \\, d_{3} \\psi_{2}\\left(r, t, {\\theta}, {\\phi}\\right) - i \\, d_{0} \\psi_{4}\\left(r, t, {\\theta}, {\\phi}\\right)\\right]$$"
      ],
      "text/plain": [
       "[I*d0*psi1(r, t, th, ph) + I*d3*psi3(r, t, th, ph) + (I*d1 + d2)*psi4(r, t, th, ph),\n",
       " I*d0*psi2(r, t, th, ph) + (I*d1 - d2)*psi3(r, t, th, ph) - I*d3*psi4(r, t, th, ph),\n",
       " -I*d3*psi1(r, t, th, ph) + (-I*d1 - d2)*psi2(r, t, th, ph) - I*d0*psi3(r, t, th, ph),\n",
       " (-I*d1 + d2)*psi1(r, t, th, ph) + I*d3*psi2(r, t, th, ph) - I*d0*psi4(r, t, th, ph)]"
      ]
     },
     "execution_count": 46,
     "metadata": {},
     "output_type": "execute_result"
    }
   ],
   "source": [
    "dslash.contract(psi)[:]"
   ]
  },
  {
   "cell_type": "code",
   "execution_count": 91,
   "metadata": {},
   "outputs": [
    {
     "data": {
      "text/html": [
       "<html><script type=\"math/tex; mode=display\">\\newcommand{\\Bold}[1]{\\mathbf{#1}}\\left(\\begin{array}{rrrr}\n",
       "1 & 0 & 0 & 0 \\\\\n",
       "0 & 1 & 0 & 0 \\\\\n",
       "0 & 0 & 1 & 0 \\\\\n",
       "0 & 0 & 0 & 1\n",
       "\\end{array}\\right)</script></html>"
      ],
      "text/latex": [
       "$$\\newcommand{\\Bold}[1]{\\mathbf{#1}}\\left(\\begin{array}{rrrr}\n",
       "1 & 0 & 0 & 0 \\\\\n",
       "0 & 1 & 0 & 0 \\\\\n",
       "0 & 0 & 1 & 0 \\\\\n",
       "0 & 0 & 0 & 1\n",
       "\\end{array}\\right)$$"
      ],
      "text/plain": [
       "[1 0 0 0]\n",
       "[0 1 0 0]\n",
       "[0 0 1 0]\n",
       "[0 0 0 1]"
      ]
     },
     "execution_count": 91,
     "metadata": {},
     "output_type": "execute_result"
    }
   ],
   "source": [
    "U = Id.copy()\n",
    "U[0,0] = 1\n",
    "U[0,1] = 0\n",
    "U[1,0] = 0\n",
    "U[1,1] = 1\n",
    "\n",
    "U[0,2] = -1\n",
    "U[0,3] = 0\n",
    "U[1,2] = 0\n",
    "U[1,3] = -1\n",
    "\n",
    "U[2,0] = 1\n",
    "U[2,1] = 0\n",
    "U[3,0] = 0\n",
    "U[3,1] = 1\n",
    "\n",
    "U[2,2] = 1\n",
    "U[2,3] = 0\n",
    "U[3,2] = 0\n",
    "U[3,3] = 1\n",
    "\n",
    "U = (1/sqrt(2))*U\n",
    "U = STb.spin_tensor([],(1,1),U)\n",
    "\n",
    "U_dagger = (U.copy()).comp\n",
    "U_dagger[2,0] = -(1/sqrt(2))\n",
    "U_dagger[3,0] = 0\n",
    "U_dagger[2,1] = 0\n",
    "U_dagger[3,1] = -(1/sqrt(2))\n",
    "U_dagger[0,2] = (1/sqrt(2))\n",
    "U_dagger[0,3] = 0\n",
    "U_dagger[1,2] = 0\n",
    "U_dagger[1,3] = (1/sqrt(2))\n",
    "U_dagger = STb.spin_tensor([],(1,1),U_dagger)"
   ]
  },
  {
   "cell_type": "code",
   "execution_count": 101,
   "metadata": {},
   "outputs": [],
   "source": [
    "Gamma = STb.Dirac_matrices(\"up\")\n",
    "Gamma_d = -I*Gamma.copy() #matrici gamma di dirac  standard\n",
    "Gamma_w = U@Gamma_d@U_dagger"
   ]
  },
  {
   "cell_type": "code",
   "execution_count": 111,
   "metadata": {},
   "outputs": [
    {
     "data": {
      "text/html": [
       "<html><script type=\"math/tex; mode=display\">\\newcommand{\\Bold}[1]{\\mathbf{#1}}\\begin{array}{lcl} _{\\phantom{\\, (0)}}^{\\,(0)} & = & \\left(\\begin{array}{rrrr}\n",
       "0 & 0 & 1 & 0 \\\\\n",
       "0 & 0 & 0 & 1 \\\\\n",
       "1 & 0 & 0 & 0 \\\\\n",
       "0 & 1 & 0 & 0\n",
       "\\end{array}\\right) \\\\ _{\\phantom{\\, (1)}}^{\\,(1)} & = & \\left(\\begin{array}{rrrr}\n",
       "0 & 0 & 0 & 1 \\\\\n",
       "0 & 0 & 1 & 0 \\\\\n",
       "0 & -1 & 0 & 0 \\\\\n",
       "-1 & 0 & 0 & 0\n",
       "\\end{array}\\right) \\\\ _{\\phantom{\\, (2)}}^{\\,(2)} & = & \\left(\\begin{array}{rrrr}\n",
       "0 & 0 & 0 & -i \\\\\n",
       "0 & 0 & i & 0 \\\\\n",
       "0 & i & 0 & 0 \\\\\n",
       "-i & 0 & 0 & 0\n",
       "\\end{array}\\right) \\\\ _{\\phantom{\\, (3)}}^{\\,(3)} & = & \\left(\\begin{array}{rrrr}\n",
       "0 & 0 & 1 & 0 \\\\\n",
       "0 & 0 & 0 & -1 \\\\\n",
       "-1 & 0 & 0 & 0 \\\\\n",
       "0 & 1 & 0 & 0\n",
       "\\end{array}\\right) \\end{array}</script></html>"
      ],
      "text/latex": [
       "$$\\newcommand{\\Bold}[1]{\\mathbf{#1}}\\begin{array}{lcl} _{\\phantom{\\, (0)}}^{\\,(0)} & = & \\left(\\begin{array}{rrrr}\n",
       "0 & 0 & 1 & 0 \\\\\n",
       "0 & 0 & 0 & 1 \\\\\n",
       "1 & 0 & 0 & 0 \\\\\n",
       "0 & 1 & 0 & 0\n",
       "\\end{array}\\right) \\\\ _{\\phantom{\\, (1)}}^{\\,(1)} & = & \\left(\\begin{array}{rrrr}\n",
       "0 & 0 & 0 & 1 \\\\\n",
       "0 & 0 & 1 & 0 \\\\\n",
       "0 & -1 & 0 & 0 \\\\\n",
       "-1 & 0 & 0 & 0\n",
       "\\end{array}\\right) \\\\ _{\\phantom{\\, (2)}}^{\\,(2)} & = & \\left(\\begin{array}{rrrr}\n",
       "0 & 0 & 0 & -i \\\\\n",
       "0 & 0 & i & 0 \\\\\n",
       "0 & i & 0 & 0 \\\\\n",
       "-i & 0 & 0 & 0\n",
       "\\end{array}\\right) \\\\ _{\\phantom{\\, (3)}}^{\\,(3)} & = & \\left(\\begin{array}{rrrr}\n",
       "0 & 0 & 1 & 0 \\\\\n",
       "0 & 0 & 0 & -1 \\\\\n",
       "-1 & 0 & 0 & 0 \\\\\n",
       "0 & 1 & 0 & 0\n",
       "\\end{array}\\right) \\end{array}$$"
      ],
      "text/plain": [
       "^0 = Type-(1,1) tensor on the Free module C^0(M;S) of sections on the 4-dimensional Lorentzian manifold M with values in the complex vector bundle S of rank 4 \n",
       "^1 = Type-(1,1) tensor on the Free module C^0(M;S) of sections on the 4-dimensional Lorentzian manifold M with values in the complex vector bundle S of rank 4 \n",
       "^2 = Type-(1,1) tensor on the Free module C^0(M;S) of sections on the 4-dimensional Lorentzian manifold M with values in the complex vector bundle S of rank 4 \n",
       "^3 = Type-(1,1) tensor on the Free module C^0(M;S) of sections on the 4-dimensional Lorentzian manifold M with values in the complex vector bundle S of rank 4 "
      ]
     },
     "execution_count": 111,
     "metadata": {},
     "output_type": "execute_result"
    }
   ],
   "source": [
    "Gamma_5_w = (((I*Gamma_w[0]).contract(Gamma_w[1])).contract(Gamma_w[2])).contract(Gamma_w[3])\n",
    "dslash_weyl = d0*Gamma_w[0]+d1*Gamma_w[1]+d2*Gamma_w[2]+d3*Gamma_w[3]\n",
    "Gamma_w.display('')"
   ]
  },
  {
   "cell_type": "code",
   "execution_count": 110,
   "metadata": {},
   "outputs": [
    {
     "data": {
      "text/html": [
       "<html><script type=\"math/tex; mode=display\">\\newcommand{\\Bold}[1]{\\mathbf{#1}}\\begin{array}{lcl} _{\\,0}^{\\phantom{\\, 0}} & = & \\frac{1}{2} \\, {\\left(\\sqrt{2} d_{0} + \\sqrt{2} d_{3}\\right)} \\psi_{1}\\left(r, t, {\\theta}, {\\phi}\\right) + \\frac{1}{2} \\, {\\left(\\sqrt{2} d_{1} - i \\, \\sqrt{2} d_{2}\\right)} \\psi_{2}\\left(r, t, {\\theta}, {\\phi}\\right) + \\frac{1}{2} \\, {\\left(\\sqrt{2} d_{0} + \\sqrt{2} d_{3}\\right)} \\psi_{3}\\left(r, t, {\\theta}, {\\phi}\\right) + \\frac{1}{2} \\, {\\left(\\sqrt{2} d_{1} - i \\, \\sqrt{2} d_{2}\\right)} \\psi_{4}\\left(r, t, {\\theta}, {\\phi}\\right) \\\\ _{\\,1}^{\\phantom{\\, 1}} & = & \\frac{1}{2} \\, {\\left(\\sqrt{2} d_{1} + i \\, \\sqrt{2} d_{2}\\right)} \\psi_{1}\\left(r, t, {\\theta}, {\\phi}\\right) + \\frac{1}{2} \\, {\\left(\\sqrt{2} d_{0} - \\sqrt{2} d_{3}\\right)} \\psi_{2}\\left(r, t, {\\theta}, {\\phi}\\right) + \\frac{1}{2} \\, {\\left(\\sqrt{2} d_{1} + i \\, \\sqrt{2} d_{2}\\right)} \\psi_{3}\\left(r, t, {\\theta}, {\\phi}\\right) + \\frac{1}{2} \\, {\\left(\\sqrt{2} d_{0} - \\sqrt{2} d_{3}\\right)} \\psi_{4}\\left(r, t, {\\theta}, {\\phi}\\right) \\\\ _{\\,2}^{\\phantom{\\, 2}} & = & \\frac{1}{2} \\, {\\left(\\sqrt{2} d_{0} - \\sqrt{2} d_{3}\\right)} \\psi_{1}\\left(r, t, {\\theta}, {\\phi}\\right) - \\frac{1}{2} \\, {\\left(\\sqrt{2} d_{1} - i \\, \\sqrt{2} d_{2}\\right)} \\psi_{2}\\left(r, t, {\\theta}, {\\phi}\\right) - \\frac{1}{2} \\, {\\left(\\sqrt{2} d_{0} - \\sqrt{2} d_{3}\\right)} \\psi_{3}\\left(r, t, {\\theta}, {\\phi}\\right) + \\frac{1}{2} \\, {\\left(\\sqrt{2} d_{1} - i \\, \\sqrt{2} d_{2}\\right)} \\psi_{4}\\left(r, t, {\\theta}, {\\phi}\\right) \\\\ _{\\,3}^{\\phantom{\\, 3}} & = & -\\frac{1}{2} \\, {\\left(\\sqrt{2} d_{1} + i \\, \\sqrt{2} d_{2}\\right)} \\psi_{1}\\left(r, t, {\\theta}, {\\phi}\\right) + \\frac{1}{2} \\, {\\left(\\sqrt{2} d_{0} + \\sqrt{2} d_{3}\\right)} \\psi_{2}\\left(r, t, {\\theta}, {\\phi}\\right) + \\frac{1}{2} \\, {\\left(\\sqrt{2} d_{1} + i \\, \\sqrt{2} d_{2}\\right)} \\psi_{3}\\left(r, t, {\\theta}, {\\phi}\\right) - \\frac{1}{2} \\, {\\left(\\sqrt{2} d_{0} + \\sqrt{2} d_{3}\\right)} \\psi_{4}\\left(r, t, {\\theta}, {\\phi}\\right) \\end{array}</script></html>"
      ],
      "text/latex": [
       "$$\\newcommand{\\Bold}[1]{\\mathbf{#1}}\\begin{array}{lcl} _{\\,0}^{\\phantom{\\, 0}} & = & \\frac{1}{2} \\, {\\left(\\sqrt{2} d_{0} + \\sqrt{2} d_{3}\\right)} \\psi_{1}\\left(r, t, {\\theta}, {\\phi}\\right) + \\frac{1}{2} \\, {\\left(\\sqrt{2} d_{1} - i \\, \\sqrt{2} d_{2}\\right)} \\psi_{2}\\left(r, t, {\\theta}, {\\phi}\\right) + \\frac{1}{2} \\, {\\left(\\sqrt{2} d_{0} + \\sqrt{2} d_{3}\\right)} \\psi_{3}\\left(r, t, {\\theta}, {\\phi}\\right) + \\frac{1}{2} \\, {\\left(\\sqrt{2} d_{1} - i \\, \\sqrt{2} d_{2}\\right)} \\psi_{4}\\left(r, t, {\\theta}, {\\phi}\\right) \\\\ _{\\,1}^{\\phantom{\\, 1}} & = & \\frac{1}{2} \\, {\\left(\\sqrt{2} d_{1} + i \\, \\sqrt{2} d_{2}\\right)} \\psi_{1}\\left(r, t, {\\theta}, {\\phi}\\right) + \\frac{1}{2} \\, {\\left(\\sqrt{2} d_{0} - \\sqrt{2} d_{3}\\right)} \\psi_{2}\\left(r, t, {\\theta}, {\\phi}\\right) + \\frac{1}{2} \\, {\\left(\\sqrt{2} d_{1} + i \\, \\sqrt{2} d_{2}\\right)} \\psi_{3}\\left(r, t, {\\theta}, {\\phi}\\right) + \\frac{1}{2} \\, {\\left(\\sqrt{2} d_{0} - \\sqrt{2} d_{3}\\right)} \\psi_{4}\\left(r, t, {\\theta}, {\\phi}\\right) \\\\ _{\\,2}^{\\phantom{\\, 2}} & = & \\frac{1}{2} \\, {\\left(\\sqrt{2} d_{0} - \\sqrt{2} d_{3}\\right)} \\psi_{1}\\left(r, t, {\\theta}, {\\phi}\\right) - \\frac{1}{2} \\, {\\left(\\sqrt{2} d_{1} - i \\, \\sqrt{2} d_{2}\\right)} \\psi_{2}\\left(r, t, {\\theta}, {\\phi}\\right) - \\frac{1}{2} \\, {\\left(\\sqrt{2} d_{0} - \\sqrt{2} d_{3}\\right)} \\psi_{3}\\left(r, t, {\\theta}, {\\phi}\\right) + \\frac{1}{2} \\, {\\left(\\sqrt{2} d_{1} - i \\, \\sqrt{2} d_{2}\\right)} \\psi_{4}\\left(r, t, {\\theta}, {\\phi}\\right) \\\\ _{\\,3}^{\\phantom{\\, 3}} & = & -\\frac{1}{2} \\, {\\left(\\sqrt{2} d_{1} + i \\, \\sqrt{2} d_{2}\\right)} \\psi_{1}\\left(r, t, {\\theta}, {\\phi}\\right) + \\frac{1}{2} \\, {\\left(\\sqrt{2} d_{0} + \\sqrt{2} d_{3}\\right)} \\psi_{2}\\left(r, t, {\\theta}, {\\phi}\\right) + \\frac{1}{2} \\, {\\left(\\sqrt{2} d_{1} + i \\, \\sqrt{2} d_{2}\\right)} \\psi_{3}\\left(r, t, {\\theta}, {\\phi}\\right) - \\frac{1}{2} \\, {\\left(\\sqrt{2} d_{0} + \\sqrt{2} d_{3}\\right)} \\psi_{4}\\left(r, t, {\\theta}, {\\phi}\\right) \\end{array}$$"
      ],
      "text/plain": [
       "_0 = 1/2*(sqrt(2)*d0 + sqrt(2)*d3)*psi1(r, t, th, ph) + 1/2*(sqrt(2)*d1 - I*sqrt(2)*d2)*psi2(r, t, th, ph) + 1/2*(sqrt(2)*d0 + sqrt(2)*d3)*psi3(r, t, th, ph) + 1/2*(sqrt(2)*d1 - I*sqrt(2)*d2)*psi4(r, t, th, ph) \n",
       "_1 = 1/2*(sqrt(2)*d1 + I*sqrt(2)*d2)*psi1(r, t, th, ph) + 1/2*(sqrt(2)*d0 - sqrt(2)*d3)*psi2(r, t, th, ph) + 1/2*(sqrt(2)*d1 + I*sqrt(2)*d2)*psi3(r, t, th, ph) + 1/2*(sqrt(2)*d0 - sqrt(2)*d3)*psi4(r, t, th, ph) \n",
       "_2 = 1/2*(sqrt(2)*d0 - sqrt(2)*d3)*psi1(r, t, th, ph) - 1/2*(sqrt(2)*d1 - I*sqrt(2)*d2)*psi2(r, t, th, ph) - 1/2*(sqrt(2)*d0 - sqrt(2)*d3)*psi3(r, t, th, ph) + 1/2*(sqrt(2)*d1 - I*sqrt(2)*d2)*psi4(r, t, th, ph) \n",
       "_3 = -1/2*(sqrt(2)*d1 + I*sqrt(2)*d2)*psi1(r, t, th, ph) + 1/2*(sqrt(2)*d0 + sqrt(2)*d3)*psi2(r, t, th, ph) + 1/2*(sqrt(2)*d1 + I*sqrt(2)*d2)*psi3(r, t, th, ph) - 1/2*(sqrt(2)*d0 + sqrt(2)*d3)*psi4(r, t, th, ph) "
      ]
     },
     "execution_count": 110,
     "metadata": {},
     "output_type": "execute_result"
    }
   ],
   "source": [
    "psi_w = U.comp.contract(psi)\n",
    "dslash_weyl.contract(psi_w).comp().display('')"
   ]
  }
 ],
 "metadata": {
  "kernelspec": {
   "display_name": "SageMath 9.3",
   "language": "sage",
   "name": "sagemath"
  },
  "language_info": {
   "codemirror_mode": {
    "name": "ipython",
    "version": 3
   },
   "file_extension": ".py",
   "mimetype": "text/x-python",
   "name": "python",
   "nbconvert_exporter": "python",
   "pygments_lexer": "ipython3",
   "version": "3.7.10"
  }
 },
 "nbformat": 4,
 "nbformat_minor": 4
}
