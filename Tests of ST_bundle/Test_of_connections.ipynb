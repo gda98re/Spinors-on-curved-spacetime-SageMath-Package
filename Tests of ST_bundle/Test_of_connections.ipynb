{
 "cells": [
  {
   "cell_type": "markdown",
   "metadata": {},
   "source": [
    "# TEST OF CONNECTIONS"
   ]
  },
  {
   "cell_type": "markdown",
   "metadata": {},
   "source": [
    "## Basic initialization of the lorentzian manifold"
   ]
  },
  {
   "cell_type": "markdown",
   "metadata": {},
   "source": [
    "Initialization of the Schwarzschild manifold $\\mathcal M_{Schwarzschild}$, atlas with Schwarzschild chart (SD) and of the metric tensor $g$ :"
   ]
  },
  {
   "cell_type": "code",
   "execution_count": 1,
   "metadata": {},
   "outputs": [
    {
     "data": {
      "text/html": [
       "<html><script type=\"math/tex; mode=display\">\\newcommand{\\Bold}[1]{\\mathbf{#1}}g = \\left( \\frac{2 \\, m}{r} - 1 \\right) \\mathrm{d} t\\otimes \\mathrm{d} t + \\left( -\\frac{1}{\\frac{2 \\, m}{r} - 1} \\right) \\mathrm{d} r\\otimes \\mathrm{d} r + r^{2} \\mathrm{d} {\\theta}\\otimes \\mathrm{d} {\\theta} + r^{2} \\sin\\left({\\theta}\\right)^{2} \\mathrm{d} {\\phi}\\otimes \\mathrm{d} {\\phi}</script></html>"
      ],
      "text/latex": [
       "$$\\newcommand{\\Bold}[1]{\\mathbf{#1}}g = \\left( \\frac{2 \\, m}{r} - 1 \\right) \\mathrm{d} t\\otimes \\mathrm{d} t + \\left( -\\frac{1}{\\frac{2 \\, m}{r} - 1} \\right) \\mathrm{d} r\\otimes \\mathrm{d} r + r^{2} \\mathrm{d} {\\theta}\\otimes \\mathrm{d} {\\theta} + r^{2} \\sin\\left({\\theta}\\right)^{2} \\mathrm{d} {\\phi}\\otimes \\mathrm{d} {\\phi}$$"
      ],
      "text/plain": [
       "g = (2*m/r - 1) dt*dt - 1/(2*m/r - 1) dr*dr + r^2 dth*dth + r^2*sin(th)^2 dph*dph"
      ]
     },
     "execution_count": 1,
     "metadata": {},
     "output_type": "execute_result"
    }
   ],
   "source": [
    "%display latex\n",
    "\n",
    "M = Manifold(4, 'M', latex_name=r'\\mathcal{M}', structure='Lorentzian')\n",
    "#BL.<t,r,th,ph> = M.chart(r\"t r th:(0,pi):\\theta ph:(0,2*pi):\\phi\") #boyer-lindquist chart definition\n",
    "SD.<t, r, th, ph> = M.chart(r\"t r:(0,+oo) th:(0,pi):\\theta ph:(0,2*pi):\\phi:periodic\")\n",
    "\n",
    "var('m', domain='real')\n",
    "#var('m, a', domain='real') #definition of Kerr metric parameters\n",
    "\n",
    "g = M.metric() #we put the label g on the metric tensor\n",
    "\n",
    "#rho2 = r^2 + (a*cos(th))^2\n",
    "#Delta = r^2 -2*m*r + a^2\n",
    "\n",
    "#g[0,0] = -(1-2*m*r/rho2)\n",
    "#g[0,3] = -2*a*m*r*sin(th)^2/rho2\n",
    "#g[1,1], g[2,2] = rho2/Delta, rho2\n",
    "#g[3,3] = (r^2+a^2+2*m*r*(a*sin(th))^2/rho2)*sin(th)^2\n",
    "g[0, 0] = - (1 - 2*m/r)\n",
    "g[1, 1] = 1/(1 - 2*m/r)\n",
    "g[2, 2] = r^2\n",
    "g[3, 3] = r^2*sin(th)^2\n",
    "\n",
    "g.display()"
   ]
  },
  {
   "cell_type": "markdown",
   "metadata": {},
   "source": [
    "## Initialization of the orthonormal tetrad"
   ]
  },
  {
   "cell_type": "markdown",
   "metadata": {},
   "source": [
    "Definition of the orthonormal tetrad frame $e_{(a)}$ (Chandrasekar notation) and its dual frame $e^{(a)} = \\eta^{(a)(b)}g(e_{(b)},-)$ :"
   ]
  },
  {
   "cell_type": "code",
   "execution_count": 2,
   "metadata": {},
   "outputs": [],
   "source": [
    "e0 = M.vector_field(1/sqrt(1-2*m/r), 0, 0, 0, frame=SD.frame(), name='e_{(0)}')\n",
    "e1 = M.vector_field(0, sqrt(1-2*m/r), 0, 0, frame=SD.frame(), name='e_{(1)}')\n",
    "e2 = M.vector_field(0, 0, 1/r, 0, frame=SD.frame(), name='e_{(2)}')\n",
    "e3 = M.vector_field(0, 0, 0, 1/(r*sin(th)), frame=SD.frame(), name='e_{(3)}')\n",
    "\n",
    "\n",
    "e = M.vector_frame('e', (e0, e1, e2, e3)) #costruction of the tetrad collection object e_{a}\n",
    "de = e.coframe() #construction of the tetrad coframe object e^{a}  \n"
   ]
  },
  {
   "cell_type": "markdown",
   "metadata": {},
   "source": [
    "## ST bundle"
   ]
  },
  {
   "cell_type": "markdown",
   "metadata": {},
   "source": [
    "Definition of the ST bundle:"
   ]
  },
  {
   "cell_type": "code",
   "execution_count": 3,
   "metadata": {},
   "outputs": [],
   "source": [
    "from ST_bundle.ST_bundle import ST_bundle"
   ]
  },
  {
   "cell_type": "code",
   "execution_count": 4,
   "metadata": {},
   "outputs": [],
   "source": [
    "STb = ST_bundle(M,e)"
   ]
  },
  {
   "cell_type": "markdown",
   "metadata": {},
   "source": [
    "## Frame bundle connection $D_{fb}$ (tconnection)"
   ]
  },
  {
   "cell_type": "markdown",
   "metadata": {},
   "source": [
    "The Frame bundle connection is a smart object that acts on objects with tindices and sindices. It that takes a tangent vector field, or the entire tetrad frame and gives as a result the frame bundle covariant derivative (tcovariant derivative) with respect to the tangent vector or the tetrad frame. It doesn't act on sindices."
   ]
  },
  {
   "cell_type": "markdown",
   "metadata": {},
   "source": [
    "The connection coefficents are the Ricci rotation coefficents $\\omega^{(a)}_{\\ \\ \\ \\ (b)(c)}$"
   ]
  },
  {
   "cell_type": "code",
   "execution_count": 5,
   "metadata": {},
   "outputs": [
    {
     "data": {
      "text/html": [
       "<html><script type=\"math/tex; mode=display\">\\newcommand{\\Bold}[1]{\\mathbf{#1}}\\verb|['up',|\\phantom{\\verb!x!}\\verb|'down',|\\phantom{\\verb!x!}\\verb|'down']|\\phantom{\\verb!x!}\\verb|Tetrad|\\phantom{\\verb!x!}\\verb|index|\\phantom{\\verb!x!}\\verb|family|\\phantom{\\verb!x!}\\verb|of|\\phantom{\\verb!x!}\\verb|scalar|\\phantom{\\verb!x!}\\verb|fields|\\phantom{\\verb!x!}\\verb|on|\\phantom{\\verb!x!}\\verb|M|\\phantom{\\verb!x!}\\verb|with|\\phantom{\\verb!x!}\\verb|respect|\\phantom{\\verb!x!}\\verb|to|\\phantom{\\verb!x!}\\verb|the|\\phantom{\\verb!x!}\\verb|tetrad|\\phantom{\\verb!x!}\\verb|frame|\\phantom{\\verb!x!}\\verb|Vector|\\phantom{\\verb!x!}\\verb|frame|\\phantom{\\verb!x!}\\verb|(M,|\\phantom{\\verb!x!}\\verb|(e_0,e_1,e_2,e_3))|</script></html>"
      ],
      "text/latex": [
       "$$\\newcommand{\\Bold}[1]{\\mathbf{#1}}\\verb|['up',|\\phantom{\\verb!x!}\\verb|'down',|\\phantom{\\verb!x!}\\verb|'down']|\\phantom{\\verb!x!}\\verb|Tetrad|\\phantom{\\verb!x!}\\verb|index|\\phantom{\\verb!x!}\\verb|family|\\phantom{\\verb!x!}\\verb|of|\\phantom{\\verb!x!}\\verb|scalar|\\phantom{\\verb!x!}\\verb|fields|\\phantom{\\verb!x!}\\verb|on|\\phantom{\\verb!x!}\\verb|M|\\phantom{\\verb!x!}\\verb|with|\\phantom{\\verb!x!}\\verb|respect|\\phantom{\\verb!x!}\\verb|to|\\phantom{\\verb!x!}\\verb|the|\\phantom{\\verb!x!}\\verb|tetrad|\\phantom{\\verb!x!}\\verb|frame|\\phantom{\\verb!x!}\\verb|Vector|\\phantom{\\verb!x!}\\verb|frame|\\phantom{\\verb!x!}\\verb|(M,|\\phantom{\\verb!x!}\\verb|(e_0,e_1,e_2,e_3))|$$"
      ],
      "text/plain": [
       "['up', 'down', 'down'] Tetrad index family of scalar fields on M with respect to the tetrad frame Vector frame (M, (e_0,e_1,e_2,e_3))"
      ]
     },
     "execution_count": 5,
     "metadata": {},
     "output_type": "execute_result"
    }
   ],
   "source": [
    "nabla_t = STb.tconnection() #definition of the tconnection\n",
    "nabla_t.connection_coef #Ricci rotation coefficents"
   ]
  },
  {
   "cell_type": "markdown",
   "metadata": {},
   "source": [
    "Example: calculation of the tcovariant derivative $S^{(a)}_{\\ \\ \\ \\ | (b)} = S^{(a)}_{\\ \\ \\ \\ , (b)} + \\omega^{(a)}_{\\ \\ \\ \\ (c)(b)}S^{(c)}$"
   ]
  },
  {
   "cell_type": "code",
   "execution_count": 6,
   "metadata": {},
   "outputs": [
    {
     "data": {
      "text/html": [
       "<html><script type=\"math/tex; mode=display\">\\newcommand{\\Bold}[1]{\\mathbf{#1}}\\verb|['up',|\\phantom{\\verb!x!}\\verb|'down']|\\phantom{\\verb!x!}\\verb|Tetrad|\\phantom{\\verb!x!}\\verb|index|\\phantom{\\verb!x!}\\verb|family|\\phantom{\\verb!x!}\\verb|of|\\phantom{\\verb!x!}\\verb|scalar|\\phantom{\\verb!x!}\\verb|fields|\\phantom{\\verb!x!}\\verb|on|\\phantom{\\verb!x!}\\verb|M|\\phantom{\\verb!x!}\\verb|with|\\phantom{\\verb!x!}\\verb|respect|\\phantom{\\verb!x!}\\verb|to|\\phantom{\\verb!x!}\\verb|the|\\phantom{\\verb!x!}\\verb|tetrad|\\phantom{\\verb!x!}\\verb|frame|\\phantom{\\verb!x!}\\verb|Vector|\\phantom{\\verb!x!}\\verb|frame|\\phantom{\\verb!x!}\\verb|(M,|\\phantom{\\verb!x!}\\verb|(e_0,e_1,e_2,e_3))|</script></html>"
      ],
      "text/latex": [
       "$$\\newcommand{\\Bold}[1]{\\mathbf{#1}}\\verb|['up',|\\phantom{\\verb!x!}\\verb|'down']|\\phantom{\\verb!x!}\\verb|Tetrad|\\phantom{\\verb!x!}\\verb|index|\\phantom{\\verb!x!}\\verb|family|\\phantom{\\verb!x!}\\verb|of|\\phantom{\\verb!x!}\\verb|scalar|\\phantom{\\verb!x!}\\verb|fields|\\phantom{\\verb!x!}\\verb|on|\\phantom{\\verb!x!}\\verb|M|\\phantom{\\verb!x!}\\verb|with|\\phantom{\\verb!x!}\\verb|respect|\\phantom{\\verb!x!}\\verb|to|\\phantom{\\verb!x!}\\verb|the|\\phantom{\\verb!x!}\\verb|tetrad|\\phantom{\\verb!x!}\\verb|frame|\\phantom{\\verb!x!}\\verb|Vector|\\phantom{\\verb!x!}\\verb|frame|\\phantom{\\verb!x!}\\verb|(M,|\\phantom{\\verb!x!}\\verb|(e_0,e_1,e_2,e_3))|$$"
      ],
      "text/plain": [
       "['up', 'down'] Tetrad index family of scalar fields on M with respect to the tetrad frame Vector frame (M, (e_0,e_1,e_2,e_3))"
      ]
     },
     "execution_count": 6,
     "metadata": {},
     "output_type": "execute_result"
    }
   ],
   "source": [
    "S = STb.scalar([\"up\"])\n",
    "nabla_t(e,S)"
   ]
  },
  {
   "cell_type": "markdown",
   "metadata": {},
   "source": [
    "Equivalenty one can use the method tcov_der() of the class _scalar:"
   ]
  },
  {
   "cell_type": "code",
   "execution_count": 7,
   "metadata": {},
   "outputs": [
    {
     "data": {
      "text/html": [
       "<html><script type=\"math/tex; mode=display\">\\newcommand{\\Bold}[1]{\\mathbf{#1}}\\mathrm{True}</script></html>"
      ],
      "text/latex": [
       "$$\\newcommand{\\Bold}[1]{\\mathbf{#1}}\\mathrm{True}$$"
      ],
      "text/plain": [
       "True"
      ]
     },
     "execution_count": 7,
     "metadata": {},
     "output_type": "execute_result"
    }
   ],
   "source": [
    "nabla_t(e,S) == S.tcov_der()"
   ]
  },
  {
   "cell_type": "markdown",
   "metadata": {},
   "source": [
    "Example: calculation of the tcovariant derivative with respect to the tangent vector V: $V^{(b)}S^{(a)}_{\\ \\ \\ \\ | (b)} = V^{(b)}(S^{(a)}_{\\ \\ \\ \\ , (b)} + \\omega^{(a)}_{\\ \\ \\ \\ (c)(b)}S^{(c)})$"
   ]
  },
  {
   "cell_type": "code",
   "execution_count": 8,
   "metadata": {},
   "outputs": [
    {
     "data": {
      "text/html": [
       "<html><script type=\"math/tex; mode=display\">\\newcommand{\\Bold}[1]{\\mathbf{#1}}\\verb|['up']|\\phantom{\\verb!x!}\\verb|Tetrad|\\phantom{\\verb!x!}\\verb|index|\\phantom{\\verb!x!}\\verb|family|\\phantom{\\verb!x!}\\verb|of|\\phantom{\\verb!x!}\\verb|scalar|\\phantom{\\verb!x!}\\verb|fields|\\phantom{\\verb!x!}\\verb|on|\\phantom{\\verb!x!}\\verb|M|\\phantom{\\verb!x!}\\verb|with|\\phantom{\\verb!x!}\\verb|respect|\\phantom{\\verb!x!}\\verb|to|\\phantom{\\verb!x!}\\verb|the|\\phantom{\\verb!x!}\\verb|tetrad|\\phantom{\\verb!x!}\\verb|frame|\\phantom{\\verb!x!}\\verb|Vector|\\phantom{\\verb!x!}\\verb|frame|\\phantom{\\verb!x!}\\verb|(M,|\\phantom{\\verb!x!}\\verb|(e_0,e_1,e_2,e_3))|</script></html>"
      ],
      "text/latex": [
       "$$\\newcommand{\\Bold}[1]{\\mathbf{#1}}\\verb|['up']|\\phantom{\\verb!x!}\\verb|Tetrad|\\phantom{\\verb!x!}\\verb|index|\\phantom{\\verb!x!}\\verb|family|\\phantom{\\verb!x!}\\verb|of|\\phantom{\\verb!x!}\\verb|scalar|\\phantom{\\verb!x!}\\verb|fields|\\phantom{\\verb!x!}\\verb|on|\\phantom{\\verb!x!}\\verb|M|\\phantom{\\verb!x!}\\verb|with|\\phantom{\\verb!x!}\\verb|respect|\\phantom{\\verb!x!}\\verb|to|\\phantom{\\verb!x!}\\verb|the|\\phantom{\\verb!x!}\\verb|tetrad|\\phantom{\\verb!x!}\\verb|frame|\\phantom{\\verb!x!}\\verb|Vector|\\phantom{\\verb!x!}\\verb|frame|\\phantom{\\verb!x!}\\verb|(M,|\\phantom{\\verb!x!}\\verb|(e_0,e_1,e_2,e_3))|$$"
      ],
      "text/plain": [
       "['up'] Tetrad index family of scalar fields on M with respect to the tetrad frame Vector frame (M, (e_0,e_1,e_2,e_3))"
      ]
     },
     "execution_count": 8,
     "metadata": {},
     "output_type": "execute_result"
    }
   ],
   "source": [
    "V = M.vector_field([1,0,0,0])\n",
    "nabla_t(V,S)"
   ]
  },
  {
   "cell_type": "markdown",
   "metadata": {},
   "source": [
    "Same works also for spinor tensors with tindices, tconnection doesn't see sindices though.\n",
    "Here $\\gamma^{(a)}_{\\ \\ \\  |(b)}$"
   ]
  },
  {
   "cell_type": "code",
   "execution_count": 9,
   "metadata": {},
   "outputs": [
    {
     "name": "stdout",
     "output_type": "stream",
     "text": [
      "True\n"
     ]
    },
    {
     "data": {
      "text/html": [
       "<html><script type=\"math/tex; mode=display\">\\newcommand{\\Bold}[1]{\\mathbf{#1}}\\verb|['up']|\\phantom{\\verb!x!}\\verb|Tetrad|\\phantom{\\verb!x!}\\verb|index|\\phantom{\\verb!x!}\\verb|family|\\phantom{\\verb!x!}\\verb|of|\\phantom{\\verb!x!}\\verb|Tensors|\\phantom{\\verb!x!}\\verb|(1,|\\phantom{\\verb!x!}\\verb|1)|\\phantom{\\verb!x!}\\verb|on|\\phantom{\\verb!x!}\\verb|the|\\phantom{\\verb!x!}\\verb|spin|\\phantom{\\verb!x!}\\verb|bundle|\\phantom{\\verb!x!}\\verb|section|\\phantom{\\verb!x!}\\verb|module|\\phantom{\\verb!x!}\\verb|with|\\phantom{\\verb!x!}\\verb|respect|\\phantom{\\verb!x!}\\verb|to|\\phantom{\\verb!x!}\\verb|the|\\phantom{\\verb!x!}\\verb|tetrad|\\phantom{\\verb!x!}\\verb|frame|\\phantom{\\verb!x!}\\verb|Vector|\\phantom{\\verb!x!}\\verb|frame|\\phantom{\\verb!x!}\\verb|(M,|\\phantom{\\verb!x!}\\verb|(e_0,e_1,e_2,e_3))|</script></html>"
      ],
      "text/latex": [
       "$$\\newcommand{\\Bold}[1]{\\mathbf{#1}}\\verb|['up']|\\phantom{\\verb!x!}\\verb|Tetrad|\\phantom{\\verb!x!}\\verb|index|\\phantom{\\verb!x!}\\verb|family|\\phantom{\\verb!x!}\\verb|of|\\phantom{\\verb!x!}\\verb|Tensors|\\phantom{\\verb!x!}\\verb|(1,|\\phantom{\\verb!x!}\\verb|1)|\\phantom{\\verb!x!}\\verb|on|\\phantom{\\verb!x!}\\verb|the|\\phantom{\\verb!x!}\\verb|spin|\\phantom{\\verb!x!}\\verb|bundle|\\phantom{\\verb!x!}\\verb|section|\\phantom{\\verb!x!}\\verb|module|\\phantom{\\verb!x!}\\verb|with|\\phantom{\\verb!x!}\\verb|respect|\\phantom{\\verb!x!}\\verb|to|\\phantom{\\verb!x!}\\verb|the|\\phantom{\\verb!x!}\\verb|tetrad|\\phantom{\\verb!x!}\\verb|frame|\\phantom{\\verb!x!}\\verb|Vector|\\phantom{\\verb!x!}\\verb|frame|\\phantom{\\verb!x!}\\verb|(M,|\\phantom{\\verb!x!}\\verb|(e_0,e_1,e_2,e_3))|$$"
      ],
      "text/plain": [
       "['up'] Tetrad index family of Tensors (1, 1) on the spin bundle section module with respect to the tetrad frame Vector frame (M, (e_0,e_1,e_2,e_3))"
      ]
     },
     "execution_count": 9,
     "metadata": {},
     "output_type": "execute_result"
    }
   ],
   "source": [
    "Gamma = STb.Dirac_matrices(\"up\")\n",
    "print(nabla_t(e,Gamma) == Gamma.tcov_der())\n",
    "nabla_t(V,Gamma)"
   ]
  },
  {
   "cell_type": "markdown",
   "metadata": {},
   "source": [
    "Connection works also on sections of the proper frame bundle, using the methods in Sage class BundleConnection, from which it inherits"
   ]
  },
  {
   "cell_type": "code",
   "execution_count": 10,
   "metadata": {},
   "outputs": [
    {
     "data": {
      "text/html": [
       "<html><script type=\"math/tex; mode=display\">\\newcommand{\\Bold}[1]{\\mathbf{#1}}\\verb|['up',|\\phantom{\\verb!x!}\\verb|'down']|\\phantom{\\verb!x!}\\verb|Tetrad|\\phantom{\\verb!x!}\\verb|index|\\phantom{\\verb!x!}\\verb|family|\\phantom{\\verb!x!}\\verb|of|\\phantom{\\verb!x!}\\verb|scalar|\\phantom{\\verb!x!}\\verb|fields|\\phantom{\\verb!x!}\\verb|on|\\phantom{\\verb!x!}\\verb|M|\\phantom{\\verb!x!}\\verb|with|\\phantom{\\verb!x!}\\verb|respect|\\phantom{\\verb!x!}\\verb|to|\\phantom{\\verb!x!}\\verb|the|\\phantom{\\verb!x!}\\verb|tetrad|\\phantom{\\verb!x!}\\verb|frame|\\phantom{\\verb!x!}\\verb|Vector|\\phantom{\\verb!x!}\\verb|frame|\\phantom{\\verb!x!}\\verb|(M,|\\phantom{\\verb!x!}\\verb|(e_0,e_1,e_2,e_3))|</script></html>"
      ],
      "text/latex": [
       "$$\\newcommand{\\Bold}[1]{\\mathbf{#1}}\\verb|['up',|\\phantom{\\verb!x!}\\verb|'down']|\\phantom{\\verb!x!}\\verb|Tetrad|\\phantom{\\verb!x!}\\verb|index|\\phantom{\\verb!x!}\\verb|family|\\phantom{\\verb!x!}\\verb|of|\\phantom{\\verb!x!}\\verb|scalar|\\phantom{\\verb!x!}\\verb|fields|\\phantom{\\verb!x!}\\verb|on|\\phantom{\\verb!x!}\\verb|M|\\phantom{\\verb!x!}\\verb|with|\\phantom{\\verb!x!}\\verb|respect|\\phantom{\\verb!x!}\\verb|to|\\phantom{\\verb!x!}\\verb|the|\\phantom{\\verb!x!}\\verb|tetrad|\\phantom{\\verb!x!}\\verb|frame|\\phantom{\\verb!x!}\\verb|Vector|\\phantom{\\verb!x!}\\verb|frame|\\phantom{\\verb!x!}\\verb|(M,|\\phantom{\\verb!x!}\\verb|(e_0,e_1,e_2,e_3))|$$"
      ],
      "text/plain": [
       "['up', 'down'] Tetrad index family of scalar fields on M with respect to the tetrad frame Vector frame (M, (e_0,e_1,e_2,e_3))"
      ]
     },
     "execution_count": 10,
     "metadata": {},
     "output_type": "execute_result"
    }
   ],
   "source": [
    "F = STb.fbundle.section([1,0,0,0])\n",
    "nabla_t(V,F) #-> returns a section\n",
    "nabla_t(e,F) #-> returns a tindices object"
   ]
  },
  {
   "cell_type": "markdown",
   "metadata": {},
   "source": [
    "tconnection inherits all the methods of the class BundleConnection, for example connection_form, curvature_form ..."
   ]
  },
  {
   "cell_type": "code",
   "execution_count": 11,
   "metadata": {},
   "outputs": [
    {
     "data": {
      "text/html": [
       "<html><script type=\"math/tex; mode=display\">\\newcommand{\\Bold}[1]{\\mathbf{#1}}\\omega^1_{\\ \\, 0} = \\frac{m}{r^{2}} \\mathrm{d} t</script></html>"
      ],
      "text/latex": [
       "$$\\newcommand{\\Bold}[1]{\\mathbf{#1}}\\omega^1_{\\ \\, 0} = \\frac{m}{r^{2}} \\mathrm{d} t$$"
      ],
      "text/plain": [
       "connection (0,1) of bundle connection \\nabla_t w.r.t. Local frame (F|_M, (e_0,e_1,e_2,e_3)) = m/r^2 dt"
      ]
     },
     "execution_count": 11,
     "metadata": {},
     "output_type": "execute_result"
    }
   ],
   "source": [
    "nabla_t.connection_form(0,1).display()"
   ]
  },
  {
   "cell_type": "code",
   "execution_count": 12,
   "metadata": {},
   "outputs": [
    {
     "data": {
      "text/html": [
       "<html><script type=\"math/tex; mode=display\">\\newcommand{\\Bold}[1]{\\mathbf{#1}}\\Omega^0_{\\ \\, 1} = \\frac{2 \\, m}{r^{3}} \\mathrm{d} t\\wedge \\mathrm{d} r</script></html>"
      ],
      "text/latex": [
       "$$\\newcommand{\\Bold}[1]{\\mathbf{#1}}\\Omega^0_{\\ \\, 1} = \\frac{2 \\, m}{r^{3}} \\mathrm{d} t\\wedge \\mathrm{d} r$$"
      ],
      "text/plain": [
       "curvature (0,1) of bundle connection \\nabla_t w.r.t. Local frame (F|_M, (e_0,e_1,e_2,e_3)) = 2*m/r^3 dt/\\dr"
      ]
     },
     "execution_count": 12,
     "metadata": {},
     "output_type": "execute_result"
    }
   ],
   "source": [
    "nabla_t.curvature_form(0,1).display()"
   ]
  },
  {
   "cell_type": "markdown",
   "metadata": {},
   "source": [
    "## Spinor bundle connection $D_{sb}$ (sconnection)"
   ]
  },
  {
   "cell_type": "markdown",
   "metadata": {},
   "source": [
    "The Spinor bundle connection is a smart object that acts on objects with sindices and tindices. It takes a tangent vector field, or the entire tetrad frame and gives as a result the Spinor bundle covariant derivative (scovariant derivative) with respect to the tangent vector or the tetrad frame. It doesn't act on tindices."
   ]
  },
  {
   "cell_type": "markdown",
   "metadata": {},
   "source": [
    "The connection coefficents are by default $\\Gamma_{(a)}= \\frac{1}{4}\\omega_{(b)(c)(a)}\\gamma^{(b)}\\gamma^{(c)}$, but the connection is up to the spinor identity times a one form ([\"down\"] scalar tindices object), so in general is:\n",
    "$\\Gamma_{(a)}^{(A)}= \\Gamma_{(a)} + IA_{(a)}$"
   ]
  },
  {
   "cell_type": "code",
   "execution_count": 13,
   "metadata": {},
   "outputs": [],
   "source": [
    "nabla_s = STb.sconnection() #is we want to add the A field (tangent bundle one form) STb.connection(A)"
   ]
  },
  {
   "cell_type": "markdown",
   "metadata": {},
   "source": [
    "Example: calculation of the tcovariant derivative $(\\gamma^{(a)}_{\\ \\ \\ \\ : (b)})^{i} = (\\gamma^{(a)}_{\\ \\ \\ \\ , (b)})^{i} + (\\Gamma_{(b)})^{i}_{\\ \\ \\ j}(\\gamma^{(a)})^{j}$"
   ]
  },
  {
   "cell_type": "code",
   "execution_count": 14,
   "metadata": {},
   "outputs": [
    {
     "data": {
      "text/html": [
       "<html><script type=\"math/tex; mode=display\">\\newcommand{\\Bold}[1]{\\mathbf{#1}}\\mathrm{True}</script></html>"
      ],
      "text/latex": [
       "$$\\newcommand{\\Bold}[1]{\\mathbf{#1}}\\mathrm{True}$$"
      ],
      "text/plain": [
       "True"
      ]
     },
     "execution_count": 14,
     "metadata": {},
     "output_type": "execute_result"
    }
   ],
   "source": [
    "nabla_s(e,Gamma) == Gamma.scov_der() #as before it is equivalent"
   ]
  },
  {
   "cell_type": "markdown",
   "metadata": {},
   "source": [
    "Example: calculation of the scovariant derivative with respect to the tangent vector V: $V^{(b)}(\\gamma^{(a)}_{\\ \\ \\ \\ : (b)})^{i} = V^{(b)}[(\\gamma^{(a)}_{\\ \\ \\ \\ , (b)})^{i} + (\\Gamma_{(b)})^{i}_{\\ \\ \\ j}(\\gamma^{(a)})^{j}]$"
   ]
  },
  {
   "cell_type": "code",
   "execution_count": 15,
   "metadata": {},
   "outputs": [
    {
     "data": {
      "text/html": [
       "<html><script type=\"math/tex; mode=display\">\\newcommand{\\Bold}[1]{\\mathbf{#1}}\\verb|['up']|\\phantom{\\verb!x!}\\verb|Tetrad|\\phantom{\\verb!x!}\\verb|index|\\phantom{\\verb!x!}\\verb|family|\\phantom{\\verb!x!}\\verb|of|\\phantom{\\verb!x!}\\verb|Tensors|\\phantom{\\verb!x!}\\verb|(1,|\\phantom{\\verb!x!}\\verb|1)|\\phantom{\\verb!x!}\\verb|on|\\phantom{\\verb!x!}\\verb|the|\\phantom{\\verb!x!}\\verb|spin|\\phantom{\\verb!x!}\\verb|bundle|\\phantom{\\verb!x!}\\verb|section|\\phantom{\\verb!x!}\\verb|module|\\phantom{\\verb!x!}\\verb|with|\\phantom{\\verb!x!}\\verb|respect|\\phantom{\\verb!x!}\\verb|to|\\phantom{\\verb!x!}\\verb|the|\\phantom{\\verb!x!}\\verb|tetrad|\\phantom{\\verb!x!}\\verb|frame|\\phantom{\\verb!x!}\\verb|Vector|\\phantom{\\verb!x!}\\verb|frame|\\phantom{\\verb!x!}\\verb|(M,|\\phantom{\\verb!x!}\\verb|(e_0,e_1,e_2,e_3))|</script></html>"
      ],
      "text/latex": [
       "$$\\newcommand{\\Bold}[1]{\\mathbf{#1}}\\verb|['up']|\\phantom{\\verb!x!}\\verb|Tetrad|\\phantom{\\verb!x!}\\verb|index|\\phantom{\\verb!x!}\\verb|family|\\phantom{\\verb!x!}\\verb|of|\\phantom{\\verb!x!}\\verb|Tensors|\\phantom{\\verb!x!}\\verb|(1,|\\phantom{\\verb!x!}\\verb|1)|\\phantom{\\verb!x!}\\verb|on|\\phantom{\\verb!x!}\\verb|the|\\phantom{\\verb!x!}\\verb|spin|\\phantom{\\verb!x!}\\verb|bundle|\\phantom{\\verb!x!}\\verb|section|\\phantom{\\verb!x!}\\verb|module|\\phantom{\\verb!x!}\\verb|with|\\phantom{\\verb!x!}\\verb|respect|\\phantom{\\verb!x!}\\verb|to|\\phantom{\\verb!x!}\\verb|the|\\phantom{\\verb!x!}\\verb|tetrad|\\phantom{\\verb!x!}\\verb|frame|\\phantom{\\verb!x!}\\verb|Vector|\\phantom{\\verb!x!}\\verb|frame|\\phantom{\\verb!x!}\\verb|(M,|\\phantom{\\verb!x!}\\verb|(e_0,e_1,e_2,e_3))|$$"
      ],
      "text/plain": [
       "['up'] Tetrad index family of Tensors (1, 1) on the spin bundle section module with respect to the tetrad frame Vector frame (M, (e_0,e_1,e_2,e_3))"
      ]
     },
     "execution_count": 15,
     "metadata": {},
     "output_type": "execute_result"
    }
   ],
   "source": [
    "nabla_s(V,Gamma)"
   ]
  },
  {
   "cell_type": "markdown",
   "metadata": {},
   "source": [
    "Connection works also on sections of the proper spinor bundle (spinor fields), using the methods in Sage class BundleConnection, from which it inherits:"
   ]
  },
  {
   "cell_type": "code",
   "execution_count": 16,
   "metadata": {},
   "outputs": [
    {
     "data": {
      "text/html": [
       "<html><script type=\"math/tex; mode=display\">\\newcommand{\\Bold}[1]{\\mathbf{#1}}\\verb|['down']|\\phantom{\\verb!x!}\\verb|Tetrad|\\phantom{\\verb!x!}\\verb|index|\\phantom{\\verb!x!}\\verb|family|\\phantom{\\verb!x!}\\verb|of|\\phantom{\\verb!x!}\\verb|Tensors|\\phantom{\\verb!x!}\\verb|(1,|\\phantom{\\verb!x!}\\verb|0)|\\phantom{\\verb!x!}\\verb|on|\\phantom{\\verb!x!}\\verb|the|\\phantom{\\verb!x!}\\verb|spin|\\phantom{\\verb!x!}\\verb|bundle|\\phantom{\\verb!x!}\\verb|section|\\phantom{\\verb!x!}\\verb|module|\\phantom{\\verb!x!}\\verb|with|\\phantom{\\verb!x!}\\verb|respect|\\phantom{\\verb!x!}\\verb|to|\\phantom{\\verb!x!}\\verb|the|\\phantom{\\verb!x!}\\verb|tetrad|\\phantom{\\verb!x!}\\verb|frame|\\phantom{\\verb!x!}\\verb|Vector|\\phantom{\\verb!x!}\\verb|frame|\\phantom{\\verb!x!}\\verb|(M,|\\phantom{\\verb!x!}\\verb|(e_0,e_1,e_2,e_3))|</script></html>"
      ],
      "text/latex": [
       "$$\\newcommand{\\Bold}[1]{\\mathbf{#1}}\\verb|['down']|\\phantom{\\verb!x!}\\verb|Tetrad|\\phantom{\\verb!x!}\\verb|index|\\phantom{\\verb!x!}\\verb|family|\\phantom{\\verb!x!}\\verb|of|\\phantom{\\verb!x!}\\verb|Tensors|\\phantom{\\verb!x!}\\verb|(1,|\\phantom{\\verb!x!}\\verb|0)|\\phantom{\\verb!x!}\\verb|on|\\phantom{\\verb!x!}\\verb|the|\\phantom{\\verb!x!}\\verb|spin|\\phantom{\\verb!x!}\\verb|bundle|\\phantom{\\verb!x!}\\verb|section|\\phantom{\\verb!x!}\\verb|module|\\phantom{\\verb!x!}\\verb|with|\\phantom{\\verb!x!}\\verb|respect|\\phantom{\\verb!x!}\\verb|to|\\phantom{\\verb!x!}\\verb|the|\\phantom{\\verb!x!}\\verb|tetrad|\\phantom{\\verb!x!}\\verb|frame|\\phantom{\\verb!x!}\\verb|Vector|\\phantom{\\verb!x!}\\verb|frame|\\phantom{\\verb!x!}\\verb|(M,|\\phantom{\\verb!x!}\\verb|(e_0,e_1,e_2,e_3))|$$"
      ],
      "text/plain": [
       "['down'] Tetrad index family of Tensors (1, 0) on the spin bundle section module with respect to the tetrad frame Vector frame (M, (e_0,e_1,e_2,e_3))"
      ]
     },
     "execution_count": 16,
     "metadata": {},
     "output_type": "execute_result"
    }
   ],
   "source": [
    "psi = STb.sbundle.section([1,0,0,0])\n",
    "nabla_s(V,psi) #-> returns a section\n",
    "nabla_s(e,psi) #-> returns a tindices object"
   ]
  },
  {
   "cell_type": "markdown",
   "metadata": {},
   "source": [
    "tconnection inherits all the methods of the class BundleConnection, for example connection_form, curvature_form ..."
   ]
  },
  {
   "cell_type": "code",
   "execution_count": 17,
   "metadata": {},
   "outputs": [
    {
     "data": {
      "text/html": [
       "<html><script type=\"math/tex; mode=display\">\\newcommand{\\Bold}[1]{\\mathbf{#1}}\\omega^1_{\\ \\, 0} = \\left( \\frac{-i \\, \\sqrt{r} \\cos\\left({\\theta}\\right) - \\sqrt{-2 \\, m + r} \\sin\\left({\\theta}\\right)}{2 \\, \\sqrt{r}} \\right) \\mathrm{d} {\\phi}</script></html>"
      ],
      "text/latex": [
       "$$\\newcommand{\\Bold}[1]{\\mathbf{#1}}\\omega^1_{\\ \\, 0} = \\left( \\frac{-i \\, \\sqrt{r} \\cos\\left({\\theta}\\right) - \\sqrt{-2 \\, m + r} \\sin\\left({\\theta}\\right)}{2 \\, \\sqrt{r}} \\right) \\mathrm{d} {\\phi}$$"
      ],
      "text/plain": [
       "connection (0,1) of bundle connection \\nabla_s w.r.t. Local frame (S|_M, (e_0,e_1,e_2,e_3)) = 1/2*(-I*sqrt(r)*cos(th) - sqrt(-2*m + r)*sin(th))/sqrt(r) dph"
      ]
     },
     "execution_count": 17,
     "metadata": {},
     "output_type": "execute_result"
    }
   ],
   "source": [
    "nabla_s.connection_form(0,1).display()"
   ]
  },
  {
   "cell_type": "code",
   "execution_count": 18,
   "metadata": {},
   "outputs": [
    {
     "data": {
      "text/html": [
       "<html><script type=\"math/tex; mode=display\">\\newcommand{\\Bold}[1]{\\mathbf{#1}}\\Omega^0_{\\ \\, 1} = \\left( -\\frac{m \\sin\\left({\\theta}\\right)}{2 \\, \\sqrt{-2 \\, m + r} r^{\\frac{3}{2}}} \\right) \\mathrm{d} r\\wedge \\mathrm{d} {\\phi} + \\frac{i \\, m \\sin\\left({\\theta}\\right)}{r} \\mathrm{d} {\\theta}\\wedge \\mathrm{d} {\\phi}</script></html>"
      ],
      "text/latex": [
       "$$\\newcommand{\\Bold}[1]{\\mathbf{#1}}\\Omega^0_{\\ \\, 1} = \\left( -\\frac{m \\sin\\left({\\theta}\\right)}{2 \\, \\sqrt{-2 \\, m + r} r^{\\frac{3}{2}}} \\right) \\mathrm{d} r\\wedge \\mathrm{d} {\\phi} + \\frac{i \\, m \\sin\\left({\\theta}\\right)}{r} \\mathrm{d} {\\theta}\\wedge \\mathrm{d} {\\phi}$$"
      ],
      "text/plain": [
       "curvature (0,1) of bundle connection \\nabla_s w.r.t. Local frame (S|_M, (e_0,e_1,e_2,e_3)) = -1/2*m*sin(th)/(sqrt(-2*m + r)*r^(3/2)) dr/\\dph + I*m*sin(th)/r dth/\\dph"
      ]
     },
     "execution_count": 18,
     "metadata": {},
     "output_type": "execute_result"
    }
   ],
   "source": [
    "nabla_s.curvature_form(0,1).display()"
   ]
  },
  {
   "cell_type": "markdown",
   "metadata": {},
   "source": [
    "## Total connection $D_{ST}$ (totconnection)"
   ]
  },
  {
   "cell_type": "markdown",
   "metadata": {},
   "source": [
    "The Total connection is a smart object that acts on objects with sindices and tindices. It takes a tangent vector field, or the entire tetrad frame and gives as a result the total covariant derivative (totcovariant derivative) with respect to the tangent vector or the tetrad frame. It acts on both tindices and sindices."
   ]
  },
  {
   "cell_type": "markdown",
   "metadata": {},
   "source": [
    "The connection coefficents are the union of the Spinor connection coefficents and the Ricci rotation coefficents"
   ]
  },
  {
   "cell_type": "code",
   "execution_count": 19,
   "metadata": {},
   "outputs": [],
   "source": [
    "nabla_tot = STb.totconnection()"
   ]
  },
  {
   "cell_type": "markdown",
   "metadata": {},
   "source": [
    "Example: calculation of the tcovariant derivative $(\\gamma^{(a)}_{\\ \\ \\ \\ ! (b)})^{i} = (\\gamma^{(a)}_{\\ \\ \\ \\ , (b)})^{i} + (\\Gamma_{(b)})^{i}_{\\ \\ \\ j}(\\gamma^{(a)})^{j} + \\omega^{(a)}_{\\ \\ \\ \\ (c)(b)}(\\gamma^{(c)})^{i}$"
   ]
  },
  {
   "cell_type": "code",
   "execution_count": 20,
   "metadata": {},
   "outputs": [
    {
     "data": {
      "text/html": [
       "<html><script type=\"math/tex; mode=display\">\\newcommand{\\Bold}[1]{\\mathbf{#1}}\\mathrm{True}</script></html>"
      ],
      "text/latex": [
       "$$\\newcommand{\\Bold}[1]{\\mathbf{#1}}\\mathrm{True}$$"
      ],
      "text/plain": [
       "True"
      ]
     },
     "execution_count": 20,
     "metadata": {},
     "output_type": "execute_result"
    }
   ],
   "source": [
    "nabla_tot(e,Gamma) == Gamma.totcov_der() #as before it is equivalent"
   ]
  },
  {
   "cell_type": "markdown",
   "metadata": {},
   "source": [
    "Example: calculation of the scovariant derivative with respect to the tangent vector V: $V^{(b)}(\\gamma^{(a)}_{\\ \\ \\ \\ : (b)})^{i} = V^{(b)}[(\\gamma^{(a)}_{\\ \\ \\ \\ , (b)})^{i} + (\\Gamma_{(b)})^{i}_{\\ \\ \\ j}(\\gamma^{(a)})^{j}+\\omega^{(a)}_{\\ \\ \\ \\ (c)(b)}(\\gamma^{(c)})^{i}]$"
   ]
  },
  {
   "cell_type": "code",
   "execution_count": 21,
   "metadata": {},
   "outputs": [
    {
     "data": {
      "text/html": [
       "<html><script type=\"math/tex; mode=display\">\\newcommand{\\Bold}[1]{\\mathbf{#1}}\\verb|['up',|\\phantom{\\verb!x!}\\verb|'down']|\\phantom{\\verb!x!}\\verb|Tetrad|\\phantom{\\verb!x!}\\verb|index|\\phantom{\\verb!x!}\\verb|family|\\phantom{\\verb!x!}\\verb|of|\\phantom{\\verb!x!}\\verb|Tensors|\\phantom{\\verb!x!}\\verb|(1,|\\phantom{\\verb!x!}\\verb|1)|\\phantom{\\verb!x!}\\verb|on|\\phantom{\\verb!x!}\\verb|the|\\phantom{\\verb!x!}\\verb|spin|\\phantom{\\verb!x!}\\verb|bundle|\\phantom{\\verb!x!}\\verb|section|\\phantom{\\verb!x!}\\verb|module|\\phantom{\\verb!x!}\\verb|with|\\phantom{\\verb!x!}\\verb|respect|\\phantom{\\verb!x!}\\verb|to|\\phantom{\\verb!x!}\\verb|the|\\phantom{\\verb!x!}\\verb|tetrad|\\phantom{\\verb!x!}\\verb|frame|\\phantom{\\verb!x!}\\verb|Vector|\\phantom{\\verb!x!}\\verb|frame|\\phantom{\\verb!x!}\\verb|(M,|\\phantom{\\verb!x!}\\verb|(e_0,e_1,e_2,e_3))|</script></html>"
      ],
      "text/latex": [
       "$$\\newcommand{\\Bold}[1]{\\mathbf{#1}}\\verb|['up',|\\phantom{\\verb!x!}\\verb|'down']|\\phantom{\\verb!x!}\\verb|Tetrad|\\phantom{\\verb!x!}\\verb|index|\\phantom{\\verb!x!}\\verb|family|\\phantom{\\verb!x!}\\verb|of|\\phantom{\\verb!x!}\\verb|Tensors|\\phantom{\\verb!x!}\\verb|(1,|\\phantom{\\verb!x!}\\verb|1)|\\phantom{\\verb!x!}\\verb|on|\\phantom{\\verb!x!}\\verb|the|\\phantom{\\verb!x!}\\verb|spin|\\phantom{\\verb!x!}\\verb|bundle|\\phantom{\\verb!x!}\\verb|section|\\phantom{\\verb!x!}\\verb|module|\\phantom{\\verb!x!}\\verb|with|\\phantom{\\verb!x!}\\verb|respect|\\phantom{\\verb!x!}\\verb|to|\\phantom{\\verb!x!}\\verb|the|\\phantom{\\verb!x!}\\verb|tetrad|\\phantom{\\verb!x!}\\verb|frame|\\phantom{\\verb!x!}\\verb|Vector|\\phantom{\\verb!x!}\\verb|frame|\\phantom{\\verb!x!}\\verb|(M,|\\phantom{\\verb!x!}\\verb|(e_0,e_1,e_2,e_3))|$$"
      ],
      "text/plain": [
       "['up', 'down'] Tetrad index family of Tensors (1, 1) on the spin bundle section module with respect to the tetrad frame Vector frame (M, (e_0,e_1,e_2,e_3))"
      ]
     },
     "execution_count": 21,
     "metadata": {},
     "output_type": "execute_result"
    }
   ],
   "source": [
    "nabla_tot(V,Gamma)"
   ]
  },
  {
   "cell_type": "markdown",
   "metadata": {},
   "source": [
    "Total connection is smart, in the sense that if we pass as argument an object with only tindices or a section of the frame bundle is acts only with tconnection. If we pass an object with only s indices or a section of the spinor bundle it acts only with sconnection:"
   ]
  },
  {
   "cell_type": "code",
   "execution_count": 22,
   "metadata": {},
   "outputs": [
    {
     "name": "stdout",
     "output_type": "stream",
     "text": [
      "True\n",
      "True\n",
      "True\n",
      "True\n"
     ]
    }
   ],
   "source": [
    "print(nabla_tot(e,S) == nabla_t(e,S))\n",
    "print(nabla_tot(e,F) == nabla_t(e,F))\n",
    "print(nabla_tot(e,Gamma[0]) == nabla_s(e,Gamma[0]))\n",
    "print(nabla_tot(e,psi) == nabla_s(e,psi))"
   ]
  }
 ],
 "metadata": {
  "kernelspec": {
   "display_name": "SageMath 9.3",
   "language": "sage",
   "name": "sagemath"
  },
  "language_info": {
   "codemirror_mode": {
    "name": "ipython",
    "version": 3
   },
   "file_extension": ".py",
   "mimetype": "text/x-python",
   "name": "python",
   "nbconvert_exporter": "python",
   "pygments_lexer": "ipython3",
   "version": "3.7.10"
  }
 },
 "nbformat": 4,
 "nbformat_minor": 4
}
