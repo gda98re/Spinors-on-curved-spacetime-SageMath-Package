{
 "cells": [
  {
   "cell_type": "markdown",
   "metadata": {},
   "source": [
    "# Wald solution"
   ]
  },
  {
   "cell_type": "markdown",
   "metadata": {},
   "source": [
    "## Basic initialization of the lorentzian manifold"
   ]
  },
  {
   "cell_type": "markdown",
   "metadata": {},
   "source": [
    "Initialization of the Kerr manifold $\\mathcal M_{Kerr}$ atlas with Boyer-Lindquist chart (BL) and of the metric tensor $g$ :"
   ]
  },
  {
   "cell_type": "code",
   "execution_count": 1,
   "metadata": {},
   "outputs": [
    {
     "data": {
      "text/html": [
       "<html><script type=\"math/tex; mode=display\">\\newcommand{\\Bold}[1]{\\mathbf{#1}}g = \\left( \\frac{2 \\, m r}{a^{2} \\cos\\left({\\theta}\\right)^{2} + r^{2}} - 1 \\right) \\mathrm{d} t\\otimes \\mathrm{d} t + \\left( -\\frac{2 \\, a m r \\sin\\left({\\theta}\\right)^{2}}{a^{2} \\cos\\left({\\theta}\\right)^{2} + r^{2}} \\right) \\mathrm{d} t\\otimes \\mathrm{d} {\\phi} + \\left( \\frac{a^{2} \\cos\\left({\\theta}\\right)^{2} + r^{2}}{a^{2} - 2 \\, m r + r^{2}} \\right) \\mathrm{d} r\\otimes \\mathrm{d} r + \\left( a^{2} \\cos\\left({\\theta}\\right)^{2} + r^{2} \\right) \\mathrm{d} {\\theta}\\otimes \\mathrm{d} {\\theta} + \\left( -\\frac{2 \\, a m r \\sin\\left({\\theta}\\right)^{2}}{a^{2} \\cos\\left({\\theta}\\right)^{2} + r^{2}} \\right) \\mathrm{d} {\\phi}\\otimes \\mathrm{d} t + {\\left(\\frac{2 \\, a^{2} m r \\sin\\left({\\theta}\\right)^{2}}{a^{2} \\cos\\left({\\theta}\\right)^{2} + r^{2}} + a^{2} + r^{2}\\right)} \\sin\\left({\\theta}\\right)^{2} \\mathrm{d} {\\phi}\\otimes \\mathrm{d} {\\phi}</script></html>"
      ],
      "text/latex": [
       "$$\\newcommand{\\Bold}[1]{\\mathbf{#1}}g = \\left( \\frac{2 \\, m r}{a^{2} \\cos\\left({\\theta}\\right)^{2} + r^{2}} - 1 \\right) \\mathrm{d} t\\otimes \\mathrm{d} t + \\left( -\\frac{2 \\, a m r \\sin\\left({\\theta}\\right)^{2}}{a^{2} \\cos\\left({\\theta}\\right)^{2} + r^{2}} \\right) \\mathrm{d} t\\otimes \\mathrm{d} {\\phi} + \\left( \\frac{a^{2} \\cos\\left({\\theta}\\right)^{2} + r^{2}}{a^{2} - 2 \\, m r + r^{2}} \\right) \\mathrm{d} r\\otimes \\mathrm{d} r + \\left( a^{2} \\cos\\left({\\theta}\\right)^{2} + r^{2} \\right) \\mathrm{d} {\\theta}\\otimes \\mathrm{d} {\\theta} + \\left( -\\frac{2 \\, a m r \\sin\\left({\\theta}\\right)^{2}}{a^{2} \\cos\\left({\\theta}\\right)^{2} + r^{2}} \\right) \\mathrm{d} {\\phi}\\otimes \\mathrm{d} t + {\\left(\\frac{2 \\, a^{2} m r \\sin\\left({\\theta}\\right)^{2}}{a^{2} \\cos\\left({\\theta}\\right)^{2} + r^{2}} + a^{2} + r^{2}\\right)} \\sin\\left({\\theta}\\right)^{2} \\mathrm{d} {\\phi}\\otimes \\mathrm{d} {\\phi}$$"
      ],
      "text/plain": [
       "g = (2*m*r/(a^2*cos(th)^2 + r^2) - 1) dt*dt - 2*a*m*r*sin(th)^2/(a^2*cos(th)^2 + r^2) dt*dph + (a^2*cos(th)^2 + r^2)/(a^2 - 2*m*r + r^2) dr*dr + (a^2*cos(th)^2 + r^2) dth*dth - 2*a*m*r*sin(th)^2/(a^2*cos(th)^2 + r^2) dph*dt + (2*a^2*m*r*sin(th)^2/(a^2*cos(th)^2 + r^2) + a^2 + r^2)*sin(th)^2 dph*dph"
      ]
     },
     "execution_count": 1,
     "metadata": {},
     "output_type": "execute_result"
    }
   ],
   "source": [
    "%display latex\n",
    "\n",
    "M = Manifold(4, 'M', latex_name=r'\\mathcal{M}', structure='Lorentzian')\n",
    "BL.<t,r,th,ph> = M.chart(r\"t r th:(0,pi):\\theta ph:(0,2*pi):\\phi\") #boyer-lindquist chart definition\n",
    "\n",
    "var('m, a', domain='real') #definition of Kerr metric parameters\n",
    "\n",
    "g = M.metric() #we put the label g on the metric tensor\n",
    "\n",
    "rho2 = r^2 + (a*cos(th))^2\n",
    "Delta = r^2 -2*m*r + a^2\n",
    "\n",
    "g[0,0] = -(1-2*m*r/rho2)\n",
    "g[0,3] = -2*a*m*r*sin(th)^2/rho2\n",
    "g[1,1], g[2,2] = rho2/Delta, rho2\n",
    "g[3,3] = (r^2+a^2+2*m*r*(a*sin(th))^2/rho2)*sin(th)^2\n",
    "\n",
    "g.display()"
   ]
  },
  {
   "cell_type": "markdown",
   "metadata": {},
   "source": [
    "Definition of the Levi Civita connection $\\nabla$:"
   ]
  },
  {
   "cell_type": "code",
   "execution_count": 2,
   "metadata": {},
   "outputs": [],
   "source": [
    "nabla = g.connection()"
   ]
  },
  {
   "cell_type": "markdown",
   "metadata": {},
   "source": [
    "## Initialization of the orthonormal tetrad"
   ]
  },
  {
   "cell_type": "markdown",
   "metadata": {},
   "source": [
    "Definition of the orthonormal tetrad frame $e_{(a)}$ (Chandrasekar notation) and its dual frame $e^{(a)} = \\eta^{(a)(b)}g(e_{(b)},-)$ ($\\omega^{a}$ in Wald's paper):"
   ]
  },
  {
   "cell_type": "code",
   "execution_count": 3,
   "metadata": {},
   "outputs": [],
   "source": [
    "#definition of the coframe tetrad fields (as listed in the article)\n",
    "\n",
    "de0 = M.one_form(sqrt(Delta/rho2), 0, 0, -a*(sin(th)^2)*sqrt(Delta/rho2), frame=BL.frame(), name='e^{(0)}')\n",
    "de1 = M.one_form(0, sqrt(rho2/Delta), 0, 0, frame=BL.frame(), name='e^{(1)}')\n",
    "de2 = M.one_form(0, 0, sqrt(rho2), 0, frame=BL.frame(), name='e^{(2)}')\n",
    "de3 = M.one_form(-(sin(th)/sqrt(rho2))*a, 0, 0, (sin(th)/sqrt(rho2))*(r^2+a^2), frame=BL.frame(), name='e^{(3)}')\n",
    "\n",
    "#obtaining the tetrad frame vector fields using musical isomorphism of the metric\n",
    "\n",
    "e0 = -de0.up(g) #the zero component must be multiplied by a minus because of the lowering of the tetrad index with eta_{(a)(b)}\n",
    "e1 = de1.up(g)\n",
    "e2 = de2.up(g)\n",
    "e3 = de3.up(g)\n",
    "\n",
    "\n",
    "e = M.vector_frame('e', (e0, e1, e2, e3)) #costruction of the tetrad collection object e_{a}\n",
    "de = e.coframe() #construction of the tetrad coframe object e^{a}      "
   ]
  },
  {
   "cell_type": "markdown",
   "metadata": {},
   "source": [
    "Orthonormality check $g(e_{(a)},e_{(b)}) = \\eta_{(a)(b)}$ :"
   ]
  },
  {
   "cell_type": "code",
   "execution_count": 4,
   "metadata": {},
   "outputs": [],
   "source": [
    "from sage.tensor.modules.comp import Components\n",
    "\n",
    "scalar_field_algebra = M.scalar_field_algebra()\n",
    "\n",
    "#definition of eta_{(a)(b)}\n",
    "eta = Components(scalar_field_algebra, e, 2)\n",
    "eta[0,0] = M.scalar_field({BL: -1}, name='-1')\n",
    "eta[1,1] = M.scalar_field({BL: 1}, name='1')\n",
    "eta[2,2] = M.scalar_field({BL: 1}, name='1')\n",
    "eta[3,3] = M.scalar_field({BL: 1}, name='1')\n",
    "\n",
    "for i in range(0,4):\n",
    "    for j in range(0,4):\n",
    "        if (g(e[i],e[j]) != eta[i,j]):\n",
    "            print(\"error\")"
   ]
  },
  {
   "cell_type": "markdown",
   "metadata": {},
   "source": [
    "Check that the one forms given are equal to the one computed by Sage:"
   ]
  },
  {
   "cell_type": "code",
   "execution_count": 5,
   "metadata": {},
   "outputs": [],
   "source": [
    "if (de[0] != de0 or de[1] != de1 or de[2] != de2 or de[3] != de3):\n",
    "    print(\"error\")"
   ]
  },
  {
   "cell_type": "markdown",
   "metadata": {},
   "source": [
    "## Wald field solution definition"
   ]
  },
  {
   "cell_type": "markdown",
   "metadata": {},
   "source": [
    "Definition of the Wald field solution $A = \\frac{B_{0}}{2}(\\psi + 2a\\eta)$, where $\\eta$ and $\\psi$ are the 1-forms naturally associated with musical isomorphism respectively to the two Killing vector fields $\\frac{\\partial}{\\partial t}$ and $\\frac{\\partial}{\\partial \\phi}$ :"
   ]
  },
  {
   "cell_type": "code",
   "execution_count": 6,
   "metadata": {},
   "outputs": [
    {
     "data": {
      "text/html": [
       "<html><script type=\"math/tex; mode=display\">\\newcommand{\\Bold}[1]{\\mathbf{#1}}\\left( \\frac{B_{0} a m r - B_{0} a r^{2} - {\\left(B_{0} a^{3} - B_{0} a m r\\right)} \\cos\\left({\\theta}\\right)^{2}}{a^{2} \\cos\\left({\\theta}\\right)^{2} + r^{2}} \\right) \\mathrm{d} t + \\left( \\frac{2 \\, B_{0} a^{2} m r \\sin\\left({\\theta}\\right)^{4} - {\\left(4 \\, B_{0} a^{2} m r - B_{0} a^{2} r^{2} - B_{0} r^{4} - {\\left(B_{0} a^{4} + B_{0} a^{2} r^{2}\\right)} \\cos\\left({\\theta}\\right)^{2}\\right)} \\sin\\left({\\theta}\\right)^{2}}{2 \\, {\\left(a^{2} \\cos\\left({\\theta}\\right)^{2} + r^{2}\\right)}} \\right) \\mathrm{d} {\\phi}</script></html>"
      ],
      "text/latex": [
       "$$\\newcommand{\\Bold}[1]{\\mathbf{#1}}\\left( \\frac{B_{0} a m r - B_{0} a r^{2} - {\\left(B_{0} a^{3} - B_{0} a m r\\right)} \\cos\\left({\\theta}\\right)^{2}}{a^{2} \\cos\\left({\\theta}\\right)^{2} + r^{2}} \\right) \\mathrm{d} t + \\left( \\frac{2 \\, B_{0} a^{2} m r \\sin\\left({\\theta}\\right)^{4} - {\\left(4 \\, B_{0} a^{2} m r - B_{0} a^{2} r^{2} - B_{0} r^{4} - {\\left(B_{0} a^{4} + B_{0} a^{2} r^{2}\\right)} \\cos\\left({\\theta}\\right)^{2}\\right)} \\sin\\left({\\theta}\\right)^{2}}{2 \\, {\\left(a^{2} \\cos\\left({\\theta}\\right)^{2} + r^{2}\\right)}} \\right) \\mathrm{d} {\\phi}$$"
      ],
      "text/plain": [
       "(B_0*a*m*r - B_0*a*r^2 - (B_0*a^3 - B_0*a*m*r)*cos(th)^2)/(a^2*cos(th)^2 + r^2) dt + 1/2*(2*B_0*a^2*m*r*sin(th)^4 - (4*B_0*a^2*m*r - B_0*a^2*r^2 - B_0*r^4 - (B_0*a^4 + B_0*a^2*r^2)*cos(th)^2)*sin(th)^2)/(a^2*cos(th)^2 + r^2) dph"
      ]
     },
     "execution_count": 6,
     "metadata": {},
     "output_type": "execute_result"
    }
   ],
   "source": [
    "var('B_0')\n",
    "A = M.vector_field(name = \"A\")\n",
    "A = (B_0/2)*(BL.frame()[3].down(g)+(2*a)*BL.frame()[0].down(g)) #BL.frame() gives the coordinate base of the chart before the dot, in this case Boyer-Lindquist chart\n",
    "A.display()"
   ]
  },
  {
   "cell_type": "markdown",
   "metadata": {},
   "source": [
    "## Check of Comar integrals computations"
   ]
  },
  {
   "cell_type": "markdown",
   "metadata": {},
   "source": [
    "Calculation of $\\star d\\eta$ :"
   ]
  },
  {
   "cell_type": "code",
   "execution_count": 7,
   "metadata": {},
   "outputs": [],
   "source": [
    "star_d_eta =  BL.frame()[0].down(g).exterior_derivative().hodge_dual()"
   ]
  },
  {
   "cell_type": "markdown",
   "metadata": {},
   "source": [
    "Component $(\\star d\\eta)_{\\theta \\phi}$ :"
   ]
  },
  {
   "cell_type": "code",
   "execution_count": 8,
   "metadata": {},
   "outputs": [
    {
     "data": {
      "text/html": [
       "<html><script type=\"math/tex; mode=display\">\\newcommand{\\Bold}[1]{\\mathbf{#1}}\\frac{2 \\, {\\left(a^{4} m - m r^{4} - {\\left(a^{4} m + a^{2} m r^{2}\\right)} \\sin\\left({\\theta}\\right)^{2}\\right)} {\\left| \\sin\\left({\\theta}\\right) \\right|}}{a^{4} \\cos\\left({\\theta}\\right)^{4} + 2 \\, a^{2} r^{2} \\cos\\left({\\theta}\\right)^{2} + r^{4}}</script></html>"
      ],
      "text/latex": [
       "$$\\newcommand{\\Bold}[1]{\\mathbf{#1}}\\frac{2 \\, {\\left(a^{4} m - m r^{4} - {\\left(a^{4} m + a^{2} m r^{2}\\right)} \\sin\\left({\\theta}\\right)^{2}\\right)} {\\left| \\sin\\left({\\theta}\\right) \\right|}}{a^{4} \\cos\\left({\\theta}\\right)^{4} + 2 \\, a^{2} r^{2} \\cos\\left({\\theta}\\right)^{2} + r^{4}}$$"
      ],
      "text/plain": [
       "2*(a^4*m - m*r^4 - (a^4*m + a^2*m*r^2)*sin(th)^2)*abs(sin(th))/(a^4*cos(th)^4 + 2*a^2*r^2*cos(th)^2 + r^4)"
      ]
     },
     "execution_count": 8,
     "metadata": {},
     "output_type": "execute_result"
    }
   ],
   "source": [
    "star_d_eta[2,3].expr().maxima_methods().rootscontract().full_simplify() #correct (see my notes)"
   ]
  },
  {
   "cell_type": "markdown",
   "metadata": {},
   "source": [
    "$\\lim_{r \\to \\infty} \\ (\\star d\\eta)_{\\theta \\phi}$ :"
   ]
  },
  {
   "cell_type": "code",
   "execution_count": 9,
   "metadata": {},
   "outputs": [
    {
     "data": {
      "text/html": [
       "<html><script type=\"math/tex; mode=display\">\\newcommand{\\Bold}[1]{\\mathbf{#1}}-2 \\, m {\\left| \\sin\\left({\\theta}\\right) \\right|}</script></html>"
      ],
      "text/latex": [
       "$$\\newcommand{\\Bold}[1]{\\mathbf{#1}}-2 \\, m {\\left| \\sin\\left({\\theta}\\right) \\right|}$$"
      ],
      "text/plain": [
       "-2*m*abs(sin(th))"
      ]
     },
     "execution_count": 9,
     "metadata": {},
     "output_type": "execute_result"
    }
   ],
   "source": [
    "star_d_eta[2,3].expr().limit(r = infinity).maxima_methods().rootscontract().full_simplify() #correct (see my notes)"
   ]
  },
  {
   "cell_type": "markdown",
   "metadata": {},
   "source": [
    "Calculation of $\\star d\\psi$ :"
   ]
  },
  {
   "cell_type": "code",
   "execution_count": 10,
   "metadata": {},
   "outputs": [],
   "source": [
    "star_d_psi = BL.frame()[3].down(g).exterior_derivative().hodge_dual()"
   ]
  },
  {
   "cell_type": "markdown",
   "metadata": {},
   "source": [
    "Component $(\\star d\\psi)_{\\theta \\phi}$ :"
   ]
  },
  {
   "cell_type": "code",
   "execution_count": 11,
   "metadata": {},
   "outputs": [
    {
     "data": {
      "text/html": [
       "<html><script type=\"math/tex; mode=display\">\\newcommand{\\Bold}[1]{\\mathbf{#1}}\\frac{2 \\, {\\left(a^{3} m r^{2} + 3 \\, a m r^{4} - {\\left(a^{5} m - a^{3} m r^{2}\\right)} \\cos\\left({\\theta}\\right)^{2}\\right)} \\sqrt{-\\cos\\left({\\theta}\\right)^{2} + 1} \\sin\\left({\\theta}\\right)^{2}}{a^{4} \\cos\\left({\\theta}\\right)^{4} + 2 \\, a^{2} r^{2} \\cos\\left({\\theta}\\right)^{2} + r^{4}}</script></html>"
      ],
      "text/latex": [
       "$$\\newcommand{\\Bold}[1]{\\mathbf{#1}}\\frac{2 \\, {\\left(a^{3} m r^{2} + 3 \\, a m r^{4} - {\\left(a^{5} m - a^{3} m r^{2}\\right)} \\cos\\left({\\theta}\\right)^{2}\\right)} \\sqrt{-\\cos\\left({\\theta}\\right)^{2} + 1} \\sin\\left({\\theta}\\right)^{2}}{a^{4} \\cos\\left({\\theta}\\right)^{4} + 2 \\, a^{2} r^{2} \\cos\\left({\\theta}\\right)^{2} + r^{4}}$$"
      ],
      "text/plain": [
       "2*(a^3*m*r^2 + 3*a*m*r^4 - (a^5*m - a^3*m*r^2)*cos(th)^2)*sqrt(-cos(th)^2 + 1)*sin(th)^2/(a^4*cos(th)^4 + 2*a^2*r^2*cos(th)^2 + r^4)"
      ]
     },
     "execution_count": 11,
     "metadata": {},
     "output_type": "execute_result"
    }
   ],
   "source": [
    "star_d_psi[2,3].expr().maxima_methods().rootscontract().full_simplify() #correct (see my notes)"
   ]
  },
  {
   "cell_type": "markdown",
   "metadata": {},
   "source": [
    "$\\lim_{r \\to \\infty} \\ (\\star d\\psi)_{\\theta \\phi}$ :"
   ]
  },
  {
   "cell_type": "code",
   "execution_count": 12,
   "metadata": {},
   "outputs": [
    {
     "data": {
      "text/html": [
       "<html><script type=\"math/tex; mode=display\">\\newcommand{\\Bold}[1]{\\mathbf{#1}}6 \\, a m {\\left| \\sin\\left({\\theta}\\right) \\right|} \\sin\\left({\\theta}\\right)^{2}</script></html>"
      ],
      "text/latex": [
       "$$\\newcommand{\\Bold}[1]{\\mathbf{#1}}6 \\, a m {\\left| \\sin\\left({\\theta}\\right) \\right|} \\sin\\left({\\theta}\\right)^{2}$$"
      ],
      "text/plain": [
       "6*a*m*abs(sin(th))*sin(th)^2"
      ]
     },
     "execution_count": 12,
     "metadata": {},
     "output_type": "execute_result"
    }
   ],
   "source": [
    "star_d_psi[2,3].expr().limit(r = infinity).maxima_methods().rootscontract().full_simplify() #correct (see my notes)"
   ]
  },
  {
   "cell_type": "markdown",
   "metadata": {},
   "source": [
    "## Faraday's tensor's behaviour"
   ]
  },
  {
   "cell_type": "markdown",
   "metadata": {},
   "source": [
    "Calculation of the Faraday tensor $F=dA$ (exterior derivative of $A$) :"
   ]
  },
  {
   "cell_type": "code",
   "execution_count": 13,
   "metadata": {},
   "outputs": [
    {
     "data": {
      "text/html": [
       "<html><script type=\"math/tex; mode=display\">\\newcommand{\\Bold}[1]{\\mathbf{#1}}\\left(\\begin{array}{rrrr}\n",
       "0 & -\\frac{B_{0} a^{3} m \\cos\\left({\\theta}\\right)^{4} - B_{0} a m r^{2} + {\\left(B_{0} a^{3} m - B_{0} a m r^{2}\\right)} \\cos\\left({\\theta}\\right)^{2}}{a^{4} \\cos\\left({\\theta}\\right)^{4} + 2 \\, a^{2} r^{2} \\cos\\left({\\theta}\\right)^{2} + r^{4}} & -\\frac{2 \\, {\\left(B_{0} a^{3} m r - B_{0} a m r^{3}\\right)} \\cos\\left({\\theta}\\right) \\sin\\left({\\theta}\\right)}{a^{4} \\cos\\left({\\theta}\\right)^{4} + 2 \\, a^{2} r^{2} \\cos\\left({\\theta}\\right)^{2} + r^{4}} & 0 \\\\\n",
       "\\frac{B_{0} a^{3} m \\cos\\left({\\theta}\\right)^{4} - B_{0} a m r^{2} + {\\left(B_{0} a^{3} m - B_{0} a m r^{2}\\right)} \\cos\\left({\\theta}\\right)^{2}}{a^{4} \\cos\\left({\\theta}\\right)^{4} + 2 \\, a^{2} r^{2} \\cos\\left({\\theta}\\right)^{2} + r^{4}} & 0 & 0 & \\frac{{\\left(B_{0} a^{4} m \\cos\\left({\\theta}\\right)^{2} - B_{0} a^{2} m r^{2}\\right)} \\sin\\left({\\theta}\\right)^{4} + {\\left(B_{0} a^{4} r \\cos\\left({\\theta}\\right)^{4} + 2 \\, B_{0} a^{2} m r^{2} + B_{0} r^{5} - 2 \\, {\\left(B_{0} a^{4} m - B_{0} a^{2} r^{3}\\right)} \\cos\\left({\\theta}\\right)^{2}\\right)} \\sin\\left({\\theta}\\right)^{2}}{a^{4} \\cos\\left({\\theta}\\right)^{4} + 2 \\, a^{2} r^{2} \\cos\\left({\\theta}\\right)^{2} + r^{4}} \\\\\n",
       "\\frac{2 \\, {\\left(B_{0} a^{3} m r - B_{0} a m r^{3}\\right)} \\cos\\left({\\theta}\\right) \\sin\\left({\\theta}\\right)}{a^{4} \\cos\\left({\\theta}\\right)^{4} + 2 \\, a^{2} r^{2} \\cos\\left({\\theta}\\right)^{2} + r^{4}} & 0 & 0 & \\frac{{\\left({\\left(B_{0} a^{6} - 2 \\, B_{0} a^{4} m r + B_{0} a^{4} r^{2}\\right)} \\cos\\left({\\theta}\\right)^{5} + 2 \\, {\\left(B_{0} a^{4} r^{2} - 2 \\, B_{0} a^{2} m r^{3} + B_{0} a^{2} r^{4}\\right)} \\cos\\left({\\theta}\\right)^{3} - {\\left(2 \\, B_{0} a^{4} m r - B_{0} a^{2} r^{4} - B_{0} r^{6}\\right)} \\cos\\left({\\theta}\\right)\\right)} \\sin\\left({\\theta}\\right)}{a^{4} \\cos\\left({\\theta}\\right)^{4} + 2 \\, a^{2} r^{2} \\cos\\left({\\theta}\\right)^{2} + r^{4}} \\\\\n",
       "0 & -\\frac{{\\left(B_{0} a^{4} m \\cos\\left({\\theta}\\right)^{2} - B_{0} a^{2} m r^{2}\\right)} \\sin\\left({\\theta}\\right)^{4} + {\\left(B_{0} a^{4} r \\cos\\left({\\theta}\\right)^{4} + 2 \\, B_{0} a^{2} m r^{2} + B_{0} r^{5} - 2 \\, {\\left(B_{0} a^{4} m - B_{0} a^{2} r^{3}\\right)} \\cos\\left({\\theta}\\right)^{2}\\right)} \\sin\\left({\\theta}\\right)^{2}}{a^{4} \\cos\\left({\\theta}\\right)^{4} + 2 \\, a^{2} r^{2} \\cos\\left({\\theta}\\right)^{2} + r^{4}} & -\\frac{{\\left({\\left(B_{0} a^{6} - 2 \\, B_{0} a^{4} m r + B_{0} a^{4} r^{2}\\right)} \\cos\\left({\\theta}\\right)^{5} + 2 \\, {\\left(B_{0} a^{4} r^{2} - 2 \\, B_{0} a^{2} m r^{3} + B_{0} a^{2} r^{4}\\right)} \\cos\\left({\\theta}\\right)^{3} - {\\left(2 \\, B_{0} a^{4} m r - B_{0} a^{2} r^{4} - B_{0} r^{6}\\right)} \\cos\\left({\\theta}\\right)\\right)} \\sin\\left({\\theta}\\right)}{a^{4} \\cos\\left({\\theta}\\right)^{4} + 2 \\, a^{2} r^{2} \\cos\\left({\\theta}\\right)^{2} + r^{4}} & 0\n",
       "\\end{array}\\right)</script></html>"
      ],
      "text/latex": [
       "$$\\newcommand{\\Bold}[1]{\\mathbf{#1}}\\left(\\begin{array}{rrrr}\n",
       "0 & -\\frac{B_{0} a^{3} m \\cos\\left({\\theta}\\right)^{4} - B_{0} a m r^{2} + {\\left(B_{0} a^{3} m - B_{0} a m r^{2}\\right)} \\cos\\left({\\theta}\\right)^{2}}{a^{4} \\cos\\left({\\theta}\\right)^{4} + 2 \\, a^{2} r^{2} \\cos\\left({\\theta}\\right)^{2} + r^{4}} & -\\frac{2 \\, {\\left(B_{0} a^{3} m r - B_{0} a m r^{3}\\right)} \\cos\\left({\\theta}\\right) \\sin\\left({\\theta}\\right)}{a^{4} \\cos\\left({\\theta}\\right)^{4} + 2 \\, a^{2} r^{2} \\cos\\left({\\theta}\\right)^{2} + r^{4}} & 0 \\\\\n",
       "\\frac{B_{0} a^{3} m \\cos\\left({\\theta}\\right)^{4} - B_{0} a m r^{2} + {\\left(B_{0} a^{3} m - B_{0} a m r^{2}\\right)} \\cos\\left({\\theta}\\right)^{2}}{a^{4} \\cos\\left({\\theta}\\right)^{4} + 2 \\, a^{2} r^{2} \\cos\\left({\\theta}\\right)^{2} + r^{4}} & 0 & 0 & \\frac{{\\left(B_{0} a^{4} m \\cos\\left({\\theta}\\right)^{2} - B_{0} a^{2} m r^{2}\\right)} \\sin\\left({\\theta}\\right)^{4} + {\\left(B_{0} a^{4} r \\cos\\left({\\theta}\\right)^{4} + 2 \\, B_{0} a^{2} m r^{2} + B_{0} r^{5} - 2 \\, {\\left(B_{0} a^{4} m - B_{0} a^{2} r^{3}\\right)} \\cos\\left({\\theta}\\right)^{2}\\right)} \\sin\\left({\\theta}\\right)^{2}}{a^{4} \\cos\\left({\\theta}\\right)^{4} + 2 \\, a^{2} r^{2} \\cos\\left({\\theta}\\right)^{2} + r^{4}} \\\\\n",
       "\\frac{2 \\, {\\left(B_{0} a^{3} m r - B_{0} a m r^{3}\\right)} \\cos\\left({\\theta}\\right) \\sin\\left({\\theta}\\right)}{a^{4} \\cos\\left({\\theta}\\right)^{4} + 2 \\, a^{2} r^{2} \\cos\\left({\\theta}\\right)^{2} + r^{4}} & 0 & 0 & \\frac{{\\left({\\left(B_{0} a^{6} - 2 \\, B_{0} a^{4} m r + B_{0} a^{4} r^{2}\\right)} \\cos\\left({\\theta}\\right)^{5} + 2 \\, {\\left(B_{0} a^{4} r^{2} - 2 \\, B_{0} a^{2} m r^{3} + B_{0} a^{2} r^{4}\\right)} \\cos\\left({\\theta}\\right)^{3} - {\\left(2 \\, B_{0} a^{4} m r - B_{0} a^{2} r^{4} - B_{0} r^{6}\\right)} \\cos\\left({\\theta}\\right)\\right)} \\sin\\left({\\theta}\\right)}{a^{4} \\cos\\left({\\theta}\\right)^{4} + 2 \\, a^{2} r^{2} \\cos\\left({\\theta}\\right)^{2} + r^{4}} \\\\\n",
       "0 & -\\frac{{\\left(B_{0} a^{4} m \\cos\\left({\\theta}\\right)^{2} - B_{0} a^{2} m r^{2}\\right)} \\sin\\left({\\theta}\\right)^{4} + {\\left(B_{0} a^{4} r \\cos\\left({\\theta}\\right)^{4} + 2 \\, B_{0} a^{2} m r^{2} + B_{0} r^{5} - 2 \\, {\\left(B_{0} a^{4} m - B_{0} a^{2} r^{3}\\right)} \\cos\\left({\\theta}\\right)^{2}\\right)} \\sin\\left({\\theta}\\right)^{2}}{a^{4} \\cos\\left({\\theta}\\right)^{4} + 2 \\, a^{2} r^{2} \\cos\\left({\\theta}\\right)^{2} + r^{4}} & -\\frac{{\\left({\\left(B_{0} a^{6} - 2 \\, B_{0} a^{4} m r + B_{0} a^{4} r^{2}\\right)} \\cos\\left({\\theta}\\right)^{5} + 2 \\, {\\left(B_{0} a^{4} r^{2} - 2 \\, B_{0} a^{2} m r^{3} + B_{0} a^{2} r^{4}\\right)} \\cos\\left({\\theta}\\right)^{3} - {\\left(2 \\, B_{0} a^{4} m r - B_{0} a^{2} r^{4} - B_{0} r^{6}\\right)} \\cos\\left({\\theta}\\right)\\right)} \\sin\\left({\\theta}\\right)}{a^{4} \\cos\\left({\\theta}\\right)^{4} + 2 \\, a^{2} r^{2} \\cos\\left({\\theta}\\right)^{2} + r^{4}} & 0\n",
       "\\end{array}\\right)$$"
      ],
      "text/plain": [
       "[                                                                                                                                                                                                                     0                                                                                                 -(B_0*a^3*m*cos(th)^4 - B_0*a*m*r^2 + (B_0*a^3*m - B_0*a*m*r^2)*cos(th)^2)/(a^4*cos(th)^4 + 2*a^2*r^2*cos(th)^2 + r^4)                                                                                                                             -2*(B_0*a^3*m*r - B_0*a*m*r^3)*cos(th)*sin(th)/(a^4*cos(th)^4 + 2*a^2*r^2*cos(th)^2 + r^4)                                                                                                                                                                                                                      0]\n",
       "[                                                                                                 (B_0*a^3*m*cos(th)^4 - B_0*a*m*r^2 + (B_0*a^3*m - B_0*a*m*r^2)*cos(th)^2)/(a^4*cos(th)^4 + 2*a^2*r^2*cos(th)^2 + r^4)                                                                                                                                                                                                                      0                                                                                                                                                                                                                      0                    ((B_0*a^4*m*cos(th)^2 - B_0*a^2*m*r^2)*sin(th)^4 + (B_0*a^4*r*cos(th)^4 + 2*B_0*a^2*m*r^2 + B_0*r^5 - 2*(B_0*a^4*m - B_0*a^2*r^3)*cos(th)^2)*sin(th)^2)/(a^4*cos(th)^4 + 2*a^2*r^2*cos(th)^2 + r^4)]\n",
       "[                                                                                                                             2*(B_0*a^3*m*r - B_0*a*m*r^3)*cos(th)*sin(th)/(a^4*cos(th)^4 + 2*a^2*r^2*cos(th)^2 + r^4)                                                                                                                                                                                                                      0                                                                                                                                                                                                                      0  ((B_0*a^6 - 2*B_0*a^4*m*r + B_0*a^4*r^2)*cos(th)^5 + 2*(B_0*a^4*r^2 - 2*B_0*a^2*m*r^3 + B_0*a^2*r^4)*cos(th)^3 - (2*B_0*a^4*m*r - B_0*a^2*r^4 - B_0*r^6)*cos(th))*sin(th)/(a^4*cos(th)^4 + 2*a^2*r^2*cos(th)^2 + r^4)]\n",
       "[                                                                                                                                                                                                                     0                   -((B_0*a^4*m*cos(th)^2 - B_0*a^2*m*r^2)*sin(th)^4 + (B_0*a^4*r*cos(th)^4 + 2*B_0*a^2*m*r^2 + B_0*r^5 - 2*(B_0*a^4*m - B_0*a^2*r^3)*cos(th)^2)*sin(th)^2)/(a^4*cos(th)^4 + 2*a^2*r^2*cos(th)^2 + r^4) -((B_0*a^6 - 2*B_0*a^4*m*r + B_0*a^4*r^2)*cos(th)^5 + 2*(B_0*a^4*r^2 - 2*B_0*a^2*m*r^3 + B_0*a^2*r^4)*cos(th)^3 - (2*B_0*a^4*m*r - B_0*a^2*r^4 - B_0*r^6)*cos(th))*sin(th)/(a^4*cos(th)^4 + 2*a^2*r^2*cos(th)^2 + r^4)                                                                                                                                                                                                                      0]"
      ]
     },
     "execution_count": 13,
     "metadata": {},
     "output_type": "execute_result"
    }
   ],
   "source": [
    "F = A.exterior_derivative()\n",
    "F[:]"
   ]
  },
  {
   "cell_type": "markdown",
   "metadata": {},
   "source": [
    "Computing the fully contravariant version of $F$ using musical isomorphism twice:"
   ]
  },
  {
   "cell_type": "code",
   "execution_count": 14,
   "metadata": {},
   "outputs": [
    {
     "data": {
      "text/html": [
       "<html><script type=\"math/tex; mode=display\">\\newcommand{\\Bold}[1]{\\mathbf{#1}}\\left(\\begin{array}{rrrr}\n",
       "0 & -\\frac{B_{0} a^{3} m r^{2} - B_{0} a m r^{4} - {\\left(B_{0} a^{5} m - B_{0} a^{3} m r^{2}\\right)} \\cos\\left({\\theta}\\right)^{4} - {\\left(B_{0} a^{5} m + 2 \\, B_{0} a^{3} m r^{2} - 3 \\, B_{0} a m r^{4}\\right)} \\cos\\left({\\theta}\\right)^{2}}{a^{6} \\cos\\left({\\theta}\\right)^{6} + 3 \\, a^{4} r^{2} \\cos\\left({\\theta}\\right)^{4} + 3 \\, a^{2} r^{4} \\cos\\left({\\theta}\\right)^{2} + r^{6}} & \\frac{2 \\, {\\left(B_{0} a^{3} m r \\cos\\left({\\theta}\\right)^{3} + B_{0} a^{3} m r \\cos\\left({\\theta}\\right)\\right)} \\sin\\left({\\theta}\\right)}{a^{6} \\cos\\left({\\theta}\\right)^{6} + 3 \\, a^{4} r^{2} \\cos\\left({\\theta}\\right)^{4} + 3 \\, a^{2} r^{4} \\cos\\left({\\theta}\\right)^{2} + r^{6}} & 0 \\\\\n",
       "\\frac{B_{0} a^{3} m r^{2} - B_{0} a m r^{4} - {\\left(B_{0} a^{5} m - B_{0} a^{3} m r^{2}\\right)} \\cos\\left({\\theta}\\right)^{4} - {\\left(B_{0} a^{5} m + 2 \\, B_{0} a^{3} m r^{2} - 3 \\, B_{0} a m r^{4}\\right)} \\cos\\left({\\theta}\\right)^{2}}{a^{6} \\cos\\left({\\theta}\\right)^{6} + 3 \\, a^{4} r^{2} \\cos\\left({\\theta}\\right)^{4} + 3 \\, a^{2} r^{4} \\cos\\left({\\theta}\\right)^{2} + r^{6}} & 0 & 0 & \\frac{B_{0} a^{2} m r^{2} - 2 \\, B_{0} m r^{4} + B_{0} r^{5} - {\\left(B_{0} a^{4} m - B_{0} a^{4} r\\right)} \\cos\\left({\\theta}\\right)^{4} - {\\left(B_{0} a^{4} m + B_{0} a^{2} m r^{2} - 2 \\, B_{0} a^{2} r^{3}\\right)} \\cos\\left({\\theta}\\right)^{2}}{a^{6} \\cos\\left({\\theta}\\right)^{6} + 3 \\, a^{4} r^{2} \\cos\\left({\\theta}\\right)^{4} + 3 \\, a^{2} r^{4} \\cos\\left({\\theta}\\right)^{2} + r^{6}} \\\\\n",
       "-\\frac{2 \\, {\\left(B_{0} a^{3} m r \\cos\\left({\\theta}\\right)^{3} + B_{0} a^{3} m r \\cos\\left({\\theta}\\right)\\right)} \\sin\\left({\\theta}\\right)}{a^{6} \\cos\\left({\\theta}\\right)^{6} + 3 \\, a^{4} r^{2} \\cos\\left({\\theta}\\right)^{4} + 3 \\, a^{2} r^{4} \\cos\\left({\\theta}\\right)^{2} + r^{6}} & 0 & 0 & \\frac{B_{0} a^{4} \\cos\\left({\\theta}\\right) \\sin\\left({\\theta}\\right)^{4} - 2 \\, {\\left(B_{0} a^{4} - B_{0} a^{2} m r + B_{0} a^{2} r^{2}\\right)} \\cos\\left({\\theta}\\right) \\sin\\left({\\theta}\\right)^{2} + {\\left(B_{0} a^{4} - 4 \\, B_{0} a^{2} m r + 2 \\, B_{0} a^{2} r^{2} + B_{0} r^{4}\\right)} \\cos\\left({\\theta}\\right)}{{\\left(a^{6} \\cos\\left({\\theta}\\right)^{6} + 3 \\, a^{4} r^{2} \\cos\\left({\\theta}\\right)^{4} + 3 \\, a^{2} r^{4} \\cos\\left({\\theta}\\right)^{2} + r^{6}\\right)} \\sin\\left({\\theta}\\right)} \\\\\n",
       "0 & -\\frac{B_{0} a^{2} m r^{2} - 2 \\, B_{0} m r^{4} + B_{0} r^{5} - {\\left(B_{0} a^{4} m - B_{0} a^{4} r\\right)} \\cos\\left({\\theta}\\right)^{4} - {\\left(B_{0} a^{4} m + B_{0} a^{2} m r^{2} - 2 \\, B_{0} a^{2} r^{3}\\right)} \\cos\\left({\\theta}\\right)^{2}}{a^{6} \\cos\\left({\\theta}\\right)^{6} + 3 \\, a^{4} r^{2} \\cos\\left({\\theta}\\right)^{4} + 3 \\, a^{2} r^{4} \\cos\\left({\\theta}\\right)^{2} + r^{6}} & -\\frac{B_{0} a^{4} \\cos\\left({\\theta}\\right)^{5} - 2 \\, {\\left(B_{0} a^{2} m r - B_{0} a^{2} r^{2}\\right)} \\cos\\left({\\theta}\\right)^{3} - {\\left(2 \\, B_{0} a^{2} m r - B_{0} r^{4}\\right)} \\cos\\left({\\theta}\\right)}{{\\left(a^{6} \\cos\\left({\\theta}\\right)^{6} + 3 \\, a^{4} r^{2} \\cos\\left({\\theta}\\right)^{4} + 3 \\, a^{2} r^{4} \\cos\\left({\\theta}\\right)^{2} + r^{6}\\right)} \\sin\\left({\\theta}\\right)} & 0\n",
       "\\end{array}\\right)</script></html>"
      ],
      "text/latex": [
       "$$\\newcommand{\\Bold}[1]{\\mathbf{#1}}\\left(\\begin{array}{rrrr}\n",
       "0 & -\\frac{B_{0} a^{3} m r^{2} - B_{0} a m r^{4} - {\\left(B_{0} a^{5} m - B_{0} a^{3} m r^{2}\\right)} \\cos\\left({\\theta}\\right)^{4} - {\\left(B_{0} a^{5} m + 2 \\, B_{0} a^{3} m r^{2} - 3 \\, B_{0} a m r^{4}\\right)} \\cos\\left({\\theta}\\right)^{2}}{a^{6} \\cos\\left({\\theta}\\right)^{6} + 3 \\, a^{4} r^{2} \\cos\\left({\\theta}\\right)^{4} + 3 \\, a^{2} r^{4} \\cos\\left({\\theta}\\right)^{2} + r^{6}} & \\frac{2 \\, {\\left(B_{0} a^{3} m r \\cos\\left({\\theta}\\right)^{3} + B_{0} a^{3} m r \\cos\\left({\\theta}\\right)\\right)} \\sin\\left({\\theta}\\right)}{a^{6} \\cos\\left({\\theta}\\right)^{6} + 3 \\, a^{4} r^{2} \\cos\\left({\\theta}\\right)^{4} + 3 \\, a^{2} r^{4} \\cos\\left({\\theta}\\right)^{2} + r^{6}} & 0 \\\\\n",
       "\\frac{B_{0} a^{3} m r^{2} - B_{0} a m r^{4} - {\\left(B_{0} a^{5} m - B_{0} a^{3} m r^{2}\\right)} \\cos\\left({\\theta}\\right)^{4} - {\\left(B_{0} a^{5} m + 2 \\, B_{0} a^{3} m r^{2} - 3 \\, B_{0} a m r^{4}\\right)} \\cos\\left({\\theta}\\right)^{2}}{a^{6} \\cos\\left({\\theta}\\right)^{6} + 3 \\, a^{4} r^{2} \\cos\\left({\\theta}\\right)^{4} + 3 \\, a^{2} r^{4} \\cos\\left({\\theta}\\right)^{2} + r^{6}} & 0 & 0 & \\frac{B_{0} a^{2} m r^{2} - 2 \\, B_{0} m r^{4} + B_{0} r^{5} - {\\left(B_{0} a^{4} m - B_{0} a^{4} r\\right)} \\cos\\left({\\theta}\\right)^{4} - {\\left(B_{0} a^{4} m + B_{0} a^{2} m r^{2} - 2 \\, B_{0} a^{2} r^{3}\\right)} \\cos\\left({\\theta}\\right)^{2}}{a^{6} \\cos\\left({\\theta}\\right)^{6} + 3 \\, a^{4} r^{2} \\cos\\left({\\theta}\\right)^{4} + 3 \\, a^{2} r^{4} \\cos\\left({\\theta}\\right)^{2} + r^{6}} \\\\\n",
       "-\\frac{2 \\, {\\left(B_{0} a^{3} m r \\cos\\left({\\theta}\\right)^{3} + B_{0} a^{3} m r \\cos\\left({\\theta}\\right)\\right)} \\sin\\left({\\theta}\\right)}{a^{6} \\cos\\left({\\theta}\\right)^{6} + 3 \\, a^{4} r^{2} \\cos\\left({\\theta}\\right)^{4} + 3 \\, a^{2} r^{4} \\cos\\left({\\theta}\\right)^{2} + r^{6}} & 0 & 0 & \\frac{B_{0} a^{4} \\cos\\left({\\theta}\\right) \\sin\\left({\\theta}\\right)^{4} - 2 \\, {\\left(B_{0} a^{4} - B_{0} a^{2} m r + B_{0} a^{2} r^{2}\\right)} \\cos\\left({\\theta}\\right) \\sin\\left({\\theta}\\right)^{2} + {\\left(B_{0} a^{4} - 4 \\, B_{0} a^{2} m r + 2 \\, B_{0} a^{2} r^{2} + B_{0} r^{4}\\right)} \\cos\\left({\\theta}\\right)}{{\\left(a^{6} \\cos\\left({\\theta}\\right)^{6} + 3 \\, a^{4} r^{2} \\cos\\left({\\theta}\\right)^{4} + 3 \\, a^{2} r^{4} \\cos\\left({\\theta}\\right)^{2} + r^{6}\\right)} \\sin\\left({\\theta}\\right)} \\\\\n",
       "0 & -\\frac{B_{0} a^{2} m r^{2} - 2 \\, B_{0} m r^{4} + B_{0} r^{5} - {\\left(B_{0} a^{4} m - B_{0} a^{4} r\\right)} \\cos\\left({\\theta}\\right)^{4} - {\\left(B_{0} a^{4} m + B_{0} a^{2} m r^{2} - 2 \\, B_{0} a^{2} r^{3}\\right)} \\cos\\left({\\theta}\\right)^{2}}{a^{6} \\cos\\left({\\theta}\\right)^{6} + 3 \\, a^{4} r^{2} \\cos\\left({\\theta}\\right)^{4} + 3 \\, a^{2} r^{4} \\cos\\left({\\theta}\\right)^{2} + r^{6}} & -\\frac{B_{0} a^{4} \\cos\\left({\\theta}\\right)^{5} - 2 \\, {\\left(B_{0} a^{2} m r - B_{0} a^{2} r^{2}\\right)} \\cos\\left({\\theta}\\right)^{3} - {\\left(2 \\, B_{0} a^{2} m r - B_{0} r^{4}\\right)} \\cos\\left({\\theta}\\right)}{{\\left(a^{6} \\cos\\left({\\theta}\\right)^{6} + 3 \\, a^{4} r^{2} \\cos\\left({\\theta}\\right)^{4} + 3 \\, a^{2} r^{4} \\cos\\left({\\theta}\\right)^{2} + r^{6}\\right)} \\sin\\left({\\theta}\\right)} & 0\n",
       "\\end{array}\\right)$$"
      ],
      "text/plain": [
       "[                                                                                                                                                                                                                                0                                -(B_0*a^3*m*r^2 - B_0*a*m*r^4 - (B_0*a^5*m - B_0*a^3*m*r^2)*cos(th)^4 - (B_0*a^5*m + 2*B_0*a^3*m*r^2 - 3*B_0*a*m*r^4)*cos(th)^2)/(a^6*cos(th)^6 + 3*a^4*r^2*cos(th)^4 + 3*a^2*r^4*cos(th)^2 + r^6)                                                                                                         2*(B_0*a^3*m*r*cos(th)^3 + B_0*a^3*m*r*cos(th))*sin(th)/(a^6*cos(th)^6 + 3*a^4*r^2*cos(th)^4 + 3*a^2*r^4*cos(th)^2 + r^6)                                                                                                                                                                                                                                 0]\n",
       "[                                (B_0*a^3*m*r^2 - B_0*a*m*r^4 - (B_0*a^5*m - B_0*a^3*m*r^2)*cos(th)^4 - (B_0*a^5*m + 2*B_0*a^3*m*r^2 - 3*B_0*a*m*r^4)*cos(th)^2)/(a^6*cos(th)^6 + 3*a^4*r^2*cos(th)^4 + 3*a^2*r^4*cos(th)^2 + r^6)                                                                                                                                                                                                                                 0                                                                                                                                                                                                                                 0                             (B_0*a^2*m*r^2 - 2*B_0*m*r^4 + B_0*r^5 - (B_0*a^4*m - B_0*a^4*r)*cos(th)^4 - (B_0*a^4*m + B_0*a^2*m*r^2 - 2*B_0*a^2*r^3)*cos(th)^2)/(a^6*cos(th)^6 + 3*a^4*r^2*cos(th)^4 + 3*a^2*r^4*cos(th)^2 + r^6)]\n",
       "[                                                                                                       -2*(B_0*a^3*m*r*cos(th)^3 + B_0*a^3*m*r*cos(th))*sin(th)/(a^6*cos(th)^6 + 3*a^4*r^2*cos(th)^4 + 3*a^2*r^4*cos(th)^2 + r^6)                                                                                                                                                                                                                                 0                                                                                                                                                                                                                                 0 (B_0*a^4*cos(th)*sin(th)^4 - 2*(B_0*a^4 - B_0*a^2*m*r + B_0*a^2*r^2)*cos(th)*sin(th)^2 + (B_0*a^4 - 4*B_0*a^2*m*r + 2*B_0*a^2*r^2 + B_0*r^4)*cos(th))/((a^6*cos(th)^6 + 3*a^4*r^2*cos(th)^4 + 3*a^2*r^4*cos(th)^2 + r^6)*sin(th))]\n",
       "[                                                                                                                                                                                                                                0                            -(B_0*a^2*m*r^2 - 2*B_0*m*r^4 + B_0*r^5 - (B_0*a^4*m - B_0*a^4*r)*cos(th)^4 - (B_0*a^4*m + B_0*a^2*m*r^2 - 2*B_0*a^2*r^3)*cos(th)^2)/(a^6*cos(th)^6 + 3*a^4*r^2*cos(th)^4 + 3*a^2*r^4*cos(th)^2 + r^6)                                                    -(B_0*a^4*cos(th)^5 - 2*(B_0*a^2*m*r - B_0*a^2*r^2)*cos(th)^3 - (2*B_0*a^2*m*r - B_0*r^4)*cos(th))/((a^6*cos(th)^6 + 3*a^4*r^2*cos(th)^4 + 3*a^2*r^4*cos(th)^2 + r^6)*sin(th))                                                                                                                                                                                                                                 0]"
      ]
     },
     "execution_count": 14,
     "metadata": {},
     "output_type": "execute_result"
    }
   ],
   "source": [
    "F_uu = F.up(g,0).up(g,1)\n",
    "F_uu[:]"
   ]
  },
  {
   "cell_type": "markdown",
   "metadata": {},
   "source": [
    "Check that this $F$ is a solution of $\\nabla_{\\mu}F^{\\mu\\nu} = 0$ :"
   ]
  },
  {
   "cell_type": "code",
   "execution_count": 15,
   "metadata": {},
   "outputs": [
    {
     "data": {
      "text/html": [
       "<html><script type=\"math/tex; mode=display\">\\newcommand{\\Bold}[1]{\\mathbf{#1}}\\mathrm{True}</script></html>"
      ],
      "text/latex": [
       "$$\\newcommand{\\Bold}[1]{\\mathbf{#1}}\\mathrm{True}$$"
      ],
      "text/plain": [
       "True"
      ]
     },
     "execution_count": 15,
     "metadata": {},
     "output_type": "execute_result"
    }
   ],
   "source": [
    "nabla(F_uu)[\"^ab_a\"] == 0 #correct"
   ]
  },
  {
   "cell_type": "markdown",
   "metadata": {},
   "source": [
    "Check of the behaviour of the non trivial components of $F$ in the limit for $r >> 1$ :"
   ]
  },
  {
   "cell_type": "markdown",
   "metadata": {},
   "source": [
    "$F_{tr} \\to 0$ for $r \\to \\infty$ :"
   ]
  },
  {
   "cell_type": "code",
   "execution_count": 16,
   "metadata": {},
   "outputs": [
    {
     "data": {
      "text/html": [
       "<html><script type=\"math/tex; mode=display\">\\newcommand{\\Bold}[1]{\\mathbf{#1}}0</script></html>"
      ],
      "text/latex": [
       "$$\\newcommand{\\Bold}[1]{\\mathbf{#1}}0$$"
      ],
      "text/plain": [
       "0"
      ]
     },
     "execution_count": 16,
     "metadata": {},
     "output_type": "execute_result"
    }
   ],
   "source": [
    "F[0,1].expr().limit(r=infinity) #correct"
   ]
  },
  {
   "cell_type": "markdown",
   "metadata": {},
   "source": [
    "$F_{t\\theta} \\to 0$ for $r \\to \\infty$ :"
   ]
  },
  {
   "cell_type": "code",
   "execution_count": 17,
   "metadata": {},
   "outputs": [
    {
     "data": {
      "text/html": [
       "<html><script type=\"math/tex; mode=display\">\\newcommand{\\Bold}[1]{\\mathbf{#1}}0</script></html>"
      ],
      "text/latex": [
       "$$\\newcommand{\\Bold}[1]{\\mathbf{#1}}0$$"
      ],
      "text/plain": [
       "0"
      ]
     },
     "execution_count": 17,
     "metadata": {},
     "output_type": "execute_result"
    }
   ],
   "source": [
    "F[0,2].expr().limit(r=infinity) #correct"
   ]
  },
  {
   "cell_type": "markdown",
   "metadata": {},
   "source": [
    "$F_{r\\phi} \\text{~} B_{0}r\\sin^{2}\\theta$ for $r >> 1$ :"
   ]
  },
  {
   "cell_type": "code",
   "execution_count": 18,
   "metadata": {},
   "outputs": [
    {
     "data": {
      "text/html": [
       "<html><script type=\"math/tex; mode=display\">\\newcommand{\\Bold}[1]{\\mathbf{#1}}r \\ {\\mapsto}\\ {\\left(B_{0} \\sin\\left({\\theta}\\right)^{2} + \\frac{\\mathcal{O}\\left(\\frac{1}{r^{2}}\\right)}{r}\\right)} r</script></html>"
      ],
      "text/latex": [
       "$$\\newcommand{\\Bold}[1]{\\mathbf{#1}}r \\ {\\mapsto}\\ {\\left(B_{0} \\sin\\left({\\theta}\\right)^{2} + \\frac{\\mathcal{O}\\left(\\frac{1}{r^{2}}\\right)}{r}\\right)} r$$"
      ],
      "text/plain": [
       "r |--> (B_0*sin(th)^2 + Order(r^(-2))/r)*r"
      ]
     },
     "execution_count": 18,
     "metadata": {},
     "output_type": "execute_result"
    }
   ],
   "source": [
    "F_13(r) = F[1,3].expr().function(r)\n",
    "var(\"u\")\n",
    "F_13(u) = F_13(1/u)\n",
    "F_13 = F_13.series(u,2).full_simplify() #taylor series expansion for small u, u = 1/r\n",
    "F_13(r) = F_13(1/r)\n",
    "F_13 #correct"
   ]
  },
  {
   "cell_type": "markdown",
   "metadata": {},
   "source": [
    "$F_{\\theta\\phi} \\text{~} B_{0}r^{2}\\sin\\theta\\cos\\theta$ for $r >> 1$ :"
   ]
  },
  {
   "cell_type": "code",
   "execution_count": 19,
   "metadata": {},
   "outputs": [
    {
     "data": {
      "text/html": [
       "<html><script type=\"math/tex; mode=display\">\\newcommand{\\Bold}[1]{\\mathbf{#1}}r \\ {\\mapsto}\\ {\\left(B_{0} \\cos\\left({\\theta}\\right) \\sin\\left({\\theta}\\right) + \\frac{B_{0} a^{2} \\cos\\left({\\theta}\\right) \\sin\\left({\\theta}\\right)}{r^{2}} + \\frac{\\mathcal{O}\\left(\\frac{1}{r}\\right)}{r^{2}}\\right)} r^{2}</script></html>"
      ],
      "text/latex": [
       "$$\\newcommand{\\Bold}[1]{\\mathbf{#1}}r \\ {\\mapsto}\\ {\\left(B_{0} \\cos\\left({\\theta}\\right) \\sin\\left({\\theta}\\right) + \\frac{B_{0} a^{2} \\cos\\left({\\theta}\\right) \\sin\\left({\\theta}\\right)}{r^{2}} + \\frac{\\mathcal{O}\\left(\\frac{1}{r}\\right)}{r^{2}}\\right)} r^{2}$$"
      ],
      "text/plain": [
       "r |--> (B_0*cos(th)*sin(th) + B_0*a^2*cos(th)*sin(th)/r^2 + Order(1/r)/r^2)*r^2"
      ]
     },
     "execution_count": 19,
     "metadata": {},
     "output_type": "execute_result"
    }
   ],
   "source": [
    "F_23(r) = F[2,3].expr().function(r)\n",
    "F_23(u) = F_23(1/u)\n",
    "F_23 = F_23.series(u,1).full_simplify() #taylor series expansion for small u, u = 1/r\n",
    "F_23(r)= F_23(1/r)\n",
    "F_23 #correct"
   ]
  },
  {
   "cell_type": "markdown",
   "metadata": {},
   "source": [
    "Check of the behaviour of the non trivial components of $F$ fully contravariant and $\\vec E$ in the limit for $r >> 1$ :"
   ]
  },
  {
   "cell_type": "markdown",
   "metadata": {},
   "source": [
    "$F^{tr} = E^{r} \\to 0$ for $r \\to \\infty$ :"
   ]
  },
  {
   "cell_type": "code",
   "execution_count": 20,
   "metadata": {},
   "outputs": [
    {
     "data": {
      "text/html": [
       "<html><script type=\"math/tex; mode=display\">\\newcommand{\\Bold}[1]{\\mathbf{#1}}0</script></html>"
      ],
      "text/latex": [
       "$$\\newcommand{\\Bold}[1]{\\mathbf{#1}}0$$"
      ],
      "text/plain": [
       "0"
      ]
     },
     "execution_count": 20,
     "metadata": {},
     "output_type": "execute_result"
    }
   ],
   "source": [
    "F_uu[0,1].expr().limit(r=infinity) #correct"
   ]
  },
  {
   "cell_type": "markdown",
   "metadata": {},
   "source": [
    "$F^{t\\theta}=E^{\\theta} \\to 0$ for $r \\to \\infty$ :"
   ]
  },
  {
   "cell_type": "code",
   "execution_count": 21,
   "metadata": {},
   "outputs": [
    {
     "data": {
      "text/html": [
       "<html><script type=\"math/tex; mode=display\">\\newcommand{\\Bold}[1]{\\mathbf{#1}}0</script></html>"
      ],
      "text/latex": [
       "$$\\newcommand{\\Bold}[1]{\\mathbf{#1}}0$$"
      ],
      "text/plain": [
       "0"
      ]
     },
     "execution_count": 21,
     "metadata": {},
     "output_type": "execute_result"
    }
   ],
   "source": [
    "F_uu[0,2].expr().limit(r=infinity) #correct"
   ]
  },
  {
   "cell_type": "markdown",
   "metadata": {},
   "source": [
    "Therefore we checked that $\\vec E \\to 0$ for $r \\to \\infty$ (since $F^{t\\phi} = E^{\\phi} = 0$ everywhere) as expected."
   ]
  },
  {
   "cell_type": "markdown",
   "metadata": {},
   "source": [
    "$F^{r\\phi} \\text{~} \\frac{B_{0}}{r}$ for $r >> 1$ :"
   ]
  },
  {
   "cell_type": "code",
   "execution_count": 22,
   "metadata": {},
   "outputs": [
    {
     "data": {
      "text/html": [
       "<html><script type=\"math/tex; mode=display\">\\newcommand{\\Bold}[1]{\\mathbf{#1}}r \\ {\\mapsto}\\ \\frac{B_{0}}{r} + \\mathcal{O}\\left(\\frac{1}{r^{2}}\\right)</script></html>"
      ],
      "text/latex": [
       "$$\\newcommand{\\Bold}[1]{\\mathbf{#1}}r \\ {\\mapsto}\\ \\frac{B_{0}}{r} + \\mathcal{O}\\left(\\frac{1}{r^{2}}\\right)$$"
      ],
      "text/plain": [
       "r |--> B_0/r + Order(r^(-2))"
      ]
     },
     "execution_count": 22,
     "metadata": {},
     "output_type": "execute_result"
    }
   ],
   "source": [
    "F_uu_13(r) = F_uu[1,3].expr().function(r)\n",
    "F_uu_13(u) = F_uu_13(1/u)\n",
    "F_uu_13 = F_uu_13.series(u,2).full_simplify() #taylor series expansion for small u, u = 1/r\n",
    "F_uu_13(r) = F_uu_13(1/r)\n",
    "F_uu_13 #correct"
   ]
  },
  {
   "cell_type": "markdown",
   "metadata": {},
   "source": [
    "$F^{\\theta\\phi} \\text{~} \\frac{B_{0}\\cos\\theta}{r^{2}\\sin\\theta}$ for $r >> 1$ :"
   ]
  },
  {
   "cell_type": "code",
   "execution_count": 23,
   "metadata": {},
   "outputs": [
    {
     "data": {
      "text/html": [
       "<html><script type=\"math/tex; mode=display\">\\newcommand{\\Bold}[1]{\\mathbf{#1}}r \\ {\\mapsto}\\ \\frac{\\mathcal{O}\\left(\\frac{1}{r^{3}}\\right) \\sin\\left({\\theta}\\right) + \\frac{B_{0} \\cos\\left({\\theta}\\right)}{r^{2}}}{\\sin\\left({\\theta}\\right)}</script></html>"
      ],
      "text/latex": [
       "$$\\newcommand{\\Bold}[1]{\\mathbf{#1}}r \\ {\\mapsto}\\ \\frac{\\mathcal{O}\\left(\\frac{1}{r^{3}}\\right) \\sin\\left({\\theta}\\right) + \\frac{B_{0} \\cos\\left({\\theta}\\right)}{r^{2}}}{\\sin\\left({\\theta}\\right)}$$"
      ],
      "text/plain": [
       "r |--> (Order(r^(-3))*sin(th) + B_0*cos(th)/r^2)/sin(th)"
      ]
     },
     "execution_count": 23,
     "metadata": {},
     "output_type": "execute_result"
    }
   ],
   "source": [
    "F_uu_23(r) = F_uu[2,3].expr().function(r)\n",
    "F_uu_23(u) = F_uu_23(1/u)\n",
    "F_uu_23 = F_uu_23.series(u,3).full_simplify() #taylor series expansion for small u, u = 1/r\n",
    "F_uu_23(r) = F_uu_23(1/r)\n",
    "F_uu_23 #correct"
   ]
  },
  {
   "cell_type": "markdown",
   "metadata": {},
   "source": [
    "Display of the components of $F$ with respect to the tetrad frame $e_{(a)}$ :"
   ]
  },
  {
   "cell_type": "code",
   "execution_count": 24,
   "metadata": {},
   "outputs": [
    {
     "data": {
      "text/html": [
       "<html><script type=\"math/tex; mode=display\">\\newcommand{\\Bold}[1]{\\mathbf{#1}}\\left( -\\frac{2 \\, B_{0} a^{3} m - 2 \\, B_{0} a m r^{2} + {\\left(B_{0} a^{3} m - B_{0} a^{3} r\\right)} \\sin\\left({\\theta}\\right)^{4} - {\\left(3 \\, B_{0} a^{3} m - B_{0} a^{3} r - B_{0} a m r^{2} - B_{0} a r^{3}\\right)} \\sin\\left({\\theta}\\right)^{2}}{a^{4} \\cos\\left({\\theta}\\right)^{4} + 2 \\, a^{2} r^{2} \\cos\\left({\\theta}\\right)^{2} + r^{4}} \\right) e^{0}\\wedge e^{1} + \\left( -\\frac{\\sqrt{a^{2} - 2 \\, m r + r^{2}} B_{0} a \\cos\\left({\\theta}\\right) \\sin\\left({\\theta}\\right)}{a^{2} \\cos\\left({\\theta}\\right)^{2} + r^{2}} \\right) e^{0}\\wedge e^{2} + \\left( \\frac{\\sqrt{a^{2} - 2 \\, m r + r^{2}} B_{0} r \\sin\\left({\\theta}\\right)}{a^{2} \\cos\\left({\\theta}\\right)^{2} + r^{2}} \\right) e^{1}\\wedge e^{3} + \\left( -\\frac{{\\left(B_{0} a^{4} - 2 \\, B_{0} a^{2} m r + B_{0} a^{2} r^{2}\\right)} \\cos\\left({\\theta}\\right) \\sin\\left({\\theta}\\right)^{2} - {\\left(B_{0} a^{4} - 4 \\, B_{0} a^{2} m r + 2 \\, B_{0} a^{2} r^{2} + B_{0} r^{4}\\right)} \\cos\\left({\\theta}\\right)}{a^{4} \\cos\\left({\\theta}\\right)^{4} + 2 \\, a^{2} r^{2} \\cos\\left({\\theta}\\right)^{2} + r^{4}} \\right) e^{2}\\wedge e^{3}</script></html>"
      ],
      "text/latex": [
       "$$\\newcommand{\\Bold}[1]{\\mathbf{#1}}\\left( -\\frac{2 \\, B_{0} a^{3} m - 2 \\, B_{0} a m r^{2} + {\\left(B_{0} a^{3} m - B_{0} a^{3} r\\right)} \\sin\\left({\\theta}\\right)^{4} - {\\left(3 \\, B_{0} a^{3} m - B_{0} a^{3} r - B_{0} a m r^{2} - B_{0} a r^{3}\\right)} \\sin\\left({\\theta}\\right)^{2}}{a^{4} \\cos\\left({\\theta}\\right)^{4} + 2 \\, a^{2} r^{2} \\cos\\left({\\theta}\\right)^{2} + r^{4}} \\right) e^{0}\\wedge e^{1} + \\left( -\\frac{\\sqrt{a^{2} - 2 \\, m r + r^{2}} B_{0} a \\cos\\left({\\theta}\\right) \\sin\\left({\\theta}\\right)}{a^{2} \\cos\\left({\\theta}\\right)^{2} + r^{2}} \\right) e^{0}\\wedge e^{2} + \\left( \\frac{\\sqrt{a^{2} - 2 \\, m r + r^{2}} B_{0} r \\sin\\left({\\theta}\\right)}{a^{2} \\cos\\left({\\theta}\\right)^{2} + r^{2}} \\right) e^{1}\\wedge e^{3} + \\left( -\\frac{{\\left(B_{0} a^{4} - 2 \\, B_{0} a^{2} m r + B_{0} a^{2} r^{2}\\right)} \\cos\\left({\\theta}\\right) \\sin\\left({\\theta}\\right)^{2} - {\\left(B_{0} a^{4} - 4 \\, B_{0} a^{2} m r + 2 \\, B_{0} a^{2} r^{2} + B_{0} r^{4}\\right)} \\cos\\left({\\theta}\\right)}{a^{4} \\cos\\left({\\theta}\\right)^{4} + 2 \\, a^{2} r^{2} \\cos\\left({\\theta}\\right)^{2} + r^{4}} \\right) e^{2}\\wedge e^{3}$$"
      ],
      "text/plain": [
       "-(2*B_0*a^3*m - 2*B_0*a*m*r^2 + (B_0*a^3*m - B_0*a^3*r)*sin(th)^4 - (3*B_0*a^3*m - B_0*a^3*r - B_0*a*m*r^2 - B_0*a*r^3)*sin(th)^2)/(a^4*cos(th)^4 + 2*a^2*r^2*cos(th)^2 + r^4) e^0/\\e^1 - sqrt(a^2 - 2*m*r + r^2)*B_0*a*cos(th)*sin(th)/(a^2*cos(th)^2 + r^2) e^0/\\e^2 + sqrt(a^2 - 2*m*r + r^2)*B_0*r*sin(th)/(a^2*cos(th)^2 + r^2) e^1/\\e^3 - ((B_0*a^4 - 2*B_0*a^2*m*r + B_0*a^2*r^2)*cos(th)*sin(th)^2 - (B_0*a^4 - 4*B_0*a^2*m*r + 2*B_0*a^2*r^2 + B_0*r^4)*cos(th))/(a^4*cos(th)^4 + 2*a^2*r^2*cos(th)^2 + r^4) e^2/\\e^3"
      ]
     },
     "execution_count": 24,
     "metadata": {},
     "output_type": "execute_result"
    }
   ],
   "source": [
    "F.display(e) #correct, they are equal to Wald's paper"
   ]
  },
  {
   "cell_type": "markdown",
   "metadata": {},
   "source": [
    "Calculation of the scalar $F_{\\mu\\nu}F^{\\mu\\nu}$ :"
   ]
  },
  {
   "cell_type": "code",
   "execution_count": 25,
   "metadata": {},
   "outputs": [
    {
     "data": {
      "text/html": [
       "<html><script type=\"math/tex; mode=display\">\\newcommand{\\Bold}[1]{\\mathbf{#1}}\\begin{array}{llcl} & \\mathcal{M} & \\longrightarrow & \\mathbb{R} \\\\ & \\left(t, r, {\\theta}, {\\phi}\\right) & \\longmapsto & -\\frac{2 \\, {\\left(B_{0}^{2} a^{2} m^{2} r^{4} - 2 \\, B_{0}^{2} a^{2} m r^{5} + 2 \\, B_{0}^{2} m r^{7} - B_{0}^{2} r^{8} - {\\left(B_{0}^{2} a^{8} - B_{0}^{2} a^{6} m^{2}\\right)} \\cos\\left({\\theta}\\right)^{8} + 2 \\, {\\left(B_{0}^{2} a^{6} m^{2} + B_{0}^{2} a^{6} m r + 3 \\, B_{0}^{2} a^{4} m r^{3} - {\\left(2 \\, B_{0}^{2} a^{6} + 3 \\, B_{0}^{2} a^{4} m^{2}\\right)} r^{2}\\right)} \\cos\\left({\\theta}\\right)^{6} + {\\left(B_{0}^{2} a^{6} m^{2} + 6 \\, B_{0}^{2} a^{6} m r - 12 \\, B_{0}^{2} a^{4} m^{2} r^{2} + 6 \\, B_{0}^{2} a^{4} m r^{3} + 4 \\, B_{0}^{2} a^{2} m r^{5} - {\\left(6 \\, B_{0}^{2} a^{4} - B_{0}^{2} a^{2} m^{2}\\right)} r^{4}\\right)} \\cos\\left({\\theta}\\right)^{4} - 2 \\, {\\left(3 \\, B_{0}^{2} a^{4} m^{2} r^{2} - 2 \\, B_{0}^{2} a^{4} m r^{3} - B_{0}^{2} a^{2} m^{2} r^{4} - 3 \\, B_{0}^{2} a^{2} m r^{5} + 2 \\, B_{0}^{2} a^{2} r^{6} + B_{0}^{2} m r^{7}\\right)} \\cos\\left({\\theta}\\right)^{2}\\right)}}{a^{8} \\cos\\left({\\theta}\\right)^{8} + 4 \\, a^{6} r^{2} \\cos\\left({\\theta}\\right)^{6} + 6 \\, a^{4} r^{4} \\cos\\left({\\theta}\\right)^{4} + 4 \\, a^{2} r^{6} \\cos\\left({\\theta}\\right)^{2} + r^{8}} \\end{array}</script></html>"
      ],
      "text/latex": [
       "$$\\newcommand{\\Bold}[1]{\\mathbf{#1}}\\begin{array}{llcl} & \\mathcal{M} & \\longrightarrow & \\mathbb{R} \\\\ & \\left(t, r, {\\theta}, {\\phi}\\right) & \\longmapsto & -\\frac{2 \\, {\\left(B_{0}^{2} a^{2} m^{2} r^{4} - 2 \\, B_{0}^{2} a^{2} m r^{5} + 2 \\, B_{0}^{2} m r^{7} - B_{0}^{2} r^{8} - {\\left(B_{0}^{2} a^{8} - B_{0}^{2} a^{6} m^{2}\\right)} \\cos\\left({\\theta}\\right)^{8} + 2 \\, {\\left(B_{0}^{2} a^{6} m^{2} + B_{0}^{2} a^{6} m r + 3 \\, B_{0}^{2} a^{4} m r^{3} - {\\left(2 \\, B_{0}^{2} a^{6} + 3 \\, B_{0}^{2} a^{4} m^{2}\\right)} r^{2}\\right)} \\cos\\left({\\theta}\\right)^{6} + {\\left(B_{0}^{2} a^{6} m^{2} + 6 \\, B_{0}^{2} a^{6} m r - 12 \\, B_{0}^{2} a^{4} m^{2} r^{2} + 6 \\, B_{0}^{2} a^{4} m r^{3} + 4 \\, B_{0}^{2} a^{2} m r^{5} - {\\left(6 \\, B_{0}^{2} a^{4} - B_{0}^{2} a^{2} m^{2}\\right)} r^{4}\\right)} \\cos\\left({\\theta}\\right)^{4} - 2 \\, {\\left(3 \\, B_{0}^{2} a^{4} m^{2} r^{2} - 2 \\, B_{0}^{2} a^{4} m r^{3} - B_{0}^{2} a^{2} m^{2} r^{4} - 3 \\, B_{0}^{2} a^{2} m r^{5} + 2 \\, B_{0}^{2} a^{2} r^{6} + B_{0}^{2} m r^{7}\\right)} \\cos\\left({\\theta}\\right)^{2}\\right)}}{a^{8} \\cos\\left({\\theta}\\right)^{8} + 4 \\, a^{6} r^{2} \\cos\\left({\\theta}\\right)^{6} + 6 \\, a^{4} r^{4} \\cos\\left({\\theta}\\right)^{4} + 4 \\, a^{2} r^{6} \\cos\\left({\\theta}\\right)^{2} + r^{8}} \\end{array}$$"
      ],
      "text/plain": [
       "M --> R\n",
       "(t, r, th, ph) |--> -2*(B_0^2*a^2*m^2*r^4 - 2*B_0^2*a^2*m*r^5 + 2*B_0^2*m*r^7 - B_0^2*r^8 - (B_0^2*a^8 - B_0^2*a^6*m^2)*cos(th)^8 + 2*(B_0^2*a^6*m^2 + B_0^2*a^6*m*r + 3*B_0^2*a^4*m*r^3 - (2*B_0^2*a^6 + 3*B_0^2*a^4*m^2)*r^2)*cos(th)^6 + (B_0^2*a^6*m^2 + 6*B_0^2*a^6*m*r - 12*B_0^2*a^4*m^2*r^2 + 6*B_0^2*a^4*m*r^3 + 4*B_0^2*a^2*m*r^5 - (6*B_0^2*a^4 - B_0^2*a^2*m^2)*r^4)*cos(th)^4 - 2*(3*B_0^2*a^4*m^2*r^2 - 2*B_0^2*a^4*m*r^3 - B_0^2*a^2*m^2*r^4 - 3*B_0^2*a^2*m*r^5 + 2*B_0^2*a^2*r^6 + B_0^2*m*r^7)*cos(th)^2)/(a^8*cos(th)^8 + 4*a^6*r^2*cos(th)^6 + 6*a^4*r^4*cos(th)^4 + 4*a^2*r^6*cos(th)^2 + r^8)"
      ]
     },
     "execution_count": 25,
     "metadata": {},
     "output_type": "execute_result"
    }
   ],
   "source": [
    "FF_scalar = F.contract(0,1,F_uu,0,1)\n",
    "FF_scalar.display()"
   ]
  },
  {
   "cell_type": "markdown",
   "metadata": {},
   "source": [
    "Calculation of $\\star F$ :"
   ]
  },
  {
   "cell_type": "code",
   "execution_count": 26,
   "metadata": {},
   "outputs": [],
   "source": [
    "F_star = F.hodge_dual()"
   ]
  },
  {
   "cell_type": "markdown",
   "metadata": {},
   "source": [
    "Calculation of the fully contravariant version of $\\star F$ using musical isomorphism twice:"
   ]
  },
  {
   "cell_type": "code",
   "execution_count": 27,
   "metadata": {},
   "outputs": [],
   "source": [
    "F_star_uu = F_star.up(g,0).up(g,1)"
   ]
  },
  {
   "cell_type": "markdown",
   "metadata": {},
   "source": [
    "Check that $-(\\star F)^{tr} = B^{r} \\text{~}  B_{0}\\cos\\theta$ for $r >> 1$ :"
   ]
  },
  {
   "cell_type": "code",
   "execution_count": 28,
   "metadata": {},
   "outputs": [
    {
     "data": {
      "text/html": [
       "<html><script type=\"math/tex; mode=display\">\\newcommand{\\Bold}[1]{\\mathbf{#1}}\\frac{B_{0} {\\left| \\sin\\left({\\theta}\\right) \\right|} \\cos\\left({\\theta}\\right)}{\\sin\\left({\\theta}\\right)}</script></html>"
      ],
      "text/latex": [
       "$$\\newcommand{\\Bold}[1]{\\mathbf{#1}}\\frac{B_{0} {\\left| \\sin\\left({\\theta}\\right) \\right|} \\cos\\left({\\theta}\\right)}{\\sin\\left({\\theta}\\right)}$$"
      ],
      "text/plain": [
       "B_0*abs(sin(th))*cos(th)/sin(th)"
      ]
     },
     "execution_count": 28,
     "metadata": {},
     "output_type": "execute_result"
    }
   ],
   "source": [
    "-F_star_uu[0,1].expr().limit(r=infinity).maxima_methods().rootscontract().full_simplify() #correct"
   ]
  },
  {
   "cell_type": "markdown",
   "metadata": {},
   "source": [
    "Check that $-(\\star F)^{t\\theta}=B^{\\theta}  \\text{~} -\\frac{B_{0}\\sin\\theta}{r}$ for $r >> 1$ :"
   ]
  },
  {
   "cell_type": "code",
   "execution_count": 29,
   "metadata": {},
   "outputs": [
    {
     "data": {
      "text/html": [
       "<html><script type=\"math/tex; mode=display\">\\newcommand{\\Bold}[1]{\\mathbf{#1}}r \\ {\\mapsto}\\ -\\frac{B_{0} \\sqrt{\\cos\\left({\\theta}\\right) + 1} \\sqrt{-\\cos\\left({\\theta}\\right) + 1}}{r} + \\mathcal{O}\\left(\\frac{1}{r^{2}}\\right)</script></html>"
      ],
      "text/latex": [
       "$$\\newcommand{\\Bold}[1]{\\mathbf{#1}}r \\ {\\mapsto}\\ -\\frac{B_{0} \\sqrt{\\cos\\left({\\theta}\\right) + 1} \\sqrt{-\\cos\\left({\\theta}\\right) + 1}}{r} + \\mathcal{O}\\left(\\frac{1}{r^{2}}\\right)$$"
      ],
      "text/plain": [
       "r |--> -B_0*sqrt(cos(th) + 1)*sqrt(-cos(th) + 1)/r + Order(r^(-2))"
      ]
     },
     "execution_count": 29,
     "metadata": {},
     "output_type": "execute_result"
    }
   ],
   "source": [
    "B_th(r) = -F_star_uu[0,2].expr().function(r)\n",
    "B_th(u) = B_th(1/u)\n",
    "B_th = B_th.series(u,2).full_simplify() #taylor series expansion for small u, u = 1/r\n",
    "B_th(r) = B_th(1/r)\n",
    "B_th #correct"
   ]
  },
  {
   "cell_type": "markdown",
   "metadata": {},
   "source": [
    "Check that $-(\\star F)^{t\\phi} = B^{\\phi} = 0$ :"
   ]
  },
  {
   "cell_type": "code",
   "execution_count": 30,
   "metadata": {},
   "outputs": [
    {
     "data": {
      "text/html": [
       "<html><script type=\"math/tex; mode=display\">\\newcommand{\\Bold}[1]{\\mathbf{#1}}0</script></html>"
      ],
      "text/latex": [
       "$$\\newcommand{\\Bold}[1]{\\mathbf{#1}}0$$"
      ],
      "text/plain": [
       "0"
      ]
     },
     "execution_count": 30,
     "metadata": {},
     "output_type": "execute_result"
    }
   ],
   "source": [
    "-F_star_uu[0,3].expr() #correct"
   ]
  },
  {
   "cell_type": "markdown",
   "metadata": {},
   "source": [
    "Now if we consider a 3 dimensional Euclidean space and a vector field $\\vec B$ with the components obtained above $B^{i}=(B_{0}\\cos\\theta,-\\frac{B_{0}\\sin\\theta}{r},0)$ in spherical coordinates:"
   ]
  },
  {
   "cell_type": "code",
   "execution_count": 42,
   "metadata": {},
   "outputs": [
    {
     "data": {
      "text/html": [
       "<html><script type=\"math/tex; mode=display\">\\newcommand{\\Bold}[1]{\\mathbf{#1}}B_{0} \\cos\\left({\\theta}\\right) \\frac{\\partial}{\\partial r } -\\frac{B_{0} \\sin\\left({\\theta}\\right)}{r} \\frac{\\partial}{\\partial {\\theta} }</script></html>"
      ],
      "text/latex": [
       "$$\\newcommand{\\Bold}[1]{\\mathbf{#1}}B_{0} \\cos\\left({\\theta}\\right) \\frac{\\partial}{\\partial r } -\\frac{B_{0} \\sin\\left({\\theta}\\right)}{r} \\frac{\\partial}{\\partial {\\theta} }$$"
      ],
      "text/plain": [
       "B_0*cos(th) d/dr - B_0*sin(th)/r d/dth"
      ]
     },
     "execution_count": 42,
     "metadata": {},
     "output_type": "execute_result"
    }
   ],
   "source": [
    "E.<x,y,z> = EuclideanSpace()\n",
    "\n",
    "cartesian = E.cartesian_coordinates()\n",
    "spherical.<r,th,ph> = E.spherical_coordinates()\n",
    "\n",
    "B = B_0*cos(th)*spherical.frame()[1]-(B_0*sin(th)/r)*spherical.frame()[2]\n",
    "B.display(spherical)"
   ]
  },
  {
   "cell_type": "markdown",
   "metadata": {},
   "source": [
    "If we check the components of this vector field in cartesian coordinates we get:"
   ]
  },
  {
   "cell_type": "code",
   "execution_count": 32,
   "metadata": {},
   "outputs": [
    {
     "data": {
      "text/html": [
       "<html><script type=\"math/tex; mode=display\">\\newcommand{\\Bold}[1]{\\mathbf{#1}}B_{0} e_{ z }</script></html>"
      ],
      "text/latex": [
       "$$\\newcommand{\\Bold}[1]{\\mathbf{#1}}B_{0} e_{ z }$$"
      ],
      "text/plain": [
       "B_0 e_z"
      ]
     },
     "execution_count": 32,
     "metadata": {},
     "output_type": "execute_result"
    }
   ],
   "source": [
    "B.display(cartesian)"
   ]
  },
  {
   "cell_type": "markdown",
   "metadata": {},
   "source": [
    "Therefore we checked that the magnetic field $\\vec B$ for $r >> 1$ is uniform and parallel to the rotation axis (points upward if $B_0 > 0$) of the Kerr solution and has magnitude $|B_{0}|$ as requested."
   ]
  },
  {
   "cell_type": "markdown",
   "metadata": {},
   "source": [
    "Calculation of the scalar $(\\star F)^{\\mu\\nu}F_{\\mu\\nu}$ :"
   ]
  },
  {
   "cell_type": "code",
   "execution_count": 33,
   "metadata": {},
   "outputs": [
    {
     "data": {
      "text/html": [
       "<html><script type=\"math/tex; mode=display\">\\newcommand{\\Bold}[1]{\\mathbf{#1}}\\begin{array}{llcl} & \\mathcal{M} & \\longrightarrow & \\mathbb{R} \\\\ & \\left(t, r, {\\theta}, {\\phi}\\right) & \\longmapsto & -\\frac{4 \\, {\\left({\\left(B_{0}^{2} a^{7} m - 2 \\, B_{0}^{2} a^{5} m^{2} r + B_{0}^{2} a^{5} m r^{2}\\right)} \\cos\\left({\\theta}\\right)^{7} + {\\left(B_{0}^{2} a^{7} m - 4 \\, B_{0}^{2} a^{5} m^{2} r + 3 \\, B_{0}^{2} a^{5} m r^{2} + 2 \\, B_{0}^{2} a^{3} m^{2} r^{3} - 2 \\, B_{0}^{2} a^{3} m r^{4}\\right)} \\cos\\left({\\theta}\\right)^{5} - {\\left(2 \\, B_{0}^{2} a^{5} m^{2} r + 2 \\, B_{0}^{2} a^{5} m r^{2} - 4 \\, B_{0}^{2} a^{3} m^{2} r^{3} - 3 \\, B_{0}^{2} a^{3} m r^{4} + 3 \\, B_{0}^{2} a m r^{6}\\right)} \\cos\\left({\\theta}\\right)^{3} + {\\left(2 \\, B_{0}^{2} a^{3} m^{2} r^{3} - 3 \\, B_{0}^{2} a^{3} m r^{4} + B_{0}^{2} a m r^{6}\\right)} \\cos\\left({\\theta}\\right)\\right)} \\sqrt{\\cos\\left({\\theta}\\right) + 1} \\sqrt{-\\cos\\left({\\theta}\\right) + 1} \\sin\\left({\\theta}\\right)}{a^{8} \\cos\\left({\\theta}\\right)^{10} - {\\left(a^{8} - 4 \\, a^{6} r^{2}\\right)} \\cos\\left({\\theta}\\right)^{8} - r^{8} - 2 \\, {\\left(2 \\, a^{6} r^{2} - 3 \\, a^{4} r^{4}\\right)} \\cos\\left({\\theta}\\right)^{6} - 2 \\, {\\left(3 \\, a^{4} r^{4} - 2 \\, a^{2} r^{6}\\right)} \\cos\\left({\\theta}\\right)^{4} - {\\left(4 \\, a^{2} r^{6} - r^{8}\\right)} \\cos\\left({\\theta}\\right)^{2}} \\end{array}</script></html>"
      ],
      "text/latex": [
       "$$\\newcommand{\\Bold}[1]{\\mathbf{#1}}\\begin{array}{llcl} & \\mathcal{M} & \\longrightarrow & \\mathbb{R} \\\\ & \\left(t, r, {\\theta}, {\\phi}\\right) & \\longmapsto & -\\frac{4 \\, {\\left({\\left(B_{0}^{2} a^{7} m - 2 \\, B_{0}^{2} a^{5} m^{2} r + B_{0}^{2} a^{5} m r^{2}\\right)} \\cos\\left({\\theta}\\right)^{7} + {\\left(B_{0}^{2} a^{7} m - 4 \\, B_{0}^{2} a^{5} m^{2} r + 3 \\, B_{0}^{2} a^{5} m r^{2} + 2 \\, B_{0}^{2} a^{3} m^{2} r^{3} - 2 \\, B_{0}^{2} a^{3} m r^{4}\\right)} \\cos\\left({\\theta}\\right)^{5} - {\\left(2 \\, B_{0}^{2} a^{5} m^{2} r + 2 \\, B_{0}^{2} a^{5} m r^{2} - 4 \\, B_{0}^{2} a^{3} m^{2} r^{3} - 3 \\, B_{0}^{2} a^{3} m r^{4} + 3 \\, B_{0}^{2} a m r^{6}\\right)} \\cos\\left({\\theta}\\right)^{3} + {\\left(2 \\, B_{0}^{2} a^{3} m^{2} r^{3} - 3 \\, B_{0}^{2} a^{3} m r^{4} + B_{0}^{2} a m r^{6}\\right)} \\cos\\left({\\theta}\\right)\\right)} \\sqrt{\\cos\\left({\\theta}\\right) + 1} \\sqrt{-\\cos\\left({\\theta}\\right) + 1} \\sin\\left({\\theta}\\right)}{a^{8} \\cos\\left({\\theta}\\right)^{10} - {\\left(a^{8} - 4 \\, a^{6} r^{2}\\right)} \\cos\\left({\\theta}\\right)^{8} - r^{8} - 2 \\, {\\left(2 \\, a^{6} r^{2} - 3 \\, a^{4} r^{4}\\right)} \\cos\\left({\\theta}\\right)^{6} - 2 \\, {\\left(3 \\, a^{4} r^{4} - 2 \\, a^{2} r^{6}\\right)} \\cos\\left({\\theta}\\right)^{4} - {\\left(4 \\, a^{2} r^{6} - r^{8}\\right)} \\cos\\left({\\theta}\\right)^{2}} \\end{array}$$"
      ],
      "text/plain": [
       "M --> R\n",
       "(t, r, th, ph) |--> -4*((B_0^2*a^7*m - 2*B_0^2*a^5*m^2*r + B_0^2*a^5*m*r^2)*cos(th)^7 + (B_0^2*a^7*m - 4*B_0^2*a^5*m^2*r + 3*B_0^2*a^5*m*r^2 + 2*B_0^2*a^3*m^2*r^3 - 2*B_0^2*a^3*m*r^4)*cos(th)^5 - (2*B_0^2*a^5*m^2*r + 2*B_0^2*a^5*m*r^2 - 4*B_0^2*a^3*m^2*r^3 - 3*B_0^2*a^3*m*r^4 + 3*B_0^2*a*m*r^6)*cos(th)^3 + (2*B_0^2*a^3*m^2*r^3 - 3*B_0^2*a^3*m*r^4 + B_0^2*a*m*r^6)*cos(th))*sqrt(cos(th) + 1)*sqrt(-cos(th) + 1)*sin(th)/(a^8*cos(th)^10 - (a^8 - 4*a^6*r^2)*cos(th)^8 - r^8 - 2*(2*a^6*r^2 - 3*a^4*r^4)*cos(th)^6 - 2*(3*a^4*r^4 - 2*a^2*r^6)*cos(th)^4 - (4*a^2*r^6 - r^8)*cos(th)^2)"
      ]
     },
     "execution_count": 33,
     "metadata": {},
     "output_type": "execute_result"
    }
   ],
   "source": [
    "F_star_F_scalar = F_star_uu.contract(0,1,F,0,1)\n",
    "F_star_F_scalar.display()"
   ]
  },
  {
   "cell_type": "markdown",
   "metadata": {},
   "source": [
    "Calculation of $(\\star F)^{\\mu\\nu}F_{\\mu\\nu}$ scalar for $r \\to \\infty$ (we should expect it to be 0 since in this case $\\vec E \\to 0$ for $r \\to \\infty$ and $\\frac{1}{4}(\\star F)^{\\mu\\nu}F_{\\mu\\nu}=\\vec E \\cdot \\vec B$):"
   ]
  },
  {
   "cell_type": "code",
   "execution_count": 34,
   "metadata": {},
   "outputs": [
    {
     "data": {
      "text/html": [
       "<html><script type=\"math/tex; mode=display\">\\newcommand{\\Bold}[1]{\\mathbf{#1}}0</script></html>"
      ],
      "text/latex": [
       "$$\\newcommand{\\Bold}[1]{\\mathbf{#1}}0$$"
      ],
      "text/plain": [
       "0"
      ]
     },
     "execution_count": 34,
     "metadata": {},
     "output_type": "execute_result"
    }
   ],
   "source": [
    "F_star_F_scalar.expr().limit(r = infinity) #correct"
   ]
  },
  {
   "cell_type": "markdown",
   "metadata": {},
   "source": [
    "Calculation of $\\frac{1}{2}F^{\\mu\\nu}F_{\\mu\\nu}$ scalar for $r \\to \\infty$ (we should expect it to be $B_{0}^{2}$ since in this case $\\vec E \\to 0$ for $r \\to \\infty$ and $\\frac{1}{2}F^{\\mu\\nu}F_{\\mu\\nu}=\\vec B^{2} - \\vec E^{2}$) :"
   ]
  },
  {
   "cell_type": "code",
   "execution_count": 35,
   "metadata": {},
   "outputs": [
    {
     "data": {
      "text/html": [
       "<html><script type=\"math/tex; mode=display\">\\newcommand{\\Bold}[1]{\\mathbf{#1}}B_{0}^{2}</script></html>"
      ],
      "text/latex": [
       "$$\\newcommand{\\Bold}[1]{\\mathbf{#1}}B_{0}^{2}$$"
      ],
      "text/plain": [
       "B_0^2"
      ]
     },
     "execution_count": 35,
     "metadata": {},
     "output_type": "execute_result"
    }
   ],
   "source": [
    "(1/2)*FF_scalar.expr().limit(r = infinity) #correct"
   ]
  },
  {
   "cell_type": "markdown",
   "metadata": {},
   "source": [
    "## $\\vec E$ and $\\vec B$ behaviour for $a = 0$"
   ]
  },
  {
   "cell_type": "markdown",
   "metadata": {},
   "source": [
    "Check that $\\vec E = 0$ everywhere for $a=0$ :"
   ]
  },
  {
   "cell_type": "markdown",
   "metadata": {},
   "source": [
    "$E^{r}_{a=0}$ :"
   ]
  },
  {
   "cell_type": "code",
   "execution_count": 36,
   "metadata": {},
   "outputs": [
    {
     "data": {
      "text/html": [
       "<html><script type=\"math/tex; mode=display\">\\newcommand{\\Bold}[1]{\\mathbf{#1}}0</script></html>"
      ],
      "text/latex": [
       "$$\\newcommand{\\Bold}[1]{\\mathbf{#1}}0$$"
      ],
      "text/plain": [
       "0"
      ]
     },
     "execution_count": 36,
     "metadata": {},
     "output_type": "execute_result"
    }
   ],
   "source": [
    "F_uu[0,1].expr().limit(a=0)"
   ]
  },
  {
   "cell_type": "markdown",
   "metadata": {},
   "source": [
    "$E^{\\theta}_{a=0}$ :"
   ]
  },
  {
   "cell_type": "code",
   "execution_count": 37,
   "metadata": {},
   "outputs": [
    {
     "data": {
      "text/html": [
       "<html><script type=\"math/tex; mode=display\">\\newcommand{\\Bold}[1]{\\mathbf{#1}}0</script></html>"
      ],
      "text/latex": [
       "$$\\newcommand{\\Bold}[1]{\\mathbf{#1}}0$$"
      ],
      "text/plain": [
       "0"
      ]
     },
     "execution_count": 37,
     "metadata": {},
     "output_type": "execute_result"
    }
   ],
   "source": [
    "F_uu[0,2].expr().limit(a=0)"
   ]
  },
  {
   "cell_type": "markdown",
   "metadata": {},
   "source": [
    "$E^{\\phi}_{a=0}$ :"
   ]
  },
  {
   "cell_type": "code",
   "execution_count": 38,
   "metadata": {},
   "outputs": [
    {
     "data": {
      "text/html": [
       "<html><script type=\"math/tex; mode=display\">\\newcommand{\\Bold}[1]{\\mathbf{#1}}0</script></html>"
      ],
      "text/latex": [
       "$$\\newcommand{\\Bold}[1]{\\mathbf{#1}}0$$"
      ],
      "text/plain": [
       "0"
      ]
     },
     "execution_count": 38,
     "metadata": {},
     "output_type": "execute_result"
    }
   ],
   "source": [
    "F_uu[0,3].expr().limit(a=0)"
   ]
  },
  {
   "cell_type": "markdown",
   "metadata": {},
   "source": [
    "Now we check the magnetic field $\\vec B$"
   ]
  },
  {
   "cell_type": "markdown",
   "metadata": {},
   "source": [
    "$B^{r}_{a=0}$ :"
   ]
  },
  {
   "cell_type": "code",
   "execution_count": 39,
   "metadata": {},
   "outputs": [
    {
     "data": {
      "text/html": [
       "<html><script type=\"math/tex; mode=display\">\\newcommand{\\Bold}[1]{\\mathbf{#1}}\\frac{B_{0} {\\left| \\sin\\left({\\theta}\\right) \\right|} \\cos\\left({\\theta}\\right)}{\\sin\\left({\\theta}\\right)}</script></html>"
      ],
      "text/latex": [
       "$$\\newcommand{\\Bold}[1]{\\mathbf{#1}}\\frac{B_{0} {\\left| \\sin\\left({\\theta}\\right) \\right|} \\cos\\left({\\theta}\\right)}{\\sin\\left({\\theta}\\right)}$$"
      ],
      "text/plain": [
       "B_0*abs(sin(th))*cos(th)/sin(th)"
      ]
     },
     "execution_count": 39,
     "metadata": {},
     "output_type": "execute_result"
    }
   ],
   "source": [
    "-F_star_uu[0,1].expr().limit(a=0).maxima_methods().rootscontract().full_simplify()"
   ]
  },
  {
   "cell_type": "markdown",
   "metadata": {},
   "source": [
    "$B^{\\theta}_{a=0}$ :"
   ]
  },
  {
   "cell_type": "code",
   "execution_count": 40,
   "metadata": {},
   "outputs": [
    {
     "data": {
      "text/html": [
       "<html><script type=\"math/tex; mode=display\">\\newcommand{\\Bold}[1]{\\mathbf{#1}}-\\frac{B_{0} {\\left| \\sin\\left({\\theta}\\right) \\right|}}{r}</script></html>"
      ],
      "text/latex": [
       "$$\\newcommand{\\Bold}[1]{\\mathbf{#1}}-\\frac{B_{0} {\\left| \\sin\\left({\\theta}\\right) \\right|}}{r}$$"
      ],
      "text/plain": [
       "-B_0*abs(sin(th))/r"
      ]
     },
     "execution_count": 40,
     "metadata": {},
     "output_type": "execute_result"
    }
   ],
   "source": [
    "-F_star_uu[0,2].expr().limit(a=0).maxima_methods().rootscontract().full_simplify()"
   ]
  },
  {
   "cell_type": "markdown",
   "metadata": {},
   "source": [
    "$B^{\\phi}_{a=0}$ :"
   ]
  },
  {
   "cell_type": "code",
   "execution_count": 41,
   "metadata": {},
   "outputs": [
    {
     "data": {
      "text/html": [
       "<html><script type=\"math/tex; mode=display\">\\newcommand{\\Bold}[1]{\\mathbf{#1}}0</script></html>"
      ],
      "text/latex": [
       "$$\\newcommand{\\Bold}[1]{\\mathbf{#1}}0$$"
      ],
      "text/plain": [
       "0"
      ]
     },
     "execution_count": 41,
     "metadata": {},
     "output_type": "execute_result"
    }
   ],
   "source": [
    "-F_star_uu[0,3].expr().limit(a=0).maxima_methods().rootscontract().full_simplify()"
   ]
  },
  {
   "cell_type": "markdown",
   "metadata": {},
   "source": [
    "Therefore, in the case of no rotation ($a=0$) (Schwarzschild metric) the solution is a uniform magnetic field throughout the whole spacetime with the same features of the asymptotic one in Kerr metric."
   ]
  },
  {
   "cell_type": "markdown",
   "metadata": {},
   "source": [
    "So if we turn on rotation ($a\\ne0$) and we get closer and closer to the event horizon the effect of rotation and frame dragging becomes stronger and stronger and the asymptotic uniform magnetic field get mixed into a more complicated combination of both eletric and magnetic fields."
   ]
  }
 ],
 "metadata": {
  "kernelspec": {
   "display_name": "SageMath 9.3",
   "language": "sage",
   "name": "sagemath"
  },
  "language_info": {
   "codemirror_mode": {
    "name": "ipython",
    "version": 3
   },
   "file_extension": ".py",
   "mimetype": "text/x-python",
   "name": "python",
   "nbconvert_exporter": "python",
   "pygments_lexer": "ipython3",
   "version": "3.7.10"
  }
 },
 "nbformat": 4,
 "nbformat_minor": 4
}
