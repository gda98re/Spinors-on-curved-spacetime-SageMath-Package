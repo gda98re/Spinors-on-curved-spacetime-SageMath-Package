{
 "cells": [
  {
   "cell_type": "markdown",
   "metadata": {},
   "source": [
    "# Dirac Equation on Kerr spacetime + Wald Field"
   ]
  },
  {
   "cell_type": "markdown",
   "metadata": {},
   "source": [
    "## Basic initialization of the lorentzian manifold"
   ]
  },
  {
   "cell_type": "markdown",
   "metadata": {},
   "source": [
    "Initialization of the Kerr manifold $\\mathcal M_{Kerr}$ atlas with Doran coordinates (Doran) and of the metric tensor $g$ :"
   ]
  },
  {
   "cell_type": "code",
   "execution_count": 95,
   "metadata": {
    "scrolled": true
   },
   "outputs": [
    {
     "data": {
      "text/html": [
       "<html><script type=\"math/tex; mode=display\">\\newcommand{\\Bold}[1]{\\mathbf{#1}}g = \\left( -\\frac{2 \\, m r}{a^{2} \\cos\\left({\\theta}\\right)^{2} + r^{2}} + 1 \\right) \\mathrm{d} t\\otimes \\mathrm{d} t + \\left( -\\sqrt{2} \\sqrt{\\frac{m r}{a^{2} + r^{2}}} \\right) \\mathrm{d} t\\otimes \\mathrm{d} r + \\left( \\frac{2 \\, a m r \\sin\\left({\\theta}\\right)^{2}}{a^{2} \\cos\\left({\\theta}\\right)^{2} + r^{2}} \\right) \\mathrm{d} t\\otimes \\mathrm{d} {\\phi} + \\left( -\\sqrt{2} \\sqrt{\\frac{m r}{a^{2} + r^{2}}} \\right) \\mathrm{d} r\\otimes \\mathrm{d} t + \\left( -\\frac{a^{2} \\cos\\left({\\theta}\\right)^{2} + r^{2}}{a^{2} + r^{2}} \\right) \\mathrm{d} r\\otimes \\mathrm{d} r + \\left( \\sqrt{2} a \\sqrt{\\frac{m r}{a^{2} + r^{2}}} \\sin\\left({\\theta}\\right)^{2} \\right) \\mathrm{d} r\\otimes \\mathrm{d} {\\phi} + \\left( -a^{2} \\cos\\left({\\theta}\\right)^{2} - r^{2} \\right) \\mathrm{d} {\\theta}\\otimes \\mathrm{d} {\\theta} + \\left( \\frac{2 \\, a m r \\sin\\left({\\theta}\\right)^{2}}{a^{2} \\cos\\left({\\theta}\\right)^{2} + r^{2}} \\right) \\mathrm{d} {\\phi}\\otimes \\mathrm{d} t + \\left( \\sqrt{2} a \\sqrt{\\frac{m r}{a^{2} + r^{2}}} \\sin\\left({\\theta}\\right)^{2} \\right) \\mathrm{d} {\\phi}\\otimes \\mathrm{d} r -{\\left(\\frac{2 \\, a^{2} m r \\sin\\left({\\theta}\\right)^{2}}{a^{2} \\cos\\left({\\theta}\\right)^{2} + r^{2}} + a^{2} + r^{2}\\right)} \\sin\\left({\\theta}\\right)^{2} \\mathrm{d} {\\phi}\\otimes \\mathrm{d} {\\phi}</script></html>"
      ],
      "text/latex": [
       "$$\\newcommand{\\Bold}[1]{\\mathbf{#1}}g = \\left( -\\frac{2 \\, m r}{a^{2} \\cos\\left({\\theta}\\right)^{2} + r^{2}} + 1 \\right) \\mathrm{d} t\\otimes \\mathrm{d} t + \\left( -\\sqrt{2} \\sqrt{\\frac{m r}{a^{2} + r^{2}}} \\right) \\mathrm{d} t\\otimes \\mathrm{d} r + \\left( \\frac{2 \\, a m r \\sin\\left({\\theta}\\right)^{2}}{a^{2} \\cos\\left({\\theta}\\right)^{2} + r^{2}} \\right) \\mathrm{d} t\\otimes \\mathrm{d} {\\phi} + \\left( -\\sqrt{2} \\sqrt{\\frac{m r}{a^{2} + r^{2}}} \\right) \\mathrm{d} r\\otimes \\mathrm{d} t + \\left( -\\frac{a^{2} \\cos\\left({\\theta}\\right)^{2} + r^{2}}{a^{2} + r^{2}} \\right) \\mathrm{d} r\\otimes \\mathrm{d} r + \\left( \\sqrt{2} a \\sqrt{\\frac{m r}{a^{2} + r^{2}}} \\sin\\left({\\theta}\\right)^{2} \\right) \\mathrm{d} r\\otimes \\mathrm{d} {\\phi} + \\left( -a^{2} \\cos\\left({\\theta}\\right)^{2} - r^{2} \\right) \\mathrm{d} {\\theta}\\otimes \\mathrm{d} {\\theta} + \\left( \\frac{2 \\, a m r \\sin\\left({\\theta}\\right)^{2}}{a^{2} \\cos\\left({\\theta}\\right)^{2} + r^{2}} \\right) \\mathrm{d} {\\phi}\\otimes \\mathrm{d} t + \\left( \\sqrt{2} a \\sqrt{\\frac{m r}{a^{2} + r^{2}}} \\sin\\left({\\theta}\\right)^{2} \\right) \\mathrm{d} {\\phi}\\otimes \\mathrm{d} r -{\\left(\\frac{2 \\, a^{2} m r \\sin\\left({\\theta}\\right)^{2}}{a^{2} \\cos\\left({\\theta}\\right)^{2} + r^{2}} + a^{2} + r^{2}\\right)} \\sin\\left({\\theta}\\right)^{2} \\mathrm{d} {\\phi}\\otimes \\mathrm{d} {\\phi}$$"
      ],
      "text/plain": [
       "g = (-2*m*r/(a^2*cos(th)^2 + r^2) + 1) dt*dt - sqrt(2)*sqrt(m*r/(a^2 + r^2)) dt*dr + 2*a*m*r*sin(th)^2/(a^2*cos(th)^2 + r^2) dt*dph - sqrt(2)*sqrt(m*r/(a^2 + r^2)) dr*dt - (a^2*cos(th)^2 + r^2)/(a^2 + r^2) dr*dr + sqrt(2)*a*sqrt(m*r/(a^2 + r^2))*sin(th)^2 dr*dph + (-a^2*cos(th)^2 - r^2) dth*dth + 2*a*m*r*sin(th)^2/(a^2*cos(th)^2 + r^2) dph*dt + sqrt(2)*a*sqrt(m*r/(a^2 + r^2))*sin(th)^2 dph*dr - (2*a^2*m*r*sin(th)^2/(a^2*cos(th)^2 + r^2) + a^2 + r^2)*sin(th)^2 dph*dph"
      ]
     },
     "execution_count": 95,
     "metadata": {},
     "output_type": "execute_result"
    }
   ],
   "source": [
    "%display latex\n",
    "from ST_bundle.ST_bundle import ST_bundle\n",
    "\n",
    "M = Manifold(4, 'M', latex_name=r'\\mathcal{M}', structure='Lorentzian') #manifold definition\n",
    "Doran.<t,r,th,ph> = M.chart(r\"t r th:(0,pi):\\theta ph:(0,2*pi):\\phi\") #Doran chart definition\n",
    "Dc = M.default_chart()\n",
    "\n",
    "var('m, a', domain='real') #definition of Kerr metric parameters\n",
    "\n",
    "g = M.metric() #we put the label g on the metric tensor\n",
    "\n",
    "rho2 = r^2 + (a*cos(th))^2\n",
    "\n",
    "g[0,0] = (1-2*m*r/rho2)     #definition of the metric tensor components in doran coordinates\n",
    "g[1,1], g[2,2] = -rho2/(r^2+a^2), -rho2\n",
    "g[3,3] = -(r^2+a^2+2*m*r*(a*sin(th))^2/rho2)*sin(th)^2\n",
    "g[0,1] = - sqrt(2*m*r/(r^2+a^2))\n",
    "g[0,3] = 2*a*m*r*sin(th)^2/rho2\n",
    "g[1,3] = sqrt(2*m*r/(r^2+a^2))*a*sin(th)^2\n",
    "\n",
    "\n",
    "g.display()"
   ]
  },
  {
   "cell_type": "markdown",
   "metadata": {},
   "source": [
    "## Definition of the orthonormal tetrad and Wald Solution"
   ]
  },
  {
   "cell_type": "markdown",
   "metadata": {},
   "source": [
    "Definition of the orthonormal tetrad frame $e_{(a)}$ (Chandrasekar notation) and its dual frame $e^{(a)} = \\eta^{(a)(b)}g(e_{(b)},-)$ :"
   ]
  },
  {
   "cell_type": "code",
   "execution_count": 2,
   "metadata": {
    "scrolled": true
   },
   "outputs": [],
   "source": [
    "#definition of the coframe tetrad fields (as listed in Doran article)\n",
    "\n",
    "de0 = M.one_form(1, 0, 0, 0, frame=Dc.frame(), name='e^{(0)}')\n",
    "de1 = M.one_form(sqrt((2*m*r/rho2)), sqrt(rho2/(r^2+a^2)), 0, -sqrt((2*m*r/rho2))*a*sin(th)^2, frame=Dc.frame(), name='e^{(1)}')\n",
    "de2 = M.one_form(0, 0, sqrt(rho2), 0, frame=Dc.frame(), name='e^{(2)}')\n",
    "de3 = M.one_form(0, 0, 0, sqrt(r^2+a^2)*sin(th), frame=Dc.frame(), name='e^{(3)}')\n",
    "\n",
    "#obtaining the tetrad frame vector fields using musical isomorphism of the metric\n",
    "\n",
    "e0 = -de0.up(g) #the zero component must be multiplied by a minus because of the lowering of the tetrad index with eta_{(a)(b)}\n",
    "e1 = de1.up(g)\n",
    "e2 = de2.up(g)\n",
    "e3 = de3.up(g)\n",
    "\n",
    "\n",
    "e = M.vector_frame('e', (e0, e1, e2, e3)) #costruction of the tetrad collection object e_{a}\n",
    "de = e.coframe() #construction of the tetrad coframe object e^{a}  "
   ]
  },
  {
   "cell_type": "markdown",
   "metadata": {},
   "source": [
    "Definition of the Wald field solution $A = \\frac{B_{0}}{2}(\\psi + 2a\\eta)$, where $\\eta$ and $\\psi$ are the 1-forms naturally associated with the musical isomorphism respectively to the two Killing vector fields $\\frac{\\partial}{\\partial t}$ and $\\frac{\\partial}{\\partial \\phi}$ :"
   ]
  },
  {
   "cell_type": "code",
   "execution_count": 3,
   "metadata": {
    "scrolled": true
   },
   "outputs": [
    {
     "data": {
      "text/html": [
       "<html><script type=\"math/tex; mode=display\">\\newcommand{\\Bold}[1]{\\mathbf{#1}}A_{Wald} = \\left( -\\frac{B_{0} a m r - B_{0} a r^{2} - {\\left(B_{0} a^{3} - B_{0} a m r\\right)} \\cos\\left({\\theta}\\right)^{2}}{a^{2} \\cos\\left({\\theta}\\right)^{2} + r^{2}} \\right) \\mathrm{d} t + \\left( \\frac{{\\left(\\sqrt{2} B_{0} a \\sin\\left({\\theta}\\right)^{2} - 2 \\, \\sqrt{2} B_{0} a\\right)} \\sqrt{m} \\sqrt{r}}{2 \\, \\sqrt{a^{2} + r^{2}}} \\right) \\mathrm{d} r + \\left( -\\frac{2 \\, B_{0} a^{2} m r \\sin\\left({\\theta}\\right)^{4} - {\\left(4 \\, B_{0} a^{2} m r - B_{0} a^{2} r^{2} - B_{0} r^{4} - {\\left(B_{0} a^{4} + B_{0} a^{2} r^{2}\\right)} \\cos\\left({\\theta}\\right)^{2}\\right)} \\sin\\left({\\theta}\\right)^{2}}{2 \\, {\\left(a^{2} \\cos\\left({\\theta}\\right)^{2} + r^{2}\\right)}} \\right) \\mathrm{d} {\\phi}</script></html>"
      ],
      "text/latex": [
       "$$\\newcommand{\\Bold}[1]{\\mathbf{#1}}A_{Wald} = \\left( -\\frac{B_{0} a m r - B_{0} a r^{2} - {\\left(B_{0} a^{3} - B_{0} a m r\\right)} \\cos\\left({\\theta}\\right)^{2}}{a^{2} \\cos\\left({\\theta}\\right)^{2} + r^{2}} \\right) \\mathrm{d} t + \\left( \\frac{{\\left(\\sqrt{2} B_{0} a \\sin\\left({\\theta}\\right)^{2} - 2 \\, \\sqrt{2} B_{0} a\\right)} \\sqrt{m} \\sqrt{r}}{2 \\, \\sqrt{a^{2} + r^{2}}} \\right) \\mathrm{d} r + \\left( -\\frac{2 \\, B_{0} a^{2} m r \\sin\\left({\\theta}\\right)^{4} - {\\left(4 \\, B_{0} a^{2} m r - B_{0} a^{2} r^{2} - B_{0} r^{4} - {\\left(B_{0} a^{4} + B_{0} a^{2} r^{2}\\right)} \\cos\\left({\\theta}\\right)^{2}\\right)} \\sin\\left({\\theta}\\right)^{2}}{2 \\, {\\left(a^{2} \\cos\\left({\\theta}\\right)^{2} + r^{2}\\right)}} \\right) \\mathrm{d} {\\phi}$$"
      ],
      "text/plain": [
       "A_{Wald} = -(B_0*a*m*r - B_0*a*r^2 - (B_0*a^3 - B_0*a*m*r)*cos(th)^2)/(a^2*cos(th)^2 + r^2) dt + 1/2*(sqrt(2)*B_0*a*sin(th)^2 - 2*sqrt(2)*B_0*a)*sqrt(m)*sqrt(r)/sqrt(a^2 + r^2) dr - 1/2*(2*B_0*a^2*m*r*sin(th)^4 - (4*B_0*a^2*m*r - B_0*a^2*r^2 - B_0*r^4 - (B_0*a^4 + B_0*a^2*r^2)*cos(th)^2)*sin(th)^2)/(a^2*cos(th)^2 + r^2) dph"
      ]
     },
     "execution_count": 3,
     "metadata": {},
     "output_type": "execute_result"
    }
   ],
   "source": [
    "var('B_0')\n",
    "var('q')\n",
    "A_wald = (B_0/2)*(Dc.frame()[3].down(g)+(2*a)*Dc.frame()[0].down(g))\n",
    "A_wald.set_name(\"A_{Wald}\")\n",
    "A_wald.display()"
   ]
  },
  {
   "cell_type": "markdown",
   "metadata": {},
   "source": [
    "## Inizialization of the ST bundle and of the spinor gauge connection"
   ]
  },
  {
   "cell_type": "markdown",
   "metadata": {},
   "source": [
    "Initialization of the ST bundle, the spinor gauge connection $D_{sb}^{(A_{Wald})}$ and the Dirac matrices $\\gamma^{(a)}$:"
   ]
  },
  {
   "cell_type": "code",
   "execution_count": 4,
   "metadata": {
    "scrolled": true
   },
   "outputs": [
    {
     "data": {
      "text/html": [
       "<html><script type=\"math/tex; mode=display\">\\newcommand{\\Bold}[1]{\\mathbf{#1}}\\begin{array}{lcl} \\gamma_{\\phantom{\\, (0)}}^{\\,(0)} & = & \\left(\\begin{array}{rrrr}\n",
       "1 & 0 & 0 & 0 \\\\\n",
       "0 & 1 & 0 & 0 \\\\\n",
       "0 & 0 & -1 & 0 \\\\\n",
       "0 & 0 & 0 & -1\n",
       "\\end{array}\\right) \\\\ \\gamma_{\\phantom{\\, (1)}}^{\\,(1)} & = & \\left(\\begin{array}{rrrr}\n",
       "0 & 0 & 0 & 1 \\\\\n",
       "0 & 0 & 1 & 0 \\\\\n",
       "0 & -1 & 0 & 0 \\\\\n",
       "-1 & 0 & 0 & 0\n",
       "\\end{array}\\right) \\\\ \\gamma_{\\phantom{\\, (2)}}^{\\,(2)} & = & \\left(\\begin{array}{rrrr}\n",
       "0 & 0 & 0 & -i \\\\\n",
       "0 & 0 & i & 0 \\\\\n",
       "0 & i & 0 & 0 \\\\\n",
       "-i & 0 & 0 & 0\n",
       "\\end{array}\\right) \\\\ \\gamma_{\\phantom{\\, (3)}}^{\\,(3)} & = & \\left(\\begin{array}{rrrr}\n",
       "0 & 0 & 1 & 0 \\\\\n",
       "0 & 0 & 0 & -1 \\\\\n",
       "-1 & 0 & 0 & 0 \\\\\n",
       "0 & 1 & 0 & 0\n",
       "\\end{array}\\right) \\end{array}</script></html>"
      ],
      "text/latex": [
       "$$\\newcommand{\\Bold}[1]{\\mathbf{#1}}\\begin{array}{lcl} \\gamma_{\\phantom{\\, (0)}}^{\\,(0)} & = & \\left(\\begin{array}{rrrr}\n",
       "1 & 0 & 0 & 0 \\\\\n",
       "0 & 1 & 0 & 0 \\\\\n",
       "0 & 0 & -1 & 0 \\\\\n",
       "0 & 0 & 0 & -1\n",
       "\\end{array}\\right) \\\\ \\gamma_{\\phantom{\\, (1)}}^{\\,(1)} & = & \\left(\\begin{array}{rrrr}\n",
       "0 & 0 & 0 & 1 \\\\\n",
       "0 & 0 & 1 & 0 \\\\\n",
       "0 & -1 & 0 & 0 \\\\\n",
       "-1 & 0 & 0 & 0\n",
       "\\end{array}\\right) \\\\ \\gamma_{\\phantom{\\, (2)}}^{\\,(2)} & = & \\left(\\begin{array}{rrrr}\n",
       "0 & 0 & 0 & -i \\\\\n",
       "0 & 0 & i & 0 \\\\\n",
       "0 & i & 0 & 0 \\\\\n",
       "-i & 0 & 0 & 0\n",
       "\\end{array}\\right) \\\\ \\gamma_{\\phantom{\\, (3)}}^{\\,(3)} & = & \\left(\\begin{array}{rrrr}\n",
       "0 & 0 & 1 & 0 \\\\\n",
       "0 & 0 & 0 & -1 \\\\\n",
       "-1 & 0 & 0 & 0 \\\\\n",
       "0 & 1 & 0 & 0\n",
       "\\end{array}\\right) \\end{array}$$"
      ],
      "text/plain": [
       "\\gamma^0 = Type-(1,1) tensor on the Free module C^0(M;S) of sections on the 4-dimensional Lorentzian manifold M with values in the complex vector bundle S of rank 4 \n",
       "\\gamma^1 = Type-(1,1) tensor on the Free module C^0(M;S) of sections on the 4-dimensional Lorentzian manifold M with values in the complex vector bundle S of rank 4 \n",
       "\\gamma^2 = Type-(1,1) tensor on the Free module C^0(M;S) of sections on the 4-dimensional Lorentzian manifold M with values in the complex vector bundle S of rank 4 \n",
       "\\gamma^3 = Type-(1,1) tensor on the Free module C^0(M;S) of sections on the 4-dimensional Lorentzian manifold M with values in the complex vector bundle S of rank 4 "
      ]
     },
     "execution_count": 4,
     "metadata": {},
     "output_type": "execute_result"
    }
   ],
   "source": [
    "STb = ST_bundle(M,e)\n",
    "\n",
    "D_s_A = STb.sconnection(q*A_wald) #Spinor-Wald connection\n",
    "Gamma = STb.Dirac_matrices(\"up\")      #Dirac Gamma matrices\n",
    "Gamma.display('\\\\gamma')"
   ]
  },
  {
   "cell_type": "markdown",
   "metadata": {},
   "source": [
    "Definition of a test section of the spinor bundle $\\psi = \\psi^{i}e_{[s]i}$ :"
   ]
  },
  {
   "cell_type": "code",
   "execution_count": 17,
   "metadata": {
    "scrolled": true
   },
   "outputs": [
    {
     "data": {
      "text/html": [
       "<html><script type=\"math/tex; mode=display\">\\newcommand{\\Bold}[1]{\\mathbf{#1}}e^{\\left(i \\, \\kappa {\\phi} + i \\, \\omega t\\right)} \\psi_{1}\\left(r, {\\theta}\\right) e_{0} + e^{\\left(i \\, \\kappa {\\phi} + i \\, \\omega t\\right)} \\psi_{2}\\left(r, {\\theta}\\right) e_{1} + e^{\\left(i \\, \\kappa {\\phi} + i \\, \\omega t\\right)} \\psi_{3}\\left(r, {\\theta}\\right) e_{2} + e^{\\left(i \\, \\kappa {\\phi} + i \\, \\omega t\\right)} \\psi_{4}\\left(r, {\\theta}\\right) e_{3}</script></html>"
      ],
      "text/latex": [
       "$$\\newcommand{\\Bold}[1]{\\mathbf{#1}}e^{\\left(i \\, \\kappa {\\phi} + i \\, \\omega t\\right)} \\psi_{1}\\left(r, {\\theta}\\right) e_{0} + e^{\\left(i \\, \\kappa {\\phi} + i \\, \\omega t\\right)} \\psi_{2}\\left(r, {\\theta}\\right) e_{1} + e^{\\left(i \\, \\kappa {\\phi} + i \\, \\omega t\\right)} \\psi_{3}\\left(r, {\\theta}\\right) e_{2} + e^{\\left(i \\, \\kappa {\\phi} + i \\, \\omega t\\right)} \\psi_{4}\\left(r, {\\theta}\\right) e_{3}$$"
      ],
      "text/plain": [
       "e^(I*kappa*ph + I*omega*t)*psi1(r, th) e_0 + e^(I*kappa*ph + I*omega*t)*psi2(r, th) e_1 + e^(I*kappa*ph + I*omega*t)*psi3(r, th) e_2 + e^(I*kappa*ph + I*omega*t)*psi4(r, th) e_3"
      ]
     },
     "execution_count": 17,
     "metadata": {},
     "output_type": "execute_result"
    }
   ],
   "source": [
    "psi1_ = function(\"psi1\", nargs = 2)\n",
    "psi2_ = function(\"psi2\", nargs = 2)\n",
    "psi3_ = function(\"psi3\", nargs = 2)\n",
    "psi4_ = function(\"psi4\", nargs = 2)\n",
    "\n",
    "var('kappa,omega')\n",
    "\n",
    "psi1 = M.scalar_field({Dc: exp(i*omega*t+i*kappa*ph)*psi1_(r,th)}, name = '\\\\psi^{(1)}')\n",
    "psi2 = M.scalar_field({Dc: exp(i*omega*t+i*kappa*ph)*psi2_(r,th)}, name = '\\\\psi^{(2)}')\n",
    "psi3 = M.scalar_field({Dc: exp(i*omega*t+i*kappa*ph)*psi3_(r,th)}, name = '\\\\psi^{(3)}')\n",
    "psi4 = M.scalar_field({Dc: exp(i*omega*t+i*kappa*ph)*psi4_(r,th)}, name = '\\\\psi^{(4)}')\n",
    "\n",
    "psi = STb.sbundle.section({STb.sframe: [psi1,psi2,psi3,psi4]}, \"psi\")\n",
    "psi.display()"
   ]
  },
  {
   "cell_type": "markdown",
   "metadata": {},
   "source": [
    "Calculation of $(\\gamma^{(a)})^{i}_{ \\ \\ j}(D_{sb}^{(A_{Wald})}(e_{(a)},\\psi))^{j}$ (lhs of Dirac's equation on curved spacetime for a massless spinor field coupled to Wald solution $A$) :"
   ]
  },
  {
   "cell_type": "code",
   "execution_count": 6,
   "metadata": {
    "scrolled": true
   },
   "outputs": [
    {
     "data": {
      "text/html": [
       "<html><script type=\"math/tex; mode=display\">\\newcommand{\\Bold}[1]{\\mathbf{#1}}{m_{*}}</script></html>"
      ],
      "text/latex": [
       "$$\\newcommand{\\Bold}[1]{\\mathbf{#1}}{m_{*}}$$"
      ],
      "text/plain": [
       "m_"
      ]
     },
     "execution_count": 6,
     "metadata": {},
     "output_type": "execute_result"
    }
   ],
   "source": [
    "var('m_',latex_name = 'm_{*}')"
   ]
  },
  {
   "cell_type": "code",
   "execution_count": 18,
   "metadata": {
    "scrolled": true
   },
   "outputs": [],
   "source": [
    "Dirac_Wald_equation_lhs = i*Gamma.contract(D_s_A(e,psi))-m_*psi"
   ]
  },
  {
   "cell_type": "code",
   "execution_count": 54,
   "metadata": {
    "scrolled": true
   },
   "outputs": [
    {
     "data": {
      "text/html": [
       "<html><script type=\"math/tex; mode=display\">\\newcommand{\\Bold}[1]{\\mathbf{#1}}\\frac{i \\, B_{0} a^{6} q \\cos\\left({\\theta}\\right)^{4} \\psi_{2}\\left(r, {\\theta}\\right) \\sin\\left({\\theta}\\right)}{2 \\, \\sqrt{a^{2} + r^{2}}} + \\frac{i \\, B_{0} a^{4} q r^{2} \\cos\\left({\\theta}\\right)^{4} \\psi_{2}\\left(r, {\\theta}\\right) \\sin\\left({\\theta}\\right)}{2 \\, \\sqrt{a^{2} + r^{2}}} - \\frac{1}{2} i \\, \\sqrt{2} \\sqrt{a^{2} \\cos\\left({\\theta}\\right)^{2} + r^{2}} B_{0} a^{3} \\sqrt{m} q \\sqrt{r} \\cos\\left({\\theta}\\right)^{4} \\psi_{1}\\left(r, {\\theta}\\right) + i \\, B_{0} a^{5} q \\cos\\left({\\theta}\\right)^{4} \\psi_{4}\\left(r, {\\theta}\\right) + \\frac{i \\, B_{0} a^{4} q r^{2} \\cos\\left({\\theta}\\right)^{2} \\psi_{2}\\left(r, {\\theta}\\right) \\sin\\left({\\theta}\\right)}{\\sqrt{a^{2} + r^{2}}} + \\frac{i \\, B_{0} a^{2} q r^{4} \\cos\\left({\\theta}\\right)^{2} \\psi_{2}\\left(r, {\\theta}\\right) \\sin\\left({\\theta}\\right)}{\\sqrt{a^{2} + r^{2}}} - \\frac{1}{2} i \\, \\sqrt{2} \\sqrt{a^{2} \\cos\\left({\\theta}\\right)^{2} + r^{2}} B_{0} a^{3} \\sqrt{m} q \\sqrt{r} \\cos\\left({\\theta}\\right)^{2} \\psi_{1}\\left(r, {\\theta}\\right) - \\frac{1}{2} i \\, \\sqrt{2} \\sqrt{a^{2} \\cos\\left({\\theta}\\right)^{2} + r^{2}} B_{0} a \\sqrt{m} q r^{\\frac{5}{2}} \\cos\\left({\\theta}\\right)^{2} \\psi_{1}\\left(r, {\\theta}\\right) + 2 i \\, B_{0} a^{3} q r^{2} \\cos\\left({\\theta}\\right)^{2} \\psi_{4}\\left(r, {\\theta}\\right) - a^{4} {m_{*}} \\cos\\left({\\theta}\\right)^{4} \\psi_{4}\\left(r, {\\theta}\\right) - a^{4} \\omega \\cos\\left({\\theta}\\right)^{4} \\psi_{4}\\left(r, {\\theta}\\right) + \\frac{i \\, B_{0} a^{2} q r^{4} \\psi_{2}\\left(r, {\\theta}\\right) \\sin\\left({\\theta}\\right)}{2 \\, \\sqrt{a^{2} + r^{2}}} + \\frac{i \\, B_{0} q r^{6} \\psi_{2}\\left(r, {\\theta}\\right) \\sin\\left({\\theta}\\right)}{2 \\, \\sqrt{a^{2} + r^{2}}} + \\frac{a^{4} \\kappa \\cos\\left({\\theta}\\right)^{4} \\psi_{2}\\left(r, {\\theta}\\right)}{\\sqrt{a^{2} + r^{2}} \\sin\\left({\\theta}\\right)} - i \\, \\sqrt{2} a^{3} \\sqrt{m} \\sqrt{r} \\cos\\left({\\theta}\\right)^{2} \\sin\\left({\\theta}\\right) \\frac{\\partial}{\\partial r}\\psi_{2}\\left(r, {\\theta}\\right) - \\frac{1}{2} i \\, \\sqrt{2} \\sqrt{a^{2} \\cos\\left({\\theta}\\right)^{2} + r^{2}} B_{0} a \\sqrt{m} q r^{\\frac{5}{2}} \\psi_{1}\\left(r, {\\theta}\\right) + i \\, B_{0} a q r^{4} \\psi_{4}\\left(r, {\\theta}\\right) - 2 \\, a^{2} {m_{*}} r^{2} \\cos\\left({\\theta}\\right)^{2} \\psi_{4}\\left(r, {\\theta}\\right) - 2 \\, a^{2} \\omega r^{2} \\cos\\left({\\theta}\\right)^{2} \\psi_{4}\\left(r, {\\theta}\\right) - \\frac{i \\, \\sqrt{2} a^{4} \\sqrt{m} \\sqrt{r} \\cos\\left({\\theta}\\right)^{2} \\frac{\\partial}{\\partial r}\\psi_{4}\\left(r, {\\theta}\\right)}{\\sqrt{a^{2} + r^{2}}} - \\frac{i \\, \\sqrt{2} a^{2} \\sqrt{m} r^{\\frac{5}{2}} \\cos\\left({\\theta}\\right)^{2} \\frac{\\partial}{\\partial r}\\psi_{4}\\left(r, {\\theta}\\right)}{\\sqrt{a^{2} + r^{2}}} + \\frac{i \\, \\sqrt{2} a^{3} \\sqrt{m} \\cos\\left({\\theta}\\right)^{2} \\psi_{2}\\left(r, {\\theta}\\right) \\sin\\left({\\theta}\\right)}{4 \\, \\sqrt{r}} + \\frac{i \\, \\sqrt{2} a^{4} \\sqrt{m} \\cos\\left({\\theta}\\right)^{2} \\psi_{4}\\left(r, {\\theta}\\right)}{4 \\, \\sqrt{a^{2} + r^{2}} \\sqrt{r}} + \\frac{3 i \\, \\sqrt{2} a^{2} \\sqrt{m} r^{\\frac{3}{2}} \\cos\\left({\\theta}\\right)^{2} \\psi_{4}\\left(r, {\\theta}\\right)}{4 \\, \\sqrt{a^{2} + r^{2}}} + \\frac{i \\, \\sqrt{a^{2} \\cos\\left({\\theta}\\right)^{2} + r^{2}} a^{4} \\cos\\left({\\theta}\\right)^{2} \\frac{\\partial}{\\partial r}\\psi_{1}\\left(r, {\\theta}\\right)}{\\sqrt{a^{2} + r^{2}}} + \\frac{i \\, \\sqrt{a^{2} \\cos\\left({\\theta}\\right)^{2} + r^{2}} a^{2} r^{2} \\cos\\left({\\theta}\\right)^{2} \\frac{\\partial}{\\partial r}\\psi_{1}\\left(r, {\\theta}\\right)}{\\sqrt{a^{2} + r^{2}}} + \\frac{2 \\, a^{2} \\kappa r^{2} \\cos\\left({\\theta}\\right)^{2} \\psi_{2}\\left(r, {\\theta}\\right)}{\\sqrt{a^{2} + r^{2}} \\sin\\left({\\theta}\\right)} - \\frac{1}{2} \\, \\sqrt{2} a^{2} \\sqrt{m} \\sqrt{r} \\cos\\left({\\theta}\\right) \\psi_{4}\\left(r, {\\theta}\\right) \\sin\\left({\\theta}\\right) - i \\, \\sqrt{2} a \\sqrt{m} r^{\\frac{5}{2}} \\sin\\left({\\theta}\\right) \\frac{\\partial}{\\partial r}\\psi_{2}\\left(r, {\\theta}\\right) - \\frac{i \\, \\sqrt{a^{2} \\cos\\left({\\theta}\\right)^{2} + r^{2}} a^{2} r \\cos\\left({\\theta}\\right)^{2} \\psi_{1}\\left(r, {\\theta}\\right)}{2 \\, \\sqrt{a^{2} + r^{2}}} - \\frac{\\sqrt{2} a^{3} \\sqrt{m} \\sqrt{r} \\cos\\left({\\theta}\\right) \\psi_{2}\\left(r, {\\theta}\\right)}{2 \\, \\sqrt{a^{2} + r^{2}}} - \\frac{\\sqrt{2} a \\sqrt{m} r^{\\frac{5}{2}} \\cos\\left({\\theta}\\right) \\psi_{2}\\left(r, {\\theta}\\right)}{2 \\, \\sqrt{a^{2} + r^{2}}} - {m_{*}} r^{4} \\psi_{4}\\left(r, {\\theta}\\right) - \\omega r^{4} \\psi_{4}\\left(r, {\\theta}\\right) - \\frac{i \\, \\sqrt{2} a^{2} \\sqrt{m} r^{\\frac{5}{2}} \\frac{\\partial}{\\partial r}\\psi_{4}\\left(r, {\\theta}\\right)}{\\sqrt{a^{2} + r^{2}}} - \\frac{i \\, \\sqrt{2} \\sqrt{m} r^{\\frac{9}{2}} \\frac{\\partial}{\\partial r}\\psi_{4}\\left(r, {\\theta}\\right)}{\\sqrt{a^{2} + r^{2}}} + \\frac{\\sqrt{a^{2} \\cos\\left({\\theta}\\right)^{2} + r^{2}} a^{2} \\cos\\left({\\theta}\\right)^{3} \\psi_{1}\\left(r, {\\theta}\\right)}{2 \\, \\sin\\left({\\theta}\\right)} - \\frac{1}{2} \\, \\sqrt{a^{2} \\cos\\left({\\theta}\\right)^{2} + r^{2}} a^{2} \\cos\\left({\\theta}\\right) \\psi_{1}\\left(r, {\\theta}\\right) \\sin\\left({\\theta}\\right) + \\frac{1}{4} i \\, \\sqrt{2} a \\sqrt{m} r^{\\frac{3}{2}} \\psi_{2}\\left(r, {\\theta}\\right) \\sin\\left({\\theta}\\right) - \\sqrt{a^{2} \\cos\\left({\\theta}\\right)^{2} + r^{2}} a^{2} \\cos\\left({\\theta}\\right)^{2} \\frac{\\partial}{\\partial {\\theta}}\\psi_{1}\\left(r, {\\theta}\\right) + \\frac{i \\, \\sqrt{2} a^{2} \\sqrt{m} r^{\\frac{3}{2}} \\psi_{4}\\left(r, {\\theta}\\right)}{4 \\, \\sqrt{a^{2} + r^{2}}} + \\frac{3 i \\, \\sqrt{2} \\sqrt{m} r^{\\frac{7}{2}} \\psi_{4}\\left(r, {\\theta}\\right)}{4 \\, \\sqrt{a^{2} + r^{2}}} + \\frac{i \\, \\sqrt{a^{2} \\cos\\left({\\theta}\\right)^{2} + r^{2}} a^{2} r^{2} \\frac{\\partial}{\\partial r}\\psi_{1}\\left(r, {\\theta}\\right)}{\\sqrt{a^{2} + r^{2}}} + \\frac{i \\, \\sqrt{a^{2} \\cos\\left({\\theta}\\right)^{2} + r^{2}} r^{4} \\frac{\\partial}{\\partial r}\\psi_{1}\\left(r, {\\theta}\\right)}{\\sqrt{a^{2} + r^{2}}} + \\frac{\\kappa r^{4} \\psi_{2}\\left(r, {\\theta}\\right)}{\\sqrt{a^{2} + r^{2}} \\sin\\left({\\theta}\\right)} - \\frac{i \\, \\sqrt{a^{2} \\cos\\left({\\theta}\\right)^{2} + r^{2}} a^{2} r \\psi_{1}\\left(r, {\\theta}\\right)}{2 \\, \\sqrt{a^{2} + r^{2}}} - \\frac{i \\, \\sqrt{a^{2} \\cos\\left({\\theta}\\right)^{2} + r^{2}} r^{3} \\psi_{1}\\left(r, {\\theta}\\right)}{\\sqrt{a^{2} + r^{2}}} + \\frac{\\sqrt{a^{2} \\cos\\left({\\theta}\\right)^{2} + r^{2}} r^{2} \\cos\\left({\\theta}\\right) \\psi_{1}\\left(r, {\\theta}\\right)}{2 \\, \\sin\\left({\\theta}\\right)} - \\sqrt{a^{2} \\cos\\left({\\theta}\\right)^{2} + r^{2}} r^{2} \\frac{\\partial}{\\partial {\\theta}}\\psi_{1}\\left(r, {\\theta}\\right)</script></html>"
      ],
      "text/latex": [
       "$$\\newcommand{\\Bold}[1]{\\mathbf{#1}}\\frac{i \\, B_{0} a^{6} q \\cos\\left({\\theta}\\right)^{4} \\psi_{2}\\left(r, {\\theta}\\right) \\sin\\left({\\theta}\\right)}{2 \\, \\sqrt{a^{2} + r^{2}}} + \\frac{i \\, B_{0} a^{4} q r^{2} \\cos\\left({\\theta}\\right)^{4} \\psi_{2}\\left(r, {\\theta}\\right) \\sin\\left({\\theta}\\right)}{2 \\, \\sqrt{a^{2} + r^{2}}} - \\frac{1}{2} i \\, \\sqrt{2} \\sqrt{a^{2} \\cos\\left({\\theta}\\right)^{2} + r^{2}} B_{0} a^{3} \\sqrt{m} q \\sqrt{r} \\cos\\left({\\theta}\\right)^{4} \\psi_{1}\\left(r, {\\theta}\\right) + i \\, B_{0} a^{5} q \\cos\\left({\\theta}\\right)^{4} \\psi_{4}\\left(r, {\\theta}\\right) + \\frac{i \\, B_{0} a^{4} q r^{2} \\cos\\left({\\theta}\\right)^{2} \\psi_{2}\\left(r, {\\theta}\\right) \\sin\\left({\\theta}\\right)}{\\sqrt{a^{2} + r^{2}}} + \\frac{i \\, B_{0} a^{2} q r^{4} \\cos\\left({\\theta}\\right)^{2} \\psi_{2}\\left(r, {\\theta}\\right) \\sin\\left({\\theta}\\right)}{\\sqrt{a^{2} + r^{2}}} - \\frac{1}{2} i \\, \\sqrt{2} \\sqrt{a^{2} \\cos\\left({\\theta}\\right)^{2} + r^{2}} B_{0} a^{3} \\sqrt{m} q \\sqrt{r} \\cos\\left({\\theta}\\right)^{2} \\psi_{1}\\left(r, {\\theta}\\right) - \\frac{1}{2} i \\, \\sqrt{2} \\sqrt{a^{2} \\cos\\left({\\theta}\\right)^{2} + r^{2}} B_{0} a \\sqrt{m} q r^{\\frac{5}{2}} \\cos\\left({\\theta}\\right)^{2} \\psi_{1}\\left(r, {\\theta}\\right) + 2 i \\, B_{0} a^{3} q r^{2} \\cos\\left({\\theta}\\right)^{2} \\psi_{4}\\left(r, {\\theta}\\right) - a^{4} {m_{*}} \\cos\\left({\\theta}\\right)^{4} \\psi_{4}\\left(r, {\\theta}\\right) - a^{4} \\omega \\cos\\left({\\theta}\\right)^{4} \\psi_{4}\\left(r, {\\theta}\\right) + \\frac{i \\, B_{0} a^{2} q r^{4} \\psi_{2}\\left(r, {\\theta}\\right) \\sin\\left({\\theta}\\right)}{2 \\, \\sqrt{a^{2} + r^{2}}} + \\frac{i \\, B_{0} q r^{6} \\psi_{2}\\left(r, {\\theta}\\right) \\sin\\left({\\theta}\\right)}{2 \\, \\sqrt{a^{2} + r^{2}}} + \\frac{a^{4} \\kappa \\cos\\left({\\theta}\\right)^{4} \\psi_{2}\\left(r, {\\theta}\\right)}{\\sqrt{a^{2} + r^{2}} \\sin\\left({\\theta}\\right)} - i \\, \\sqrt{2} a^{3} \\sqrt{m} \\sqrt{r} \\cos\\left({\\theta}\\right)^{2} \\sin\\left({\\theta}\\right) \\frac{\\partial}{\\partial r}\\psi_{2}\\left(r, {\\theta}\\right) - \\frac{1}{2} i \\, \\sqrt{2} \\sqrt{a^{2} \\cos\\left({\\theta}\\right)^{2} + r^{2}} B_{0} a \\sqrt{m} q r^{\\frac{5}{2}} \\psi_{1}\\left(r, {\\theta}\\right) + i \\, B_{0} a q r^{4} \\psi_{4}\\left(r, {\\theta}\\right) - 2 \\, a^{2} {m_{*}} r^{2} \\cos\\left({\\theta}\\right)^{2} \\psi_{4}\\left(r, {\\theta}\\right) - 2 \\, a^{2} \\omega r^{2} \\cos\\left({\\theta}\\right)^{2} \\psi_{4}\\left(r, {\\theta}\\right) - \\frac{i \\, \\sqrt{2} a^{4} \\sqrt{m} \\sqrt{r} \\cos\\left({\\theta}\\right)^{2} \\frac{\\partial}{\\partial r}\\psi_{4}\\left(r, {\\theta}\\right)}{\\sqrt{a^{2} + r^{2}}} - \\frac{i \\, \\sqrt{2} a^{2} \\sqrt{m} r^{\\frac{5}{2}} \\cos\\left({\\theta}\\right)^{2} \\frac{\\partial}{\\partial r}\\psi_{4}\\left(r, {\\theta}\\right)}{\\sqrt{a^{2} + r^{2}}} + \\frac{i \\, \\sqrt{2} a^{3} \\sqrt{m} \\cos\\left({\\theta}\\right)^{2} \\psi_{2}\\left(r, {\\theta}\\right) \\sin\\left({\\theta}\\right)}{4 \\, \\sqrt{r}} + \\frac{i \\, \\sqrt{2} a^{4} \\sqrt{m} \\cos\\left({\\theta}\\right)^{2} \\psi_{4}\\left(r, {\\theta}\\right)}{4 \\, \\sqrt{a^{2} + r^{2}} \\sqrt{r}} + \\frac{3 i \\, \\sqrt{2} a^{2} \\sqrt{m} r^{\\frac{3}{2}} \\cos\\left({\\theta}\\right)^{2} \\psi_{4}\\left(r, {\\theta}\\right)}{4 \\, \\sqrt{a^{2} + r^{2}}} + \\frac{i \\, \\sqrt{a^{2} \\cos\\left({\\theta}\\right)^{2} + r^{2}} a^{4} \\cos\\left({\\theta}\\right)^{2} \\frac{\\partial}{\\partial r}\\psi_{1}\\left(r, {\\theta}\\right)}{\\sqrt{a^{2} + r^{2}}} + \\frac{i \\, \\sqrt{a^{2} \\cos\\left({\\theta}\\right)^{2} + r^{2}} a^{2} r^{2} \\cos\\left({\\theta}\\right)^{2} \\frac{\\partial}{\\partial r}\\psi_{1}\\left(r, {\\theta}\\right)}{\\sqrt{a^{2} + r^{2}}} + \\frac{2 \\, a^{2} \\kappa r^{2} \\cos\\left({\\theta}\\right)^{2} \\psi_{2}\\left(r, {\\theta}\\right)}{\\sqrt{a^{2} + r^{2}} \\sin\\left({\\theta}\\right)} - \\frac{1}{2} \\, \\sqrt{2} a^{2} \\sqrt{m} \\sqrt{r} \\cos\\left({\\theta}\\right) \\psi_{4}\\left(r, {\\theta}\\right) \\sin\\left({\\theta}\\right) - i \\, \\sqrt{2} a \\sqrt{m} r^{\\frac{5}{2}} \\sin\\left({\\theta}\\right) \\frac{\\partial}{\\partial r}\\psi_{2}\\left(r, {\\theta}\\right) - \\frac{i \\, \\sqrt{a^{2} \\cos\\left({\\theta}\\right)^{2} + r^{2}} a^{2} r \\cos\\left({\\theta}\\right)^{2} \\psi_{1}\\left(r, {\\theta}\\right)}{2 \\, \\sqrt{a^{2} + r^{2}}} - \\frac{\\sqrt{2} a^{3} \\sqrt{m} \\sqrt{r} \\cos\\left({\\theta}\\right) \\psi_{2}\\left(r, {\\theta}\\right)}{2 \\, \\sqrt{a^{2} + r^{2}}} - \\frac{\\sqrt{2} a \\sqrt{m} r^{\\frac{5}{2}} \\cos\\left({\\theta}\\right) \\psi_{2}\\left(r, {\\theta}\\right)}{2 \\, \\sqrt{a^{2} + r^{2}}} - {m_{*}} r^{4} \\psi_{4}\\left(r, {\\theta}\\right) - \\omega r^{4} \\psi_{4}\\left(r, {\\theta}\\right) - \\frac{i \\, \\sqrt{2} a^{2} \\sqrt{m} r^{\\frac{5}{2}} \\frac{\\partial}{\\partial r}\\psi_{4}\\left(r, {\\theta}\\right)}{\\sqrt{a^{2} + r^{2}}} - \\frac{i \\, \\sqrt{2} \\sqrt{m} r^{\\frac{9}{2}} \\frac{\\partial}{\\partial r}\\psi_{4}\\left(r, {\\theta}\\right)}{\\sqrt{a^{2} + r^{2}}} + \\frac{\\sqrt{a^{2} \\cos\\left({\\theta}\\right)^{2} + r^{2}} a^{2} \\cos\\left({\\theta}\\right)^{3} \\psi_{1}\\left(r, {\\theta}\\right)}{2 \\, \\sin\\left({\\theta}\\right)} - \\frac{1}{2} \\, \\sqrt{a^{2} \\cos\\left({\\theta}\\right)^{2} + r^{2}} a^{2} \\cos\\left({\\theta}\\right) \\psi_{1}\\left(r, {\\theta}\\right) \\sin\\left({\\theta}\\right) + \\frac{1}{4} i \\, \\sqrt{2} a \\sqrt{m} r^{\\frac{3}{2}} \\psi_{2}\\left(r, {\\theta}\\right) \\sin\\left({\\theta}\\right) - \\sqrt{a^{2} \\cos\\left({\\theta}\\right)^{2} + r^{2}} a^{2} \\cos\\left({\\theta}\\right)^{2} \\frac{\\partial}{\\partial {\\theta}}\\psi_{1}\\left(r, {\\theta}\\right) + \\frac{i \\, \\sqrt{2} a^{2} \\sqrt{m} r^{\\frac{3}{2}} \\psi_{4}\\left(r, {\\theta}\\right)}{4 \\, \\sqrt{a^{2} + r^{2}}} + \\frac{3 i \\, \\sqrt{2} \\sqrt{m} r^{\\frac{7}{2}} \\psi_{4}\\left(r, {\\theta}\\right)}{4 \\, \\sqrt{a^{2} + r^{2}}} + \\frac{i \\, \\sqrt{a^{2} \\cos\\left({\\theta}\\right)^{2} + r^{2}} a^{2} r^{2} \\frac{\\partial}{\\partial r}\\psi_{1}\\left(r, {\\theta}\\right)}{\\sqrt{a^{2} + r^{2}}} + \\frac{i \\, \\sqrt{a^{2} \\cos\\left({\\theta}\\right)^{2} + r^{2}} r^{4} \\frac{\\partial}{\\partial r}\\psi_{1}\\left(r, {\\theta}\\right)}{\\sqrt{a^{2} + r^{2}}} + \\frac{\\kappa r^{4} \\psi_{2}\\left(r, {\\theta}\\right)}{\\sqrt{a^{2} + r^{2}} \\sin\\left({\\theta}\\right)} - \\frac{i \\, \\sqrt{a^{2} \\cos\\left({\\theta}\\right)^{2} + r^{2}} a^{2} r \\psi_{1}\\left(r, {\\theta}\\right)}{2 \\, \\sqrt{a^{2} + r^{2}}} - \\frac{i \\, \\sqrt{a^{2} \\cos\\left({\\theta}\\right)^{2} + r^{2}} r^{3} \\psi_{1}\\left(r, {\\theta}\\right)}{\\sqrt{a^{2} + r^{2}}} + \\frac{\\sqrt{a^{2} \\cos\\left({\\theta}\\right)^{2} + r^{2}} r^{2} \\cos\\left({\\theta}\\right) \\psi_{1}\\left(r, {\\theta}\\right)}{2 \\, \\sin\\left({\\theta}\\right)} - \\sqrt{a^{2} \\cos\\left({\\theta}\\right)^{2} + r^{2}} r^{2} \\frac{\\partial}{\\partial {\\theta}}\\psi_{1}\\left(r, {\\theta}\\right)$$"
      ],
      "text/plain": [
       "1/2*I*B_0*a^6*q*cos(th)^4*psi2(r, th)*sin(th)/sqrt(a^2 + r^2) + 1/2*I*B_0*a^4*q*r^2*cos(th)^4*psi2(r, th)*sin(th)/sqrt(a^2 + r^2) - 1/2*I*sqrt(2)*sqrt(a^2*cos(th)^2 + r^2)*B_0*a^3*sqrt(m)*q*sqrt(r)*cos(th)^4*psi1(r, th) + I*B_0*a^5*q*cos(th)^4*psi4(r, th) + I*B_0*a^4*q*r^2*cos(th)^2*psi2(r, th)*sin(th)/sqrt(a^2 + r^2) + I*B_0*a^2*q*r^4*cos(th)^2*psi2(r, th)*sin(th)/sqrt(a^2 + r^2) - 1/2*I*sqrt(2)*sqrt(a^2*cos(th)^2 + r^2)*B_0*a^3*sqrt(m)*q*sqrt(r)*cos(th)^2*psi1(r, th) - 1/2*I*sqrt(2)*sqrt(a^2*cos(th)^2 + r^2)*B_0*a*sqrt(m)*q*r^(5/2)*cos(th)^2*psi1(r, th) + 2*I*B_0*a^3*q*r^2*cos(th)^2*psi4(r, th) - a^4*m_*cos(th)^4*psi4(r, th) - a^4*omega*cos(th)^4*psi4(r, th) + 1/2*I*B_0*a^2*q*r^4*psi2(r, th)*sin(th)/sqrt(a^2 + r^2) + 1/2*I*B_0*q*r^6*psi2(r, th)*sin(th)/sqrt(a^2 + r^2) + a^4*kappa*cos(th)^4*psi2(r, th)/(sqrt(a^2 + r^2)*sin(th)) - I*sqrt(2)*a^3*sqrt(m)*sqrt(r)*cos(th)^2*sin(th)*diff(psi2(r, th), r) - 1/2*I*sqrt(2)*sqrt(a^2*cos(th)^2 + r^2)*B_0*a*sqrt(m)*q*r^(5/2)*psi1(r, th) + I*B_0*a*q*r^4*psi4(r, th) - 2*a^2*m_*r^2*cos(th)^2*psi4(r, th) - 2*a^2*omega*r^2*cos(th)^2*psi4(r, th) - I*sqrt(2)*a^4*sqrt(m)*sqrt(r)*cos(th)^2*diff(psi4(r, th), r)/sqrt(a^2 + r^2) - I*sqrt(2)*a^2*sqrt(m)*r^(5/2)*cos(th)^2*diff(psi4(r, th), r)/sqrt(a^2 + r^2) + 1/4*I*sqrt(2)*a^3*sqrt(m)*cos(th)^2*psi2(r, th)*sin(th)/sqrt(r) + 1/4*I*sqrt(2)*a^4*sqrt(m)*cos(th)^2*psi4(r, th)/(sqrt(a^2 + r^2)*sqrt(r)) + 3/4*I*sqrt(2)*a^2*sqrt(m)*r^(3/2)*cos(th)^2*psi4(r, th)/sqrt(a^2 + r^2) + I*sqrt(a^2*cos(th)^2 + r^2)*a^4*cos(th)^2*diff(psi1(r, th), r)/sqrt(a^2 + r^2) + I*sqrt(a^2*cos(th)^2 + r^2)*a^2*r^2*cos(th)^2*diff(psi1(r, th), r)/sqrt(a^2 + r^2) + 2*a^2*kappa*r^2*cos(th)^2*psi2(r, th)/(sqrt(a^2 + r^2)*sin(th)) - 1/2*sqrt(2)*a^2*sqrt(m)*sqrt(r)*cos(th)*psi4(r, th)*sin(th) - I*sqrt(2)*a*sqrt(m)*r^(5/2)*sin(th)*diff(psi2(r, th), r) - 1/2*I*sqrt(a^2*cos(th)^2 + r^2)*a^2*r*cos(th)^2*psi1(r, th)/sqrt(a^2 + r^2) - 1/2*sqrt(2)*a^3*sqrt(m)*sqrt(r)*cos(th)*psi2(r, th)/sqrt(a^2 + r^2) - 1/2*sqrt(2)*a*sqrt(m)*r^(5/2)*cos(th)*psi2(r, th)/sqrt(a^2 + r^2) - m_*r^4*psi4(r, th) - omega*r^4*psi4(r, th) - I*sqrt(2)*a^2*sqrt(m)*r^(5/2)*diff(psi4(r, th), r)/sqrt(a^2 + r^2) - I*sqrt(2)*sqrt(m)*r^(9/2)*diff(psi4(r, th), r)/sqrt(a^2 + r^2) + 1/2*sqrt(a^2*cos(th)^2 + r^2)*a^2*cos(th)^3*psi1(r, th)/sin(th) - 1/2*sqrt(a^2*cos(th)^2 + r^2)*a^2*cos(th)*psi1(r, th)*sin(th) + 1/4*I*sqrt(2)*a*sqrt(m)*r^(3/2)*psi2(r, th)*sin(th) - sqrt(a^2*cos(th)^2 + r^2)*a^2*cos(th)^2*diff(psi1(r, th), th) + 1/4*I*sqrt(2)*a^2*sqrt(m)*r^(3/2)*psi4(r, th)/sqrt(a^2 + r^2) + 3/4*I*sqrt(2)*sqrt(m)*r^(7/2)*psi4(r, th)/sqrt(a^2 + r^2) + I*sqrt(a^2*cos(th)^2 + r^2)*a^2*r^2*diff(psi1(r, th), r)/sqrt(a^2 + r^2) + I*sqrt(a^2*cos(th)^2 + r^2)*r^4*diff(psi1(r, th), r)/sqrt(a^2 + r^2) + kappa*r^4*psi2(r, th)/(sqrt(a^2 + r^2)*sin(th)) - 1/2*I*sqrt(a^2*cos(th)^2 + r^2)*a^2*r*psi1(r, th)/sqrt(a^2 + r^2) - I*sqrt(a^2*cos(th)^2 + r^2)*r^3*psi1(r, th)/sqrt(a^2 + r^2) + 1/2*sqrt(a^2*cos(th)^2 + r^2)*r^2*cos(th)*psi1(r, th)/sin(th) - sqrt(a^2*cos(th)^2 + r^2)*r^2*diff(psi1(r, th), th)"
      ]
     },
     "execution_count": 54,
     "metadata": {},
     "output_type": "execute_result"
    }
   ],
   "source": [
    "de1 = ((rho2^2)*Dirac_Wald_equation_lhs[0]/(exp(i*omega*t+i*kappa*ph))).expr().full_simplify().expand() == 0\n",
    "de2 = ((rho2^2)*Dirac_Wald_equation_lhs[1]/(exp(i*omega*t+i*kappa*ph))).expr().full_simplify().expand() == 0\n",
    "de3 = ((rho2^2)*Dirac_Wald_equation_lhs[2]/(exp(i*omega*t+i*kappa*ph))).expr().full_simplify().expand() == 0\n",
    "de4 = ((rho2^2)*Dirac_Wald_equation_lhs[3]/(exp(i*omega*t+i*kappa*ph))).expr().full_simplify().expand() == 0"
   ]
  }
 ],
 "metadata": {
  "kernelspec": {
   "display_name": "SageMath 9.3",
   "language": "sage",
   "name": "sagemath"
  },
  "language_info": {
   "codemirror_mode": {
    "name": "ipython",
    "version": 3
   },
   "file_extension": ".py",
   "mimetype": "text/x-python",
   "name": "python",
   "nbconvert_exporter": "python",
   "pygments_lexer": "ipython3",
   "version": "3.7.10"
  },
  "widgets": {
   "application/vnd.jupyter.widget-state+json": {
    "state": {},
    "version_major": 2,
    "version_minor": 0
   }
  }
 },
 "nbformat": 4,
 "nbformat_minor": 4
}
