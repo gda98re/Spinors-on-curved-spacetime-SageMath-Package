{
 "cells": [
  {
   "cell_type": "markdown",
   "metadata": {},
   "source": [
    "# Dirac Equation on Kerr spacetime + Wald Field"
   ]
  },
  {
   "cell_type": "markdown",
   "metadata": {},
   "source": [
    "## Basic initialization of the lorentzian manifold"
   ]
  },
  {
   "cell_type": "markdown",
   "metadata": {},
   "source": [
    "Initialization of the Melvin manifold $\\mathcal M_{Melvin}$ atlas with cilindrical coordinates and of the metric tensor $g$ :"
   ]
  },
  {
   "cell_type": "code",
   "execution_count": 1,
   "metadata": {
    "scrolled": true
   },
   "outputs": [
    {
     "data": {
      "text/html": [
       "<html><script type=\"math/tex; mode=display\">\\newcommand{\\Bold}[1]{\\mathbf{#1}}g = \\frac{1}{16} \\, {\\left(B_{0}^{2} r^{2} + 4\\right)}^{2} \\mathrm{d} t\\otimes \\mathrm{d} t -\\frac{1}{16} \\, {\\left(B_{0}^{2} r^{2} + 4\\right)}^{2} \\mathrm{d} r\\otimes \\mathrm{d} r -\\frac{16 \\, r^{2}}{{\\left(B_{0}^{2} r^{2} + 4\\right)}^{2}} \\mathrm{d} {\\phi}\\otimes \\mathrm{d} {\\phi} -\\frac{1}{16} \\, {\\left(B_{0}^{2} r^{2} + 4\\right)}^{2} \\mathrm{d} z\\otimes \\mathrm{d} z</script></html>"
      ],
      "text/latex": [
       "$$\\newcommand{\\Bold}[1]{\\mathbf{#1}}g = \\frac{1}{16} \\, {\\left(B_{0}^{2} r^{2} + 4\\right)}^{2} \\mathrm{d} t\\otimes \\mathrm{d} t -\\frac{1}{16} \\, {\\left(B_{0}^{2} r^{2} + 4\\right)}^{2} \\mathrm{d} r\\otimes \\mathrm{d} r -\\frac{16 \\, r^{2}}{{\\left(B_{0}^{2} r^{2} + 4\\right)}^{2}} \\mathrm{d} {\\phi}\\otimes \\mathrm{d} {\\phi} -\\frac{1}{16} \\, {\\left(B_{0}^{2} r^{2} + 4\\right)}^{2} \\mathrm{d} z\\otimes \\mathrm{d} z$$"
      ],
      "text/plain": [
       "g = 1/16*(B0^2*r^2 + 4)^2 dt*dt - 1/16*(B0^2*r^2 + 4)^2 dr*dr - 16*r^2/(B0^2*r^2 + 4)^2 dph*dph - 1/16*(B0^2*r^2 + 4)^2 dz*dz"
      ]
     },
     "execution_count": 1,
     "metadata": {},
     "output_type": "execute_result"
    }
   ],
   "source": [
    "%display latex\n",
    "\n",
    "Man = Manifold(4, 'M', latex_name=r'\\mathcal{M}', structure='Lorentzian')\n",
    "CL.<t,r,ph,z> = Man.chart(r\"t r ph:(0,pi):\\phi z\") #cylindrical chart definition\n",
    "Dc = Man.default_chart()\n",
    "var('B0', domain='real') \n",
    "#Lambda_ = function(\"Lambda\", nargs = 1)\n",
    "#Lambda = Man.scalar_field({Dc: Lambda_(r)}, name = '\\\\Lambda') #\n",
    "Lambda = 1+(1/4)*(B0^2)*r^2\n",
    "\n",
    "g = Man.metric() #we put the label g on the metric tensor\n",
    "\n",
    "g[0,0] = Lambda^2\n",
    "g[1,1], g[2,2] = -Lambda^2, -(Lambda^(-2))*r^2\n",
    "g[3,3] = -Lambda^2\n",
    "\n",
    "g.display()"
   ]
  },
  {
   "cell_type": "markdown",
   "metadata": {},
   "source": [
    "The electromagnetic one form is $A_{\\mu} = \\left(0,0,-\\frac{2}{B_{0}\\Lambda},0\\right)$"
   ]
  },
  {
   "cell_type": "code",
   "execution_count": 2,
   "metadata": {},
   "outputs": [
    {
     "data": {
      "text/html": [
       "<html><script type=\"math/tex; mode=display\">\\newcommand{\\Bold}[1]{\\mathbf{#1}}\\left[0, 0, -\\frac{8}{{\\left(B_{0}^{2} r^{2} + 4\\right)} B_{0}}, 0\\right]</script></html>"
      ],
      "text/latex": [
       "$$\\newcommand{\\Bold}[1]{\\mathbf{#1}}\\left[0, 0, -\\frac{8}{{\\left(B_{0}^{2} r^{2} + 4\\right)} B_{0}}, 0\\right]$$"
      ],
      "text/plain": [
       "[0, 0, -8/((B0^2*r^2 + 4)*B0), 0]"
      ]
     },
     "execution_count": 2,
     "metadata": {},
     "output_type": "execute_result"
    }
   ],
   "source": [
    "A = Man.one_form(0, 0,-2/(B0*Lambda), 0, frame=Dc.frame())\n",
    "A[:]"
   ]
  },
  {
   "cell_type": "code",
   "execution_count": 3,
   "metadata": {},
   "outputs": [],
   "source": [
    "F = A.exterior_derivative()\n",
    "F_uu = F.up(g,0).up(g,1)\n",
    "FF_scalar = F_uu.contract(0,1,F,0,1)\n",
    "T = -(1/4)*(F_uu.contract(1,F.up(g,0),1) - (1/4)*FF_scalar*g.inverse())\n",
    "T_dd = T.down(g,0).down(g,0)\n",
    "Ricci = g.ricci()\n",
    "R = g.ricci_scalar()\n",
    "Gmunu = Ricci - (1/2)*g*R"
   ]
  },
  {
   "cell_type": "markdown",
   "metadata": {},
   "source": [
    "Einstein equation check"
   ]
  },
  {
   "cell_type": "code",
   "execution_count": 4,
   "metadata": {},
   "outputs": [
    {
     "data": {
      "text/html": [
       "<html><script type=\"math/tex; mode=display\">\\newcommand{\\Bold}[1]{\\mathbf{#1}}\\mathrm{True}</script></html>"
      ],
      "text/latex": [
       "$$\\newcommand{\\Bold}[1]{\\mathbf{#1}}\\mathrm{True}$$"
      ],
      "text/plain": [
       "True"
      ]
     },
     "execution_count": 4,
     "metadata": {},
     "output_type": "execute_result"
    }
   ],
   "source": [
    "Gmunu == 8*T_dd"
   ]
  },
  {
   "cell_type": "code",
   "execution_count": 5,
   "metadata": {},
   "outputs": [
    {
     "data": {
      "text/html": [
       "<html><script type=\"math/tex; mode=display\">\\newcommand{\\Bold}[1]{\\mathbf{#1}}\\mathrm{True}</script></html>"
      ],
      "text/latex": [
       "$$\\newcommand{\\Bold}[1]{\\mathbf{#1}}\\mathrm{True}$$"
      ],
      "text/plain": [
       "True"
      ]
     },
     "execution_count": 5,
     "metadata": {},
     "output_type": "execute_result"
    }
   ],
   "source": [
    "nabla = g.connection()\n",
    "nabla(F_uu).trace(1,2) == 0"
   ]
  },
  {
   "cell_type": "markdown",
   "metadata": {},
   "source": [
    "Definition of the orthonormal tetrad"
   ]
  },
  {
   "cell_type": "code",
   "execution_count": 6,
   "metadata": {},
   "outputs": [],
   "source": [
    "#definition of the coframe tetrad fields\n",
    "\n",
    "e0 = Man.vector_field(Lambda^(-1), 0, 0, 0, frame=Dc.frame(), name='e^{(0)}')\n",
    "e1 = Man.vector_field(0,Lambda^(-1),0,0, frame=Dc.frame(), name='e^{(1)}')\n",
    "e2 = Man.vector_field(0, 0, Lambda/r, 0, frame=Dc.frame(), name='e^{(2)}')\n",
    "e3 = Man.vector_field(0, 0, 0, Lambda^(-1), frame=Dc.frame(), name='e^{(3)}')\n",
    "\n",
    "e = Man.vector_frame('e', (e0, e1, e2, e3)) #costruction of the tetrad collection object e_{a}\n",
    "de = e.coframe() #construction of the tetrad coframe object e^{a}  "
   ]
  },
  {
   "cell_type": "code",
   "execution_count": 9,
   "metadata": {},
   "outputs": [],
   "source": [
    "from ST_bundle.ST_bundle import ST_bundle\n",
    "STb = ST_bundle(Man,e)"
   ]
  },
  {
   "cell_type": "code",
   "execution_count": 11,
   "metadata": {},
   "outputs": [
    {
     "data": {
      "text/html": [
       "<html><script type=\"math/tex; mode=display\">\\newcommand{\\Bold}[1]{\\mathbf{#1}}\\frac{1}{2} \\, \\sqrt{{\\left(B_{0}^{2} r^{2} + 4\\right)} r} R_{1}\\left(r\\right) e^{\\left(i \\, m {\\phi} - i \\, \\sigma t + i \\, p_{z} z\\right)} e_{0} + \\frac{1}{2} \\, \\sqrt{{\\left(B_{0}^{2} r^{2} + 4\\right)} r} R_{2}\\left(r\\right) e^{\\left(i \\, m {\\phi} - i \\, \\sigma t + i \\, p_{z} z\\right)} e_{1} + \\frac{1}{2} \\, \\sqrt{{\\left(B_{0}^{2} r^{2} + 4\\right)} r} R_{3}\\left(r\\right) e^{\\left(i \\, m {\\phi} - i \\, \\sigma t + i \\, p_{z} z\\right)} e_{2} + \\frac{1}{2} \\, \\sqrt{{\\left(B_{0}^{2} r^{2} + 4\\right)} r} R_{4}\\left(r\\right) e^{\\left(i \\, m {\\phi} - i \\, \\sigma t + i \\, p_{z} z\\right)} e_{3}</script></html>"
      ],
      "text/latex": [
       "$$\\newcommand{\\Bold}[1]{\\mathbf{#1}}\\frac{1}{2} \\, \\sqrt{{\\left(B_{0}^{2} r^{2} + 4\\right)} r} R_{1}\\left(r\\right) e^{\\left(i \\, m {\\phi} - i \\, \\sigma t + i \\, p_{z} z\\right)} e_{0} + \\frac{1}{2} \\, \\sqrt{{\\left(B_{0}^{2} r^{2} + 4\\right)} r} R_{2}\\left(r\\right) e^{\\left(i \\, m {\\phi} - i \\, \\sigma t + i \\, p_{z} z\\right)} e_{1} + \\frac{1}{2} \\, \\sqrt{{\\left(B_{0}^{2} r^{2} + 4\\right)} r} R_{3}\\left(r\\right) e^{\\left(i \\, m {\\phi} - i \\, \\sigma t + i \\, p_{z} z\\right)} e_{2} + \\frac{1}{2} \\, \\sqrt{{\\left(B_{0}^{2} r^{2} + 4\\right)} r} R_{4}\\left(r\\right) e^{\\left(i \\, m {\\phi} - i \\, \\sigma t + i \\, p_{z} z\\right)} e_{3}$$"
      ],
      "text/plain": [
       "1/2*sqrt((B0^2*r^2 + 4)*r)*R1(r)*e^(I*m*ph - I*sigma*t + I*p_z*z) e_0 + 1/2*sqrt((B0^2*r^2 + 4)*r)*R2(r)*e^(I*m*ph - I*sigma*t + I*p_z*z) e_1 + 1/2*sqrt((B0^2*r^2 + 4)*r)*R3(r)*e^(I*m*ph - I*sigma*t + I*p_z*z) e_2 + 1/2*sqrt((B0^2*r^2 + 4)*r)*R4(r)*e^(I*m*ph - I*sigma*t + I*p_z*z) e_3"
      ]
     },
     "execution_count": 11,
     "metadata": {},
     "output_type": "execute_result"
    }
   ],
   "source": [
    "var('sigma')\n",
    "var('p_z')\n",
    "var('m', domain = 'integer')\n",
    "var('q')\n",
    "\n",
    "R1 = function('R1')(r)\n",
    "R2 = function('R2')(r)\n",
    "R3 = function('R3')(r)\n",
    "R4 = function('R4')(r)\n",
    "psi1_=(sqrt(r*Lambda))*exp(-i*sigma*t+i*p_z*z +i*m*ph)*R1(r)\n",
    "psi2_=(sqrt(r*Lambda))*exp(-i*sigma*t+ i*p_z*z + i*m*ph)*R2(r)\n",
    "psi3_=(sqrt(r*Lambda))*exp(-i*sigma*t+ i*p_z*z + i*m*ph)*R3(r)\n",
    "psi4_=(sqrt(r*Lambda))*exp(-i*sigma*t+ i*p_z*z + i*m*ph)*R4(r)\n",
    "psi1 = Man.scalar_field({Dc: psi1_})\n",
    "psi2 = Man.scalar_field({Dc: psi2_})\n",
    "psi3 = Man.scalar_field({Dc: psi3_})\n",
    "psi4 = Man.scalar_field({Dc: psi4_})\n",
    "\n",
    "psi = STb.sbundle.section({STb.sframe: [psi1_,psi2_,psi3_,psi4_]})\n",
    "psi.display()"
   ]
  },
  {
   "cell_type": "code",
   "execution_count": 12,
   "metadata": {},
   "outputs": [],
   "source": [
    "D_s_A= STb.sconnection(q*A)\n",
    "Gamma = STb.Dirac_matrices(\"up\")      #Dirac Gamma matrices"
   ]
  },
  {
   "cell_type": "code",
   "execution_count": 13,
   "metadata": {},
   "outputs": [],
   "source": [
    "var('m_',latex_name = 'm_{*}')\n",
    "Dirac_eq_lhs = i*Gamma.contract(D_s_A(e,psi))-m_*psi"
   ]
  },
  {
   "cell_type": "markdown",
   "metadata": {},
   "source": [
    "Calculation of $\\frac{\\Lambda}{r}\\left(\\frac{i\\gamma^{\\mu}\\nabla_{\\mu}^{A}\\psi-M\\psi}{e^{-i\\sigma t + i m \\phi + i p_{z}z}}\\right)$"
   ]
  },
  {
   "cell_type": "code",
   "execution_count": 14,
   "metadata": {},
   "outputs": [],
   "source": [
    "de1 = (sqrt(Lambda)*Dirac_eq_lhs[0]/(sqrt(r)*exp(-i*sigma*t+ i*p_z*z + i*m*ph))).expr().full_simplify().expand() == 0"
   ]
  },
  {
   "cell_type": "code",
   "execution_count": 15,
   "metadata": {},
   "outputs": [],
   "source": [
    "de2 = (sqrt(Lambda)*Dirac_eq_lhs[1]/(sqrt(r)*exp(-i*sigma*t+ i*p_z*z + i*m*ph))).expr().full_simplify().expand() == 0"
   ]
  },
  {
   "cell_type": "code",
   "execution_count": 16,
   "metadata": {},
   "outputs": [],
   "source": [
    "de3 = (sqrt(Lambda)*Dirac_eq_lhs[2]/(sqrt(r)*exp(-i*sigma*t+ i*p_z*z + i*m*ph))).expr().full_simplify().expand() == 0"
   ]
  },
  {
   "cell_type": "code",
   "execution_count": 17,
   "metadata": {},
   "outputs": [],
   "source": [
    "de4 = (sqrt(Lambda)*Dirac_eq_lhs[3]/(sqrt(r)*exp(-i*sigma*t+ i*p_z*z + i*m*ph))).expr().full_simplify().expand() == 0"
   ]
  }
 ],
 "metadata": {
  "kernelspec": {
   "display_name": "SageMath 9.3",
   "language": "sage",
   "name": "sagemath"
  },
  "language_info": {
   "codemirror_mode": {
    "name": "ipython",
    "version": 3
   },
   "file_extension": ".py",
   "mimetype": "text/x-python",
   "name": "python",
   "nbconvert_exporter": "python",
   "pygments_lexer": "ipython3",
   "version": "3.7.10"
  },
  "widgets": {
   "application/vnd.jupyter.widget-state+json": {
    "state": {},
    "version_major": 2,
    "version_minor": 0
   }
  }
 },
 "nbformat": 4,
 "nbformat_minor": 4
}
