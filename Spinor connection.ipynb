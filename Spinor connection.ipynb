{
 "cells": [
  {
   "cell_type": "markdown",
   "metadata": {},
   "source": [
    "# Spinor connection, Dirac equation and Wald solution"
   ]
  },
  {
   "cell_type": "markdown",
   "metadata": {},
   "source": [
    "## Basic initialization of the lorentzian manifold"
   ]
  },
  {
   "cell_type": "markdown",
   "metadata": {},
   "source": [
    "Initialization of the Kerr manifold $\\mathcal M_{Kerr}$ atlas with Boyer-Lindquist chart (BL) and of the metric tensor $g$ :"
   ]
  },
  {
   "cell_type": "code",
   "execution_count": 1,
   "metadata": {},
   "outputs": [
    {
     "data": {
      "text/html": [
       "<html><script type=\"math/tex; mode=display\">\\newcommand{\\Bold}[1]{\\mathbf{#1}}g = \\left( \\frac{2 \\, m r}{a^{2} \\cos\\left({\\theta}\\right)^{2} + r^{2}} - 1 \\right) \\mathrm{d} t\\otimes \\mathrm{d} t + \\left( -\\frac{2 \\, a m r \\sin\\left({\\theta}\\right)^{2}}{a^{2} \\cos\\left({\\theta}\\right)^{2} + r^{2}} \\right) \\mathrm{d} t\\otimes \\mathrm{d} {\\phi} + \\left( \\frac{a^{2} \\cos\\left({\\theta}\\right)^{2} + r^{2}}{a^{2} - 2 \\, m r + r^{2}} \\right) \\mathrm{d} r\\otimes \\mathrm{d} r + \\left( a^{2} \\cos\\left({\\theta}\\right)^{2} + r^{2} \\right) \\mathrm{d} {\\theta}\\otimes \\mathrm{d} {\\theta} + \\left( -\\frac{2 \\, a m r \\sin\\left({\\theta}\\right)^{2}}{a^{2} \\cos\\left({\\theta}\\right)^{2} + r^{2}} \\right) \\mathrm{d} {\\phi}\\otimes \\mathrm{d} t + {\\left(\\frac{2 \\, a^{2} m r \\sin\\left({\\theta}\\right)^{2}}{a^{2} \\cos\\left({\\theta}\\right)^{2} + r^{2}} + a^{2} + r^{2}\\right)} \\sin\\left({\\theta}\\right)^{2} \\mathrm{d} {\\phi}\\otimes \\mathrm{d} {\\phi}</script></html>"
      ],
      "text/latex": [
       "$$\\newcommand{\\Bold}[1]{\\mathbf{#1}}g = \\left( \\frac{2 \\, m r}{a^{2} \\cos\\left({\\theta}\\right)^{2} + r^{2}} - 1 \\right) \\mathrm{d} t\\otimes \\mathrm{d} t + \\left( -\\frac{2 \\, a m r \\sin\\left({\\theta}\\right)^{2}}{a^{2} \\cos\\left({\\theta}\\right)^{2} + r^{2}} \\right) \\mathrm{d} t\\otimes \\mathrm{d} {\\phi} + \\left( \\frac{a^{2} \\cos\\left({\\theta}\\right)^{2} + r^{2}}{a^{2} - 2 \\, m r + r^{2}} \\right) \\mathrm{d} r\\otimes \\mathrm{d} r + \\left( a^{2} \\cos\\left({\\theta}\\right)^{2} + r^{2} \\right) \\mathrm{d} {\\theta}\\otimes \\mathrm{d} {\\theta} + \\left( -\\frac{2 \\, a m r \\sin\\left({\\theta}\\right)^{2}}{a^{2} \\cos\\left({\\theta}\\right)^{2} + r^{2}} \\right) \\mathrm{d} {\\phi}\\otimes \\mathrm{d} t + {\\left(\\frac{2 \\, a^{2} m r \\sin\\left({\\theta}\\right)^{2}}{a^{2} \\cos\\left({\\theta}\\right)^{2} + r^{2}} + a^{2} + r^{2}\\right)} \\sin\\left({\\theta}\\right)^{2} \\mathrm{d} {\\phi}\\otimes \\mathrm{d} {\\phi}$$"
      ],
      "text/plain": [
       "g = (2*m*r/(a^2*cos(th)^2 + r^2) - 1) dt*dt - 2*a*m*r*sin(th)^2/(a^2*cos(th)^2 + r^2) dt*dph + (a^2*cos(th)^2 + r^2)/(a^2 - 2*m*r + r^2) dr*dr + (a^2*cos(th)^2 + r^2) dth*dth - 2*a*m*r*sin(th)^2/(a^2*cos(th)^2 + r^2) dph*dt + (2*a^2*m*r*sin(th)^2/(a^2*cos(th)^2 + r^2) + a^2 + r^2)*sin(th)^2 dph*dph"
      ]
     },
     "execution_count": 1,
     "metadata": {},
     "output_type": "execute_result"
    }
   ],
   "source": [
    "%display latex\n",
    "\n",
    "M = Manifold(4, 'M', latex_name=r'\\mathcal{M}', structure='Lorentzian')\n",
    "BL.<t,r,th,ph> = M.chart(r\"t r th:(0,pi):\\theta ph:(0,2*pi):\\phi\") #boyer-lindquist chart definition\n",
    "#SD.<t, r, th, ph> = M.chart(r\"t r:(0,+oo) th:(0,pi):\\theta ph:(0,2*pi):\\phi:periodic\")\n",
    "\n",
    "#var('m', domain='real')\n",
    "var('m, a', domain='real') #definition of Kerr metric parameters\n",
    "\n",
    "g = M.metric() #we put the label g on the metric tensor\n",
    "\n",
    "rho2 = r^2 + (a*cos(th))^2\n",
    "Delta = r^2 -2*m*r + a^2\n",
    "\n",
    "g[0,0] = -(1-2*m*r/rho2)\n",
    "g[0,3] = -2*a*m*r*sin(th)^2/rho2\n",
    "g[1,1], g[2,2] = rho2/Delta, rho2\n",
    "g[3,3] = (r^2+a^2+2*m*r*(a*sin(th))^2/rho2)*sin(th)^2\n",
    "#g[0, 0] = - (1 - 2*m/r)\n",
    "#g[1, 1] = 1/(1 - 2*m/r)\n",
    "#g[2, 2] = r^2\n",
    "#g[3, 3] = r^2*sin(th)^2\n",
    "\n",
    "g.display()"
   ]
  },
  {
   "cell_type": "markdown",
   "metadata": {},
   "source": [
    "Definition of the Levi Civita connection $\\nabla$:"
   ]
  },
  {
   "cell_type": "code",
   "execution_count": 2,
   "metadata": {},
   "outputs": [],
   "source": [
    "nabla = g.connection()"
   ]
  },
  {
   "cell_type": "markdown",
   "metadata": {},
   "source": [
    "## Initialization of the orthonormal tetrad"
   ]
  },
  {
   "cell_type": "markdown",
   "metadata": {},
   "source": [
    "Definition of the orthonormal tetrad frame $e_{(a)}$ (Chandrasekar notation) and its dual frame $e^{(a)} = \\eta^{(a)(b)}g(e_{(b)},-)$ :"
   ]
  },
  {
   "cell_type": "code",
   "execution_count": 3,
   "metadata": {},
   "outputs": [],
   "source": [
    "#definition of the coframe tetrad fields (as listed in Wald's article)\n",
    "\n",
    "de0 = M.one_form(sqrt(Delta/rho2), 0, 0, -a*(sin(th)^2)*sqrt(Delta/rho2), frame=BL.frame(), name='e^{(0)}')\n",
    "de1 = M.one_form(0, sqrt(rho2/Delta), 0, 0, frame=BL.frame(), name='e^{(1)}')\n",
    "de2 = M.one_form(0, 0, sqrt(rho2), 0, frame=BL.frame(), name='e^{(2)}')\n",
    "de3 = M.one_form(-(sin(th)/sqrt(rho2))*a, 0, 0, (sin(th)/sqrt(rho2))*(r^2+a^2), frame=BL.frame(), name='e^{(3)}')\n",
    "\n",
    "#obtaining the tetrad frame vector fields using musical isomorphism of the metric\n",
    "\n",
    "e0 = -de0.up(g) #the zero component must be multiplied by a minus because of the lowering of the tetrad index with eta_{(a)(b)}\n",
    "e1 = de1.up(g)\n",
    "e2 = de2.up(g)\n",
    "e3 = de3.up(g)\n",
    "\n",
    "\n",
    "e = M.vector_frame('e', (e0, e1, e2, e3)) #costruction of the tetrad collection object e_{a}\n",
    "de = e.coframe() #construction of the tetrad coframe object e^{a}  "
   ]
  },
  {
   "cell_type": "markdown",
   "metadata": {},
   "source": [
    "Orthonormality check $g(e_{(a)},e_{(b)}) = \\eta_{(a)(b)}$ :"
   ]
  },
  {
   "cell_type": "code",
   "execution_count": 4,
   "metadata": {},
   "outputs": [],
   "source": [
    "from sage.tensor.modules.comp import Components\n",
    "\n",
    "scalar_field_algebra = M.scalar_field_algebra()\n",
    "\n",
    "#definition of eta_{(a)(b)}\n",
    "eta = Components(scalar_field_algebra, e, 2)\n",
    "eta[0,0] = M.scalar_field({BL: -1}, name='-1')\n",
    "eta[1,1] = M.scalar_field({BL: 1}, name='1')\n",
    "eta[2,2] = M.scalar_field({BL: 1}, name='1')\n",
    "eta[3,3] = M.scalar_field({BL: 1}, name='1')\n",
    "\n",
    "for i in range(0,4):\n",
    "    for j in range(0,4):\n",
    "        if (g(e[i],e[j]) != eta[i,j]):\n",
    "            print(\"error\")"
   ]
  },
  {
   "cell_type": "markdown",
   "metadata": {},
   "source": [
    "Check that the one forms given are equal to the one computed by Sage:"
   ]
  },
  {
   "cell_type": "code",
   "execution_count": 5,
   "metadata": {},
   "outputs": [],
   "source": [
    "if (de[0] != de0 or de[1] != de1 or de[2] != de2 or de[3] != de3):\n",
    "    print(\"error\")"
   ]
  },
  {
   "cell_type": "markdown",
   "metadata": {},
   "source": [
    "## Ricci rotation coefficents"
   ]
  },
  {
   "cell_type": "markdown",
   "metadata": {},
   "source": [
    "Ricci rotation coefficents $\\omega^{(a)}_{\\ \\ \\ \\ (b)(c)} = e^{(a)}_{\\ \\ \\ \\ \\nu}\\nabla_{\\mu} e_{(b)}^{\\ \\ \\ \\ \\nu} e_{(c)}^{\\ \\ \\ \\ \\mu}$ :"
   ]
  },
  {
   "cell_type": "code",
   "execution_count": 6,
   "metadata": {},
   "outputs": [],
   "source": [
    "#Ricci rotation coefficents as a class\n",
    "class Ricci_rotation_coefficents:\n",
    "    def __init__(self,Gamma):\n",
    "        self.coef = Gamma\n",
    "        self.tindices = [\"up\",\"down\",\"down\"]\n",
    "        \n",
    "    def __repr__(self):\n",
    "        return self.coef[:]\n",
    "    \n",
    "    def copy(self):\n",
    "        copy_ = Ricci_rotation_coefficents(self.coef.copy())\n",
    "        copy_.tindices = list(self.tindices)\n",
    "        return copy_\n",
    "    \n",
    "    def info(self):\n",
    "        return f\"Indices position: {self.tindices}\"\n",
    "        \n",
    "    #def __getitem__(self,*indices):\n",
    "     #   return self.coef[indices]\n",
    "        \n",
    "    def contract_with_eta(self,omega_,eta_,pos_index_,typ):\n",
    "        if(pos_index_ == 1):\n",
    "                omega_.coef = self.coef.contract(0,eta,0) #the contraction results in omega^{a}_{bc}*eta_{ad}=obj_{bcd} -> indices has to be permutated in dbc to have the correct form\n",
    "                omega_.coef = omega_.coef.swap_adjacent_indices(0,2,3) #scambia (bc) con (d)\n",
    "                omega_.tindices[0] = typ\n",
    "        elif(pos_index_ == 2):\n",
    "                omega_.coef = self.coef.contract(1,eta,0) #the contraction results in omega_{a}^{b}_{c}*eta_{bd}=obj_{acd} -> indices has to be permutated in dbc to have the correct form\n",
    "                omega_.coef = omega_.coef.swap_adjacent_indices(1,2,3) #swaps (c) with (d)\n",
    "                omega_.tindices[1] = typ\n",
    "        elif(pos_index_ == 3):\n",
    "                omega_.coef = self.coef.contract(2,eta,0) #the contraction results in omega_{ab}^{c}*eta_{cd}=obj_{abd} -> indices are already ok\n",
    "                omega_.tindices[2] = typ\n",
    "        \n",
    "    def down(self,pos_index):\n",
    "        if (self.tindices[pos_index-1] == \"down\"):\n",
    "            print(\"error, index already down\")\n",
    "        else:\n",
    "            omega_down = self.copy()\n",
    "            self.contract_with_eta(omega_down,eta,pos_index,\"down\")\n",
    "            return omega_down\n",
    "        \n",
    "    def up(self,pos_index):\n",
    "        if (self.tindices[pos_index-1] == \"up\"):\n",
    "            print(\"error, index already up\")\n",
    "        else:\n",
    "            omega_up = self.copy()\n",
    "            self.contract_with_eta(omega_up,eta,pos_index,\"up\")\n",
    "            return omega_up\n",
    "        "
   ]
  },
  {
   "cell_type": "markdown",
   "metadata": {},
   "source": [
    "Calculation of $\\omega^{(a)}_{\\ \\ \\ \\ (b)(c)}$ from $D(e_{(c)},e_{(b)})=\\omega^{(a)}_{\\ \\ \\ \\ (b)(c)}e_{(a)}$, where D is the Levi Civita connection:"
   ]
  },
  {
   "cell_type": "code",
   "execution_count": 7,
   "metadata": {},
   "outputs": [],
   "source": [
    "omega_udd = Ricci_rotation_coefficents(nabla.coef(e))"
   ]
  },
  {
   "cell_type": "markdown",
   "metadata": {},
   "source": [
    "Calculation of $\\omega_{(a)(b)(c)}$ with the method down():"
   ]
  },
  {
   "cell_type": "code",
   "execution_count": 8,
   "metadata": {},
   "outputs": [],
   "source": [
    "omega_ddd = omega_udd.down(1)"
   ]
  },
  {
   "cell_type": "markdown",
   "metadata": {},
   "source": [
    "## Spinor bundle"
   ]
  },
  {
   "cell_type": "markdown",
   "metadata": {},
   "source": [
    "Initialization of the spinor bundle as an abstract vector bundle, and definition of a local frame $\\{e_{[sb]i}\\}_{i=0,1,2,3}$ :"
   ]
  },
  {
   "cell_type": "code",
   "execution_count": 9,
   "metadata": {},
   "outputs": [],
   "source": [
    "sb = M.vector_bundle(4, 'S', field='complex') #definition of the spinor bundle\n",
    "e_sb = sb.local_frame('e')"
   ]
  },
  {
   "cell_type": "markdown",
   "metadata": {},
   "source": [
    "Definition of Dirac's gamma matrices $\\{\\gamma^{(a)}\\}_{(a)=0,1,2,3}$ and the identity matrix $\\mathbb{1}$ :"
   ]
  },
  {
   "cell_type": "code",
   "execution_count": 10,
   "metadata": {},
   "outputs": [],
   "source": [
    "Gamma_0 = sb.section_module().automorphism() #The gamma matrices are defined as automorphism of the section module of the spinor bundle\n",
    "Gamma_1 = sb.section_module().automorphism()\n",
    "Gamma_2 = sb.section_module().automorphism() \n",
    "Gamma_3 = sb.section_module().automorphism() \n",
    "id_s = sb.section_module().automorphism() #Identity automorphism of the section module of the spinor bundle\n",
    "\n",
    "Gamma_0[e_sb,:] = [[I,0,0,0],[0,I,0,0],[0,0,-I,0],[0,0,0,-I]] #use I instead of i otherwise it is interpreted as an index\n",
    "Gamma_1[e_sb,:] = [[0,0,0,I],[0,0,I,0],[0,-I,0,0],[-I,0,0,0]] # (-,+,+,+) signature\n",
    "Gamma_2[e_sb,:] = [[0,0,0,1],[0,0,-1,0],[0,-1,0,0],[1,0,0,0]]\n",
    "Gamma_3[e_sb,:] = [[0,0,I,0],[0,0,0,-I],[-I,0,0,0],[0,I,0,0]]\n",
    "\n",
    "id_s[e_sb,:] = [[1,0,0,0],[0,1,0,0],[0,0,1,0],[0,0,0,1]] # identity matrix\n",
    "\n",
    "Gamma_a = (Gamma_0,Gamma_1,Gamma_2,Gamma_3) #tuple of Gamma_{(a)}"
   ]
  },
  {
   "cell_type": "markdown",
   "metadata": {},
   "source": [
    "Definition of the anticommutator $\\{-,-\\}$ :"
   ]
  },
  {
   "cell_type": "code",
   "execution_count": 11,
   "metadata": {},
   "outputs": [],
   "source": [
    "def acomm(Gamma_a,Gamma_b):\n",
    "    return Gamma_a*Gamma_b+Gamma_b*Gamma_a"
   ]
  },
  {
   "cell_type": "markdown",
   "metadata": {},
   "source": [
    "Check of the Clifford algebra $\\{\\gamma^{(a)},\\gamma^{(b)}\\} = 2\\eta^{(a)(b)}\\mathbb{1}$ :"
   ]
  },
  {
   "cell_type": "code",
   "execution_count": 12,
   "metadata": {},
   "outputs": [],
   "source": [
    "for i in range(0,4): #check of Clifford algebra\n",
    "    for j in range(0,4):\n",
    "        if(acomm(Gamma_a[i],Gamma_a[j]) != 2*id_s*eta[i,j]):\n",
    "            print(\"error\")"
   ]
  },
  {
   "cell_type": "markdown",
   "metadata": {},
   "source": [
    "## Spinor bundle connection"
   ]
  },
  {
   "cell_type": "markdown",
   "metadata": {},
   "source": [
    "The connection of an arbitrary vector bundle $V$ is a map of the form $D_{V}: TM \\times V \\to V$ that takes a section of the tangent bundle and a section of the vecor bundle $V$ and gives a section of the vector bundle $V$.\n",
    "The map $D_{V}(-,e_{[V]i})=\\Gamma^{j}_{\\ \\ \\ \\ i}(-)e_{[V]j}$ ($\\{e_{[V]i}\\}_{i=1,2,3,4}$ local frame on $V$) defines naturally a collection of 1-forms $\\Gamma^{j}_{\\ \\ \\ \\ i}$ named \"connection 1-forms\". In our case $V$ is the spinor bundle defined before. "
   ]
  },
  {
   "cell_type": "markdown",
   "metadata": {},
   "source": [
    "In this case the indices $i$ and $j$ are spinor indices because of course the connection acts on spinor fields (section of the spinor bundle)."
   ]
  },
  {
   "cell_type": "markdown",
   "metadata": {},
   "source": [
    "Definition of the frame bundle connection 1-forms $\\Gamma^{j}_{ \\ \\ \\ \\ i}$ from the Ricci rotation coefficents and Dirac's matrices as $\\Gamma^{j}_{ \\ \\ \\ \\ i}= \\frac{1}{4}\\omega_{(a)(b)(c)}(\\gamma^{(a)}\\gamma^{(b)})^{j}_{ \\ \\ \\ \\ i}e^{(c)}$ :"
   ]
  },
  {
   "cell_type": "code",
   "execution_count": 13,
   "metadata": {},
   "outputs": [],
   "source": [
    "nabla_sb = sb.bundle_connection('\\\\nabla')  #definition of the connection on the spinor bundle\n",
    "\n",
    "par_0 = sb.section_module().automorphism()\n",
    "par_1 = sb.section_module().automorphism()\n",
    "par_2 = sb.section_module().automorphism()\n",
    "par_3 = sb.section_module().automorphism()\n",
    "\n",
    "par_0[e_sb,:] = [[0,0,0,0],[0,0,0,0],[0,0,0,0],[0,0,0,0]]\n",
    "par_1[e_sb,:] = [[0,0,0,0],[0,0,0,0],[0,0,0,0],[0,0,0,0]]\n",
    "par_2[e_sb,:] = [[0,0,0,0],[0,0,0,0],[0,0,0,0],[0,0,0,0]]\n",
    "par_3[e_sb,:] = [[0,0,0,0],[0,0,0,0],[0,0,0,0],[0,0,0,0]]\n",
    "\n",
    "for i in range(0,4):\n",
    "    for j in range(0,4):\n",
    "        par_0 +=  Gamma_a[i]*Gamma_a[j]*omega_ddd.coef[i,j,0] \n",
    "        \n",
    "for i in range(0,4):\n",
    "    for j in range(0,4):\n",
    "        par_1 +=  Gamma_a[i]*Gamma_a[j]*omega_ddd.coef[i,j,1] \n",
    "        \n",
    "for i in range(0,4):\n",
    "    for j in range(0,4):\n",
    "        par_2 +=  Gamma_a[i]*Gamma_a[j]*omega_ddd.coef[i,j,2]      \n",
    "\n",
    "for i in range(0,4):\n",
    "    for j in range(0,4):\n",
    "        par_3 +=  Gamma_a[i]*Gamma_a[j]*omega_ddd.coef[i,j,3] \n",
    "\n",
    "for i in range(0,4): #setting the connection 1-forms as the connection evaluated on the tetrad\n",
    "    for j in range(0,4):\n",
    "            nabla_sb.set_connection_form(i, j)[:] = (1/4)*(par_0[i,j]*de[0] + par_1[i,j]*de[1] + par_2[i,j]*de[2] + par_3[i,j]*de[3])\n"
   ]
  },
  {
   "cell_type": "markdown",
   "metadata": {},
   "source": [
    "Definition of a test section of the spinor bundle $\\psi = \\psi^{i}e_{[s]i}$ :"
   ]
  },
  {
   "cell_type": "code",
   "execution_count": 14,
   "metadata": {},
   "outputs": [
    {
     "data": {
      "text/html": [
       "<html><script type=\"math/tex; mode=display\">\\newcommand{\\Bold}[1]{\\mathbf{#1}}\\psi_{1}\\left(r, t, {\\theta}, {\\phi}\\right) e_{0} + \\psi_{2}\\left(r, t, {\\theta}, {\\phi}\\right) e_{1} + \\psi_{3}\\left(r, t, {\\theta}, {\\phi}\\right) e_{2} + \\psi_{3}\\left(r, t, {\\theta}, {\\phi}\\right) e_{3}</script></html>"
      ],
      "text/latex": [
       "$$\\newcommand{\\Bold}[1]{\\mathbf{#1}}\\psi_{1}\\left(r, t, {\\theta}, {\\phi}\\right) e_{0} + \\psi_{2}\\left(r, t, {\\theta}, {\\phi}\\right) e_{1} + \\psi_{3}\\left(r, t, {\\theta}, {\\phi}\\right) e_{2} + \\psi_{3}\\left(r, t, {\\theta}, {\\phi}\\right) e_{3}$$"
      ],
      "text/plain": [
       "psi1(r, t, th, ph) e_0 + psi2(r, t, th, ph) e_1 + psi3(r, t, th, ph) e_2 + psi3(r, t, th, ph) e_3"
      ]
     },
     "execution_count": 14,
     "metadata": {},
     "output_type": "execute_result"
    }
   ],
   "source": [
    "psi1 = function(\"psi0\", nargs = 4)\n",
    "psi2 = function(\"psi1\", nargs = 4)\n",
    "psi3 = function(\"psi2\", nargs = 4)\n",
    "psi4 = function(\"psi3\", nargs = 4)\n",
    "\n",
    "\n",
    "psi1_ = M.scalar_field({BL: psi1(r,t,th,ph)}, name = '\\\\psi^{(1)}')\n",
    "psi2_ = M.scalar_field({BL: psi2(r,t,th,ph)}, name = '\\\\psi^{(2)}')\n",
    "psi3_ = M.scalar_field({BL: psi3(r,t,th,ph)}, name = '\\\\psi^{(3)}')\n",
    "psi4_ = M.scalar_field({BL: psi4(r,t,th,ph)}, name = '\\\\psi^{(4)}')\n",
    "\n",
    "psi = sb.section({e_sb: [psi1_,psi2_,psi3_,psi4_]}, \"psi\")\n",
    "psi.display()"
   ]
  },
  {
   "cell_type": "markdown",
   "metadata": {},
   "source": [
    "Construction of the collection $\\{(D_{sb}(e_{(a)},\\psi))^{i} = e_{(a)}^{\\ \\ \\ \\ \\mu}\\psi^{i}_{\\ \\ \\ : \\mu} = e_{(a)}^{\\ \\ \\ \\ \\mu}\\psi^{i}_{\\ \\ ,\\mu} + \\Gamma^{i}_{ \\ \\ \\ \\ j}(e_{(a)})\\psi^{j}\\}_{(a)=0,1,2,3}$ as a tuple:"
   ]
  },
  {
   "cell_type": "code",
   "execution_count": 15,
   "metadata": {},
   "outputs": [],
   "source": [
    "e_nab_psi = (nabla_sb(e[0],psi),nabla_sb(e[1],psi),nabla_sb(e[2],psi),nabla_sb(e[3],psi))"
   ]
  },
  {
   "cell_type": "markdown",
   "metadata": {},
   "source": [
    "Calculation of $(\\gamma^{(a)})^{i}_{ \\ \\ j}(D_{sb}(e_{(a)},\\psi))^{j}$ (rhs of Dirac's equation on curved spacetime for a massless spinor field) :"
   ]
  },
  {
   "cell_type": "code",
   "execution_count": 16,
   "metadata": {},
   "outputs": [
    {
     "data": {
      "text/html": [
       "<html><script type=\"math/tex; mode=display\">\\newcommand{\\Bold}[1]{\\mathbf{#1}}\\begin{array}{lcl} X_{\\phantom{\\, 0}}^{\\,0} & = & \\frac{{\\left(i \\, a^{4} r - 2 i \\, a^{2} m r^{2} + i \\, a^{2} r^{3}\\right)} \\psi_{3}\\left(r, t, {\\theta}, {\\phi}\\right) \\sin\\left({\\theta}\\right)^{3} + {\\left(2 i \\, a r^{4} \\frac{\\partial\\,\\psi_{1}}{\\partial {\\phi}} + {\\left(2 i \\, a^{5} \\frac{\\partial\\,\\psi_{1}}{\\partial {\\phi}} + {\\left(-i \\, a^{4} m + i \\, a^{4} r\\right)} \\psi_{3}\\left(r, t, {\\theta}, {\\phi}\\right) + {\\left(2 i \\, a^{6} + 2 i \\, a^{4} r^{2}\\right)} \\frac{\\partial\\,\\psi_{1}}{\\partial t} + {\\left(2 i \\, a^{6} - 4 i \\, a^{4} m r + 2 i \\, a^{4} r^{2}\\right)} \\frac{\\partial\\,\\psi_{3}}{\\partial r}\\right)} \\cos\\left({\\theta}\\right)^{4} + {\\left(a^{5} - 2 \\, a^{3} m r + a^{3} r^{2}\\right)} \\cos\\left({\\theta}\\right)^{3} \\psi_{2}\\left(r, t, {\\theta}, {\\phi}\\right) + {\\left(4 i \\, a^{3} r^{2} \\frac{\\partial\\,\\psi_{1}}{\\partial {\\phi}} + {\\left(-2 i \\, a^{2} m r^{2} + 2 i \\, a^{2} r^{3}\\right)} \\psi_{3}\\left(r, t, {\\theta}, {\\phi}\\right) + {\\left(4 i \\, a^{4} r^{2} + 4 i \\, a^{2} r^{4}\\right)} \\frac{\\partial\\,\\psi_{1}}{\\partial t} + {\\left(4 i \\, a^{4} r^{2} - 8 i \\, a^{2} m r^{3} + 4 i \\, a^{2} r^{4}\\right)} \\frac{\\partial\\,\\psi_{3}}{\\partial r}\\right)} \\cos\\left({\\theta}\\right)^{2} + {\\left(a^{3} r^{2} - 2 \\, a m r^{3} + a r^{4}\\right)} \\cos\\left({\\theta}\\right) \\psi_{2}\\left(r, t, {\\theta}, {\\phi}\\right) + {\\left(-i \\, a^{4} r + 2 i \\, a^{2} m r^{2} - 2 i \\, a^{2} r^{3} + i \\, m r^{4}\\right)} \\psi_{3}\\left(r, t, {\\theta}, {\\phi}\\right) + {\\left(2 i \\, a^{2} r^{4} + 2 i \\, r^{6}\\right)} \\frac{\\partial\\,\\psi_{1}}{\\partial t} + {\\left(2 i \\, a^{2} r^{4} - 4 i \\, m r^{5} + 2 i \\, r^{6}\\right)} \\frac{\\partial\\,\\psi_{3}}{\\partial r}\\right)} \\sin\\left({\\theta}\\right) + {\\left(2 i \\, a^{4} \\cos\\left({\\theta}\\right)^{4} \\frac{\\partial\\,\\psi_{3}}{\\partial {\\phi}} + 4 i \\, a^{2} r^{2} \\cos\\left({\\theta}\\right)^{2} \\frac{\\partial\\,\\psi_{3}}{\\partial {\\phi}} + 2 i \\, r^{4} \\frac{\\partial\\,\\psi_{3}}{\\partial {\\phi}} + {\\left(a^{4} + 2 \\, a^{2} r^{2} + r^{4}\\right)} \\cos\\left({\\theta}\\right) \\psi_{3}\\left(r, t, {\\theta}, {\\phi}\\right) + {\\left(2 i \\, a^{5} \\cos\\left({\\theta}\\right)^{4} \\frac{\\partial\\,\\psi_{3}}{\\partial t} + 2 i \\, a r^{4} \\frac{\\partial\\,\\psi_{3}}{\\partial t} - i \\, a r^{3} \\psi_{2}\\left(r, t, {\\theta}, {\\phi}\\right) + {\\left(4 i \\, a^{3} r^{2} \\frac{\\partial\\,\\psi_{3}}{\\partial t} - i \\, a^{3} r \\psi_{2}\\left(r, t, {\\theta}, {\\phi}\\right)\\right)} \\cos\\left({\\theta}\\right)^{2} - {\\left(a^{4} + a^{2} r^{2}\\right)} \\cos\\left({\\theta}\\right) \\psi_{3}\\left(r, t, {\\theta}, {\\phi}\\right)\\right)} \\sin\\left({\\theta}\\right)^{2} + 2 \\, {\\left(a^{4} \\cos\\left({\\theta}\\right)^{4} \\frac{\\partial\\,\\psi_{3}}{\\partial {\\theta}} + 2 \\, a^{2} r^{2} \\cos\\left({\\theta}\\right)^{2} \\frac{\\partial\\,\\psi_{3}}{\\partial {\\theta}} + r^{4} \\frac{\\partial\\,\\psi_{3}}{\\partial {\\theta}}\\right)} \\sin\\left({\\theta}\\right)\\right)} \\sqrt{a^{2} - 2 \\, m r + r^{2}}}{2 \\, {\\left(a^{4} \\cos\\left({\\theta}\\right)^{4} + 2 \\, a^{2} r^{2} \\cos\\left({\\theta}\\right)^{2} + r^{4}\\right)} \\sqrt{a^{2} \\cos\\left({\\theta}\\right)^{2} + r^{2}} \\sqrt{a^{2} - 2 \\, m r + r^{2}} \\sin\\left({\\theta}\\right)} \\\\ X_{\\phantom{\\, 1}}^{\\,1} & = & -\\frac{{\\left(-i \\, a^{4} r + 2 i \\, a^{2} m r^{2} - i \\, a^{2} r^{3}\\right)} \\psi_{3}\\left(r, t, {\\theta}, {\\phi}\\right) \\sin\\left({\\theta}\\right)^{3} + {\\left(-2 i \\, a r^{4} \\frac{\\partial\\,\\psi_{2}}{\\partial {\\phi}} + {\\left(-2 i \\, a^{5} \\frac{\\partial\\,\\psi_{2}}{\\partial {\\phi}} + {\\left(i \\, a^{4} m - i \\, a^{4} r\\right)} \\psi_{3}\\left(r, t, {\\theta}, {\\phi}\\right) + {\\left(-2 i \\, a^{6} - 2 i \\, a^{4} r^{2}\\right)} \\frac{\\partial\\,\\psi_{2}}{\\partial t} + {\\left(-2 i \\, a^{6} + 4 i \\, a^{4} m r - 2 i \\, a^{4} r^{2}\\right)} \\frac{\\partial\\,\\psi_{3}}{\\partial r}\\right)} \\cos\\left({\\theta}\\right)^{4} - {\\left(a^{5} - 2 \\, a^{3} m r + a^{3} r^{2}\\right)} \\cos\\left({\\theta}\\right)^{3} \\psi_{1}\\left(r, t, {\\theta}, {\\phi}\\right) + {\\left(-4 i \\, a^{3} r^{2} \\frac{\\partial\\,\\psi_{2}}{\\partial {\\phi}} + {\\left(2 i \\, a^{2} m r^{2} - 2 i \\, a^{2} r^{3}\\right)} \\psi_{3}\\left(r, t, {\\theta}, {\\phi}\\right) + {\\left(-4 i \\, a^{4} r^{2} - 4 i \\, a^{2} r^{4}\\right)} \\frac{\\partial\\,\\psi_{2}}{\\partial t} + {\\left(-4 i \\, a^{4} r^{2} + 8 i \\, a^{2} m r^{3} - 4 i \\, a^{2} r^{4}\\right)} \\frac{\\partial\\,\\psi_{3}}{\\partial r}\\right)} \\cos\\left({\\theta}\\right)^{2} - {\\left(a^{3} r^{2} - 2 \\, a m r^{3} + a r^{4}\\right)} \\cos\\left({\\theta}\\right) \\psi_{1}\\left(r, t, {\\theta}, {\\phi}\\right) + {\\left(i \\, a^{4} r - 2 i \\, a^{2} m r^{2} + 2 i \\, a^{2} r^{3} - i \\, m r^{4}\\right)} \\psi_{3}\\left(r, t, {\\theta}, {\\phi}\\right) + {\\left(-2 i \\, a^{2} r^{4} - 2 i \\, r^{6}\\right)} \\frac{\\partial\\,\\psi_{2}}{\\partial t} + {\\left(-2 i \\, a^{2} r^{4} + 4 i \\, m r^{5} - 2 i \\, r^{6}\\right)} \\frac{\\partial\\,\\psi_{3}}{\\partial r}\\right)} \\sin\\left({\\theta}\\right) + {\\left(2 i \\, a^{4} \\cos\\left({\\theta}\\right)^{4} \\frac{\\partial\\,\\psi_{3}}{\\partial {\\phi}} + 4 i \\, a^{2} r^{2} \\cos\\left({\\theta}\\right)^{2} \\frac{\\partial\\,\\psi_{3}}{\\partial {\\phi}} + 2 i \\, r^{4} \\frac{\\partial\\,\\psi_{3}}{\\partial {\\phi}} + {\\left(a^{4} + 2 \\, a^{2} r^{2} + r^{4}\\right)} \\cos\\left({\\theta}\\right) \\psi_{3}\\left(r, t, {\\theta}, {\\phi}\\right) + {\\left(2 i \\, a^{5} \\cos\\left({\\theta}\\right)^{4} \\frac{\\partial\\,\\psi_{3}}{\\partial t} + 2 i \\, a r^{4} \\frac{\\partial\\,\\psi_{3}}{\\partial t} - i \\, a r^{3} \\psi_{1}\\left(r, t, {\\theta}, {\\phi}\\right) + {\\left(4 i \\, a^{3} r^{2} \\frac{\\partial\\,\\psi_{3}}{\\partial t} - i \\, a^{3} r \\psi_{1}\\left(r, t, {\\theta}, {\\phi}\\right)\\right)} \\cos\\left({\\theta}\\right)^{2} - {\\left(a^{4} + a^{2} r^{2}\\right)} \\cos\\left({\\theta}\\right) \\psi_{3}\\left(r, t, {\\theta}, {\\phi}\\right)\\right)} \\sin\\left({\\theta}\\right)^{2} + 2 \\, {\\left(a^{4} \\cos\\left({\\theta}\\right)^{4} \\frac{\\partial\\,\\psi_{3}}{\\partial {\\theta}} + 2 \\, a^{2} r^{2} \\cos\\left({\\theta}\\right)^{2} \\frac{\\partial\\,\\psi_{3}}{\\partial {\\theta}} + r^{4} \\frac{\\partial\\,\\psi_{3}}{\\partial {\\theta}}\\right)} \\sin\\left({\\theta}\\right)\\right)} \\sqrt{a^{2} - 2 \\, m r + r^{2}}}{2 \\, {\\left(a^{4} \\cos\\left({\\theta}\\right)^{4} + 2 \\, a^{2} r^{2} \\cos\\left({\\theta}\\right)^{2} + r^{4}\\right)} \\sqrt{a^{2} \\cos\\left({\\theta}\\right)^{2} + r^{2}} \\sqrt{a^{2} - 2 \\, m r + r^{2}} \\sin\\left({\\theta}\\right)} \\\\ X_{\\phantom{\\, 2}}^{\\,2} & = & -\\frac{{\\left(i \\, a^{4} r - 2 i \\, a^{2} m r^{2} + i \\, a^{2} r^{3}\\right)} \\psi_{2}\\left(r, t, {\\theta}, {\\phi}\\right) \\sin\\left({\\theta}\\right)^{3} + {\\left(2 i \\, a r^{4} \\frac{\\partial\\,\\psi_{3}}{\\partial {\\phi}} + {\\left(2 i \\, a^{5} \\frac{\\partial\\,\\psi_{3}}{\\partial {\\phi}} + {\\left(-i \\, a^{4} m + i \\, a^{4} r\\right)} \\psi_{2}\\left(r, t, {\\theta}, {\\phi}\\right) + {\\left(2 i \\, a^{6} - 4 i \\, a^{4} m r + 2 i \\, a^{4} r^{2}\\right)} \\frac{\\partial\\,\\psi_{2}}{\\partial r} + {\\left(2 i \\, a^{6} + 2 i \\, a^{4} r^{2}\\right)} \\frac{\\partial\\,\\psi_{3}}{\\partial t}\\right)} \\cos\\left({\\theta}\\right)^{4} + {\\left(a^{5} - 2 \\, a^{3} m r + a^{3} r^{2}\\right)} \\cos\\left({\\theta}\\right)^{3} \\psi_{3}\\left(r, t, {\\theta}, {\\phi}\\right) + {\\left(4 i \\, a^{3} r^{2} \\frac{\\partial\\,\\psi_{3}}{\\partial {\\phi}} + {\\left(-2 i \\, a^{2} m r^{2} + 2 i \\, a^{2} r^{3}\\right)} \\psi_{2}\\left(r, t, {\\theta}, {\\phi}\\right) + {\\left(4 i \\, a^{4} r^{2} - 8 i \\, a^{2} m r^{3} + 4 i \\, a^{2} r^{4}\\right)} \\frac{\\partial\\,\\psi_{2}}{\\partial r} + {\\left(4 i \\, a^{4} r^{2} + 4 i \\, a^{2} r^{4}\\right)} \\frac{\\partial\\,\\psi_{3}}{\\partial t}\\right)} \\cos\\left({\\theta}\\right)^{2} + {\\left(a^{3} r^{2} - 2 \\, a m r^{3} + a r^{4}\\right)} \\cos\\left({\\theta}\\right) \\psi_{3}\\left(r, t, {\\theta}, {\\phi}\\right) + {\\left(-i \\, a^{4} r + 2 i \\, a^{2} m r^{2} - 2 i \\, a^{2} r^{3} + i \\, m r^{4}\\right)} \\psi_{2}\\left(r, t, {\\theta}, {\\phi}\\right) + {\\left(2 i \\, a^{2} r^{4} - 4 i \\, m r^{5} + 2 i \\, r^{6}\\right)} \\frac{\\partial\\,\\psi_{2}}{\\partial r} + {\\left(2 i \\, a^{2} r^{4} + 2 i \\, r^{6}\\right)} \\frac{\\partial\\,\\psi_{3}}{\\partial t}\\right)} \\sin\\left({\\theta}\\right) + {\\left(2 i \\, a^{4} \\cos\\left({\\theta}\\right)^{4} \\frac{\\partial\\,\\psi_{1}}{\\partial {\\phi}} + 4 i \\, a^{2} r^{2} \\cos\\left({\\theta}\\right)^{2} \\frac{\\partial\\,\\psi_{1}}{\\partial {\\phi}} + 2 i \\, r^{4} \\frac{\\partial\\,\\psi_{1}}{\\partial {\\phi}} + {\\left(a^{4} + 2 \\, a^{2} r^{2} + r^{4}\\right)} \\cos\\left({\\theta}\\right) \\psi_{2}\\left(r, t, {\\theta}, {\\phi}\\right) + {\\left(2 i \\, a^{5} \\cos\\left({\\theta}\\right)^{4} \\frac{\\partial\\,\\psi_{1}}{\\partial t} + 2 i \\, a r^{4} \\frac{\\partial\\,\\psi_{1}}{\\partial t} - i \\, a r^{3} \\psi_{3}\\left(r, t, {\\theta}, {\\phi}\\right) + {\\left(4 i \\, a^{3} r^{2} \\frac{\\partial\\,\\psi_{1}}{\\partial t} - i \\, a^{3} r \\psi_{3}\\left(r, t, {\\theta}, {\\phi}\\right)\\right)} \\cos\\left({\\theta}\\right)^{2} - {\\left(a^{4} + a^{2} r^{2}\\right)} \\cos\\left({\\theta}\\right) \\psi_{2}\\left(r, t, {\\theta}, {\\phi}\\right)\\right)} \\sin\\left({\\theta}\\right)^{2} + 2 \\, {\\left(a^{4} \\cos\\left({\\theta}\\right)^{4} \\frac{\\partial\\,\\psi_{2}}{\\partial {\\theta}} + 2 \\, a^{2} r^{2} \\cos\\left({\\theta}\\right)^{2} \\frac{\\partial\\,\\psi_{2}}{\\partial {\\theta}} + r^{4} \\frac{\\partial\\,\\psi_{2}}{\\partial {\\theta}}\\right)} \\sin\\left({\\theta}\\right)\\right)} \\sqrt{a^{2} - 2 \\, m r + r^{2}}}{2 \\, {\\left(a^{4} \\cos\\left({\\theta}\\right)^{4} + 2 \\, a^{2} r^{2} \\cos\\left({\\theta}\\right)^{2} + r^{4}\\right)} \\sqrt{a^{2} \\cos\\left({\\theta}\\right)^{2} + r^{2}} \\sqrt{a^{2} - 2 \\, m r + r^{2}} \\sin\\left({\\theta}\\right)} \\\\ X_{\\phantom{\\, 3}}^{\\,3} & = & \\frac{{\\left(-i \\, a^{4} r + 2 i \\, a^{2} m r^{2} - i \\, a^{2} r^{3}\\right)} \\psi_{1}\\left(r, t, {\\theta}, {\\phi}\\right) \\sin\\left({\\theta}\\right)^{3} + {\\left(-2 i \\, a r^{4} \\frac{\\partial\\,\\psi_{3}}{\\partial {\\phi}} + {\\left(-2 i \\, a^{5} \\frac{\\partial\\,\\psi_{3}}{\\partial {\\phi}} + {\\left(i \\, a^{4} m - i \\, a^{4} r\\right)} \\psi_{1}\\left(r, t, {\\theta}, {\\phi}\\right) + {\\left(-2 i \\, a^{6} + 4 i \\, a^{4} m r - 2 i \\, a^{4} r^{2}\\right)} \\frac{\\partial\\,\\psi_{1}}{\\partial r} + {\\left(-2 i \\, a^{6} - 2 i \\, a^{4} r^{2}\\right)} \\frac{\\partial\\,\\psi_{3}}{\\partial t}\\right)} \\cos\\left({\\theta}\\right)^{4} - {\\left(a^{5} - 2 \\, a^{3} m r + a^{3} r^{2}\\right)} \\cos\\left({\\theta}\\right)^{3} \\psi_{3}\\left(r, t, {\\theta}, {\\phi}\\right) + {\\left(-4 i \\, a^{3} r^{2} \\frac{\\partial\\,\\psi_{3}}{\\partial {\\phi}} + {\\left(2 i \\, a^{2} m r^{2} - 2 i \\, a^{2} r^{3}\\right)} \\psi_{1}\\left(r, t, {\\theta}, {\\phi}\\right) + {\\left(-4 i \\, a^{4} r^{2} + 8 i \\, a^{2} m r^{3} - 4 i \\, a^{2} r^{4}\\right)} \\frac{\\partial\\,\\psi_{1}}{\\partial r} + {\\left(-4 i \\, a^{4} r^{2} - 4 i \\, a^{2} r^{4}\\right)} \\frac{\\partial\\,\\psi_{3}}{\\partial t}\\right)} \\cos\\left({\\theta}\\right)^{2} - {\\left(a^{3} r^{2} - 2 \\, a m r^{3} + a r^{4}\\right)} \\cos\\left({\\theta}\\right) \\psi_{3}\\left(r, t, {\\theta}, {\\phi}\\right) + {\\left(i \\, a^{4} r - 2 i \\, a^{2} m r^{2} + 2 i \\, a^{2} r^{3} - i \\, m r^{4}\\right)} \\psi_{1}\\left(r, t, {\\theta}, {\\phi}\\right) + {\\left(-2 i \\, a^{2} r^{4} + 4 i \\, m r^{5} - 2 i \\, r^{6}\\right)} \\frac{\\partial\\,\\psi_{1}}{\\partial r} + {\\left(-2 i \\, a^{2} r^{4} - 2 i \\, r^{6}\\right)} \\frac{\\partial\\,\\psi_{3}}{\\partial t}\\right)} \\sin\\left({\\theta}\\right) + {\\left(2 i \\, a^{4} \\cos\\left({\\theta}\\right)^{4} \\frac{\\partial\\,\\psi_{2}}{\\partial {\\phi}} + 4 i \\, a^{2} r^{2} \\cos\\left({\\theta}\\right)^{2} \\frac{\\partial\\,\\psi_{2}}{\\partial {\\phi}} + 2 i \\, r^{4} \\frac{\\partial\\,\\psi_{2}}{\\partial {\\phi}} + {\\left(a^{4} + 2 \\, a^{2} r^{2} + r^{4}\\right)} \\cos\\left({\\theta}\\right) \\psi_{1}\\left(r, t, {\\theta}, {\\phi}\\right) + {\\left(2 i \\, a^{5} \\cos\\left({\\theta}\\right)^{4} \\frac{\\partial\\,\\psi_{2}}{\\partial t} + 2 i \\, a r^{4} \\frac{\\partial\\,\\psi_{2}}{\\partial t} - i \\, a r^{3} \\psi_{3}\\left(r, t, {\\theta}, {\\phi}\\right) + {\\left(4 i \\, a^{3} r^{2} \\frac{\\partial\\,\\psi_{2}}{\\partial t} - i \\, a^{3} r \\psi_{3}\\left(r, t, {\\theta}, {\\phi}\\right)\\right)} \\cos\\left({\\theta}\\right)^{2} - {\\left(a^{4} + a^{2} r^{2}\\right)} \\cos\\left({\\theta}\\right) \\psi_{1}\\left(r, t, {\\theta}, {\\phi}\\right)\\right)} \\sin\\left({\\theta}\\right)^{2} + 2 \\, {\\left(a^{4} \\cos\\left({\\theta}\\right)^{4} \\frac{\\partial\\,\\psi_{1}}{\\partial {\\theta}} + 2 \\, a^{2} r^{2} \\cos\\left({\\theta}\\right)^{2} \\frac{\\partial\\,\\psi_{1}}{\\partial {\\theta}} + r^{4} \\frac{\\partial\\,\\psi_{1}}{\\partial {\\theta}}\\right)} \\sin\\left({\\theta}\\right)\\right)} \\sqrt{a^{2} - 2 \\, m r + r^{2}}}{2 \\, {\\left(a^{4} \\cos\\left({\\theta}\\right)^{4} + 2 \\, a^{2} r^{2} \\cos\\left({\\theta}\\right)^{2} + r^{4}\\right)} \\sqrt{a^{2} \\cos\\left({\\theta}\\right)^{2} + r^{2}} \\sqrt{a^{2} - 2 \\, m r + r^{2}} \\sin\\left({\\theta}\\right)} \\end{array}</script></html>"
      ],
      "text/latex": [
       "$$\\newcommand{\\Bold}[1]{\\mathbf{#1}}\\begin{array}{lcl} X_{\\phantom{\\, 0}}^{\\,0} & = & \\frac{{\\left(i \\, a^{4} r - 2 i \\, a^{2} m r^{2} + i \\, a^{2} r^{3}\\right)} \\psi_{3}\\left(r, t, {\\theta}, {\\phi}\\right) \\sin\\left({\\theta}\\right)^{3} + {\\left(2 i \\, a r^{4} \\frac{\\partial\\,\\psi_{1}}{\\partial {\\phi}} + {\\left(2 i \\, a^{5} \\frac{\\partial\\,\\psi_{1}}{\\partial {\\phi}} + {\\left(-i \\, a^{4} m + i \\, a^{4} r\\right)} \\psi_{3}\\left(r, t, {\\theta}, {\\phi}\\right) + {\\left(2 i \\, a^{6} + 2 i \\, a^{4} r^{2}\\right)} \\frac{\\partial\\,\\psi_{1}}{\\partial t} + {\\left(2 i \\, a^{6} - 4 i \\, a^{4} m r + 2 i \\, a^{4} r^{2}\\right)} \\frac{\\partial\\,\\psi_{3}}{\\partial r}\\right)} \\cos\\left({\\theta}\\right)^{4} + {\\left(a^{5} - 2 \\, a^{3} m r + a^{3} r^{2}\\right)} \\cos\\left({\\theta}\\right)^{3} \\psi_{2}\\left(r, t, {\\theta}, {\\phi}\\right) + {\\left(4 i \\, a^{3} r^{2} \\frac{\\partial\\,\\psi_{1}}{\\partial {\\phi}} + {\\left(-2 i \\, a^{2} m r^{2} + 2 i \\, a^{2} r^{3}\\right)} \\psi_{3}\\left(r, t, {\\theta}, {\\phi}\\right) + {\\left(4 i \\, a^{4} r^{2} + 4 i \\, a^{2} r^{4}\\right)} \\frac{\\partial\\,\\psi_{1}}{\\partial t} + {\\left(4 i \\, a^{4} r^{2} - 8 i \\, a^{2} m r^{3} + 4 i \\, a^{2} r^{4}\\right)} \\frac{\\partial\\,\\psi_{3}}{\\partial r}\\right)} \\cos\\left({\\theta}\\right)^{2} + {\\left(a^{3} r^{2} - 2 \\, a m r^{3} + a r^{4}\\right)} \\cos\\left({\\theta}\\right) \\psi_{2}\\left(r, t, {\\theta}, {\\phi}\\right) + {\\left(-i \\, a^{4} r + 2 i \\, a^{2} m r^{2} - 2 i \\, a^{2} r^{3} + i \\, m r^{4}\\right)} \\psi_{3}\\left(r, t, {\\theta}, {\\phi}\\right) + {\\left(2 i \\, a^{2} r^{4} + 2 i \\, r^{6}\\right)} \\frac{\\partial\\,\\psi_{1}}{\\partial t} + {\\left(2 i \\, a^{2} r^{4} - 4 i \\, m r^{5} + 2 i \\, r^{6}\\right)} \\frac{\\partial\\,\\psi_{3}}{\\partial r}\\right)} \\sin\\left({\\theta}\\right) + {\\left(2 i \\, a^{4} \\cos\\left({\\theta}\\right)^{4} \\frac{\\partial\\,\\psi_{3}}{\\partial {\\phi}} + 4 i \\, a^{2} r^{2} \\cos\\left({\\theta}\\right)^{2} \\frac{\\partial\\,\\psi_{3}}{\\partial {\\phi}} + 2 i \\, r^{4} \\frac{\\partial\\,\\psi_{3}}{\\partial {\\phi}} + {\\left(a^{4} + 2 \\, a^{2} r^{2} + r^{4}\\right)} \\cos\\left({\\theta}\\right) \\psi_{3}\\left(r, t, {\\theta}, {\\phi}\\right) + {\\left(2 i \\, a^{5} \\cos\\left({\\theta}\\right)^{4} \\frac{\\partial\\,\\psi_{3}}{\\partial t} + 2 i \\, a r^{4} \\frac{\\partial\\,\\psi_{3}}{\\partial t} - i \\, a r^{3} \\psi_{2}\\left(r, t, {\\theta}, {\\phi}\\right) + {\\left(4 i \\, a^{3} r^{2} \\frac{\\partial\\,\\psi_{3}}{\\partial t} - i \\, a^{3} r \\psi_{2}\\left(r, t, {\\theta}, {\\phi}\\right)\\right)} \\cos\\left({\\theta}\\right)^{2} - {\\left(a^{4} + a^{2} r^{2}\\right)} \\cos\\left({\\theta}\\right) \\psi_{3}\\left(r, t, {\\theta}, {\\phi}\\right)\\right)} \\sin\\left({\\theta}\\right)^{2} + 2 \\, {\\left(a^{4} \\cos\\left({\\theta}\\right)^{4} \\frac{\\partial\\,\\psi_{3}}{\\partial {\\theta}} + 2 \\, a^{2} r^{2} \\cos\\left({\\theta}\\right)^{2} \\frac{\\partial\\,\\psi_{3}}{\\partial {\\theta}} + r^{4} \\frac{\\partial\\,\\psi_{3}}{\\partial {\\theta}}\\right)} \\sin\\left({\\theta}\\right)\\right)} \\sqrt{a^{2} - 2 \\, m r + r^{2}}}{2 \\, {\\left(a^{4} \\cos\\left({\\theta}\\right)^{4} + 2 \\, a^{2} r^{2} \\cos\\left({\\theta}\\right)^{2} + r^{4}\\right)} \\sqrt{a^{2} \\cos\\left({\\theta}\\right)^{2} + r^{2}} \\sqrt{a^{2} - 2 \\, m r + r^{2}} \\sin\\left({\\theta}\\right)} \\\\ X_{\\phantom{\\, 1}}^{\\,1} & = & -\\frac{{\\left(-i \\, a^{4} r + 2 i \\, a^{2} m r^{2} - i \\, a^{2} r^{3}\\right)} \\psi_{3}\\left(r, t, {\\theta}, {\\phi}\\right) \\sin\\left({\\theta}\\right)^{3} + {\\left(-2 i \\, a r^{4} \\frac{\\partial\\,\\psi_{2}}{\\partial {\\phi}} + {\\left(-2 i \\, a^{5} \\frac{\\partial\\,\\psi_{2}}{\\partial {\\phi}} + {\\left(i \\, a^{4} m - i \\, a^{4} r\\right)} \\psi_{3}\\left(r, t, {\\theta}, {\\phi}\\right) + {\\left(-2 i \\, a^{6} - 2 i \\, a^{4} r^{2}\\right)} \\frac{\\partial\\,\\psi_{2}}{\\partial t} + {\\left(-2 i \\, a^{6} + 4 i \\, a^{4} m r - 2 i \\, a^{4} r^{2}\\right)} \\frac{\\partial\\,\\psi_{3}}{\\partial r}\\right)} \\cos\\left({\\theta}\\right)^{4} - {\\left(a^{5} - 2 \\, a^{3} m r + a^{3} r^{2}\\right)} \\cos\\left({\\theta}\\right)^{3} \\psi_{1}\\left(r, t, {\\theta}, {\\phi}\\right) + {\\left(-4 i \\, a^{3} r^{2} \\frac{\\partial\\,\\psi_{2}}{\\partial {\\phi}} + {\\left(2 i \\, a^{2} m r^{2} - 2 i \\, a^{2} r^{3}\\right)} \\psi_{3}\\left(r, t, {\\theta}, {\\phi}\\right) + {\\left(-4 i \\, a^{4} r^{2} - 4 i \\, a^{2} r^{4}\\right)} \\frac{\\partial\\,\\psi_{2}}{\\partial t} + {\\left(-4 i \\, a^{4} r^{2} + 8 i \\, a^{2} m r^{3} - 4 i \\, a^{2} r^{4}\\right)} \\frac{\\partial\\,\\psi_{3}}{\\partial r}\\right)} \\cos\\left({\\theta}\\right)^{2} - {\\left(a^{3} r^{2} - 2 \\, a m r^{3} + a r^{4}\\right)} \\cos\\left({\\theta}\\right) \\psi_{1}\\left(r, t, {\\theta}, {\\phi}\\right) + {\\left(i \\, a^{4} r - 2 i \\, a^{2} m r^{2} + 2 i \\, a^{2} r^{3} - i \\, m r^{4}\\right)} \\psi_{3}\\left(r, t, {\\theta}, {\\phi}\\right) + {\\left(-2 i \\, a^{2} r^{4} - 2 i \\, r^{6}\\right)} \\frac{\\partial\\,\\psi_{2}}{\\partial t} + {\\left(-2 i \\, a^{2} r^{4} + 4 i \\, m r^{5} - 2 i \\, r^{6}\\right)} \\frac{\\partial\\,\\psi_{3}}{\\partial r}\\right)} \\sin\\left({\\theta}\\right) + {\\left(2 i \\, a^{4} \\cos\\left({\\theta}\\right)^{4} \\frac{\\partial\\,\\psi_{3}}{\\partial {\\phi}} + 4 i \\, a^{2} r^{2} \\cos\\left({\\theta}\\right)^{2} \\frac{\\partial\\,\\psi_{3}}{\\partial {\\phi}} + 2 i \\, r^{4} \\frac{\\partial\\,\\psi_{3}}{\\partial {\\phi}} + {\\left(a^{4} + 2 \\, a^{2} r^{2} + r^{4}\\right)} \\cos\\left({\\theta}\\right) \\psi_{3}\\left(r, t, {\\theta}, {\\phi}\\right) + {\\left(2 i \\, a^{5} \\cos\\left({\\theta}\\right)^{4} \\frac{\\partial\\,\\psi_{3}}{\\partial t} + 2 i \\, a r^{4} \\frac{\\partial\\,\\psi_{3}}{\\partial t} - i \\, a r^{3} \\psi_{1}\\left(r, t, {\\theta}, {\\phi}\\right) + {\\left(4 i \\, a^{3} r^{2} \\frac{\\partial\\,\\psi_{3}}{\\partial t} - i \\, a^{3} r \\psi_{1}\\left(r, t, {\\theta}, {\\phi}\\right)\\right)} \\cos\\left({\\theta}\\right)^{2} - {\\left(a^{4} + a^{2} r^{2}\\right)} \\cos\\left({\\theta}\\right) \\psi_{3}\\left(r, t, {\\theta}, {\\phi}\\right)\\right)} \\sin\\left({\\theta}\\right)^{2} + 2 \\, {\\left(a^{4} \\cos\\left({\\theta}\\right)^{4} \\frac{\\partial\\,\\psi_{3}}{\\partial {\\theta}} + 2 \\, a^{2} r^{2} \\cos\\left({\\theta}\\right)^{2} \\frac{\\partial\\,\\psi_{3}}{\\partial {\\theta}} + r^{4} \\frac{\\partial\\,\\psi_{3}}{\\partial {\\theta}}\\right)} \\sin\\left({\\theta}\\right)\\right)} \\sqrt{a^{2} - 2 \\, m r + r^{2}}}{2 \\, {\\left(a^{4} \\cos\\left({\\theta}\\right)^{4} + 2 \\, a^{2} r^{2} \\cos\\left({\\theta}\\right)^{2} + r^{4}\\right)} \\sqrt{a^{2} \\cos\\left({\\theta}\\right)^{2} + r^{2}} \\sqrt{a^{2} - 2 \\, m r + r^{2}} \\sin\\left({\\theta}\\right)} \\\\ X_{\\phantom{\\, 2}}^{\\,2} & = & -\\frac{{\\left(i \\, a^{4} r - 2 i \\, a^{2} m r^{2} + i \\, a^{2} r^{3}\\right)} \\psi_{2}\\left(r, t, {\\theta}, {\\phi}\\right) \\sin\\left({\\theta}\\right)^{3} + {\\left(2 i \\, a r^{4} \\frac{\\partial\\,\\psi_{3}}{\\partial {\\phi}} + {\\left(2 i \\, a^{5} \\frac{\\partial\\,\\psi_{3}}{\\partial {\\phi}} + {\\left(-i \\, a^{4} m + i \\, a^{4} r\\right)} \\psi_{2}\\left(r, t, {\\theta}, {\\phi}\\right) + {\\left(2 i \\, a^{6} - 4 i \\, a^{4} m r + 2 i \\, a^{4} r^{2}\\right)} \\frac{\\partial\\,\\psi_{2}}{\\partial r} + {\\left(2 i \\, a^{6} + 2 i \\, a^{4} r^{2}\\right)} \\frac{\\partial\\,\\psi_{3}}{\\partial t}\\right)} \\cos\\left({\\theta}\\right)^{4} + {\\left(a^{5} - 2 \\, a^{3} m r + a^{3} r^{2}\\right)} \\cos\\left({\\theta}\\right)^{3} \\psi_{3}\\left(r, t, {\\theta}, {\\phi}\\right) + {\\left(4 i \\, a^{3} r^{2} \\frac{\\partial\\,\\psi_{3}}{\\partial {\\phi}} + {\\left(-2 i \\, a^{2} m r^{2} + 2 i \\, a^{2} r^{3}\\right)} \\psi_{2}\\left(r, t, {\\theta}, {\\phi}\\right) + {\\left(4 i \\, a^{4} r^{2} - 8 i \\, a^{2} m r^{3} + 4 i \\, a^{2} r^{4}\\right)} \\frac{\\partial\\,\\psi_{2}}{\\partial r} + {\\left(4 i \\, a^{4} r^{2} + 4 i \\, a^{2} r^{4}\\right)} \\frac{\\partial\\,\\psi_{3}}{\\partial t}\\right)} \\cos\\left({\\theta}\\right)^{2} + {\\left(a^{3} r^{2} - 2 \\, a m r^{3} + a r^{4}\\right)} \\cos\\left({\\theta}\\right) \\psi_{3}\\left(r, t, {\\theta}, {\\phi}\\right) + {\\left(-i \\, a^{4} r + 2 i \\, a^{2} m r^{2} - 2 i \\, a^{2} r^{3} + i \\, m r^{4}\\right)} \\psi_{2}\\left(r, t, {\\theta}, {\\phi}\\right) + {\\left(2 i \\, a^{2} r^{4} - 4 i \\, m r^{5} + 2 i \\, r^{6}\\right)} \\frac{\\partial\\,\\psi_{2}}{\\partial r} + {\\left(2 i \\, a^{2} r^{4} + 2 i \\, r^{6}\\right)} \\frac{\\partial\\,\\psi_{3}}{\\partial t}\\right)} \\sin\\left({\\theta}\\right) + {\\left(2 i \\, a^{4} \\cos\\left({\\theta}\\right)^{4} \\frac{\\partial\\,\\psi_{1}}{\\partial {\\phi}} + 4 i \\, a^{2} r^{2} \\cos\\left({\\theta}\\right)^{2} \\frac{\\partial\\,\\psi_{1}}{\\partial {\\phi}} + 2 i \\, r^{4} \\frac{\\partial\\,\\psi_{1}}{\\partial {\\phi}} + {\\left(a^{4} + 2 \\, a^{2} r^{2} + r^{4}\\right)} \\cos\\left({\\theta}\\right) \\psi_{2}\\left(r, t, {\\theta}, {\\phi}\\right) + {\\left(2 i \\, a^{5} \\cos\\left({\\theta}\\right)^{4} \\frac{\\partial\\,\\psi_{1}}{\\partial t} + 2 i \\, a r^{4} \\frac{\\partial\\,\\psi_{1}}{\\partial t} - i \\, a r^{3} \\psi_{3}\\left(r, t, {\\theta}, {\\phi}\\right) + {\\left(4 i \\, a^{3} r^{2} \\frac{\\partial\\,\\psi_{1}}{\\partial t} - i \\, a^{3} r \\psi_{3}\\left(r, t, {\\theta}, {\\phi}\\right)\\right)} \\cos\\left({\\theta}\\right)^{2} - {\\left(a^{4} + a^{2} r^{2}\\right)} \\cos\\left({\\theta}\\right) \\psi_{2}\\left(r, t, {\\theta}, {\\phi}\\right)\\right)} \\sin\\left({\\theta}\\right)^{2} + 2 \\, {\\left(a^{4} \\cos\\left({\\theta}\\right)^{4} \\frac{\\partial\\,\\psi_{2}}{\\partial {\\theta}} + 2 \\, a^{2} r^{2} \\cos\\left({\\theta}\\right)^{2} \\frac{\\partial\\,\\psi_{2}}{\\partial {\\theta}} + r^{4} \\frac{\\partial\\,\\psi_{2}}{\\partial {\\theta}}\\right)} \\sin\\left({\\theta}\\right)\\right)} \\sqrt{a^{2} - 2 \\, m r + r^{2}}}{2 \\, {\\left(a^{4} \\cos\\left({\\theta}\\right)^{4} + 2 \\, a^{2} r^{2} \\cos\\left({\\theta}\\right)^{2} + r^{4}\\right)} \\sqrt{a^{2} \\cos\\left({\\theta}\\right)^{2} + r^{2}} \\sqrt{a^{2} - 2 \\, m r + r^{2}} \\sin\\left({\\theta}\\right)} \\\\ X_{\\phantom{\\, 3}}^{\\,3} & = & \\frac{{\\left(-i \\, a^{4} r + 2 i \\, a^{2} m r^{2} - i \\, a^{2} r^{3}\\right)} \\psi_{1}\\left(r, t, {\\theta}, {\\phi}\\right) \\sin\\left({\\theta}\\right)^{3} + {\\left(-2 i \\, a r^{4} \\frac{\\partial\\,\\psi_{3}}{\\partial {\\phi}} + {\\left(-2 i \\, a^{5} \\frac{\\partial\\,\\psi_{3}}{\\partial {\\phi}} + {\\left(i \\, a^{4} m - i \\, a^{4} r\\right)} \\psi_{1}\\left(r, t, {\\theta}, {\\phi}\\right) + {\\left(-2 i \\, a^{6} + 4 i \\, a^{4} m r - 2 i \\, a^{4} r^{2}\\right)} \\frac{\\partial\\,\\psi_{1}}{\\partial r} + {\\left(-2 i \\, a^{6} - 2 i \\, a^{4} r^{2}\\right)} \\frac{\\partial\\,\\psi_{3}}{\\partial t}\\right)} \\cos\\left({\\theta}\\right)^{4} - {\\left(a^{5} - 2 \\, a^{3} m r + a^{3} r^{2}\\right)} \\cos\\left({\\theta}\\right)^{3} \\psi_{3}\\left(r, t, {\\theta}, {\\phi}\\right) + {\\left(-4 i \\, a^{3} r^{2} \\frac{\\partial\\,\\psi_{3}}{\\partial {\\phi}} + {\\left(2 i \\, a^{2} m r^{2} - 2 i \\, a^{2} r^{3}\\right)} \\psi_{1}\\left(r, t, {\\theta}, {\\phi}\\right) + {\\left(-4 i \\, a^{4} r^{2} + 8 i \\, a^{2} m r^{3} - 4 i \\, a^{2} r^{4}\\right)} \\frac{\\partial\\,\\psi_{1}}{\\partial r} + {\\left(-4 i \\, a^{4} r^{2} - 4 i \\, a^{2} r^{4}\\right)} \\frac{\\partial\\,\\psi_{3}}{\\partial t}\\right)} \\cos\\left({\\theta}\\right)^{2} - {\\left(a^{3} r^{2} - 2 \\, a m r^{3} + a r^{4}\\right)} \\cos\\left({\\theta}\\right) \\psi_{3}\\left(r, t, {\\theta}, {\\phi}\\right) + {\\left(i \\, a^{4} r - 2 i \\, a^{2} m r^{2} + 2 i \\, a^{2} r^{3} - i \\, m r^{4}\\right)} \\psi_{1}\\left(r, t, {\\theta}, {\\phi}\\right) + {\\left(-2 i \\, a^{2} r^{4} + 4 i \\, m r^{5} - 2 i \\, r^{6}\\right)} \\frac{\\partial\\,\\psi_{1}}{\\partial r} + {\\left(-2 i \\, a^{2} r^{4} - 2 i \\, r^{6}\\right)} \\frac{\\partial\\,\\psi_{3}}{\\partial t}\\right)} \\sin\\left({\\theta}\\right) + {\\left(2 i \\, a^{4} \\cos\\left({\\theta}\\right)^{4} \\frac{\\partial\\,\\psi_{2}}{\\partial {\\phi}} + 4 i \\, a^{2} r^{2} \\cos\\left({\\theta}\\right)^{2} \\frac{\\partial\\,\\psi_{2}}{\\partial {\\phi}} + 2 i \\, r^{4} \\frac{\\partial\\,\\psi_{2}}{\\partial {\\phi}} + {\\left(a^{4} + 2 \\, a^{2} r^{2} + r^{4}\\right)} \\cos\\left({\\theta}\\right) \\psi_{1}\\left(r, t, {\\theta}, {\\phi}\\right) + {\\left(2 i \\, a^{5} \\cos\\left({\\theta}\\right)^{4} \\frac{\\partial\\,\\psi_{2}}{\\partial t} + 2 i \\, a r^{4} \\frac{\\partial\\,\\psi_{2}}{\\partial t} - i \\, a r^{3} \\psi_{3}\\left(r, t, {\\theta}, {\\phi}\\right) + {\\left(4 i \\, a^{3} r^{2} \\frac{\\partial\\,\\psi_{2}}{\\partial t} - i \\, a^{3} r \\psi_{3}\\left(r, t, {\\theta}, {\\phi}\\right)\\right)} \\cos\\left({\\theta}\\right)^{2} - {\\left(a^{4} + a^{2} r^{2}\\right)} \\cos\\left({\\theta}\\right) \\psi_{1}\\left(r, t, {\\theta}, {\\phi}\\right)\\right)} \\sin\\left({\\theta}\\right)^{2} + 2 \\, {\\left(a^{4} \\cos\\left({\\theta}\\right)^{4} \\frac{\\partial\\,\\psi_{1}}{\\partial {\\theta}} + 2 \\, a^{2} r^{2} \\cos\\left({\\theta}\\right)^{2} \\frac{\\partial\\,\\psi_{1}}{\\partial {\\theta}} + r^{4} \\frac{\\partial\\,\\psi_{1}}{\\partial {\\theta}}\\right)} \\sin\\left({\\theta}\\right)\\right)} \\sqrt{a^{2} - 2 \\, m r + r^{2}}}{2 \\, {\\left(a^{4} \\cos\\left({\\theta}\\right)^{4} + 2 \\, a^{2} r^{2} \\cos\\left({\\theta}\\right)^{2} + r^{4}\\right)} \\sqrt{a^{2} \\cos\\left({\\theta}\\right)^{2} + r^{2}} \\sqrt{a^{2} - 2 \\, m r + r^{2}} \\sin\\left({\\theta}\\right)} \\end{array}$$"
      ],
      "text/plain": [
       "X^0 = 1/2*((I*a^4*r - 2*I*a^2*m*r^2 + I*a^2*r^3)*psi3(r, t, th, ph)*sin(th)^3 + (2*I*a*r^4*d(psi1)/dph + (2*I*a^5*d(psi1)/dph + (-I*a^4*m + I*a^4*r)*psi3(r, t, th, ph) + (2*I*a^6 + 2*I*a^4*r^2)*d(psi1)/dt + (2*I*a^6 - 4*I*a^4*m*r + 2*I*a^4*r^2)*d(psi3)/dr)*cos(th)^4 + (a^5 - 2*a^3*m*r + a^3*r^2)*cos(th)^3*psi2(r, t, th, ph) + (4*I*a^3*r^2*d(psi1)/dph + (-2*I*a^2*m*r^2 + 2*I*a^2*r^3)*psi3(r, t, th, ph) + (4*I*a^4*r^2 + 4*I*a^2*r^4)*d(psi1)/dt + (4*I*a^4*r^2 - 8*I*a^2*m*r^3 + 4*I*a^2*r^4)*d(psi3)/dr)*cos(th)^2 + (a^3*r^2 - 2*a*m*r^3 + a*r^4)*cos(th)*psi2(r, t, th, ph) + (-I*a^4*r + 2*I*a^2*m*r^2 - 2*I*a^2*r^3 + I*m*r^4)*psi3(r, t, th, ph) + (2*I*a^2*r^4 + 2*I*r^6)*d(psi1)/dt + (2*I*a^2*r^4 - 4*I*m*r^5 + 2*I*r^6)*d(psi3)/dr)*sin(th) + (2*I*a^4*cos(th)^4*d(psi3)/dph + 4*I*a^2*r^2*cos(th)^2*d(psi3)/dph + 2*I*r^4*d(psi3)/dph + (a^4 + 2*a^2*r^2 + r^4)*cos(th)*psi3(r, t, th, ph) + (2*I*a^5*cos(th)^4*d(psi3)/dt + 2*I*a*r^4*d(psi3)/dt - I*a*r^3*psi2(r, t, th, ph) + (4*I*a^3*r^2*d(psi3)/dt - I*a^3*r*psi2(r, t, th, ph))*cos(th)^2 - (a^4 + a^2*r^2)*cos(th)*psi3(r, t, th, ph))*sin(th)^2 + 2*(a^4*cos(th)^4*d(psi3)/dth + 2*a^2*r^2*cos(th)^2*d(psi3)/dth + r^4*d(psi3)/dth)*sin(th))*sqrt(a^2 - 2*m*r + r^2))/((a^4*cos(th)^4 + 2*a^2*r^2*cos(th)^2 + r^4)*sqrt(a^2*cos(th)^2 + r^2)*sqrt(a^2 - 2*m*r + r^2)*sin(th)) \n",
       "X^1 = -1/2*((-I*a^4*r + 2*I*a^2*m*r^2 - I*a^2*r^3)*psi3(r, t, th, ph)*sin(th)^3 + (-2*I*a*r^4*d(psi2)/dph + (-2*I*a^5*d(psi2)/dph + (I*a^4*m - I*a^4*r)*psi3(r, t, th, ph) + (-2*I*a^6 - 2*I*a^4*r^2)*d(psi2)/dt + (-2*I*a^6 + 4*I*a^4*m*r - 2*I*a^4*r^2)*d(psi3)/dr)*cos(th)^4 - (a^5 - 2*a^3*m*r + a^3*r^2)*cos(th)^3*psi1(r, t, th, ph) + (-4*I*a^3*r^2*d(psi2)/dph + (2*I*a^2*m*r^2 - 2*I*a^2*r^3)*psi3(r, t, th, ph) + (-4*I*a^4*r^2 - 4*I*a^2*r^4)*d(psi2)/dt + (-4*I*a^4*r^2 + 8*I*a^2*m*r^3 - 4*I*a^2*r^4)*d(psi3)/dr)*cos(th)^2 - (a^3*r^2 - 2*a*m*r^3 + a*r^4)*cos(th)*psi1(r, t, th, ph) + (I*a^4*r - 2*I*a^2*m*r^2 + 2*I*a^2*r^3 - I*m*r^4)*psi3(r, t, th, ph) + (-2*I*a^2*r^4 - 2*I*r^6)*d(psi2)/dt + (-2*I*a^2*r^4 + 4*I*m*r^5 - 2*I*r^6)*d(psi3)/dr)*sin(th) + (2*I*a^4*cos(th)^4*d(psi3)/dph + 4*I*a^2*r^2*cos(th)^2*d(psi3)/dph + 2*I*r^4*d(psi3)/dph + (a^4 + 2*a^2*r^2 + r^4)*cos(th)*psi3(r, t, th, ph) + (2*I*a^5*cos(th)^4*d(psi3)/dt + 2*I*a*r^4*d(psi3)/dt - I*a*r^3*psi1(r, t, th, ph) + (4*I*a^3*r^2*d(psi3)/dt - I*a^3*r*psi1(r, t, th, ph))*cos(th)^2 - (a^4 + a^2*r^2)*cos(th)*psi3(r, t, th, ph))*sin(th)^2 + 2*(a^4*cos(th)^4*d(psi3)/dth + 2*a^2*r^2*cos(th)^2*d(psi3)/dth + r^4*d(psi3)/dth)*sin(th))*sqrt(a^2 - 2*m*r + r^2))/((a^4*cos(th)^4 + 2*a^2*r^2*cos(th)^2 + r^4)*sqrt(a^2*cos(th)^2 + r^2)*sqrt(a^2 - 2*m*r + r^2)*sin(th)) \n",
       "X^2 = -1/2*((I*a^4*r - 2*I*a^2*m*r^2 + I*a^2*r^3)*psi2(r, t, th, ph)*sin(th)^3 + (2*I*a*r^4*d(psi3)/dph + (2*I*a^5*d(psi3)/dph + (-I*a^4*m + I*a^4*r)*psi2(r, t, th, ph) + (2*I*a^6 - 4*I*a^4*m*r + 2*I*a^4*r^2)*d(psi2)/dr + (2*I*a^6 + 2*I*a^4*r^2)*d(psi3)/dt)*cos(th)^4 + (a^5 - 2*a^3*m*r + a^3*r^2)*cos(th)^3*psi3(r, t, th, ph) + (4*I*a^3*r^2*d(psi3)/dph + (-2*I*a^2*m*r^2 + 2*I*a^2*r^3)*psi2(r, t, th, ph) + (4*I*a^4*r^2 - 8*I*a^2*m*r^3 + 4*I*a^2*r^4)*d(psi2)/dr + (4*I*a^4*r^2 + 4*I*a^2*r^4)*d(psi3)/dt)*cos(th)^2 + (a^3*r^2 - 2*a*m*r^3 + a*r^4)*cos(th)*psi3(r, t, th, ph) + (-I*a^4*r + 2*I*a^2*m*r^2 - 2*I*a^2*r^3 + I*m*r^4)*psi2(r, t, th, ph) + (2*I*a^2*r^4 - 4*I*m*r^5 + 2*I*r^6)*d(psi2)/dr + (2*I*a^2*r^4 + 2*I*r^6)*d(psi3)/dt)*sin(th) + (2*I*a^4*cos(th)^4*d(psi1)/dph + 4*I*a^2*r^2*cos(th)^2*d(psi1)/dph + 2*I*r^4*d(psi1)/dph + (a^4 + 2*a^2*r^2 + r^4)*cos(th)*psi2(r, t, th, ph) + (2*I*a^5*cos(th)^4*d(psi1)/dt + 2*I*a*r^4*d(psi1)/dt - I*a*r^3*psi3(r, t, th, ph) + (4*I*a^3*r^2*d(psi1)/dt - I*a^3*r*psi3(r, t, th, ph))*cos(th)^2 - (a^4 + a^2*r^2)*cos(th)*psi2(r, t, th, ph))*sin(th)^2 + 2*(a^4*cos(th)^4*d(psi2)/dth + 2*a^2*r^2*cos(th)^2*d(psi2)/dth + r^4*d(psi2)/dth)*sin(th))*sqrt(a^2 - 2*m*r + r^2))/((a^4*cos(th)^4 + 2*a^2*r^2*cos(th)^2 + r^4)*sqrt(a^2*cos(th)^2 + r^2)*sqrt(a^2 - 2*m*r + r^2)*sin(th)) \n",
       "X^3 = 1/2*((-I*a^4*r + 2*I*a^2*m*r^2 - I*a^2*r^3)*psi1(r, t, th, ph)*sin(th)^3 + (-2*I*a*r^4*d(psi3)/dph + (-2*I*a^5*d(psi3)/dph + (I*a^4*m - I*a^4*r)*psi1(r, t, th, ph) + (-2*I*a^6 + 4*I*a^4*m*r - 2*I*a^4*r^2)*d(psi1)/dr + (-2*I*a^6 - 2*I*a^4*r^2)*d(psi3)/dt)*cos(th)^4 - (a^5 - 2*a^3*m*r + a^3*r^2)*cos(th)^3*psi3(r, t, th, ph) + (-4*I*a^3*r^2*d(psi3)/dph + (2*I*a^2*m*r^2 - 2*I*a^2*r^3)*psi1(r, t, th, ph) + (-4*I*a^4*r^2 + 8*I*a^2*m*r^3 - 4*I*a^2*r^4)*d(psi1)/dr + (-4*I*a^4*r^2 - 4*I*a^2*r^4)*d(psi3)/dt)*cos(th)^2 - (a^3*r^2 - 2*a*m*r^3 + a*r^4)*cos(th)*psi3(r, t, th, ph) + (I*a^4*r - 2*I*a^2*m*r^2 + 2*I*a^2*r^3 - I*m*r^4)*psi1(r, t, th, ph) + (-2*I*a^2*r^4 + 4*I*m*r^5 - 2*I*r^6)*d(psi1)/dr + (-2*I*a^2*r^4 - 2*I*r^6)*d(psi3)/dt)*sin(th) + (2*I*a^4*cos(th)^4*d(psi2)/dph + 4*I*a^2*r^2*cos(th)^2*d(psi2)/dph + 2*I*r^4*d(psi2)/dph + (a^4 + 2*a^2*r^2 + r^4)*cos(th)*psi1(r, t, th, ph) + (2*I*a^5*cos(th)^4*d(psi2)/dt + 2*I*a*r^4*d(psi2)/dt - I*a*r^3*psi3(r, t, th, ph) + (4*I*a^3*r^2*d(psi2)/dt - I*a^3*r*psi3(r, t, th, ph))*cos(th)^2 - (a^4 + a^2*r^2)*cos(th)*psi1(r, t, th, ph))*sin(th)^2 + 2*(a^4*cos(th)^4*d(psi1)/dth + 2*a^2*r^2*cos(th)^2*d(psi1)/dth + r^4*d(psi1)/dth)*sin(th))*sqrt(a^2 - 2*m*r + r^2))/((a^4*cos(th)^4 + 2*a^2*r^2*cos(th)^2 + r^4)*sqrt(a^2*cos(th)^2 + r^2)*sqrt(a^2 - 2*m*r + r^2)*sin(th)) "
      ]
     },
     "execution_count": 16,
     "metadata": {},
     "output_type": "execute_result"
    }
   ],
   "source": [
    "nab_psi = sb.section( latexname='\\\\nabla\\\\psi' )\n",
    "nab_psi[e_sb,:] = [0,0,0,0]\n",
    "\n",
    "for i in range(0,4):\n",
    "    nab_psi += Gamma_a[i](e_nab_psi[i]) \n",
    "    \n",
    "nab_psi.display_comp()"
   ]
  },
  {
   "cell_type": "markdown",
   "metadata": {},
   "source": [
    "## Spinor connection with the Wald field"
   ]
  },
  {
   "cell_type": "markdown",
   "metadata": {},
   "source": [
    "Definition of the Wald field solution $A = \\frac{B_{0}}{2}(\\psi + 2a\\eta)$, where $\\eta$ and $\\psi$ are the 1-forms naturally associated with musical isomorphism respectively to the two Killing vector fields $\\frac{\\partial}{\\partial t}$ and $\\frac{\\partial}{\\partial \\phi}$ :"
   ]
  },
  {
   "cell_type": "code",
   "execution_count": 17,
   "metadata": {},
   "outputs": [
    {
     "data": {
      "text/html": [
       "<html><script type=\"math/tex; mode=display\">\\newcommand{\\Bold}[1]{\\mathbf{#1}}\\left( \\frac{B_{0} a m r - B_{0} a r^{2} - {\\left(B_{0} a^{3} - B_{0} a m r\\right)} \\cos\\left({\\theta}\\right)^{2}}{a^{2} \\cos\\left({\\theta}\\right)^{2} + r^{2}} \\right) \\mathrm{d} t + \\left( \\frac{2 \\, B_{0} a^{2} m r \\sin\\left({\\theta}\\right)^{4} - {\\left(4 \\, B_{0} a^{2} m r - B_{0} a^{2} r^{2} - B_{0} r^{4} - {\\left(B_{0} a^{4} + B_{0} a^{2} r^{2}\\right)} \\cos\\left({\\theta}\\right)^{2}\\right)} \\sin\\left({\\theta}\\right)^{2}}{2 \\, {\\left(a^{2} \\cos\\left({\\theta}\\right)^{2} + r^{2}\\right)}} \\right) \\mathrm{d} {\\phi}</script></html>"
      ],
      "text/latex": [
       "$$\\newcommand{\\Bold}[1]{\\mathbf{#1}}\\left( \\frac{B_{0} a m r - B_{0} a r^{2} - {\\left(B_{0} a^{3} - B_{0} a m r\\right)} \\cos\\left({\\theta}\\right)^{2}}{a^{2} \\cos\\left({\\theta}\\right)^{2} + r^{2}} \\right) \\mathrm{d} t + \\left( \\frac{2 \\, B_{0} a^{2} m r \\sin\\left({\\theta}\\right)^{4} - {\\left(4 \\, B_{0} a^{2} m r - B_{0} a^{2} r^{2} - B_{0} r^{4} - {\\left(B_{0} a^{4} + B_{0} a^{2} r^{2}\\right)} \\cos\\left({\\theta}\\right)^{2}\\right)} \\sin\\left({\\theta}\\right)^{2}}{2 \\, {\\left(a^{2} \\cos\\left({\\theta}\\right)^{2} + r^{2}\\right)}} \\right) \\mathrm{d} {\\phi}$$"
      ],
      "text/plain": [
       "(B_0*a*m*r - B_0*a*r^2 - (B_0*a^3 - B_0*a*m*r)*cos(th)^2)/(a^2*cos(th)^2 + r^2) dt + 1/2*(2*B_0*a^2*m*r*sin(th)^4 - (4*B_0*a^2*m*r - B_0*a^2*r^2 - B_0*r^4 - (B_0*a^4 + B_0*a^2*r^2)*cos(th)^2)*sin(th)^2)/(a^2*cos(th)^2 + r^2) dph"
      ]
     },
     "execution_count": 17,
     "metadata": {},
     "output_type": "execute_result"
    }
   ],
   "source": [
    "var('B_0')\n",
    "A_wald = (B_0/2)*(BL.frame()[3].down(g)+(2*a)*BL.frame()[0].down(g))\n",
    "A_wald.display()"
   ]
  },
  {
   "cell_type": "markdown",
   "metadata": {},
   "source": [
    "Definition of the frame bundle connection 1-forms $(\\Gamma^{(A)})^{j}_{ \\ \\ \\ \\ i}$ from the Ricci rotation coefficents as $(\\Gamma^{(A)})^{j}_{ \\ \\ \\ \\ i}= \\Gamma^{j}_{ \\ \\ \\ \\ i} +qA(\\mathbb{1})^{j}_{ \\ \\ \\ \\ i}$ ($q$ electric charge of the particle):"
   ]
  },
  {
   "cell_type": "code",
   "execution_count": 18,
   "metadata": {},
   "outputs": [],
   "source": [
    "var('q') #definition of electric charge\n",
    "nabla_s_A = sb.bundle_connection('\\\\nabla_{A}') #definition of the new connection on the spinor bundle with A\n",
    "for i in range(0,4):\n",
    "    for j in range(0,4):\n",
    "        nabla_s_A.set_connection_form(i, j)[:] = nabla_sb[i,j]+q*id_s[i,j]*A_wald"
   ]
  },
  {
   "cell_type": "markdown",
   "metadata": {},
   "source": [
    "Construction of the collection $\\{(D_{sb}^{(A)}(e_{(a)},\\psi))^{i} = e_{(a)}^{\\ \\ \\ \\ \\mu}(\\psi^{i}_{\\ \\ \\ : \\mu}+qA_{\\mu}\\psi^{i}) = e_{(a)}^{\\ \\ \\ \\ \\mu}\\psi^{i}_{\\ \\ ,\\mu} + (\\Gamma^{(A)})^{i}_{ \\ \\ \\ \\ j}(e_{(a)})\\psi^{j}\\}_{(a)=0,1,2,3}$ as a tuple:"
   ]
  },
  {
   "cell_type": "code",
   "execution_count": 19,
   "metadata": {},
   "outputs": [],
   "source": [
    "e_nab_A_psi = (nabla_s_A(e[0],psi),nabla_s_A(e[1],psi),nabla_s_A(e[2],psi),nabla_s_A(e[3],psi))"
   ]
  },
  {
   "cell_type": "markdown",
   "metadata": {},
   "source": [
    "Calculation of $(\\gamma^{(a)})^{i}_{ \\ \\ j}(D_{sb}^{(A)}(e_{(a)},\\psi))^{j}$ (rhs of Dirac's equation on curved spacetime for a massless spinor field coupled to Wald solution $A$) :"
   ]
  },
  {
   "cell_type": "code",
   "execution_count": 20,
   "metadata": {},
   "outputs": [
    {
     "data": {
      "text/html": [
       "<html><script type=\"math/tex; mode=display\">\\newcommand{\\Bold}[1]{\\mathbf{#1}}\\begin{array}{lcl} X_{\\phantom{\\, 0}}^{\\,0} & = & \\frac{{\\left(i \\, a^{4} r - 2 i \\, a^{2} m r^{2} + i \\, a^{2} r^{3}\\right)} \\psi_{3}\\left(r, t, {\\theta}, {\\phi}\\right) \\sin\\left({\\theta}\\right)^{3} + {\\left({\\left(-i \\, B_{0} a^{7} q + 2 i \\, B_{0} a^{5} m q r - i \\, B_{0} a^{5} q r^{2}\\right)} \\cos\\left({\\theta}\\right)^{6} \\psi_{1}\\left(r, t, {\\theta}, {\\phi}\\right) + 2 i \\, a r^{4} \\frac{\\partial\\,\\psi_{1}}{\\partial {\\phi}} + {\\left(2 i \\, a^{5} \\frac{\\partial\\,\\psi_{1}}{\\partial {\\phi}} + {\\left(-i \\, B_{0} a^{7} q + 2 i \\, B_{0} a^{5} m q r - 3 i \\, B_{0} a^{5} q r^{2} + 4 i \\, B_{0} a^{3} m q r^{3} - 2 i \\, B_{0} a^{3} q r^{4}\\right)} \\psi_{1}\\left(r, t, {\\theta}, {\\phi}\\right) + {\\left(-i \\, a^{4} m + i \\, a^{4} r\\right)} \\psi_{3}\\left(r, t, {\\theta}, {\\phi}\\right) + {\\left(2 i \\, a^{6} + 2 i \\, a^{4} r^{2}\\right)} \\frac{\\partial\\,\\psi_{1}}{\\partial t} + {\\left(2 i \\, a^{6} - 4 i \\, a^{4} m r + 2 i \\, a^{4} r^{2}\\right)} \\frac{\\partial\\,\\psi_{3}}{\\partial r}\\right)} \\cos\\left({\\theta}\\right)^{4} + {\\left(a^{5} - 2 \\, a^{3} m r + a^{3} r^{2}\\right)} \\cos\\left({\\theta}\\right)^{3} \\psi_{2}\\left(r, t, {\\theta}, {\\phi}\\right) + {\\left(4 i \\, a^{3} r^{2} \\frac{\\partial\\,\\psi_{1}}{\\partial {\\phi}} + {\\left(-2 i \\, B_{0} a^{5} q r^{2} + 4 i \\, B_{0} a^{3} m q r^{3} - 3 i \\, B_{0} a^{3} q r^{4} + 2 i \\, B_{0} a m q r^{5} - i \\, B_{0} a q r^{6}\\right)} \\psi_{1}\\left(r, t, {\\theta}, {\\phi}\\right) + {\\left(-2 i \\, a^{2} m r^{2} + 2 i \\, a^{2} r^{3}\\right)} \\psi_{3}\\left(r, t, {\\theta}, {\\phi}\\right) + {\\left(4 i \\, a^{4} r^{2} + 4 i \\, a^{2} r^{4}\\right)} \\frac{\\partial\\,\\psi_{1}}{\\partial t} + {\\left(4 i \\, a^{4} r^{2} - 8 i \\, a^{2} m r^{3} + 4 i \\, a^{2} r^{4}\\right)} \\frac{\\partial\\,\\psi_{3}}{\\partial r}\\right)} \\cos\\left({\\theta}\\right)^{2} + {\\left(a^{3} r^{2} - 2 \\, a m r^{3} + a r^{4}\\right)} \\cos\\left({\\theta}\\right) \\psi_{2}\\left(r, t, {\\theta}, {\\phi}\\right) + {\\left(-i \\, B_{0} a^{3} q r^{4} + 2 i \\, B_{0} a m q r^{5} - i \\, B_{0} a q r^{6}\\right)} \\psi_{1}\\left(r, t, {\\theta}, {\\phi}\\right) + {\\left(-i \\, a^{4} r + 2 i \\, a^{2} m r^{2} - 2 i \\, a^{2} r^{3} + i \\, m r^{4}\\right)} \\psi_{3}\\left(r, t, {\\theta}, {\\phi}\\right) + {\\left(2 i \\, a^{2} r^{4} + 2 i \\, r^{6}\\right)} \\frac{\\partial\\,\\psi_{1}}{\\partial t} + {\\left(2 i \\, a^{2} r^{4} - 4 i \\, m r^{5} + 2 i \\, r^{6}\\right)} \\frac{\\partial\\,\\psi_{3}}{\\partial r}\\right)} \\sin\\left({\\theta}\\right) + {\\left(2 i \\, a^{4} \\cos\\left({\\theta}\\right)^{4} \\frac{\\partial\\,\\psi_{3}}{\\partial {\\phi}} + 4 i \\, a^{2} r^{2} \\cos\\left({\\theta}\\right)^{2} \\frac{\\partial\\,\\psi_{3}}{\\partial {\\phi}} + 2 i \\, r^{4} \\frac{\\partial\\,\\psi_{3}}{\\partial {\\phi}} + {\\left(a^{4} + 2 \\, a^{2} r^{2} + r^{4}\\right)} \\cos\\left({\\theta}\\right) \\psi_{3}\\left(r, t, {\\theta}, {\\phi}\\right) + {\\left(2 i \\, a r^{4} \\frac{\\partial\\,\\psi_{3}}{\\partial t} + {\\left(2 i \\, a^{5} \\frac{\\partial\\,\\psi_{3}}{\\partial t} + {\\left(-i \\, B_{0} a^{6} q + i \\, B_{0} a^{4} q r^{2}\\right)} \\psi_{3}\\left(r, t, {\\theta}, {\\phi}\\right)\\right)} \\cos\\left({\\theta}\\right)^{4} - i \\, a r^{3} \\psi_{2}\\left(r, t, {\\theta}, {\\phi}\\right) + {\\left(4 i \\, a^{3} r^{2} \\frac{\\partial\\,\\psi_{3}}{\\partial t} - i \\, a^{3} r \\psi_{2}\\left(r, t, {\\theta}, {\\phi}\\right) + {\\left(-2 i \\, B_{0} a^{4} q r^{2} + 2 i \\, B_{0} a^{2} q r^{4}\\right)} \\psi_{3}\\left(r, t, {\\theta}, {\\phi}\\right)\\right)} \\cos\\left({\\theta}\\right)^{2} - {\\left(a^{4} + a^{2} r^{2}\\right)} \\cos\\left({\\theta}\\right) \\psi_{3}\\left(r, t, {\\theta}, {\\phi}\\right) + {\\left(-i \\, B_{0} a^{2} q r^{4} + i \\, B_{0} q r^{6}\\right)} \\psi_{3}\\left(r, t, {\\theta}, {\\phi}\\right)\\right)} \\sin\\left({\\theta}\\right)^{2} + 2 \\, {\\left(a^{4} \\cos\\left({\\theta}\\right)^{4} \\frac{\\partial\\,\\psi_{3}}{\\partial {\\theta}} + 2 \\, a^{2} r^{2} \\cos\\left({\\theta}\\right)^{2} \\frac{\\partial\\,\\psi_{3}}{\\partial {\\theta}} + r^{4} \\frac{\\partial\\,\\psi_{3}}{\\partial {\\theta}}\\right)} \\sin\\left({\\theta}\\right)\\right)} \\sqrt{a^{2} - 2 \\, m r + r^{2}}}{2 \\, {\\left(a^{4} \\cos\\left({\\theta}\\right)^{4} + 2 \\, a^{2} r^{2} \\cos\\left({\\theta}\\right)^{2} + r^{4}\\right)} \\sqrt{a^{2} \\cos\\left({\\theta}\\right)^{2} + r^{2}} \\sqrt{a^{2} - 2 \\, m r + r^{2}} \\sin\\left({\\theta}\\right)} \\\\ X_{\\phantom{\\, 1}}^{\\,1} & = & -\\frac{{\\left(-i \\, a^{4} r + 2 i \\, a^{2} m r^{2} - i \\, a^{2} r^{3}\\right)} \\psi_{3}\\left(r, t, {\\theta}, {\\phi}\\right) \\sin\\left({\\theta}\\right)^{3} + {\\left({\\left(i \\, B_{0} a^{7} q - 2 i \\, B_{0} a^{5} m q r + i \\, B_{0} a^{5} q r^{2}\\right)} \\cos\\left({\\theta}\\right)^{6} \\psi_{2}\\left(r, t, {\\theta}, {\\phi}\\right) - 2 i \\, a r^{4} \\frac{\\partial\\,\\psi_{2}}{\\partial {\\phi}} + {\\left(-2 i \\, a^{5} \\frac{\\partial\\,\\psi_{2}}{\\partial {\\phi}} + {\\left(i \\, B_{0} a^{7} q - 2 i \\, B_{0} a^{5} m q r + 3 i \\, B_{0} a^{5} q r^{2} - 4 i \\, B_{0} a^{3} m q r^{3} + 2 i \\, B_{0} a^{3} q r^{4}\\right)} \\psi_{2}\\left(r, t, {\\theta}, {\\phi}\\right) + {\\left(i \\, a^{4} m - i \\, a^{4} r\\right)} \\psi_{3}\\left(r, t, {\\theta}, {\\phi}\\right) + {\\left(-2 i \\, a^{6} - 2 i \\, a^{4} r^{2}\\right)} \\frac{\\partial\\,\\psi_{2}}{\\partial t} + {\\left(-2 i \\, a^{6} + 4 i \\, a^{4} m r - 2 i \\, a^{4} r^{2}\\right)} \\frac{\\partial\\,\\psi_{3}}{\\partial r}\\right)} \\cos\\left({\\theta}\\right)^{4} - {\\left(a^{5} - 2 \\, a^{3} m r + a^{3} r^{2}\\right)} \\cos\\left({\\theta}\\right)^{3} \\psi_{1}\\left(r, t, {\\theta}, {\\phi}\\right) + {\\left(-4 i \\, a^{3} r^{2} \\frac{\\partial\\,\\psi_{2}}{\\partial {\\phi}} + {\\left(2 i \\, B_{0} a^{5} q r^{2} - 4 i \\, B_{0} a^{3} m q r^{3} + 3 i \\, B_{0} a^{3} q r^{4} - 2 i \\, B_{0} a m q r^{5} + i \\, B_{0} a q r^{6}\\right)} \\psi_{2}\\left(r, t, {\\theta}, {\\phi}\\right) + {\\left(2 i \\, a^{2} m r^{2} - 2 i \\, a^{2} r^{3}\\right)} \\psi_{3}\\left(r, t, {\\theta}, {\\phi}\\right) + {\\left(-4 i \\, a^{4} r^{2} - 4 i \\, a^{2} r^{4}\\right)} \\frac{\\partial\\,\\psi_{2}}{\\partial t} + {\\left(-4 i \\, a^{4} r^{2} + 8 i \\, a^{2} m r^{3} - 4 i \\, a^{2} r^{4}\\right)} \\frac{\\partial\\,\\psi_{3}}{\\partial r}\\right)} \\cos\\left({\\theta}\\right)^{2} - {\\left(a^{3} r^{2} - 2 \\, a m r^{3} + a r^{4}\\right)} \\cos\\left({\\theta}\\right) \\psi_{1}\\left(r, t, {\\theta}, {\\phi}\\right) + {\\left(i \\, B_{0} a^{3} q r^{4} - 2 i \\, B_{0} a m q r^{5} + i \\, B_{0} a q r^{6}\\right)} \\psi_{2}\\left(r, t, {\\theta}, {\\phi}\\right) + {\\left(i \\, a^{4} r - 2 i \\, a^{2} m r^{2} + 2 i \\, a^{2} r^{3} - i \\, m r^{4}\\right)} \\psi_{3}\\left(r, t, {\\theta}, {\\phi}\\right) + {\\left(-2 i \\, a^{2} r^{4} - 2 i \\, r^{6}\\right)} \\frac{\\partial\\,\\psi_{2}}{\\partial t} + {\\left(-2 i \\, a^{2} r^{4} + 4 i \\, m r^{5} - 2 i \\, r^{6}\\right)} \\frac{\\partial\\,\\psi_{3}}{\\partial r}\\right)} \\sin\\left({\\theta}\\right) + {\\left(2 i \\, a^{4} \\cos\\left({\\theta}\\right)^{4} \\frac{\\partial\\,\\psi_{3}}{\\partial {\\phi}} + 4 i \\, a^{2} r^{2} \\cos\\left({\\theta}\\right)^{2} \\frac{\\partial\\,\\psi_{3}}{\\partial {\\phi}} + 2 i \\, r^{4} \\frac{\\partial\\,\\psi_{3}}{\\partial {\\phi}} + {\\left(a^{4} + 2 \\, a^{2} r^{2} + r^{4}\\right)} \\cos\\left({\\theta}\\right) \\psi_{3}\\left(r, t, {\\theta}, {\\phi}\\right) + {\\left(2 i \\, a r^{4} \\frac{\\partial\\,\\psi_{3}}{\\partial t} + {\\left(2 i \\, a^{5} \\frac{\\partial\\,\\psi_{3}}{\\partial t} + {\\left(-i \\, B_{0} a^{6} q + i \\, B_{0} a^{4} q r^{2}\\right)} \\psi_{3}\\left(r, t, {\\theta}, {\\phi}\\right)\\right)} \\cos\\left({\\theta}\\right)^{4} - i \\, a r^{3} \\psi_{1}\\left(r, t, {\\theta}, {\\phi}\\right) + {\\left(4 i \\, a^{3} r^{2} \\frac{\\partial\\,\\psi_{3}}{\\partial t} - i \\, a^{3} r \\psi_{1}\\left(r, t, {\\theta}, {\\phi}\\right) + {\\left(-2 i \\, B_{0} a^{4} q r^{2} + 2 i \\, B_{0} a^{2} q r^{4}\\right)} \\psi_{3}\\left(r, t, {\\theta}, {\\phi}\\right)\\right)} \\cos\\left({\\theta}\\right)^{2} - {\\left(a^{4} + a^{2} r^{2}\\right)} \\cos\\left({\\theta}\\right) \\psi_{3}\\left(r, t, {\\theta}, {\\phi}\\right) + {\\left(-i \\, B_{0} a^{2} q r^{4} + i \\, B_{0} q r^{6}\\right)} \\psi_{3}\\left(r, t, {\\theta}, {\\phi}\\right)\\right)} \\sin\\left({\\theta}\\right)^{2} + 2 \\, {\\left(a^{4} \\cos\\left({\\theta}\\right)^{4} \\frac{\\partial\\,\\psi_{3}}{\\partial {\\theta}} + 2 \\, a^{2} r^{2} \\cos\\left({\\theta}\\right)^{2} \\frac{\\partial\\,\\psi_{3}}{\\partial {\\theta}} + r^{4} \\frac{\\partial\\,\\psi_{3}}{\\partial {\\theta}}\\right)} \\sin\\left({\\theta}\\right)\\right)} \\sqrt{a^{2} - 2 \\, m r + r^{2}}}{2 \\, {\\left(a^{4} \\cos\\left({\\theta}\\right)^{4} + 2 \\, a^{2} r^{2} \\cos\\left({\\theta}\\right)^{2} + r^{4}\\right)} \\sqrt{a^{2} \\cos\\left({\\theta}\\right)^{2} + r^{2}} \\sqrt{a^{2} - 2 \\, m r + r^{2}} \\sin\\left({\\theta}\\right)} \\\\ X_{\\phantom{\\, 2}}^{\\,2} & = & -\\frac{{\\left(i \\, a^{4} r - 2 i \\, a^{2} m r^{2} + i \\, a^{2} r^{3}\\right)} \\psi_{2}\\left(r, t, {\\theta}, {\\phi}\\right) \\sin\\left({\\theta}\\right)^{3} + {\\left({\\left(-i \\, B_{0} a^{7} q + 2 i \\, B_{0} a^{5} m q r - i \\, B_{0} a^{5} q r^{2}\\right)} \\cos\\left({\\theta}\\right)^{6} \\psi_{3}\\left(r, t, {\\theta}, {\\phi}\\right) + 2 i \\, a r^{4} \\frac{\\partial\\,\\psi_{3}}{\\partial {\\phi}} + {\\left(2 i \\, a^{5} \\frac{\\partial\\,\\psi_{3}}{\\partial {\\phi}} + {\\left(-i \\, a^{4} m + i \\, a^{4} r\\right)} \\psi_{2}\\left(r, t, {\\theta}, {\\phi}\\right) + {\\left(-i \\, B_{0} a^{7} q + 2 i \\, B_{0} a^{5} m q r - 3 i \\, B_{0} a^{5} q r^{2} + 4 i \\, B_{0} a^{3} m q r^{3} - 2 i \\, B_{0} a^{3} q r^{4}\\right)} \\psi_{3}\\left(r, t, {\\theta}, {\\phi}\\right) + {\\left(2 i \\, a^{6} - 4 i \\, a^{4} m r + 2 i \\, a^{4} r^{2}\\right)} \\frac{\\partial\\,\\psi_{2}}{\\partial r} + {\\left(2 i \\, a^{6} + 2 i \\, a^{4} r^{2}\\right)} \\frac{\\partial\\,\\psi_{3}}{\\partial t}\\right)} \\cos\\left({\\theta}\\right)^{4} + {\\left(a^{5} - 2 \\, a^{3} m r + a^{3} r^{2}\\right)} \\cos\\left({\\theta}\\right)^{3} \\psi_{3}\\left(r, t, {\\theta}, {\\phi}\\right) + {\\left(4 i \\, a^{3} r^{2} \\frac{\\partial\\,\\psi_{3}}{\\partial {\\phi}} + {\\left(-2 i \\, a^{2} m r^{2} + 2 i \\, a^{2} r^{3}\\right)} \\psi_{2}\\left(r, t, {\\theta}, {\\phi}\\right) + {\\left(-2 i \\, B_{0} a^{5} q r^{2} + 4 i \\, B_{0} a^{3} m q r^{3} - 3 i \\, B_{0} a^{3} q r^{4} + 2 i \\, B_{0} a m q r^{5} - i \\, B_{0} a q r^{6}\\right)} \\psi_{3}\\left(r, t, {\\theta}, {\\phi}\\right) + {\\left(4 i \\, a^{4} r^{2} - 8 i \\, a^{2} m r^{3} + 4 i \\, a^{2} r^{4}\\right)} \\frac{\\partial\\,\\psi_{2}}{\\partial r} + {\\left(4 i \\, a^{4} r^{2} + 4 i \\, a^{2} r^{4}\\right)} \\frac{\\partial\\,\\psi_{3}}{\\partial t}\\right)} \\cos\\left({\\theta}\\right)^{2} + {\\left(a^{3} r^{2} - 2 \\, a m r^{3} + a r^{4}\\right)} \\cos\\left({\\theta}\\right) \\psi_{3}\\left(r, t, {\\theta}, {\\phi}\\right) + {\\left(-i \\, a^{4} r + 2 i \\, a^{2} m r^{2} - 2 i \\, a^{2} r^{3} + i \\, m r^{4}\\right)} \\psi_{2}\\left(r, t, {\\theta}, {\\phi}\\right) + {\\left(-i \\, B_{0} a^{3} q r^{4} + 2 i \\, B_{0} a m q r^{5} - i \\, B_{0} a q r^{6}\\right)} \\psi_{3}\\left(r, t, {\\theta}, {\\phi}\\right) + {\\left(2 i \\, a^{2} r^{4} - 4 i \\, m r^{5} + 2 i \\, r^{6}\\right)} \\frac{\\partial\\,\\psi_{2}}{\\partial r} + {\\left(2 i \\, a^{2} r^{4} + 2 i \\, r^{6}\\right)} \\frac{\\partial\\,\\psi_{3}}{\\partial t}\\right)} \\sin\\left({\\theta}\\right) + {\\left(2 i \\, a^{4} \\cos\\left({\\theta}\\right)^{4} \\frac{\\partial\\,\\psi_{1}}{\\partial {\\phi}} + 4 i \\, a^{2} r^{2} \\cos\\left({\\theta}\\right)^{2} \\frac{\\partial\\,\\psi_{1}}{\\partial {\\phi}} + 2 i \\, r^{4} \\frac{\\partial\\,\\psi_{1}}{\\partial {\\phi}} + {\\left(a^{4} + 2 \\, a^{2} r^{2} + r^{4}\\right)} \\cos\\left({\\theta}\\right) \\psi_{2}\\left(r, t, {\\theta}, {\\phi}\\right) + {\\left(2 i \\, a r^{4} \\frac{\\partial\\,\\psi_{1}}{\\partial t} + {\\left(2 i \\, a^{5} \\frac{\\partial\\,\\psi_{1}}{\\partial t} + {\\left(-i \\, B_{0} a^{6} q + i \\, B_{0} a^{4} q r^{2}\\right)} \\psi_{1}\\left(r, t, {\\theta}, {\\phi}\\right)\\right)} \\cos\\left({\\theta}\\right)^{4} - i \\, a r^{3} \\psi_{3}\\left(r, t, {\\theta}, {\\phi}\\right) + {\\left(4 i \\, a^{3} r^{2} \\frac{\\partial\\,\\psi_{1}}{\\partial t} - i \\, a^{3} r \\psi_{3}\\left(r, t, {\\theta}, {\\phi}\\right) + {\\left(-2 i \\, B_{0} a^{4} q r^{2} + 2 i \\, B_{0} a^{2} q r^{4}\\right)} \\psi_{1}\\left(r, t, {\\theta}, {\\phi}\\right)\\right)} \\cos\\left({\\theta}\\right)^{2} - {\\left(a^{4} + a^{2} r^{2}\\right)} \\cos\\left({\\theta}\\right) \\psi_{2}\\left(r, t, {\\theta}, {\\phi}\\right) + {\\left(-i \\, B_{0} a^{2} q r^{4} + i \\, B_{0} q r^{6}\\right)} \\psi_{1}\\left(r, t, {\\theta}, {\\phi}\\right)\\right)} \\sin\\left({\\theta}\\right)^{2} + 2 \\, {\\left(a^{4} \\cos\\left({\\theta}\\right)^{4} \\frac{\\partial\\,\\psi_{2}}{\\partial {\\theta}} + 2 \\, a^{2} r^{2} \\cos\\left({\\theta}\\right)^{2} \\frac{\\partial\\,\\psi_{2}}{\\partial {\\theta}} + r^{4} \\frac{\\partial\\,\\psi_{2}}{\\partial {\\theta}}\\right)} \\sin\\left({\\theta}\\right)\\right)} \\sqrt{a^{2} - 2 \\, m r + r^{2}}}{2 \\, {\\left(a^{4} \\cos\\left({\\theta}\\right)^{4} + 2 \\, a^{2} r^{2} \\cos\\left({\\theta}\\right)^{2} + r^{4}\\right)} \\sqrt{a^{2} \\cos\\left({\\theta}\\right)^{2} + r^{2}} \\sqrt{a^{2} - 2 \\, m r + r^{2}} \\sin\\left({\\theta}\\right)} \\\\ X_{\\phantom{\\, 3}}^{\\,3} & = & \\frac{{\\left(-i \\, a^{4} r + 2 i \\, a^{2} m r^{2} - i \\, a^{2} r^{3}\\right)} \\psi_{1}\\left(r, t, {\\theta}, {\\phi}\\right) \\sin\\left({\\theta}\\right)^{3} + {\\left({\\left(i \\, B_{0} a^{7} q - 2 i \\, B_{0} a^{5} m q r + i \\, B_{0} a^{5} q r^{2}\\right)} \\cos\\left({\\theta}\\right)^{6} \\psi_{3}\\left(r, t, {\\theta}, {\\phi}\\right) - 2 i \\, a r^{4} \\frac{\\partial\\,\\psi_{3}}{\\partial {\\phi}} + {\\left(-2 i \\, a^{5} \\frac{\\partial\\,\\psi_{3}}{\\partial {\\phi}} + {\\left(i \\, a^{4} m - i \\, a^{4} r\\right)} \\psi_{1}\\left(r, t, {\\theta}, {\\phi}\\right) + {\\left(i \\, B_{0} a^{7} q - 2 i \\, B_{0} a^{5} m q r + 3 i \\, B_{0} a^{5} q r^{2} - 4 i \\, B_{0} a^{3} m q r^{3} + 2 i \\, B_{0} a^{3} q r^{4}\\right)} \\psi_{3}\\left(r, t, {\\theta}, {\\phi}\\right) + {\\left(-2 i \\, a^{6} + 4 i \\, a^{4} m r - 2 i \\, a^{4} r^{2}\\right)} \\frac{\\partial\\,\\psi_{1}}{\\partial r} + {\\left(-2 i \\, a^{6} - 2 i \\, a^{4} r^{2}\\right)} \\frac{\\partial\\,\\psi_{3}}{\\partial t}\\right)} \\cos\\left({\\theta}\\right)^{4} - {\\left(a^{5} - 2 \\, a^{3} m r + a^{3} r^{2}\\right)} \\cos\\left({\\theta}\\right)^{3} \\psi_{3}\\left(r, t, {\\theta}, {\\phi}\\right) + {\\left(-4 i \\, a^{3} r^{2} \\frac{\\partial\\,\\psi_{3}}{\\partial {\\phi}} + {\\left(2 i \\, a^{2} m r^{2} - 2 i \\, a^{2} r^{3}\\right)} \\psi_{1}\\left(r, t, {\\theta}, {\\phi}\\right) + {\\left(2 i \\, B_{0} a^{5} q r^{2} - 4 i \\, B_{0} a^{3} m q r^{3} + 3 i \\, B_{0} a^{3} q r^{4} - 2 i \\, B_{0} a m q r^{5} + i \\, B_{0} a q r^{6}\\right)} \\psi_{3}\\left(r, t, {\\theta}, {\\phi}\\right) + {\\left(-4 i \\, a^{4} r^{2} + 8 i \\, a^{2} m r^{3} - 4 i \\, a^{2} r^{4}\\right)} \\frac{\\partial\\,\\psi_{1}}{\\partial r} + {\\left(-4 i \\, a^{4} r^{2} - 4 i \\, a^{2} r^{4}\\right)} \\frac{\\partial\\,\\psi_{3}}{\\partial t}\\right)} \\cos\\left({\\theta}\\right)^{2} - {\\left(a^{3} r^{2} - 2 \\, a m r^{3} + a r^{4}\\right)} \\cos\\left({\\theta}\\right) \\psi_{3}\\left(r, t, {\\theta}, {\\phi}\\right) + {\\left(i \\, a^{4} r - 2 i \\, a^{2} m r^{2} + 2 i \\, a^{2} r^{3} - i \\, m r^{4}\\right)} \\psi_{1}\\left(r, t, {\\theta}, {\\phi}\\right) + {\\left(i \\, B_{0} a^{3} q r^{4} - 2 i \\, B_{0} a m q r^{5} + i \\, B_{0} a q r^{6}\\right)} \\psi_{3}\\left(r, t, {\\theta}, {\\phi}\\right) + {\\left(-2 i \\, a^{2} r^{4} + 4 i \\, m r^{5} - 2 i \\, r^{6}\\right)} \\frac{\\partial\\,\\psi_{1}}{\\partial r} + {\\left(-2 i \\, a^{2} r^{4} - 2 i \\, r^{6}\\right)} \\frac{\\partial\\,\\psi_{3}}{\\partial t}\\right)} \\sin\\left({\\theta}\\right) + {\\left(2 i \\, a^{4} \\cos\\left({\\theta}\\right)^{4} \\frac{\\partial\\,\\psi_{2}}{\\partial {\\phi}} + 4 i \\, a^{2} r^{2} \\cos\\left({\\theta}\\right)^{2} \\frac{\\partial\\,\\psi_{2}}{\\partial {\\phi}} + 2 i \\, r^{4} \\frac{\\partial\\,\\psi_{2}}{\\partial {\\phi}} + {\\left(a^{4} + 2 \\, a^{2} r^{2} + r^{4}\\right)} \\cos\\left({\\theta}\\right) \\psi_{1}\\left(r, t, {\\theta}, {\\phi}\\right) + {\\left(2 i \\, a r^{4} \\frac{\\partial\\,\\psi_{2}}{\\partial t} + {\\left(2 i \\, a^{5} \\frac{\\partial\\,\\psi_{2}}{\\partial t} + {\\left(-i \\, B_{0} a^{6} q + i \\, B_{0} a^{4} q r^{2}\\right)} \\psi_{2}\\left(r, t, {\\theta}, {\\phi}\\right)\\right)} \\cos\\left({\\theta}\\right)^{4} - i \\, a r^{3} \\psi_{3}\\left(r, t, {\\theta}, {\\phi}\\right) + {\\left(4 i \\, a^{3} r^{2} \\frac{\\partial\\,\\psi_{2}}{\\partial t} - i \\, a^{3} r \\psi_{3}\\left(r, t, {\\theta}, {\\phi}\\right) + {\\left(-2 i \\, B_{0} a^{4} q r^{2} + 2 i \\, B_{0} a^{2} q r^{4}\\right)} \\psi_{2}\\left(r, t, {\\theta}, {\\phi}\\right)\\right)} \\cos\\left({\\theta}\\right)^{2} - {\\left(a^{4} + a^{2} r^{2}\\right)} \\cos\\left({\\theta}\\right) \\psi_{1}\\left(r, t, {\\theta}, {\\phi}\\right) + {\\left(-i \\, B_{0} a^{2} q r^{4} + i \\, B_{0} q r^{6}\\right)} \\psi_{2}\\left(r, t, {\\theta}, {\\phi}\\right)\\right)} \\sin\\left({\\theta}\\right)^{2} + 2 \\, {\\left(a^{4} \\cos\\left({\\theta}\\right)^{4} \\frac{\\partial\\,\\psi_{1}}{\\partial {\\theta}} + 2 \\, a^{2} r^{2} \\cos\\left({\\theta}\\right)^{2} \\frac{\\partial\\,\\psi_{1}}{\\partial {\\theta}} + r^{4} \\frac{\\partial\\,\\psi_{1}}{\\partial {\\theta}}\\right)} \\sin\\left({\\theta}\\right)\\right)} \\sqrt{a^{2} - 2 \\, m r + r^{2}}}{2 \\, {\\left(a^{4} \\cos\\left({\\theta}\\right)^{4} + 2 \\, a^{2} r^{2} \\cos\\left({\\theta}\\right)^{2} + r^{4}\\right)} \\sqrt{a^{2} \\cos\\left({\\theta}\\right)^{2} + r^{2}} \\sqrt{a^{2} - 2 \\, m r + r^{2}} \\sin\\left({\\theta}\\right)} \\end{array}</script></html>"
      ],
      "text/latex": [
       "$$\\newcommand{\\Bold}[1]{\\mathbf{#1}}\\begin{array}{lcl} X_{\\phantom{\\, 0}}^{\\,0} & = & \\frac{{\\left(i \\, a^{4} r - 2 i \\, a^{2} m r^{2} + i \\, a^{2} r^{3}\\right)} \\psi_{3}\\left(r, t, {\\theta}, {\\phi}\\right) \\sin\\left({\\theta}\\right)^{3} + {\\left({\\left(-i \\, B_{0} a^{7} q + 2 i \\, B_{0} a^{5} m q r - i \\, B_{0} a^{5} q r^{2}\\right)} \\cos\\left({\\theta}\\right)^{6} \\psi_{1}\\left(r, t, {\\theta}, {\\phi}\\right) + 2 i \\, a r^{4} \\frac{\\partial\\,\\psi_{1}}{\\partial {\\phi}} + {\\left(2 i \\, a^{5} \\frac{\\partial\\,\\psi_{1}}{\\partial {\\phi}} + {\\left(-i \\, B_{0} a^{7} q + 2 i \\, B_{0} a^{5} m q r - 3 i \\, B_{0} a^{5} q r^{2} + 4 i \\, B_{0} a^{3} m q r^{3} - 2 i \\, B_{0} a^{3} q r^{4}\\right)} \\psi_{1}\\left(r, t, {\\theta}, {\\phi}\\right) + {\\left(-i \\, a^{4} m + i \\, a^{4} r\\right)} \\psi_{3}\\left(r, t, {\\theta}, {\\phi}\\right) + {\\left(2 i \\, a^{6} + 2 i \\, a^{4} r^{2}\\right)} \\frac{\\partial\\,\\psi_{1}}{\\partial t} + {\\left(2 i \\, a^{6} - 4 i \\, a^{4} m r + 2 i \\, a^{4} r^{2}\\right)} \\frac{\\partial\\,\\psi_{3}}{\\partial r}\\right)} \\cos\\left({\\theta}\\right)^{4} + {\\left(a^{5} - 2 \\, a^{3} m r + a^{3} r^{2}\\right)} \\cos\\left({\\theta}\\right)^{3} \\psi_{2}\\left(r, t, {\\theta}, {\\phi}\\right) + {\\left(4 i \\, a^{3} r^{2} \\frac{\\partial\\,\\psi_{1}}{\\partial {\\phi}} + {\\left(-2 i \\, B_{0} a^{5} q r^{2} + 4 i \\, B_{0} a^{3} m q r^{3} - 3 i \\, B_{0} a^{3} q r^{4} + 2 i \\, B_{0} a m q r^{5} - i \\, B_{0} a q r^{6}\\right)} \\psi_{1}\\left(r, t, {\\theta}, {\\phi}\\right) + {\\left(-2 i \\, a^{2} m r^{2} + 2 i \\, a^{2} r^{3}\\right)} \\psi_{3}\\left(r, t, {\\theta}, {\\phi}\\right) + {\\left(4 i \\, a^{4} r^{2} + 4 i \\, a^{2} r^{4}\\right)} \\frac{\\partial\\,\\psi_{1}}{\\partial t} + {\\left(4 i \\, a^{4} r^{2} - 8 i \\, a^{2} m r^{3} + 4 i \\, a^{2} r^{4}\\right)} \\frac{\\partial\\,\\psi_{3}}{\\partial r}\\right)} \\cos\\left({\\theta}\\right)^{2} + {\\left(a^{3} r^{2} - 2 \\, a m r^{3} + a r^{4}\\right)} \\cos\\left({\\theta}\\right) \\psi_{2}\\left(r, t, {\\theta}, {\\phi}\\right) + {\\left(-i \\, B_{0} a^{3} q r^{4} + 2 i \\, B_{0} a m q r^{5} - i \\, B_{0} a q r^{6}\\right)} \\psi_{1}\\left(r, t, {\\theta}, {\\phi}\\right) + {\\left(-i \\, a^{4} r + 2 i \\, a^{2} m r^{2} - 2 i \\, a^{2} r^{3} + i \\, m r^{4}\\right)} \\psi_{3}\\left(r, t, {\\theta}, {\\phi}\\right) + {\\left(2 i \\, a^{2} r^{4} + 2 i \\, r^{6}\\right)} \\frac{\\partial\\,\\psi_{1}}{\\partial t} + {\\left(2 i \\, a^{2} r^{4} - 4 i \\, m r^{5} + 2 i \\, r^{6}\\right)} \\frac{\\partial\\,\\psi_{3}}{\\partial r}\\right)} \\sin\\left({\\theta}\\right) + {\\left(2 i \\, a^{4} \\cos\\left({\\theta}\\right)^{4} \\frac{\\partial\\,\\psi_{3}}{\\partial {\\phi}} + 4 i \\, a^{2} r^{2} \\cos\\left({\\theta}\\right)^{2} \\frac{\\partial\\,\\psi_{3}}{\\partial {\\phi}} + 2 i \\, r^{4} \\frac{\\partial\\,\\psi_{3}}{\\partial {\\phi}} + {\\left(a^{4} + 2 \\, a^{2} r^{2} + r^{4}\\right)} \\cos\\left({\\theta}\\right) \\psi_{3}\\left(r, t, {\\theta}, {\\phi}\\right) + {\\left(2 i \\, a r^{4} \\frac{\\partial\\,\\psi_{3}}{\\partial t} + {\\left(2 i \\, a^{5} \\frac{\\partial\\,\\psi_{3}}{\\partial t} + {\\left(-i \\, B_{0} a^{6} q + i \\, B_{0} a^{4} q r^{2}\\right)} \\psi_{3}\\left(r, t, {\\theta}, {\\phi}\\right)\\right)} \\cos\\left({\\theta}\\right)^{4} - i \\, a r^{3} \\psi_{2}\\left(r, t, {\\theta}, {\\phi}\\right) + {\\left(4 i \\, a^{3} r^{2} \\frac{\\partial\\,\\psi_{3}}{\\partial t} - i \\, a^{3} r \\psi_{2}\\left(r, t, {\\theta}, {\\phi}\\right) + {\\left(-2 i \\, B_{0} a^{4} q r^{2} + 2 i \\, B_{0} a^{2} q r^{4}\\right)} \\psi_{3}\\left(r, t, {\\theta}, {\\phi}\\right)\\right)} \\cos\\left({\\theta}\\right)^{2} - {\\left(a^{4} + a^{2} r^{2}\\right)} \\cos\\left({\\theta}\\right) \\psi_{3}\\left(r, t, {\\theta}, {\\phi}\\right) + {\\left(-i \\, B_{0} a^{2} q r^{4} + i \\, B_{0} q r^{6}\\right)} \\psi_{3}\\left(r, t, {\\theta}, {\\phi}\\right)\\right)} \\sin\\left({\\theta}\\right)^{2} + 2 \\, {\\left(a^{4} \\cos\\left({\\theta}\\right)^{4} \\frac{\\partial\\,\\psi_{3}}{\\partial {\\theta}} + 2 \\, a^{2} r^{2} \\cos\\left({\\theta}\\right)^{2} \\frac{\\partial\\,\\psi_{3}}{\\partial {\\theta}} + r^{4} \\frac{\\partial\\,\\psi_{3}}{\\partial {\\theta}}\\right)} \\sin\\left({\\theta}\\right)\\right)} \\sqrt{a^{2} - 2 \\, m r + r^{2}}}{2 \\, {\\left(a^{4} \\cos\\left({\\theta}\\right)^{4} + 2 \\, a^{2} r^{2} \\cos\\left({\\theta}\\right)^{2} + r^{4}\\right)} \\sqrt{a^{2} \\cos\\left({\\theta}\\right)^{2} + r^{2}} \\sqrt{a^{2} - 2 \\, m r + r^{2}} \\sin\\left({\\theta}\\right)} \\\\ X_{\\phantom{\\, 1}}^{\\,1} & = & -\\frac{{\\left(-i \\, a^{4} r + 2 i \\, a^{2} m r^{2} - i \\, a^{2} r^{3}\\right)} \\psi_{3}\\left(r, t, {\\theta}, {\\phi}\\right) \\sin\\left({\\theta}\\right)^{3} + {\\left({\\left(i \\, B_{0} a^{7} q - 2 i \\, B_{0} a^{5} m q r + i \\, B_{0} a^{5} q r^{2}\\right)} \\cos\\left({\\theta}\\right)^{6} \\psi_{2}\\left(r, t, {\\theta}, {\\phi}\\right) - 2 i \\, a r^{4} \\frac{\\partial\\,\\psi_{2}}{\\partial {\\phi}} + {\\left(-2 i \\, a^{5} \\frac{\\partial\\,\\psi_{2}}{\\partial {\\phi}} + {\\left(i \\, B_{0} a^{7} q - 2 i \\, B_{0} a^{5} m q r + 3 i \\, B_{0} a^{5} q r^{2} - 4 i \\, B_{0} a^{3} m q r^{3} + 2 i \\, B_{0} a^{3} q r^{4}\\right)} \\psi_{2}\\left(r, t, {\\theta}, {\\phi}\\right) + {\\left(i \\, a^{4} m - i \\, a^{4} r\\right)} \\psi_{3}\\left(r, t, {\\theta}, {\\phi}\\right) + {\\left(-2 i \\, a^{6} - 2 i \\, a^{4} r^{2}\\right)} \\frac{\\partial\\,\\psi_{2}}{\\partial t} + {\\left(-2 i \\, a^{6} + 4 i \\, a^{4} m r - 2 i \\, a^{4} r^{2}\\right)} \\frac{\\partial\\,\\psi_{3}}{\\partial r}\\right)} \\cos\\left({\\theta}\\right)^{4} - {\\left(a^{5} - 2 \\, a^{3} m r + a^{3} r^{2}\\right)} \\cos\\left({\\theta}\\right)^{3} \\psi_{1}\\left(r, t, {\\theta}, {\\phi}\\right) + {\\left(-4 i \\, a^{3} r^{2} \\frac{\\partial\\,\\psi_{2}}{\\partial {\\phi}} + {\\left(2 i \\, B_{0} a^{5} q r^{2} - 4 i \\, B_{0} a^{3} m q r^{3} + 3 i \\, B_{0} a^{3} q r^{4} - 2 i \\, B_{0} a m q r^{5} + i \\, B_{0} a q r^{6}\\right)} \\psi_{2}\\left(r, t, {\\theta}, {\\phi}\\right) + {\\left(2 i \\, a^{2} m r^{2} - 2 i \\, a^{2} r^{3}\\right)} \\psi_{3}\\left(r, t, {\\theta}, {\\phi}\\right) + {\\left(-4 i \\, a^{4} r^{2} - 4 i \\, a^{2} r^{4}\\right)} \\frac{\\partial\\,\\psi_{2}}{\\partial t} + {\\left(-4 i \\, a^{4} r^{2} + 8 i \\, a^{2} m r^{3} - 4 i \\, a^{2} r^{4}\\right)} \\frac{\\partial\\,\\psi_{3}}{\\partial r}\\right)} \\cos\\left({\\theta}\\right)^{2} - {\\left(a^{3} r^{2} - 2 \\, a m r^{3} + a r^{4}\\right)} \\cos\\left({\\theta}\\right) \\psi_{1}\\left(r, t, {\\theta}, {\\phi}\\right) + {\\left(i \\, B_{0} a^{3} q r^{4} - 2 i \\, B_{0} a m q r^{5} + i \\, B_{0} a q r^{6}\\right)} \\psi_{2}\\left(r, t, {\\theta}, {\\phi}\\right) + {\\left(i \\, a^{4} r - 2 i \\, a^{2} m r^{2} + 2 i \\, a^{2} r^{3} - i \\, m r^{4}\\right)} \\psi_{3}\\left(r, t, {\\theta}, {\\phi}\\right) + {\\left(-2 i \\, a^{2} r^{4} - 2 i \\, r^{6}\\right)} \\frac{\\partial\\,\\psi_{2}}{\\partial t} + {\\left(-2 i \\, a^{2} r^{4} + 4 i \\, m r^{5} - 2 i \\, r^{6}\\right)} \\frac{\\partial\\,\\psi_{3}}{\\partial r}\\right)} \\sin\\left({\\theta}\\right) + {\\left(2 i \\, a^{4} \\cos\\left({\\theta}\\right)^{4} \\frac{\\partial\\,\\psi_{3}}{\\partial {\\phi}} + 4 i \\, a^{2} r^{2} \\cos\\left({\\theta}\\right)^{2} \\frac{\\partial\\,\\psi_{3}}{\\partial {\\phi}} + 2 i \\, r^{4} \\frac{\\partial\\,\\psi_{3}}{\\partial {\\phi}} + {\\left(a^{4} + 2 \\, a^{2} r^{2} + r^{4}\\right)} \\cos\\left({\\theta}\\right) \\psi_{3}\\left(r, t, {\\theta}, {\\phi}\\right) + {\\left(2 i \\, a r^{4} \\frac{\\partial\\,\\psi_{3}}{\\partial t} + {\\left(2 i \\, a^{5} \\frac{\\partial\\,\\psi_{3}}{\\partial t} + {\\left(-i \\, B_{0} a^{6} q + i \\, B_{0} a^{4} q r^{2}\\right)} \\psi_{3}\\left(r, t, {\\theta}, {\\phi}\\right)\\right)} \\cos\\left({\\theta}\\right)^{4} - i \\, a r^{3} \\psi_{1}\\left(r, t, {\\theta}, {\\phi}\\right) + {\\left(4 i \\, a^{3} r^{2} \\frac{\\partial\\,\\psi_{3}}{\\partial t} - i \\, a^{3} r \\psi_{1}\\left(r, t, {\\theta}, {\\phi}\\right) + {\\left(-2 i \\, B_{0} a^{4} q r^{2} + 2 i \\, B_{0} a^{2} q r^{4}\\right)} \\psi_{3}\\left(r, t, {\\theta}, {\\phi}\\right)\\right)} \\cos\\left({\\theta}\\right)^{2} - {\\left(a^{4} + a^{2} r^{2}\\right)} \\cos\\left({\\theta}\\right) \\psi_{3}\\left(r, t, {\\theta}, {\\phi}\\right) + {\\left(-i \\, B_{0} a^{2} q r^{4} + i \\, B_{0} q r^{6}\\right)} \\psi_{3}\\left(r, t, {\\theta}, {\\phi}\\right)\\right)} \\sin\\left({\\theta}\\right)^{2} + 2 \\, {\\left(a^{4} \\cos\\left({\\theta}\\right)^{4} \\frac{\\partial\\,\\psi_{3}}{\\partial {\\theta}} + 2 \\, a^{2} r^{2} \\cos\\left({\\theta}\\right)^{2} \\frac{\\partial\\,\\psi_{3}}{\\partial {\\theta}} + r^{4} \\frac{\\partial\\,\\psi_{3}}{\\partial {\\theta}}\\right)} \\sin\\left({\\theta}\\right)\\right)} \\sqrt{a^{2} - 2 \\, m r + r^{2}}}{2 \\, {\\left(a^{4} \\cos\\left({\\theta}\\right)^{4} + 2 \\, a^{2} r^{2} \\cos\\left({\\theta}\\right)^{2} + r^{4}\\right)} \\sqrt{a^{2} \\cos\\left({\\theta}\\right)^{2} + r^{2}} \\sqrt{a^{2} - 2 \\, m r + r^{2}} \\sin\\left({\\theta}\\right)} \\\\ X_{\\phantom{\\, 2}}^{\\,2} & = & -\\frac{{\\left(i \\, a^{4} r - 2 i \\, a^{2} m r^{2} + i \\, a^{2} r^{3}\\right)} \\psi_{2}\\left(r, t, {\\theta}, {\\phi}\\right) \\sin\\left({\\theta}\\right)^{3} + {\\left({\\left(-i \\, B_{0} a^{7} q + 2 i \\, B_{0} a^{5} m q r - i \\, B_{0} a^{5} q r^{2}\\right)} \\cos\\left({\\theta}\\right)^{6} \\psi_{3}\\left(r, t, {\\theta}, {\\phi}\\right) + 2 i \\, a r^{4} \\frac{\\partial\\,\\psi_{3}}{\\partial {\\phi}} + {\\left(2 i \\, a^{5} \\frac{\\partial\\,\\psi_{3}}{\\partial {\\phi}} + {\\left(-i \\, a^{4} m + i \\, a^{4} r\\right)} \\psi_{2}\\left(r, t, {\\theta}, {\\phi}\\right) + {\\left(-i \\, B_{0} a^{7} q + 2 i \\, B_{0} a^{5} m q r - 3 i \\, B_{0} a^{5} q r^{2} + 4 i \\, B_{0} a^{3} m q r^{3} - 2 i \\, B_{0} a^{3} q r^{4}\\right)} \\psi_{3}\\left(r, t, {\\theta}, {\\phi}\\right) + {\\left(2 i \\, a^{6} - 4 i \\, a^{4} m r + 2 i \\, a^{4} r^{2}\\right)} \\frac{\\partial\\,\\psi_{2}}{\\partial r} + {\\left(2 i \\, a^{6} + 2 i \\, a^{4} r^{2}\\right)} \\frac{\\partial\\,\\psi_{3}}{\\partial t}\\right)} \\cos\\left({\\theta}\\right)^{4} + {\\left(a^{5} - 2 \\, a^{3} m r + a^{3} r^{2}\\right)} \\cos\\left({\\theta}\\right)^{3} \\psi_{3}\\left(r, t, {\\theta}, {\\phi}\\right) + {\\left(4 i \\, a^{3} r^{2} \\frac{\\partial\\,\\psi_{3}}{\\partial {\\phi}} + {\\left(-2 i \\, a^{2} m r^{2} + 2 i \\, a^{2} r^{3}\\right)} \\psi_{2}\\left(r, t, {\\theta}, {\\phi}\\right) + {\\left(-2 i \\, B_{0} a^{5} q r^{2} + 4 i \\, B_{0} a^{3} m q r^{3} - 3 i \\, B_{0} a^{3} q r^{4} + 2 i \\, B_{0} a m q r^{5} - i \\, B_{0} a q r^{6}\\right)} \\psi_{3}\\left(r, t, {\\theta}, {\\phi}\\right) + {\\left(4 i \\, a^{4} r^{2} - 8 i \\, a^{2} m r^{3} + 4 i \\, a^{2} r^{4}\\right)} \\frac{\\partial\\,\\psi_{2}}{\\partial r} + {\\left(4 i \\, a^{4} r^{2} + 4 i \\, a^{2} r^{4}\\right)} \\frac{\\partial\\,\\psi_{3}}{\\partial t}\\right)} \\cos\\left({\\theta}\\right)^{2} + {\\left(a^{3} r^{2} - 2 \\, a m r^{3} + a r^{4}\\right)} \\cos\\left({\\theta}\\right) \\psi_{3}\\left(r, t, {\\theta}, {\\phi}\\right) + {\\left(-i \\, a^{4} r + 2 i \\, a^{2} m r^{2} - 2 i \\, a^{2} r^{3} + i \\, m r^{4}\\right)} \\psi_{2}\\left(r, t, {\\theta}, {\\phi}\\right) + {\\left(-i \\, B_{0} a^{3} q r^{4} + 2 i \\, B_{0} a m q r^{5} - i \\, B_{0} a q r^{6}\\right)} \\psi_{3}\\left(r, t, {\\theta}, {\\phi}\\right) + {\\left(2 i \\, a^{2} r^{4} - 4 i \\, m r^{5} + 2 i \\, r^{6}\\right)} \\frac{\\partial\\,\\psi_{2}}{\\partial r} + {\\left(2 i \\, a^{2} r^{4} + 2 i \\, r^{6}\\right)} \\frac{\\partial\\,\\psi_{3}}{\\partial t}\\right)} \\sin\\left({\\theta}\\right) + {\\left(2 i \\, a^{4} \\cos\\left({\\theta}\\right)^{4} \\frac{\\partial\\,\\psi_{1}}{\\partial {\\phi}} + 4 i \\, a^{2} r^{2} \\cos\\left({\\theta}\\right)^{2} \\frac{\\partial\\,\\psi_{1}}{\\partial {\\phi}} + 2 i \\, r^{4} \\frac{\\partial\\,\\psi_{1}}{\\partial {\\phi}} + {\\left(a^{4} + 2 \\, a^{2} r^{2} + r^{4}\\right)} \\cos\\left({\\theta}\\right) \\psi_{2}\\left(r, t, {\\theta}, {\\phi}\\right) + {\\left(2 i \\, a r^{4} \\frac{\\partial\\,\\psi_{1}}{\\partial t} + {\\left(2 i \\, a^{5} \\frac{\\partial\\,\\psi_{1}}{\\partial t} + {\\left(-i \\, B_{0} a^{6} q + i \\, B_{0} a^{4} q r^{2}\\right)} \\psi_{1}\\left(r, t, {\\theta}, {\\phi}\\right)\\right)} \\cos\\left({\\theta}\\right)^{4} - i \\, a r^{3} \\psi_{3}\\left(r, t, {\\theta}, {\\phi}\\right) + {\\left(4 i \\, a^{3} r^{2} \\frac{\\partial\\,\\psi_{1}}{\\partial t} - i \\, a^{3} r \\psi_{3}\\left(r, t, {\\theta}, {\\phi}\\right) + {\\left(-2 i \\, B_{0} a^{4} q r^{2} + 2 i \\, B_{0} a^{2} q r^{4}\\right)} \\psi_{1}\\left(r, t, {\\theta}, {\\phi}\\right)\\right)} \\cos\\left({\\theta}\\right)^{2} - {\\left(a^{4} + a^{2} r^{2}\\right)} \\cos\\left({\\theta}\\right) \\psi_{2}\\left(r, t, {\\theta}, {\\phi}\\right) + {\\left(-i \\, B_{0} a^{2} q r^{4} + i \\, B_{0} q r^{6}\\right)} \\psi_{1}\\left(r, t, {\\theta}, {\\phi}\\right)\\right)} \\sin\\left({\\theta}\\right)^{2} + 2 \\, {\\left(a^{4} \\cos\\left({\\theta}\\right)^{4} \\frac{\\partial\\,\\psi_{2}}{\\partial {\\theta}} + 2 \\, a^{2} r^{2} \\cos\\left({\\theta}\\right)^{2} \\frac{\\partial\\,\\psi_{2}}{\\partial {\\theta}} + r^{4} \\frac{\\partial\\,\\psi_{2}}{\\partial {\\theta}}\\right)} \\sin\\left({\\theta}\\right)\\right)} \\sqrt{a^{2} - 2 \\, m r + r^{2}}}{2 \\, {\\left(a^{4} \\cos\\left({\\theta}\\right)^{4} + 2 \\, a^{2} r^{2} \\cos\\left({\\theta}\\right)^{2} + r^{4}\\right)} \\sqrt{a^{2} \\cos\\left({\\theta}\\right)^{2} + r^{2}} \\sqrt{a^{2} - 2 \\, m r + r^{2}} \\sin\\left({\\theta}\\right)} \\\\ X_{\\phantom{\\, 3}}^{\\,3} & = & \\frac{{\\left(-i \\, a^{4} r + 2 i \\, a^{2} m r^{2} - i \\, a^{2} r^{3}\\right)} \\psi_{1}\\left(r, t, {\\theta}, {\\phi}\\right) \\sin\\left({\\theta}\\right)^{3} + {\\left({\\left(i \\, B_{0} a^{7} q - 2 i \\, B_{0} a^{5} m q r + i \\, B_{0} a^{5} q r^{2}\\right)} \\cos\\left({\\theta}\\right)^{6} \\psi_{3}\\left(r, t, {\\theta}, {\\phi}\\right) - 2 i \\, a r^{4} \\frac{\\partial\\,\\psi_{3}}{\\partial {\\phi}} + {\\left(-2 i \\, a^{5} \\frac{\\partial\\,\\psi_{3}}{\\partial {\\phi}} + {\\left(i \\, a^{4} m - i \\, a^{4} r\\right)} \\psi_{1}\\left(r, t, {\\theta}, {\\phi}\\right) + {\\left(i \\, B_{0} a^{7} q - 2 i \\, B_{0} a^{5} m q r + 3 i \\, B_{0} a^{5} q r^{2} - 4 i \\, B_{0} a^{3} m q r^{3} + 2 i \\, B_{0} a^{3} q r^{4}\\right)} \\psi_{3}\\left(r, t, {\\theta}, {\\phi}\\right) + {\\left(-2 i \\, a^{6} + 4 i \\, a^{4} m r - 2 i \\, a^{4} r^{2}\\right)} \\frac{\\partial\\,\\psi_{1}}{\\partial r} + {\\left(-2 i \\, a^{6} - 2 i \\, a^{4} r^{2}\\right)} \\frac{\\partial\\,\\psi_{3}}{\\partial t}\\right)} \\cos\\left({\\theta}\\right)^{4} - {\\left(a^{5} - 2 \\, a^{3} m r + a^{3} r^{2}\\right)} \\cos\\left({\\theta}\\right)^{3} \\psi_{3}\\left(r, t, {\\theta}, {\\phi}\\right) + {\\left(-4 i \\, a^{3} r^{2} \\frac{\\partial\\,\\psi_{3}}{\\partial {\\phi}} + {\\left(2 i \\, a^{2} m r^{2} - 2 i \\, a^{2} r^{3}\\right)} \\psi_{1}\\left(r, t, {\\theta}, {\\phi}\\right) + {\\left(2 i \\, B_{0} a^{5} q r^{2} - 4 i \\, B_{0} a^{3} m q r^{3} + 3 i \\, B_{0} a^{3} q r^{4} - 2 i \\, B_{0} a m q r^{5} + i \\, B_{0} a q r^{6}\\right)} \\psi_{3}\\left(r, t, {\\theta}, {\\phi}\\right) + {\\left(-4 i \\, a^{4} r^{2} + 8 i \\, a^{2} m r^{3} - 4 i \\, a^{2} r^{4}\\right)} \\frac{\\partial\\,\\psi_{1}}{\\partial r} + {\\left(-4 i \\, a^{4} r^{2} - 4 i \\, a^{2} r^{4}\\right)} \\frac{\\partial\\,\\psi_{3}}{\\partial t}\\right)} \\cos\\left({\\theta}\\right)^{2} - {\\left(a^{3} r^{2} - 2 \\, a m r^{3} + a r^{4}\\right)} \\cos\\left({\\theta}\\right) \\psi_{3}\\left(r, t, {\\theta}, {\\phi}\\right) + {\\left(i \\, a^{4} r - 2 i \\, a^{2} m r^{2} + 2 i \\, a^{2} r^{3} - i \\, m r^{4}\\right)} \\psi_{1}\\left(r, t, {\\theta}, {\\phi}\\right) + {\\left(i \\, B_{0} a^{3} q r^{4} - 2 i \\, B_{0} a m q r^{5} + i \\, B_{0} a q r^{6}\\right)} \\psi_{3}\\left(r, t, {\\theta}, {\\phi}\\right) + {\\left(-2 i \\, a^{2} r^{4} + 4 i \\, m r^{5} - 2 i \\, r^{6}\\right)} \\frac{\\partial\\,\\psi_{1}}{\\partial r} + {\\left(-2 i \\, a^{2} r^{4} - 2 i \\, r^{6}\\right)} \\frac{\\partial\\,\\psi_{3}}{\\partial t}\\right)} \\sin\\left({\\theta}\\right) + {\\left(2 i \\, a^{4} \\cos\\left({\\theta}\\right)^{4} \\frac{\\partial\\,\\psi_{2}}{\\partial {\\phi}} + 4 i \\, a^{2} r^{2} \\cos\\left({\\theta}\\right)^{2} \\frac{\\partial\\,\\psi_{2}}{\\partial {\\phi}} + 2 i \\, r^{4} \\frac{\\partial\\,\\psi_{2}}{\\partial {\\phi}} + {\\left(a^{4} + 2 \\, a^{2} r^{2} + r^{4}\\right)} \\cos\\left({\\theta}\\right) \\psi_{1}\\left(r, t, {\\theta}, {\\phi}\\right) + {\\left(2 i \\, a r^{4} \\frac{\\partial\\,\\psi_{2}}{\\partial t} + {\\left(2 i \\, a^{5} \\frac{\\partial\\,\\psi_{2}}{\\partial t} + {\\left(-i \\, B_{0} a^{6} q + i \\, B_{0} a^{4} q r^{2}\\right)} \\psi_{2}\\left(r, t, {\\theta}, {\\phi}\\right)\\right)} \\cos\\left({\\theta}\\right)^{4} - i \\, a r^{3} \\psi_{3}\\left(r, t, {\\theta}, {\\phi}\\right) + {\\left(4 i \\, a^{3} r^{2} \\frac{\\partial\\,\\psi_{2}}{\\partial t} - i \\, a^{3} r \\psi_{3}\\left(r, t, {\\theta}, {\\phi}\\right) + {\\left(-2 i \\, B_{0} a^{4} q r^{2} + 2 i \\, B_{0} a^{2} q r^{4}\\right)} \\psi_{2}\\left(r, t, {\\theta}, {\\phi}\\right)\\right)} \\cos\\left({\\theta}\\right)^{2} - {\\left(a^{4} + a^{2} r^{2}\\right)} \\cos\\left({\\theta}\\right) \\psi_{1}\\left(r, t, {\\theta}, {\\phi}\\right) + {\\left(-i \\, B_{0} a^{2} q r^{4} + i \\, B_{0} q r^{6}\\right)} \\psi_{2}\\left(r, t, {\\theta}, {\\phi}\\right)\\right)} \\sin\\left({\\theta}\\right)^{2} + 2 \\, {\\left(a^{4} \\cos\\left({\\theta}\\right)^{4} \\frac{\\partial\\,\\psi_{1}}{\\partial {\\theta}} + 2 \\, a^{2} r^{2} \\cos\\left({\\theta}\\right)^{2} \\frac{\\partial\\,\\psi_{1}}{\\partial {\\theta}} + r^{4} \\frac{\\partial\\,\\psi_{1}}{\\partial {\\theta}}\\right)} \\sin\\left({\\theta}\\right)\\right)} \\sqrt{a^{2} - 2 \\, m r + r^{2}}}{2 \\, {\\left(a^{4} \\cos\\left({\\theta}\\right)^{4} + 2 \\, a^{2} r^{2} \\cos\\left({\\theta}\\right)^{2} + r^{4}\\right)} \\sqrt{a^{2} \\cos\\left({\\theta}\\right)^{2} + r^{2}} \\sqrt{a^{2} - 2 \\, m r + r^{2}} \\sin\\left({\\theta}\\right)} \\end{array}$$"
      ],
      "text/plain": [
       "X^0 = 1/2*((I*a^4*r - 2*I*a^2*m*r^2 + I*a^2*r^3)*psi3(r, t, th, ph)*sin(th)^3 + ((-I*B_0*a^7*q + 2*I*B_0*a^5*m*q*r - I*B_0*a^5*q*r^2)*cos(th)^6*psi1(r, t, th, ph) + 2*I*a*r^4*d(psi1)/dph + (2*I*a^5*d(psi1)/dph + (-I*B_0*a^7*q + 2*I*B_0*a^5*m*q*r - 3*I*B_0*a^5*q*r^2 + 4*I*B_0*a^3*m*q*r^3 - 2*I*B_0*a^3*q*r^4)*psi1(r, t, th, ph) + (-I*a^4*m + I*a^4*r)*psi3(r, t, th, ph) + (2*I*a^6 + 2*I*a^4*r^2)*d(psi1)/dt + (2*I*a^6 - 4*I*a^4*m*r + 2*I*a^4*r^2)*d(psi3)/dr)*cos(th)^4 + (a^5 - 2*a^3*m*r + a^3*r^2)*cos(th)^3*psi2(r, t, th, ph) + (4*I*a^3*r^2*d(psi1)/dph + (-2*I*B_0*a^5*q*r^2 + 4*I*B_0*a^3*m*q*r^3 - 3*I*B_0*a^3*q*r^4 + 2*I*B_0*a*m*q*r^5 - I*B_0*a*q*r^6)*psi1(r, t, th, ph) + (-2*I*a^2*m*r^2 + 2*I*a^2*r^3)*psi3(r, t, th, ph) + (4*I*a^4*r^2 + 4*I*a^2*r^4)*d(psi1)/dt + (4*I*a^4*r^2 - 8*I*a^2*m*r^3 + 4*I*a^2*r^4)*d(psi3)/dr)*cos(th)^2 + (a^3*r^2 - 2*a*m*r^3 + a*r^4)*cos(th)*psi2(r, t, th, ph) + (-I*B_0*a^3*q*r^4 + 2*I*B_0*a*m*q*r^5 - I*B_0*a*q*r^6)*psi1(r, t, th, ph) + (-I*a^4*r + 2*I*a^2*m*r^2 - 2*I*a^2*r^3 + I*m*r^4)*psi3(r, t, th, ph) + (2*I*a^2*r^4 + 2*I*r^6)*d(psi1)/dt + (2*I*a^2*r^4 - 4*I*m*r^5 + 2*I*r^6)*d(psi3)/dr)*sin(th) + (2*I*a^4*cos(th)^4*d(psi3)/dph + 4*I*a^2*r^2*cos(th)^2*d(psi3)/dph + 2*I*r^4*d(psi3)/dph + (a^4 + 2*a^2*r^2 + r^4)*cos(th)*psi3(r, t, th, ph) + (2*I*a*r^4*d(psi3)/dt + (2*I*a^5*d(psi3)/dt + (-I*B_0*a^6*q + I*B_0*a^4*q*r^2)*psi3(r, t, th, ph))*cos(th)^4 - I*a*r^3*psi2(r, t, th, ph) + (4*I*a^3*r^2*d(psi3)/dt - I*a^3*r*psi2(r, t, th, ph) + (-2*I*B_0*a^4*q*r^2 + 2*I*B_0*a^2*q*r^4)*psi3(r, t, th, ph))*cos(th)^2 - (a^4 + a^2*r^2)*cos(th)*psi3(r, t, th, ph) + (-I*B_0*a^2*q*r^4 + I*B_0*q*r^6)*psi3(r, t, th, ph))*sin(th)^2 + 2*(a^4*cos(th)^4*d(psi3)/dth + 2*a^2*r^2*cos(th)^2*d(psi3)/dth + r^4*d(psi3)/dth)*sin(th))*sqrt(a^2 - 2*m*r + r^2))/((a^4*cos(th)^4 + 2*a^2*r^2*cos(th)^2 + r^4)*sqrt(a^2*cos(th)^2 + r^2)*sqrt(a^2 - 2*m*r + r^2)*sin(th)) \n",
       "X^1 = -1/2*((-I*a^4*r + 2*I*a^2*m*r^2 - I*a^2*r^3)*psi3(r, t, th, ph)*sin(th)^3 + ((I*B_0*a^7*q - 2*I*B_0*a^5*m*q*r + I*B_0*a^5*q*r^2)*cos(th)^6*psi2(r, t, th, ph) - 2*I*a*r^4*d(psi2)/dph + (-2*I*a^5*d(psi2)/dph + (I*B_0*a^7*q - 2*I*B_0*a^5*m*q*r + 3*I*B_0*a^5*q*r^2 - 4*I*B_0*a^3*m*q*r^3 + 2*I*B_0*a^3*q*r^4)*psi2(r, t, th, ph) + (I*a^4*m - I*a^4*r)*psi3(r, t, th, ph) + (-2*I*a^6 - 2*I*a^4*r^2)*d(psi2)/dt + (-2*I*a^6 + 4*I*a^4*m*r - 2*I*a^4*r^2)*d(psi3)/dr)*cos(th)^4 - (a^5 - 2*a^3*m*r + a^3*r^2)*cos(th)^3*psi1(r, t, th, ph) + (-4*I*a^3*r^2*d(psi2)/dph + (2*I*B_0*a^5*q*r^2 - 4*I*B_0*a^3*m*q*r^3 + 3*I*B_0*a^3*q*r^4 - 2*I*B_0*a*m*q*r^5 + I*B_0*a*q*r^6)*psi2(r, t, th, ph) + (2*I*a^2*m*r^2 - 2*I*a^2*r^3)*psi3(r, t, th, ph) + (-4*I*a^4*r^2 - 4*I*a^2*r^4)*d(psi2)/dt + (-4*I*a^4*r^2 + 8*I*a^2*m*r^3 - 4*I*a^2*r^4)*d(psi3)/dr)*cos(th)^2 - (a^3*r^2 - 2*a*m*r^3 + a*r^4)*cos(th)*psi1(r, t, th, ph) + (I*B_0*a^3*q*r^4 - 2*I*B_0*a*m*q*r^5 + I*B_0*a*q*r^6)*psi2(r, t, th, ph) + (I*a^4*r - 2*I*a^2*m*r^2 + 2*I*a^2*r^3 - I*m*r^4)*psi3(r, t, th, ph) + (-2*I*a^2*r^4 - 2*I*r^6)*d(psi2)/dt + (-2*I*a^2*r^4 + 4*I*m*r^5 - 2*I*r^6)*d(psi3)/dr)*sin(th) + (2*I*a^4*cos(th)^4*d(psi3)/dph + 4*I*a^2*r^2*cos(th)^2*d(psi3)/dph + 2*I*r^4*d(psi3)/dph + (a^4 + 2*a^2*r^2 + r^4)*cos(th)*psi3(r, t, th, ph) + (2*I*a*r^4*d(psi3)/dt + (2*I*a^5*d(psi3)/dt + (-I*B_0*a^6*q + I*B_0*a^4*q*r^2)*psi3(r, t, th, ph))*cos(th)^4 - I*a*r^3*psi1(r, t, th, ph) + (4*I*a^3*r^2*d(psi3)/dt - I*a^3*r*psi1(r, t, th, ph) + (-2*I*B_0*a^4*q*r^2 + 2*I*B_0*a^2*q*r^4)*psi3(r, t, th, ph))*cos(th)^2 - (a^4 + a^2*r^2)*cos(th)*psi3(r, t, th, ph) + (-I*B_0*a^2*q*r^4 + I*B_0*q*r^6)*psi3(r, t, th, ph))*sin(th)^2 + 2*(a^4*cos(th)^4*d(psi3)/dth + 2*a^2*r^2*cos(th)^2*d(psi3)/dth + r^4*d(psi3)/dth)*sin(th))*sqrt(a^2 - 2*m*r + r^2))/((a^4*cos(th)^4 + 2*a^2*r^2*cos(th)^2 + r^4)*sqrt(a^2*cos(th)^2 + r^2)*sqrt(a^2 - 2*m*r + r^2)*sin(th)) \n",
       "X^2 = -1/2*((I*a^4*r - 2*I*a^2*m*r^2 + I*a^2*r^3)*psi2(r, t, th, ph)*sin(th)^3 + ((-I*B_0*a^7*q + 2*I*B_0*a^5*m*q*r - I*B_0*a^5*q*r^2)*cos(th)^6*psi3(r, t, th, ph) + 2*I*a*r^4*d(psi3)/dph + (2*I*a^5*d(psi3)/dph + (-I*a^4*m + I*a^4*r)*psi2(r, t, th, ph) + (-I*B_0*a^7*q + 2*I*B_0*a^5*m*q*r - 3*I*B_0*a^5*q*r^2 + 4*I*B_0*a^3*m*q*r^3 - 2*I*B_0*a^3*q*r^4)*psi3(r, t, th, ph) + (2*I*a^6 - 4*I*a^4*m*r + 2*I*a^4*r^2)*d(psi2)/dr + (2*I*a^6 + 2*I*a^4*r^2)*d(psi3)/dt)*cos(th)^4 + (a^5 - 2*a^3*m*r + a^3*r^2)*cos(th)^3*psi3(r, t, th, ph) + (4*I*a^3*r^2*d(psi3)/dph + (-2*I*a^2*m*r^2 + 2*I*a^2*r^3)*psi2(r, t, th, ph) + (-2*I*B_0*a^5*q*r^2 + 4*I*B_0*a^3*m*q*r^3 - 3*I*B_0*a^3*q*r^4 + 2*I*B_0*a*m*q*r^5 - I*B_0*a*q*r^6)*psi3(r, t, th, ph) + (4*I*a^4*r^2 - 8*I*a^2*m*r^3 + 4*I*a^2*r^4)*d(psi2)/dr + (4*I*a^4*r^2 + 4*I*a^2*r^4)*d(psi3)/dt)*cos(th)^2 + (a^3*r^2 - 2*a*m*r^3 + a*r^4)*cos(th)*psi3(r, t, th, ph) + (-I*a^4*r + 2*I*a^2*m*r^2 - 2*I*a^2*r^3 + I*m*r^4)*psi2(r, t, th, ph) + (-I*B_0*a^3*q*r^4 + 2*I*B_0*a*m*q*r^5 - I*B_0*a*q*r^6)*psi3(r, t, th, ph) + (2*I*a^2*r^4 - 4*I*m*r^5 + 2*I*r^6)*d(psi2)/dr + (2*I*a^2*r^4 + 2*I*r^6)*d(psi3)/dt)*sin(th) + (2*I*a^4*cos(th)^4*d(psi1)/dph + 4*I*a^2*r^2*cos(th)^2*d(psi1)/dph + 2*I*r^4*d(psi1)/dph + (a^4 + 2*a^2*r^2 + r^4)*cos(th)*psi2(r, t, th, ph) + (2*I*a*r^4*d(psi1)/dt + (2*I*a^5*d(psi1)/dt + (-I*B_0*a^6*q + I*B_0*a^4*q*r^2)*psi1(r, t, th, ph))*cos(th)^4 - I*a*r^3*psi3(r, t, th, ph) + (4*I*a^3*r^2*d(psi1)/dt - I*a^3*r*psi3(r, t, th, ph) + (-2*I*B_0*a^4*q*r^2 + 2*I*B_0*a^2*q*r^4)*psi1(r, t, th, ph))*cos(th)^2 - (a^4 + a^2*r^2)*cos(th)*psi2(r, t, th, ph) + (-I*B_0*a^2*q*r^4 + I*B_0*q*r^6)*psi1(r, t, th, ph))*sin(th)^2 + 2*(a^4*cos(th)^4*d(psi2)/dth + 2*a^2*r^2*cos(th)^2*d(psi2)/dth + r^4*d(psi2)/dth)*sin(th))*sqrt(a^2 - 2*m*r + r^2))/((a^4*cos(th)^4 + 2*a^2*r^2*cos(th)^2 + r^4)*sqrt(a^2*cos(th)^2 + r^2)*sqrt(a^2 - 2*m*r + r^2)*sin(th)) \n",
       "X^3 = 1/2*((-I*a^4*r + 2*I*a^2*m*r^2 - I*a^2*r^3)*psi1(r, t, th, ph)*sin(th)^3 + ((I*B_0*a^7*q - 2*I*B_0*a^5*m*q*r + I*B_0*a^5*q*r^2)*cos(th)^6*psi3(r, t, th, ph) - 2*I*a*r^4*d(psi3)/dph + (-2*I*a^5*d(psi3)/dph + (I*a^4*m - I*a^4*r)*psi1(r, t, th, ph) + (I*B_0*a^7*q - 2*I*B_0*a^5*m*q*r + 3*I*B_0*a^5*q*r^2 - 4*I*B_0*a^3*m*q*r^3 + 2*I*B_0*a^3*q*r^4)*psi3(r, t, th, ph) + (-2*I*a^6 + 4*I*a^4*m*r - 2*I*a^4*r^2)*d(psi1)/dr + (-2*I*a^6 - 2*I*a^4*r^2)*d(psi3)/dt)*cos(th)^4 - (a^5 - 2*a^3*m*r + a^3*r^2)*cos(th)^3*psi3(r, t, th, ph) + (-4*I*a^3*r^2*d(psi3)/dph + (2*I*a^2*m*r^2 - 2*I*a^2*r^3)*psi1(r, t, th, ph) + (2*I*B_0*a^5*q*r^2 - 4*I*B_0*a^3*m*q*r^3 + 3*I*B_0*a^3*q*r^4 - 2*I*B_0*a*m*q*r^5 + I*B_0*a*q*r^6)*psi3(r, t, th, ph) + (-4*I*a^4*r^2 + 8*I*a^2*m*r^3 - 4*I*a^2*r^4)*d(psi1)/dr + (-4*I*a^4*r^2 - 4*I*a^2*r^4)*d(psi3)/dt)*cos(th)^2 - (a^3*r^2 - 2*a*m*r^3 + a*r^4)*cos(th)*psi3(r, t, th, ph) + (I*a^4*r - 2*I*a^2*m*r^2 + 2*I*a^2*r^3 - I*m*r^4)*psi1(r, t, th, ph) + (I*B_0*a^3*q*r^4 - 2*I*B_0*a*m*q*r^5 + I*B_0*a*q*r^6)*psi3(r, t, th, ph) + (-2*I*a^2*r^4 + 4*I*m*r^5 - 2*I*r^6)*d(psi1)/dr + (-2*I*a^2*r^4 - 2*I*r^6)*d(psi3)/dt)*sin(th) + (2*I*a^4*cos(th)^4*d(psi2)/dph + 4*I*a^2*r^2*cos(th)^2*d(psi2)/dph + 2*I*r^4*d(psi2)/dph + (a^4 + 2*a^2*r^2 + r^4)*cos(th)*psi1(r, t, th, ph) + (2*I*a*r^4*d(psi2)/dt + (2*I*a^5*d(psi2)/dt + (-I*B_0*a^6*q + I*B_0*a^4*q*r^2)*psi2(r, t, th, ph))*cos(th)^4 - I*a*r^3*psi3(r, t, th, ph) + (4*I*a^3*r^2*d(psi2)/dt - I*a^3*r*psi3(r, t, th, ph) + (-2*I*B_0*a^4*q*r^2 + 2*I*B_0*a^2*q*r^4)*psi2(r, t, th, ph))*cos(th)^2 - (a^4 + a^2*r^2)*cos(th)*psi1(r, t, th, ph) + (-I*B_0*a^2*q*r^4 + I*B_0*q*r^6)*psi2(r, t, th, ph))*sin(th)^2 + 2*(a^4*cos(th)^4*d(psi1)/dth + 2*a^2*r^2*cos(th)^2*d(psi1)/dth + r^4*d(psi1)/dth)*sin(th))*sqrt(a^2 - 2*m*r + r^2))/((a^4*cos(th)^4 + 2*a^2*r^2*cos(th)^2 + r^4)*sqrt(a^2*cos(th)^2 + r^2)*sqrt(a^2 - 2*m*r + r^2)*sin(th)) "
      ]
     },
     "execution_count": 20,
     "metadata": {},
     "output_type": "execute_result"
    }
   ],
   "source": [
    "nab_A_psi = sb.section( latexname='\\\\nabla\\\\psi' )\n",
    "nab_A_psi[e_sb,:] = [0,0,0,0]\n",
    "\n",
    "for i in range(0,4):\n",
    "    nab_A_psi += Gamma_a[i](e_nab_A_psi[i]) \n",
    "    \n",
    "nab_A_psi.display_comp()"
   ]
  }
 ],
 "metadata": {
  "kernelspec": {
   "display_name": "SageMath 9.3",
   "language": "sage",
   "name": "sagemath"
  },
  "language_info": {
   "codemirror_mode": {
    "name": "ipython",
    "version": 3
   },
   "file_extension": ".py",
   "mimetype": "text/x-python",
   "name": "python",
   "nbconvert_exporter": "python",
   "pygments_lexer": "ipython3",
   "version": "3.7.10"
  }
 },
 "nbformat": 4,
 "nbformat_minor": 4
}
