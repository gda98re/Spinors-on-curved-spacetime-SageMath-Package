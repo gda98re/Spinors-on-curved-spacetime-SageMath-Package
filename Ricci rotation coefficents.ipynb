{
 "cells": [
  {
   "cell_type": "markdown",
   "metadata": {},
   "source": [
    "# Ricci rotation coefficents and Riemann tensor and frame bundle"
   ]
  },
  {
   "cell_type": "markdown",
   "metadata": {},
   "source": [
    "## Basic initialization of the lorentzian manifold"
   ]
  },
  {
   "cell_type": "markdown",
   "metadata": {},
   "source": [
    "Initialization of the Schwarzschild manifold $\\mathcal M_{Schwarzschild}$ atlas with Schwarzschild chart (SD) and of the metric tensor $g$ :"
   ]
  },
  {
   "cell_type": "code",
   "execution_count": 1,
   "metadata": {},
   "outputs": [
    {
     "data": {
      "text/html": [
       "<html><script type=\"math/tex; mode=display\">\\newcommand{\\Bold}[1]{\\mathbf{#1}}g = \\left( \\frac{2 \\, m}{r} - 1 \\right) \\mathrm{d} t\\otimes \\mathrm{d} t + \\left( -\\frac{1}{\\frac{2 \\, m}{r} - 1} \\right) \\mathrm{d} r\\otimes \\mathrm{d} r + r^{2} \\mathrm{d} {\\theta}\\otimes \\mathrm{d} {\\theta} + r^{2} \\sin\\left({\\theta}\\right)^{2} \\mathrm{d} {\\phi}\\otimes \\mathrm{d} {\\phi}</script></html>"
      ],
      "text/latex": [
       "$$\\newcommand{\\Bold}[1]{\\mathbf{#1}}g = \\left( \\frac{2 \\, m}{r} - 1 \\right) \\mathrm{d} t\\otimes \\mathrm{d} t + \\left( -\\frac{1}{\\frac{2 \\, m}{r} - 1} \\right) \\mathrm{d} r\\otimes \\mathrm{d} r + r^{2} \\mathrm{d} {\\theta}\\otimes \\mathrm{d} {\\theta} + r^{2} \\sin\\left({\\theta}\\right)^{2} \\mathrm{d} {\\phi}\\otimes \\mathrm{d} {\\phi}$$"
      ],
      "text/plain": [
       "g = (2*m/r - 1) dt*dt - 1/(2*m/r - 1) dr*dr + r^2 dth*dth + r^2*sin(th)^2 dph*dph"
      ]
     },
     "execution_count": 1,
     "metadata": {},
     "output_type": "execute_result"
    }
   ],
   "source": [
    "%display latex\n",
    "\n",
    "M = Manifold(4, 'M', latex_name=r'\\mathcal{M}', structure='Lorentzian')\n",
    "\n",
    "SD.<t, r, th, ph> = M.chart(r\"t r:(0,+oo) th:(0,pi):\\theta ph:(0,2*pi):\\phi:periodic\")\n",
    "var('m', domain='real')\n",
    "\n",
    "g = M.metric() #we put the label g on the metric tensor\n",
    "\n",
    "g[0, 0] = - (1 - 2*m/r)\n",
    "g[1, 1] = 1/(1 - 2*m/r)\n",
    "g[2, 2] = r^2\n",
    "g[3, 3] = r^2*sin(th)^2\n",
    "\n",
    "g.display()"
   ]
  },
  {
   "cell_type": "markdown",
   "metadata": {},
   "source": [
    "Definition of the Levi Civita connection $\\nabla$:"
   ]
  },
  {
   "cell_type": "code",
   "execution_count": 2,
   "metadata": {},
   "outputs": [],
   "source": [
    "nabla = g.connection()"
   ]
  },
  {
   "cell_type": "markdown",
   "metadata": {},
   "source": [
    "Definition of Ricci $R_{ab}$ and Riemann $R^{a}_{bcd}$ tensors:"
   ]
  },
  {
   "cell_type": "code",
   "execution_count": 3,
   "metadata": {},
   "outputs": [],
   "source": [
    "Ric_dd = g.ricci()\n",
    "Riem_uddd = g.riemann()"
   ]
  },
  {
   "cell_type": "markdown",
   "metadata": {},
   "source": [
    "Definition of the fully covariant Riemann tensor $R_{abcd}$ :"
   ]
  },
  {
   "cell_type": "code",
   "execution_count": 4,
   "metadata": {},
   "outputs": [],
   "source": [
    "Riem_dddd = Riem_uddd.down(g)\n",
    "Riem_dddd = Riem_dddd.antisymmetrize(0,1) #it is already antisimmetric in the first two indices, but i make it explicit for Sage\n",
    "Riem_dddd.set_name('R')"
   ]
  },
  {
   "cell_type": "markdown",
   "metadata": {},
   "source": [
    "## Initialization of the orthonormal tetrad"
   ]
  },
  {
   "cell_type": "markdown",
   "metadata": {},
   "source": [
    "Definition of the orthonormal tetrad frame $e_{(a)}$ (Chandrasekar notation) and its dual frame $e^{(a)} = \\eta^{(a)(b)}g(e_{(b)},-)$ :"
   ]
  },
  {
   "cell_type": "code",
   "execution_count": 5,
   "metadata": {},
   "outputs": [],
   "source": [
    "e0 = M.vector_field(1/sqrt(1-2*m/r), 0, 0, 0, frame=SD.frame(), name='e_{(0)}')\n",
    "e1 = M.vector_field(0, sqrt(1-2*m/r), 0, 0, frame=SD.frame(), name='e_{(1)}')\n",
    "e2 = M.vector_field(0, 0, 1/r, 0, frame=SD.frame(), name='e_{(2)}')\n",
    "e3 = M.vector_field(0, 0, 0, 1/(r*sin(th)), frame=SD.frame(), name='e_{(3)}')\n",
    "\n",
    "\n",
    "e = M.vector_frame('e', (e0, e1, e2, e3)) #costruction of the tetrad collection object e_{a}\n",
    "de = e.coframe() #construction of the tetrad coframe object e^{a}      "
   ]
  },
  {
   "cell_type": "markdown",
   "metadata": {},
   "source": [
    "Orthonormality check $g(e_{(a)},e_{(b)}) = \\eta_{(a)(b)}$ :"
   ]
  },
  {
   "cell_type": "code",
   "execution_count": 6,
   "metadata": {},
   "outputs": [],
   "source": [
    "from sage.tensor.modules.comp import Components\n",
    "\n",
    "scalar_field_algebra = M.scalar_field_algebra()\n",
    "\n",
    "#definition of eta_{(a)(b)}\n",
    "eta = Components(scalar_field_algebra, e, 2)\n",
    "eta[0,0] = M.scalar_field({SD: -1}, name='-1')\n",
    "eta[1,1] = M.scalar_field({SD: 1}, name='1')\n",
    "eta[2,2] = M.scalar_field({SD: 1}, name='1')\n",
    "eta[3,3] = M.scalar_field({SD: 1}, name='1')\n",
    "\n",
    "for i in range(0,4):\n",
    "    for j in range(0,4):\n",
    "        if (g(e[i],e[j]) != eta[i,j]):\n",
    "            print(\"error\")"
   ]
  },
  {
   "cell_type": "markdown",
   "metadata": {},
   "source": [
    "## Ricci rotation coefficents"
   ]
  },
  {
   "cell_type": "markdown",
   "metadata": {},
   "source": [
    "Ricci rotation coefficents $\\omega^{(a)}_{\\ \\ \\ \\ (b)(c)} = e^{(a)}_{\\ \\ \\ \\ \\nu}\\nabla_{\\mu} e_{(b)}^{\\ \\ \\ \\ \\nu} e_{(c)}^{\\ \\ \\ \\ \\mu}$ :"
   ]
  },
  {
   "cell_type": "code",
   "execution_count": 7,
   "metadata": {},
   "outputs": [],
   "source": [
    "#Ricci rotation coefficents as a python class\n",
    "class Ricci_rotation_coefficents:\n",
    "    def __init__(self,Gamma):\n",
    "        self.coef = Gamma\n",
    "        self.tindices = [\"up\",\"down\",\"down\"]\n",
    "        \n",
    "    def __repr__(self):\n",
    "        return self.coef[:]\n",
    "    \n",
    "    def copy(self):\n",
    "        copy_ = Ricci_rotation_coefficents(self.coef.copy())\n",
    "        copy_.tindices = list(self.tindices)\n",
    "        return copy_\n",
    "    \n",
    "    def info(self):\n",
    "        return f\"Indices position: {self.tindices}\"\n",
    "        \n",
    "    #def __getitem__(self,*indices):\n",
    "     #   return self.coef[indices]\n",
    "        \n",
    "    def contract_with_eta(self,omega_,eta_,pos_index_,typ):\n",
    "        if(pos_index_ == 1):\n",
    "                omega_.coef = self.coef.contract(0,eta,0) #the contraction results in omega^{a}_{bc}*eta_{ad}=obj_{bcd} -> indices has to be permutated in dbc to have the correct form\n",
    "                omega_.coef = omega_.coef.swap_adjacent_indices(0,2,3) #scambia (bc) con (d)\n",
    "                omega_.tindices[0] = typ\n",
    "        elif(pos_index_ == 2):\n",
    "                omega_.coef = self.coef.contract(1,eta,0) #the contraction results in omega_{a}^{b}_{c}*eta_{bd}=obj_{acd} -> indices has to be permutated in dbc to have the correct form\n",
    "                omega_.coef = omega_.coef.swap_adjacent_indices(1,2,3) #swaps (c) with (d)\n",
    "                omega_.tindices[1] = typ\n",
    "        elif(pos_index_ == 3):\n",
    "                omega_.coef = self.coef.contract(2,eta,0) #the contraction results in omega_{ab}^{c}*eta_{cd}=obj_{abd} -> indices are already ok\n",
    "                omega_.tindices[2] = typ\n",
    "        \n",
    "    def down(self,pos_index):\n",
    "        if (self.tindices[pos_index-1] == \"down\"):\n",
    "            print(\"error, index already down\")\n",
    "        else:\n",
    "            omega_down = self.copy()\n",
    "            self.contract_with_eta(omega_down,eta,pos_index,\"down\")\n",
    "            return omega_down\n",
    "        \n",
    "    def up(self,pos_index):\n",
    "        if (self.tindices[pos_index-1] == \"up\"):\n",
    "            print(\"error, index already up\")\n",
    "        else:\n",
    "            omega_up = self.copy()\n",
    "            self.contract_with_eta(omega_up,eta,pos_index,\"up\")\n",
    "            return omega_up\n",
    "        "
   ]
  },
  {
   "cell_type": "markdown",
   "metadata": {},
   "source": [
    "Calculation of $\\omega^{(a)}_{\\ \\ \\ \\ (b)(c)}$ from $D(e_{(c)},e_{(b)})=\\omega^{(a)}_{\\ \\ \\ \\ (b)(c)}e_{(a)}$, where D is the Levi Civita connection:"
   ]
  },
  {
   "cell_type": "code",
   "execution_count": 8,
   "metadata": {},
   "outputs": [],
   "source": [
    "omega_udd = Ricci_rotation_coefficents(nabla.coef(e))"
   ]
  },
  {
   "cell_type": "markdown",
   "metadata": {},
   "source": [
    "Calculation of all the possible tetrad indices placements of the rotation coefficents with the methods up() and down():"
   ]
  },
  {
   "cell_type": "code",
   "execution_count": 9,
   "metadata": {},
   "outputs": [],
   "source": [
    "omega_ddd = omega_udd.down(1)\n",
    "omega_dud = omega_ddd.up(2)\n",
    "omega_ddu = omega_ddd.up(3)\n",
    "omega_uud = omega_udd.up(2)\n",
    "omega_udu = omega_ddu.up(1)\n",
    "omega_uuu = omega_uud.up(3)\n",
    "omega_duu = omega_uuu.down(1)"
   ]
  },
  {
   "cell_type": "markdown",
   "metadata": {},
   "source": [
    "Check of the position of the indices with the method info():"
   ]
  },
  {
   "cell_type": "code",
   "execution_count": 10,
   "metadata": {},
   "outputs": [
    {
     "name": "stdout",
     "output_type": "stream",
     "text": [
      "Indices position: ['down', 'down', 'down']\n",
      "Indices position: ['up', 'down', 'down']\n",
      "Indices position: ['down', 'up', 'down']\n",
      "Indices position: ['down', 'down', 'up']\n",
      "Indices position: ['up', 'up', 'down']\n",
      "Indices position: ['up', 'down', 'up']\n",
      "Indices position: ['down', 'up', 'up']\n",
      "Indices position: ['up', 'up', 'up']\n"
     ]
    }
   ],
   "source": [
    "print(omega_ddd.info())\n",
    "print(omega_udd.info())\n",
    "print(omega_dud.info())\n",
    "print(omega_ddu.info())\n",
    "print(omega_uud.info())\n",
    "print(omega_udu.info())\n",
    "print(omega_duu.info())\n",
    "print(omega_uuu.info())"
   ]
  },
  {
   "cell_type": "markdown",
   "metadata": {},
   "source": [
    "Check of $\\omega_{(a)(b)(c)} = -\\omega_{(b)(a)(c)}$ :"
   ]
  },
  {
   "cell_type": "code",
   "execution_count": 11,
   "metadata": {},
   "outputs": [
    {
     "data": {
      "text/html": [
       "<html><script type=\"math/tex; mode=display\">\\newcommand{\\Bold}[1]{\\mathbf{#1}}\\mathrm{True}</script></html>"
      ],
      "text/latex": [
       "$$\\newcommand{\\Bold}[1]{\\mathbf{#1}}\\mathrm{True}$$"
      ],
      "text/plain": [
       "True"
      ]
     },
     "execution_count": 11,
     "metadata": {},
     "output_type": "execute_result"
    }
   ],
   "source": [
    "omega_ddd.coef == -omega_ddd.coef.swap_adjacent_indices(0,1,2)"
   ]
  },
  {
   "cell_type": "markdown",
   "metadata": {},
   "source": [
    "Check of $\\omega_{(a)(b)}^{\\ \\ \\ \\ \\ \\ \\ \\ \\ (c)} = -\\omega_{(b)(a)}^{\\ \\ \\ \\ \\ \\ \\ \\ \\ (c)}$ :"
   ]
  },
  {
   "cell_type": "code",
   "execution_count": 12,
   "metadata": {},
   "outputs": [
    {
     "data": {
      "text/html": [
       "<html><script type=\"math/tex; mode=display\">\\newcommand{\\Bold}[1]{\\mathbf{#1}}\\mathrm{True}</script></html>"
      ],
      "text/latex": [
       "$$\\newcommand{\\Bold}[1]{\\mathbf{#1}}\\mathrm{True}$$"
      ],
      "text/plain": [
       "True"
      ]
     },
     "execution_count": 12,
     "metadata": {},
     "output_type": "execute_result"
    }
   ],
   "source": [
    "omega_ddu.coef == -omega_ddu.coef.swap_adjacent_indices(0,1,2)"
   ]
  },
  {
   "cell_type": "markdown",
   "metadata": {},
   "source": [
    "Check of $\\omega^{(a)(b)(c)} = -\\omega^{(b)(a)(c)}$ :"
   ]
  },
  {
   "cell_type": "code",
   "execution_count": 13,
   "metadata": {},
   "outputs": [
    {
     "data": {
      "text/html": [
       "<html><script type=\"math/tex; mode=display\">\\newcommand{\\Bold}[1]{\\mathbf{#1}}\\mathrm{True}</script></html>"
      ],
      "text/latex": [
       "$$\\newcommand{\\Bold}[1]{\\mathbf{#1}}\\mathrm{True}$$"
      ],
      "text/plain": [
       "True"
      ]
     },
     "execution_count": 13,
     "metadata": {},
     "output_type": "execute_result"
    }
   ],
   "source": [
    "omega_uuu.coef == -omega_uuu.coef.swap_adjacent_indices(0,1,2)"
   ]
  },
  {
   "cell_type": "markdown",
   "metadata": {},
   "source": [
    "Check of $\\omega^{(a)(b)}_{\\ \\ \\ \\ \\ \\ \\ \\ \\ (c)} = -\\omega^{(b)(a)}_{\\ \\ \\ \\ \\ \\ \\ \\ \\ (c)}$ :"
   ]
  },
  {
   "cell_type": "code",
   "execution_count": 14,
   "metadata": {},
   "outputs": [
    {
     "data": {
      "text/html": [
       "<html><script type=\"math/tex; mode=display\">\\newcommand{\\Bold}[1]{\\mathbf{#1}}\\mathrm{True}</script></html>"
      ],
      "text/latex": [
       "$$\\newcommand{\\Bold}[1]{\\mathbf{#1}}\\mathrm{True}$$"
      ],
      "text/plain": [
       "True"
      ]
     },
     "execution_count": 14,
     "metadata": {},
     "output_type": "execute_result"
    }
   ],
   "source": [
    " omega_uud.coef == -omega_uud.coef.swap_adjacent_indices(0,1,2)"
   ]
  },
  {
   "cell_type": "markdown",
   "metadata": {},
   "source": [
    "## Riemann tensor tetrad components from Ricci rotation coefficents"
   ]
  },
  {
   "cell_type": "markdown",
   "metadata": {},
   "source": [
    "Calculation of $\\omega_{(a)(b)(c),(d)} = \\omega_{(a)(b)(c),\\mu}e_{(d)}^{\\ \\ \\ \\ \\mu}$ :"
   ]
  },
  {
   "cell_type": "code",
   "execution_count": 15,
   "metadata": {},
   "outputs": [],
   "source": [
    "d_omega_ddd_d = Components(scalar_field_algebra, e, 4)\n",
    "for a in range(0,4):\n",
    "    for b in range(0,4):\n",
    "        for c in range(0,4):\n",
    "            for d in range(0,4):\n",
    "                d_omega_form = nabla(M.scalar_field({SD: omega_ddd.coef[a,b,c]}))\n",
    "                d_omega_ddd_d[a,b,c,d] = d_omega_form(e[d])\n"
   ]
  },
  {
   "cell_type": "markdown",
   "metadata": {},
   "source": [
    "Calculation of $\\omega_{(b)(a)(f)}\\omega_{(c) \\ \\ \\ \\ (d)}^{\\ \\ \\ \\ (f)}$ and $\\omega_{(b)(a)(f)}\\omega_{(d) \\ \\ \\ \\ (c)}^{\\ \\ \\ \\ (f)}$ :"
   ]
  },
  {
   "cell_type": "code",
   "execution_count": 16,
   "metadata": {},
   "outputs": [],
   "source": [
    "contr1 = omega_ddd.coef.swap_adjacent_indices(0,1,2).contract(2,omega_dud.coef,1)\n",
    "contr2 = contr1.swap_adjacent_indices(2,3,4)"
   ]
  },
  {
   "cell_type": "markdown",
   "metadata": {},
   "source": [
    "Calculation of $\\omega_{(f)(a)(c)}\\omega_{(b) \\ \\ \\ \\ (d)}^{\\ \\ \\ \\ (f)}$ and $\\omega_{(f)(a)(d)}\\omega_{(b) \\ \\ \\ \\ (c)}^{\\ \\ \\ \\ (f)}$ :"
   ]
  },
  {
   "cell_type": "code",
   "execution_count": 17,
   "metadata": {},
   "outputs": [],
   "source": [
    "contr3_4 = omega_ddd.coef.contract(0,omega_dud.coef,1)\n",
    "contr3 = contr3_4.swap_adjacent_indices(1,2,3)\n",
    "contr4 = contr3_4.swap_adjacent_indices(1,2,4)"
   ]
  },
  {
   "cell_type": "markdown",
   "metadata": {},
   "source": [
    "Finally we compute $R_{(a)(b)(c)(d)} = -\\omega_{(a)(b)(c),(d)}+\\omega_{(a)(b)(d),(c)}+\\omega_{(b)(a)(f)}\\left(\\omega_{(c) \\ \\ \\ \\ (d)}^{\\ \\ \\ \\ (f)}-\\omega_{(d) \\ \\ \\ \\ (c)}^{\\ \\ \\ \\ (f)}\\right) + \\omega_{(f)(a)(c)}\\omega_{(b) \\ \\ \\ \\ (d)}^{\\ \\ \\ \\ (f)} - \\omega_{(f)(a)(d)}\\omega_{(b) \\ \\ \\ \\ (c)}^{\\ \\ \\ \\ (f)}$"
   ]
  },
  {
   "cell_type": "code",
   "execution_count": 18,
   "metadata": {},
   "outputs": [],
   "source": [
    "Riem_tetrad_dddd = -d_omega_ddd_d+d_omega_ddd_d.swap_adjacent_indices(2,3,4)+contr1-contr2+contr3-contr4"
   ]
  },
  {
   "cell_type": "markdown",
   "metadata": {},
   "source": [
    "Check that $R_{(a)(b)(c)(d)}$ calculated above is equal to $R(e_{(a)},e_{(b)},e_{(c)},e_{(d)})$ :"
   ]
  },
  {
   "cell_type": "code",
   "execution_count": 19,
   "metadata": {},
   "outputs": [
    {
     "data": {
      "text/html": [
       "<html><script type=\"math/tex; mode=display\">\\newcommand{\\Bold}[1]{\\mathbf{#1}}\\mathrm{True}</script></html>"
      ],
      "text/latex": [
       "$$\\newcommand{\\Bold}[1]{\\mathbf{#1}}\\mathrm{True}$$"
      ],
      "text/plain": [
       "True"
      ]
     },
     "execution_count": 19,
     "metadata": {},
     "output_type": "execute_result"
    }
   ],
   "source": [
    "Riem_tetrad_dddd[:] == Riem_dddd.comp(e)[:]"
   ]
  },
  {
   "cell_type": "markdown",
   "metadata": {},
   "source": [
    "Definition of a tensor field of type (0,4) from the components $R_{(a)(b)(c)(d)}$ with respect to the base induced by the tetrad base, then I show its components with respect to the tetrad base: "
   ]
  },
  {
   "cell_type": "code",
   "execution_count": 20,
   "metadata": {},
   "outputs": [
    {
     "data": {
      "text/html": [
       "<html><script type=\"math/tex; mode=display\">\\newcommand{\\Bold}[1]{\\mathbf{#1}}\\begin{array}{lcl} R_{\\,0\\,1\\,0\\,1}^{\\phantom{\\, 0}\\phantom{\\, 1}\\phantom{\\, 0}\\phantom{\\, 1}} & = & -\\frac{2 \\, m}{r^{3}} \\\\ R_{\\,0\\,2\\,0\\,2}^{\\phantom{\\, 0}\\phantom{\\, 2}\\phantom{\\, 0}\\phantom{\\, 2}} & = & \\frac{m}{r^{3}} \\\\ R_{\\,0\\,3\\,0\\,3}^{\\phantom{\\, 0}\\phantom{\\, 3}\\phantom{\\, 0}\\phantom{\\, 3}} & = & \\frac{m}{r^{3}} \\\\ R_{\\,1\\,2\\,1\\,2}^{\\phantom{\\, 1}\\phantom{\\, 2}\\phantom{\\, 1}\\phantom{\\, 2}} & = & -\\frac{m}{r^{3}} \\\\ R_{\\,1\\,3\\,1\\,3}^{\\phantom{\\, 1}\\phantom{\\, 3}\\phantom{\\, 1}\\phantom{\\, 3}} & = & -\\frac{m}{r^{3}} \\\\ R_{\\,2\\,3\\,2\\,3}^{\\phantom{\\, 2}\\phantom{\\, 3}\\phantom{\\, 2}\\phantom{\\, 3}} & = & \\frac{2 \\, m}{r^{3}} \\end{array}</script></html>"
      ],
      "text/latex": [
       "$$\\newcommand{\\Bold}[1]{\\mathbf{#1}}\\begin{array}{lcl} R_{\\,0\\,1\\,0\\,1}^{\\phantom{\\, 0}\\phantom{\\, 1}\\phantom{\\, 0}\\phantom{\\, 1}} & = & -\\frac{2 \\, m}{r^{3}} \\\\ R_{\\,0\\,2\\,0\\,2}^{\\phantom{\\, 0}\\phantom{\\, 2}\\phantom{\\, 0}\\phantom{\\, 2}} & = & \\frac{m}{r^{3}} \\\\ R_{\\,0\\,3\\,0\\,3}^{\\phantom{\\, 0}\\phantom{\\, 3}\\phantom{\\, 0}\\phantom{\\, 3}} & = & \\frac{m}{r^{3}} \\\\ R_{\\,1\\,2\\,1\\,2}^{\\phantom{\\, 1}\\phantom{\\, 2}\\phantom{\\, 1}\\phantom{\\, 2}} & = & -\\frac{m}{r^{3}} \\\\ R_{\\,1\\,3\\,1\\,3}^{\\phantom{\\, 1}\\phantom{\\, 3}\\phantom{\\, 1}\\phantom{\\, 3}} & = & -\\frac{m}{r^{3}} \\\\ R_{\\,2\\,3\\,2\\,3}^{\\phantom{\\, 2}\\phantom{\\, 3}\\phantom{\\, 2}\\phantom{\\, 3}} & = & \\frac{2 \\, m}{r^{3}} \\end{array}$$"
      ],
      "text/plain": [
       "R_0101 = -2*m/r^3 \n",
       "R_0202 = m/r^3 \n",
       "R_0303 = m/r^3 \n",
       "R_1212 = -m/r^3 \n",
       "R_1313 = -m/r^3 \n",
       "R_2323 = 2*m/r^3 "
      ]
     },
     "execution_count": 20,
     "metadata": {},
     "output_type": "execute_result"
    }
   ],
   "source": [
    "Riem_dddd_ = M.tensor_field(0,4, 'R', antisym = [(0,1),(2,3)])\n",
    "Riem_dddd_.add_comp(e)[:] = Riem_tetrad_dddd[:]\n",
    "Riem_dddd_.display_comp(e, only_nonredundant=True)"
   ]
  },
  {
   "cell_type": "markdown",
   "metadata": {},
   "source": [
    "I calculate the components of this tensor defined above with respect to the coordinate base:"
   ]
  },
  {
   "cell_type": "code",
   "execution_count": 21,
   "metadata": {},
   "outputs": [
    {
     "data": {
      "text/html": [
       "<html><script type=\"math/tex; mode=display\">\\newcommand{\\Bold}[1]{\\mathbf{#1}}\\begin{array}{lcl} R_{ \\, t \\, r \\, t \\, r }^{ \\phantom{\\, t}\\phantom{\\, r}\\phantom{\\, t}\\phantom{\\, r} } & = & -\\frac{2 \\, m}{r^{3}} \\\\ R_{ \\, t \\, {\\theta} \\, t \\, {\\theta} }^{ \\phantom{\\, t}\\phantom{\\, {\\theta}}\\phantom{\\, t}\\phantom{\\, {\\theta}} } & = & -\\frac{2 \\, m^{2} - m r}{r^{2}} \\\\ R_{ \\, t \\, {\\phi} \\, t \\, {\\phi} }^{ \\phantom{\\, t}\\phantom{\\, {\\phi}}\\phantom{\\, t}\\phantom{\\, {\\phi}} } & = & -\\frac{{\\left(2 \\, m^{2} - m r\\right)} \\sin\\left({\\theta}\\right)^{2}}{r^{2}} \\\\ R_{ \\, r \\, {\\theta} \\, r \\, {\\theta} }^{ \\phantom{\\, r}\\phantom{\\, {\\theta}}\\phantom{\\, r}\\phantom{\\, {\\theta}} } & = & \\frac{m}{2 \\, m - r} \\\\ R_{ \\, r \\, {\\phi} \\, r \\, {\\phi} }^{ \\phantom{\\, r}\\phantom{\\, {\\phi}}\\phantom{\\, r}\\phantom{\\, {\\phi}} } & = & \\frac{m \\sin\\left({\\theta}\\right)^{2}}{2 \\, m - r} \\\\ R_{ \\, {\\theta} \\, {\\phi} \\, {\\theta} \\, {\\phi} }^{ \\phantom{\\, {\\theta}}\\phantom{\\, {\\phi}}\\phantom{\\, {\\theta}}\\phantom{\\, {\\phi}} } & = & 2 \\, m r \\sin\\left({\\theta}\\right)^{2} \\end{array}</script></html>"
      ],
      "text/latex": [
       "$$\\newcommand{\\Bold}[1]{\\mathbf{#1}}\\begin{array}{lcl} R_{ \\, t \\, r \\, t \\, r }^{ \\phantom{\\, t}\\phantom{\\, r}\\phantom{\\, t}\\phantom{\\, r} } & = & -\\frac{2 \\, m}{r^{3}} \\\\ R_{ \\, t \\, {\\theta} \\, t \\, {\\theta} }^{ \\phantom{\\, t}\\phantom{\\, {\\theta}}\\phantom{\\, t}\\phantom{\\, {\\theta}} } & = & -\\frac{2 \\, m^{2} - m r}{r^{2}} \\\\ R_{ \\, t \\, {\\phi} \\, t \\, {\\phi} }^{ \\phantom{\\, t}\\phantom{\\, {\\phi}}\\phantom{\\, t}\\phantom{\\, {\\phi}} } & = & -\\frac{{\\left(2 \\, m^{2} - m r\\right)} \\sin\\left({\\theta}\\right)^{2}}{r^{2}} \\\\ R_{ \\, r \\, {\\theta} \\, r \\, {\\theta} }^{ \\phantom{\\, r}\\phantom{\\, {\\theta}}\\phantom{\\, r}\\phantom{\\, {\\theta}} } & = & \\frac{m}{2 \\, m - r} \\\\ R_{ \\, r \\, {\\phi} \\, r \\, {\\phi} }^{ \\phantom{\\, r}\\phantom{\\, {\\phi}}\\phantom{\\, r}\\phantom{\\, {\\phi}} } & = & \\frac{m \\sin\\left({\\theta}\\right)^{2}}{2 \\, m - r} \\\\ R_{ \\, {\\theta} \\, {\\phi} \\, {\\theta} \\, {\\phi} }^{ \\phantom{\\, {\\theta}}\\phantom{\\, {\\phi}}\\phantom{\\, {\\theta}}\\phantom{\\, {\\phi}} } & = & 2 \\, m r \\sin\\left({\\theta}\\right)^{2} \\end{array}$$"
      ],
      "text/plain": [
       "R_t,r,t,r = -2*m/r^3 \n",
       "R_t,th,t,th = -(2*m^2 - m*r)/r^2 \n",
       "R_t,ph,t,ph = -(2*m^2 - m*r)*sin(th)^2/r^2 \n",
       "R_r,th,r,th = m/(2*m - r) \n",
       "R_r,ph,r,ph = m*sin(th)^2/(2*m - r) \n",
       "R_th,ph,th,ph = 2*m*r*sin(th)^2 "
      ]
     },
     "execution_count": 21,
     "metadata": {},
     "output_type": "execute_result"
    }
   ],
   "source": [
    "Riem_dddd_.display_comp(SD.frame(),only_nonredundant=True)"
   ]
  },
  {
   "cell_type": "markdown",
   "metadata": {},
   "source": [
    "Check that this tensor is the same tensor as the one calculated at the beginning lowering an index from the riemann tensor provided by Sage:"
   ]
  },
  {
   "cell_type": "code",
   "execution_count": 22,
   "metadata": {},
   "outputs": [
    {
     "data": {
      "text/html": [
       "<html><script type=\"math/tex; mode=display\">\\newcommand{\\Bold}[1]{\\mathbf{#1}}\\mathrm{True}</script></html>"
      ],
      "text/latex": [
       "$$\\newcommand{\\Bold}[1]{\\mathbf{#1}}\\mathrm{True}$$"
      ],
      "text/plain": [
       "True"
      ]
     },
     "execution_count": 22,
     "metadata": {},
     "output_type": "execute_result"
    }
   ],
   "source": [
    "Riem_dddd_ == Riem_dddd #correct"
   ]
  },
  {
   "cell_type": "markdown",
   "metadata": {},
   "source": [
    "Same check on the components collection with respect to the coordinate base:"
   ]
  },
  {
   "cell_type": "code",
   "execution_count": 23,
   "metadata": {},
   "outputs": [
    {
     "data": {
      "text/html": [
       "<html><script type=\"math/tex; mode=display\">\\newcommand{\\Bold}[1]{\\mathbf{#1}}\\mathrm{True}</script></html>"
      ],
      "text/latex": [
       "$$\\newcommand{\\Bold}[1]{\\mathbf{#1}}\\mathrm{True}$$"
      ],
      "text/plain": [
       "True"
      ]
     },
     "execution_count": 23,
     "metadata": {},
     "output_type": "execute_result"
    }
   ],
   "source": [
    "Riem_dddd_.comp(SD.frame())[:] == Riem_dddd.comp(SD.frame())[:] #correct"
   ]
  },
  {
   "cell_type": "markdown",
   "metadata": {},
   "source": [
    "## Frame bundle and Ricci rotation coefficents 1-forms as its connection"
   ]
  },
  {
   "cell_type": "markdown",
   "metadata": {},
   "source": [
    "Initialization of the frame bundle as an abstract vector bundle, and definition of a local frame $\\{e_{[fb](a)}\\}_{(a)=0,1,2,3}$:"
   ]
  },
  {
   "cell_type": "code",
   "execution_count": 24,
   "metadata": {},
   "outputs": [],
   "source": [
    "fb = M.vector_bundle(4, 'fb', field='complex') #definition of the astract frame bundle\n",
    "e_fb = fb.local_frame('e')"
   ]
  },
  {
   "cell_type": "markdown",
   "metadata": {},
   "source": [
    "The connection of an arbitrary vector bundle $V$ is a map of the form $D_{V}: TM \\times V \\to V$ that takes a section of the tangent bundle and a section of the vecor bundle $V$ and gives a section of the vector bundle $V$.\n",
    "The map $D_{V}(-,e_{[V]i})=\\Gamma^{j}_{\\ \\ \\ \\ i}(-)e_{[V]j}$ ($\\{e_{[V]i}\\}_{i=0,1,2,3}$ local frame on $V$) defines naturally a collection of 1-forms $\\Gamma^{j}_{\\ \\ \\ \\ i}$ named \"connection 1-forms\". In our case $V$ is the frame bundle defined before."
   ]
  },
  {
   "cell_type": "markdown",
   "metadata": {},
   "source": [
    "In this case we are going to replace the indices $i$ and $j$ with indices in tetrad notation $(a)$ and $(b)$ to label the collection of 1-forms and we are going to use the symbol $\\omega$ insted of $\\Gamma$ (later it will be clear why)."
   ]
  },
  {
   "cell_type": "markdown",
   "metadata": {},
   "source": [
    "Definition of the frame bundle connection 1-forms $\\omega^{(a)}_{ \\ \\ \\ \\ (b)}$ from the Ricci rotation coefficents $\\omega^{(a)}_{ \\ \\ \\ \\ (b)}= \\omega^{(a)}_{ \\ \\ \\ \\ (b)\\mu}dx^{\\mu}$ :"
   ]
  },
  {
   "cell_type": "code",
   "execution_count": 25,
   "metadata": {},
   "outputs": [],
   "source": [
    "nabla_fb = fb.bundle_connection('\\\\nabla') #definition of the connection on the frame bundle\n",
    "for i in range(0,4):\n",
    "    for j in range(0,4):\n",
    "        nabla_fb.set_connection_form(i,j)[:] = nabla.connection_form(i,j,e) #setting the connection 1-forms as the connection evaluated on the tetrad"
   ]
  },
  {
   "cell_type": "markdown",
   "metadata": {},
   "source": [
    "Display of the compoents of the connection:"
   ]
  },
  {
   "cell_type": "code",
   "execution_count": 26,
   "metadata": {},
   "outputs": [
    {
     "data": {
      "text/html": [
       "<html><script type=\"math/tex; mode=display\">\\newcommand{\\Bold}[1]{\\mathbf{#1}}\\begin{array}{lcl} \\omega^1_{\\ \\, 0} = \\frac{m}{r^{2}} \\mathrm{d} t \\\\ \\omega^0_{\\ \\, 1} = \\frac{m}{r^{2}} \\mathrm{d} t \\\\ \\omega^2_{\\ \\, 1} = \\left( -\\frac{\\sqrt{-2 \\, m + r}}{\\sqrt{r}} \\right) \\mathrm{d} {\\theta} \\\\ \\omega^3_{\\ \\, 1} = \\left( -\\frac{\\sqrt{-2 \\, m + r} \\sin\\left({\\theta}\\right)}{\\sqrt{r}} \\right) \\mathrm{d} {\\phi} \\\\ \\omega^1_{\\ \\, 2} = \\left( \\frac{\\sqrt{-2 \\, m + r}}{\\sqrt{r}} \\right) \\mathrm{d} {\\theta} \\\\ \\omega^3_{\\ \\, 2} = -\\cos\\left({\\theta}\\right) \\mathrm{d} {\\phi} \\\\ \\omega^1_{\\ \\, 3} = \\left( \\frac{\\sqrt{-2 \\, m + r} \\sin\\left({\\theta}\\right)}{\\sqrt{r}} \\right) \\mathrm{d} {\\phi} \\\\ \\omega^2_{\\ \\, 3} = \\cos\\left({\\theta}\\right) \\mathrm{d} {\\phi} \\end{array}</script></html>"
      ],
      "text/latex": [
       "$$\\newcommand{\\Bold}[1]{\\mathbf{#1}}\\begin{array}{lcl} \\omega^1_{\\ \\, 0} = \\frac{m}{r^{2}} \\mathrm{d} t \\\\ \\omega^0_{\\ \\, 1} = \\frac{m}{r^{2}} \\mathrm{d} t \\\\ \\omega^2_{\\ \\, 1} = \\left( -\\frac{\\sqrt{-2 \\, m + r}}{\\sqrt{r}} \\right) \\mathrm{d} {\\theta} \\\\ \\omega^3_{\\ \\, 1} = \\left( -\\frac{\\sqrt{-2 \\, m + r} \\sin\\left({\\theta}\\right)}{\\sqrt{r}} \\right) \\mathrm{d} {\\phi} \\\\ \\omega^1_{\\ \\, 2} = \\left( \\frac{\\sqrt{-2 \\, m + r}}{\\sqrt{r}} \\right) \\mathrm{d} {\\theta} \\\\ \\omega^3_{\\ \\, 2} = -\\cos\\left({\\theta}\\right) \\mathrm{d} {\\phi} \\\\ \\omega^1_{\\ \\, 3} = \\left( \\frac{\\sqrt{-2 \\, m + r} \\sin\\left({\\theta}\\right)}{\\sqrt{r}} \\right) \\mathrm{d} {\\phi} \\\\ \\omega^2_{\\ \\, 3} = \\cos\\left({\\theta}\\right) \\mathrm{d} {\\phi} \\end{array}$$"
      ],
      "text/plain": [
       "connection (0,1) of bundle connection \\nabla w.r.t. Local frame (fb|_M, (e_0,e_1,e_2,e_3)) = m/r^2 dt \n",
       "connection (1,0) of bundle connection \\nabla w.r.t. Local frame (fb|_M, (e_0,e_1,e_2,e_3)) = m/r^2 dt \n",
       "connection (1,2) of bundle connection \\nabla w.r.t. Local frame (fb|_M, (e_0,e_1,e_2,e_3)) = -sqrt(-2*m + r)/sqrt(r) dth \n",
       "connection (1,3) of bundle connection \\nabla w.r.t. Local frame (fb|_M, (e_0,e_1,e_2,e_3)) = -sqrt(-2*m + r)*sin(th)/sqrt(r) dph \n",
       "connection (2,1) of bundle connection \\nabla w.r.t. Local frame (fb|_M, (e_0,e_1,e_2,e_3)) = sqrt(-2*m + r)/sqrt(r) dth \n",
       "connection (2,3) of bundle connection \\nabla w.r.t. Local frame (fb|_M, (e_0,e_1,e_2,e_3)) = -cos(th) dph \n",
       "connection (3,1) of bundle connection \\nabla w.r.t. Local frame (fb|_M, (e_0,e_1,e_2,e_3)) = sqrt(-2*m + r)*sin(th)/sqrt(r) dph \n",
       "connection (3,2) of bundle connection \\nabla w.r.t. Local frame (fb|_M, (e_0,e_1,e_2,e_3)) = cos(th) dph "
      ]
     },
     "execution_count": 26,
     "metadata": {},
     "output_type": "execute_result"
    }
   ],
   "source": [
    "nabla_fb.display()"
   ]
  },
  {
   "cell_type": "markdown",
   "metadata": {},
   "source": [
    "Check of the frame bundle covariant derivative $D_{fb} (e_{(0)},A) = e_{(0)}^{\\ \\ \\ \\ \\mu}A^{(a)}_{\\ \\ \\ \\ |\\mu}e_{[fb](a)}$ of a frame bundle section $A = A^{(a)}e_{[fb](a)}$, where $A^{(a)}_{\\ \\ \\ \\ |\\mu} = A^{(a)}_{\\ \\ \\ \\ ,\\mu} + \\omega^{(a)}_{\\ \\ \\ \\ (b) \\mu} A^{(b)}$ denotes the \"intrinsic derivative\" of Chandrasekar:"
   ]
  },
  {
   "cell_type": "code",
   "execution_count": 55,
   "metadata": {},
   "outputs": [
    {
     "data": {
      "text/html": [
       "<html><script type=\"math/tex; mode=display\">\\newcommand{\\Bold}[1]{\\mathbf{#1}}\\left( -\\frac{{\\left(r^{2} \\frac{\\partial\\,A_{0}}{\\partial t} + m A_{1}\\left(r, t, {\\theta}, {\\phi}\\right)\\right)} \\sqrt{-2 \\, m + r}}{{\\left(2 \\, m r - r^{2}\\right)} \\sqrt{r}} \\right) e_{0} + \\left( -\\frac{{\\left(r^{2} \\frac{\\partial\\,A_{1}}{\\partial t} + m A_{0}\\left(r, t, {\\theta}, {\\phi}\\right)\\right)} \\sqrt{-2 \\, m + r}}{{\\left(2 \\, m r - r^{2}\\right)} \\sqrt{r}} \\right) e_{1} + \\left( \\frac{\\sqrt{r} \\frac{\\partial\\,A_{2}}{\\partial t}}{\\sqrt{-2 \\, m + r}} \\right) e_{2} + \\left( \\frac{\\sqrt{r} \\frac{\\partial\\,A_{3}}{\\partial t}}{\\sqrt{-2 \\, m + r}} \\right) e_{3}</script></html>"
      ],
      "text/latex": [
       "$$\\newcommand{\\Bold}[1]{\\mathbf{#1}}\\left( -\\frac{{\\left(r^{2} \\frac{\\partial\\,A_{0}}{\\partial t} + m A_{1}\\left(r, t, {\\theta}, {\\phi}\\right)\\right)} \\sqrt{-2 \\, m + r}}{{\\left(2 \\, m r - r^{2}\\right)} \\sqrt{r}} \\right) e_{0} + \\left( -\\frac{{\\left(r^{2} \\frac{\\partial\\,A_{1}}{\\partial t} + m A_{0}\\left(r, t, {\\theta}, {\\phi}\\right)\\right)} \\sqrt{-2 \\, m + r}}{{\\left(2 \\, m r - r^{2}\\right)} \\sqrt{r}} \\right) e_{1} + \\left( \\frac{\\sqrt{r} \\frac{\\partial\\,A_{2}}{\\partial t}}{\\sqrt{-2 \\, m + r}} \\right) e_{2} + \\left( \\frac{\\sqrt{r} \\frac{\\partial\\,A_{3}}{\\partial t}}{\\sqrt{-2 \\, m + r}} \\right) e_{3}$$"
      ],
      "text/plain": [
       "-(r^2*d(A0)/dt + m*A1(r, t, th, ph))*sqrt(-2*m + r)/((2*m*r - r^2)*sqrt(r)) e_0 - (r^2*d(A1)/dt + m*A0(r, t, th, ph))*sqrt(-2*m + r)/((2*m*r - r^2)*sqrt(r)) e_1 + sqrt(r)*d(A2)/dt/sqrt(-2*m + r) e_2 + sqrt(r)*d(A3)/dt/sqrt(-2*m + r) e_3"
      ]
     },
     "execution_count": 55,
     "metadata": {},
     "output_type": "execute_result"
    }
   ],
   "source": [
    "A0 = function(\"A0\", nargs = 4)\n",
    "A1 = function(\"A1\", nargs = 4)\n",
    "A2 = function(\"A2\", nargs = 4)\n",
    "A3 = function(\"A3\", nargs = 4)\n",
    "\n",
    "\n",
    "A0_ = M.scalar_field({SD: A0(r,t,th,ph)}, name = '\\\\A^{(1)}')\n",
    "A1_ = M.scalar_field({SD: A1(r,t,th,ph)}, name = '\\\\A^{(2)}')\n",
    "A2_ = M.scalar_field({SD: A2(r,t,th,ph)}, name = '\\\\A^{(3)}')\n",
    "A3_ = M.scalar_field({SD: A3(r,t,th,ph)}, name = '\\\\A^{(4)}')\n",
    "\n",
    "A_prova = fb.section({e_fb: [A0_,A1_,A2_,A3_]}, \"A\")\n",
    "nabla_fb(e[0],A_prova).display()"
   ]
  },
  {
   "cell_type": "markdown",
   "metadata": {},
   "source": [
    "So as we can see, if we interpret $A^{(a)}$ as the components of a section of the frame bundle instead of the components of a vector field of the tangent bundle with respect to the tetrad frame we can see Chandrasekar's intrinsic derivative as the frame bundle covariant derivative of that section of the frame bundle with respect to the tetrad vector fields."
   ]
  }
 ],
 "metadata": {
  "kernelspec": {
   "display_name": "SageMath 9.3",
   "language": "sage",
   "name": "sagemath"
  },
  "language_info": {
   "codemirror_mode": {
    "name": "ipython",
    "version": 3
   },
   "file_extension": ".py",
   "mimetype": "text/x-python",
   "name": "python",
   "nbconvert_exporter": "python",
   "pygments_lexer": "ipython3",
   "version": "3.7.10"
  }
 },
 "nbformat": 4,
 "nbformat_minor": 4
}
